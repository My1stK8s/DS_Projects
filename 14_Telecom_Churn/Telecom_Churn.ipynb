{
 "cells": [
  {
   "cell_type": "markdown",
   "metadata": {},
   "source": [
    "# Прогнозирование оттока клиентов в телеком компании"
   ]
  },
  {
   "cell_type": "markdown",
   "metadata": {},
   "source": [
    "Необходимо подготовить модель для прогнозирования оттока клиентов, с целью определения и удержания таких клиентов за счет специальных предложений."
   ]
  },
  {
   "cell_type": "markdown",
   "metadata": {},
   "source": [
    "### Содержание:\n",
    "\n",
    "#### 1) <a href='#EDA'> Исследовательский анализ данных / предобработка</a>\n",
    "- <a href='#First look'> Изучение данных</a>\n",
    "- <a href='#Preprocessing'> Предобработка</a>\n",
    "- <a href='#New features'> Создание новых признаков</a>\n",
    "- <a href='#Vizualization'> Исследовательский анализ данных / визуализация</a>\n",
    "- <a href='#EDA conclusion'> Вывод по EDA</a>\n",
    "\n",
    "#### 2) <a href='#Model training'> Обучение модели</a>\n",
    "- <a href='#Ordinal Encoding'> Кодирование категориальных признаков</a>\n",
    "- <a href='#Traintestsplit'> Подготовка обучающей и тестовой выборок</a>\n",
    "- <a href='#Scaling'> Масштабирование</a>\n",
    "- <a href='#Results table'> Подготовка таблицы с результатами</a>\n",
    "- <a href='#Logistic Regression'> Logistic Regression</a>\n",
    "- <a href='#LGB'> LightGBM</a>\n",
    "- <a href='#XGBoost'> XGBoost</a>\n",
    "- <a href='#Logistic Regression + LightGBM'> Logistic Regression + LightGBM</a>\n",
    "\n",
    "#### 3) <a href='#Conclusion'> Вывод</a>"
   ]
  },
  {
   "cell_type": "markdown",
   "metadata": {},
   "source": [
    "<a id='EDA'></a>\n",
    "## Исследовательский анализ данных / предобработка"
   ]
  },
  {
   "cell_type": "code",
   "execution_count": 1,
   "metadata": {},
   "outputs": [],
   "source": [
    "import pandas as pd\n",
    "import numpy as np\n",
    "import matplotlib.pyplot as plt\n",
    "import seaborn as sns\n",
    "\n",
    "import warnings\n",
    "\n",
    "from sklearn.preprocessing import StandardScaler, OrdinalEncoder\n",
    "from sklearn.model_selection import train_test_split, cross_val_score\n",
    "from sklearn.linear_model import LogisticRegression\n",
    "from sklearn.metrics import roc_auc_score, accuracy_score, plot_confusion_matrix, roc_curve, classification_report\n",
    "from sklearn.utils import shuffle\n",
    "\n",
    "import lightgbm\n",
    "import xgboost\n",
    "\n",
    "from hyperopt import fmin, tpe, hp, space_eval"
   ]
  },
  {
   "cell_type": "code",
   "execution_count": 2,
   "metadata": {},
   "outputs": [],
   "source": [
    "contract = pd.read_csv('C:\\\\Users\\\\yansa\\\\YP_Projects\\\\YP_DataSets\\\\SP15\\\\contract.csv', index_col='customerID')\n",
    "internet = pd.read_csv('C:\\\\Users\\\\yansa\\\\YP_Projects\\\\YP_DataSets\\\\SP15\\\\internet.csv', index_col='customerID')\n",
    "personal = pd.read_csv('C:\\\\Users\\\\yansa\\\\YP_Projects\\\\YP_DataSets\\\\SP15\\\\personal.csv', index_col='customerID')\n",
    "phone = pd.read_csv('C:\\\\Users\\\\yansa\\\\YP_Projects\\\\YP_DataSets\\\\SP15\\\\phone.csv', index_col='customerID')"
   ]
  },
  {
   "cell_type": "markdown",
   "metadata": {},
   "source": [
    "<a id='First look'></a>\n",
    "### Изучение данных"
   ]
  },
  {
   "cell_type": "code",
   "execution_count": 3,
   "metadata": {},
   "outputs": [
    {
     "name": "stdout",
     "output_type": "stream",
     "text": [
      "Contract dataframe\n"
     ]
    },
    {
     "data": {
      "text/html": [
       "<div>\n",
       "<style scoped>\n",
       "    .dataframe tbody tr th:only-of-type {\n",
       "        vertical-align: middle;\n",
       "    }\n",
       "\n",
       "    .dataframe tbody tr th {\n",
       "        vertical-align: top;\n",
       "    }\n",
       "\n",
       "    .dataframe thead th {\n",
       "        text-align: right;\n",
       "    }\n",
       "</style>\n",
       "<table border=\"1\" class=\"dataframe\">\n",
       "  <thead>\n",
       "    <tr style=\"text-align: right;\">\n",
       "      <th></th>\n",
       "      <th>BeginDate</th>\n",
       "      <th>EndDate</th>\n",
       "      <th>Type</th>\n",
       "      <th>PaperlessBilling</th>\n",
       "      <th>PaymentMethod</th>\n",
       "      <th>MonthlyCharges</th>\n",
       "      <th>TotalCharges</th>\n",
       "    </tr>\n",
       "    <tr>\n",
       "      <th>customerID</th>\n",
       "      <th></th>\n",
       "      <th></th>\n",
       "      <th></th>\n",
       "      <th></th>\n",
       "      <th></th>\n",
       "      <th></th>\n",
       "      <th></th>\n",
       "    </tr>\n",
       "  </thead>\n",
       "  <tbody>\n",
       "    <tr>\n",
       "      <th>7590-VHVEG</th>\n",
       "      <td>2020-01-01</td>\n",
       "      <td>No</td>\n",
       "      <td>Month-to-month</td>\n",
       "      <td>Yes</td>\n",
       "      <td>Electronic check</td>\n",
       "      <td>29.85</td>\n",
       "      <td>29.85</td>\n",
       "    </tr>\n",
       "    <tr>\n",
       "      <th>5575-GNVDE</th>\n",
       "      <td>2017-04-01</td>\n",
       "      <td>No</td>\n",
       "      <td>One year</td>\n",
       "      <td>No</td>\n",
       "      <td>Mailed check</td>\n",
       "      <td>56.95</td>\n",
       "      <td>1889.5</td>\n",
       "    </tr>\n",
       "    <tr>\n",
       "      <th>3668-QPYBK</th>\n",
       "      <td>2019-10-01</td>\n",
       "      <td>2019-12-01 00:00:00</td>\n",
       "      <td>Month-to-month</td>\n",
       "      <td>Yes</td>\n",
       "      <td>Mailed check</td>\n",
       "      <td>53.85</td>\n",
       "      <td>108.15</td>\n",
       "    </tr>\n",
       "    <tr>\n",
       "      <th>7795-CFOCW</th>\n",
       "      <td>2016-05-01</td>\n",
       "      <td>No</td>\n",
       "      <td>One year</td>\n",
       "      <td>No</td>\n",
       "      <td>Bank transfer (automatic)</td>\n",
       "      <td>42.30</td>\n",
       "      <td>1840.75</td>\n",
       "    </tr>\n",
       "    <tr>\n",
       "      <th>9237-HQITU</th>\n",
       "      <td>2019-09-01</td>\n",
       "      <td>2019-11-01 00:00:00</td>\n",
       "      <td>Month-to-month</td>\n",
       "      <td>Yes</td>\n",
       "      <td>Electronic check</td>\n",
       "      <td>70.70</td>\n",
       "      <td>151.65</td>\n",
       "    </tr>\n",
       "  </tbody>\n",
       "</table>\n",
       "</div>"
      ],
      "text/plain": [
       "             BeginDate              EndDate            Type PaperlessBilling  \\\n",
       "customerID                                                                     \n",
       "7590-VHVEG  2020-01-01                   No  Month-to-month              Yes   \n",
       "5575-GNVDE  2017-04-01                   No        One year               No   \n",
       "3668-QPYBK  2019-10-01  2019-12-01 00:00:00  Month-to-month              Yes   \n",
       "7795-CFOCW  2016-05-01                   No        One year               No   \n",
       "9237-HQITU  2019-09-01  2019-11-01 00:00:00  Month-to-month              Yes   \n",
       "\n",
       "                        PaymentMethod  MonthlyCharges TotalCharges  \n",
       "customerID                                                          \n",
       "7590-VHVEG           Electronic check           29.85        29.85  \n",
       "5575-GNVDE               Mailed check           56.95       1889.5  \n",
       "3668-QPYBK               Mailed check           53.85       108.15  \n",
       "7795-CFOCW  Bank transfer (automatic)           42.30      1840.75  \n",
       "9237-HQITU           Electronic check           70.70       151.65  "
      ]
     },
     "metadata": {},
     "output_type": "display_data"
    },
    {
     "name": "stdout",
     "output_type": "stream",
     "text": [
      "Internet dataframe\n"
     ]
    },
    {
     "data": {
      "text/html": [
       "<div>\n",
       "<style scoped>\n",
       "    .dataframe tbody tr th:only-of-type {\n",
       "        vertical-align: middle;\n",
       "    }\n",
       "\n",
       "    .dataframe tbody tr th {\n",
       "        vertical-align: top;\n",
       "    }\n",
       "\n",
       "    .dataframe thead th {\n",
       "        text-align: right;\n",
       "    }\n",
       "</style>\n",
       "<table border=\"1\" class=\"dataframe\">\n",
       "  <thead>\n",
       "    <tr style=\"text-align: right;\">\n",
       "      <th></th>\n",
       "      <th>InternetService</th>\n",
       "      <th>OnlineSecurity</th>\n",
       "      <th>OnlineBackup</th>\n",
       "      <th>DeviceProtection</th>\n",
       "      <th>TechSupport</th>\n",
       "      <th>StreamingTV</th>\n",
       "      <th>StreamingMovies</th>\n",
       "    </tr>\n",
       "    <tr>\n",
       "      <th>customerID</th>\n",
       "      <th></th>\n",
       "      <th></th>\n",
       "      <th></th>\n",
       "      <th></th>\n",
       "      <th></th>\n",
       "      <th></th>\n",
       "      <th></th>\n",
       "    </tr>\n",
       "  </thead>\n",
       "  <tbody>\n",
       "    <tr>\n",
       "      <th>7590-VHVEG</th>\n",
       "      <td>DSL</td>\n",
       "      <td>No</td>\n",
       "      <td>Yes</td>\n",
       "      <td>No</td>\n",
       "      <td>No</td>\n",
       "      <td>No</td>\n",
       "      <td>No</td>\n",
       "    </tr>\n",
       "    <tr>\n",
       "      <th>5575-GNVDE</th>\n",
       "      <td>DSL</td>\n",
       "      <td>Yes</td>\n",
       "      <td>No</td>\n",
       "      <td>Yes</td>\n",
       "      <td>No</td>\n",
       "      <td>No</td>\n",
       "      <td>No</td>\n",
       "    </tr>\n",
       "    <tr>\n",
       "      <th>3668-QPYBK</th>\n",
       "      <td>DSL</td>\n",
       "      <td>Yes</td>\n",
       "      <td>Yes</td>\n",
       "      <td>No</td>\n",
       "      <td>No</td>\n",
       "      <td>No</td>\n",
       "      <td>No</td>\n",
       "    </tr>\n",
       "    <tr>\n",
       "      <th>7795-CFOCW</th>\n",
       "      <td>DSL</td>\n",
       "      <td>Yes</td>\n",
       "      <td>No</td>\n",
       "      <td>Yes</td>\n",
       "      <td>Yes</td>\n",
       "      <td>No</td>\n",
       "      <td>No</td>\n",
       "    </tr>\n",
       "    <tr>\n",
       "      <th>9237-HQITU</th>\n",
       "      <td>Fiber optic</td>\n",
       "      <td>No</td>\n",
       "      <td>No</td>\n",
       "      <td>No</td>\n",
       "      <td>No</td>\n",
       "      <td>No</td>\n",
       "      <td>No</td>\n",
       "    </tr>\n",
       "  </tbody>\n",
       "</table>\n",
       "</div>"
      ],
      "text/plain": [
       "           InternetService OnlineSecurity OnlineBackup DeviceProtection  \\\n",
       "customerID                                                                \n",
       "7590-VHVEG             DSL             No          Yes               No   \n",
       "5575-GNVDE             DSL            Yes           No              Yes   \n",
       "3668-QPYBK             DSL            Yes          Yes               No   \n",
       "7795-CFOCW             DSL            Yes           No              Yes   \n",
       "9237-HQITU     Fiber optic             No           No               No   \n",
       "\n",
       "           TechSupport StreamingTV StreamingMovies  \n",
       "customerID                                          \n",
       "7590-VHVEG          No          No              No  \n",
       "5575-GNVDE          No          No              No  \n",
       "3668-QPYBK          No          No              No  \n",
       "7795-CFOCW         Yes          No              No  \n",
       "9237-HQITU          No          No              No  "
      ]
     },
     "metadata": {},
     "output_type": "display_data"
    },
    {
     "name": "stdout",
     "output_type": "stream",
     "text": [
      "Personal dataframe\n"
     ]
    },
    {
     "data": {
      "text/html": [
       "<div>\n",
       "<style scoped>\n",
       "    .dataframe tbody tr th:only-of-type {\n",
       "        vertical-align: middle;\n",
       "    }\n",
       "\n",
       "    .dataframe tbody tr th {\n",
       "        vertical-align: top;\n",
       "    }\n",
       "\n",
       "    .dataframe thead th {\n",
       "        text-align: right;\n",
       "    }\n",
       "</style>\n",
       "<table border=\"1\" class=\"dataframe\">\n",
       "  <thead>\n",
       "    <tr style=\"text-align: right;\">\n",
       "      <th></th>\n",
       "      <th>gender</th>\n",
       "      <th>SeniorCitizen</th>\n",
       "      <th>Partner</th>\n",
       "      <th>Dependents</th>\n",
       "    </tr>\n",
       "    <tr>\n",
       "      <th>customerID</th>\n",
       "      <th></th>\n",
       "      <th></th>\n",
       "      <th></th>\n",
       "      <th></th>\n",
       "    </tr>\n",
       "  </thead>\n",
       "  <tbody>\n",
       "    <tr>\n",
       "      <th>7590-VHVEG</th>\n",
       "      <td>Female</td>\n",
       "      <td>0</td>\n",
       "      <td>Yes</td>\n",
       "      <td>No</td>\n",
       "    </tr>\n",
       "    <tr>\n",
       "      <th>5575-GNVDE</th>\n",
       "      <td>Male</td>\n",
       "      <td>0</td>\n",
       "      <td>No</td>\n",
       "      <td>No</td>\n",
       "    </tr>\n",
       "    <tr>\n",
       "      <th>3668-QPYBK</th>\n",
       "      <td>Male</td>\n",
       "      <td>0</td>\n",
       "      <td>No</td>\n",
       "      <td>No</td>\n",
       "    </tr>\n",
       "    <tr>\n",
       "      <th>7795-CFOCW</th>\n",
       "      <td>Male</td>\n",
       "      <td>0</td>\n",
       "      <td>No</td>\n",
       "      <td>No</td>\n",
       "    </tr>\n",
       "    <tr>\n",
       "      <th>9237-HQITU</th>\n",
       "      <td>Female</td>\n",
       "      <td>0</td>\n",
       "      <td>No</td>\n",
       "      <td>No</td>\n",
       "    </tr>\n",
       "  </tbody>\n",
       "</table>\n",
       "</div>"
      ],
      "text/plain": [
       "            gender  SeniorCitizen Partner Dependents\n",
       "customerID                                          \n",
       "7590-VHVEG  Female              0     Yes         No\n",
       "5575-GNVDE    Male              0      No         No\n",
       "3668-QPYBK    Male              0      No         No\n",
       "7795-CFOCW    Male              0      No         No\n",
       "9237-HQITU  Female              0      No         No"
      ]
     },
     "metadata": {},
     "output_type": "display_data"
    },
    {
     "name": "stdout",
     "output_type": "stream",
     "text": [
      "Phone dataframe\n"
     ]
    },
    {
     "data": {
      "text/html": [
       "<div>\n",
       "<style scoped>\n",
       "    .dataframe tbody tr th:only-of-type {\n",
       "        vertical-align: middle;\n",
       "    }\n",
       "\n",
       "    .dataframe tbody tr th {\n",
       "        vertical-align: top;\n",
       "    }\n",
       "\n",
       "    .dataframe thead th {\n",
       "        text-align: right;\n",
       "    }\n",
       "</style>\n",
       "<table border=\"1\" class=\"dataframe\">\n",
       "  <thead>\n",
       "    <tr style=\"text-align: right;\">\n",
       "      <th></th>\n",
       "      <th>MultipleLines</th>\n",
       "    </tr>\n",
       "    <tr>\n",
       "      <th>customerID</th>\n",
       "      <th></th>\n",
       "    </tr>\n",
       "  </thead>\n",
       "  <tbody>\n",
       "    <tr>\n",
       "      <th>5575-GNVDE</th>\n",
       "      <td>No</td>\n",
       "    </tr>\n",
       "    <tr>\n",
       "      <th>3668-QPYBK</th>\n",
       "      <td>No</td>\n",
       "    </tr>\n",
       "    <tr>\n",
       "      <th>9237-HQITU</th>\n",
       "      <td>No</td>\n",
       "    </tr>\n",
       "    <tr>\n",
       "      <th>9305-CDSKC</th>\n",
       "      <td>Yes</td>\n",
       "    </tr>\n",
       "    <tr>\n",
       "      <th>1452-KIOVK</th>\n",
       "      <td>Yes</td>\n",
       "    </tr>\n",
       "  </tbody>\n",
       "</table>\n",
       "</div>"
      ],
      "text/plain": [
       "           MultipleLines\n",
       "customerID              \n",
       "5575-GNVDE            No\n",
       "3668-QPYBK            No\n",
       "9237-HQITU            No\n",
       "9305-CDSKC           Yes\n",
       "1452-KIOVK           Yes"
      ]
     },
     "metadata": {},
     "output_type": "display_data"
    }
   ],
   "source": [
    "print('Contract dataframe')\n",
    "display(contract.head())\n",
    "print('Internet dataframe')\n",
    "display(internet.head())\n",
    "print('Personal dataframe')\n",
    "display(personal.head())\n",
    "print('Phone dataframe')\n",
    "display(phone.head())"
   ]
  },
  {
   "cell_type": "code",
   "execution_count": 4,
   "metadata": {
    "scrolled": true
   },
   "outputs": [
    {
     "data": {
      "text/plain": [
       "((7043, 7), (5517, 7), (7043, 4), (6361, 1))"
      ]
     },
     "execution_count": 4,
     "metadata": {},
     "output_type": "execute_result"
    }
   ],
   "source": [
    "contract.shape, internet.shape, personal.shape, phone.shape"
   ]
  },
  {
   "cell_type": "code",
   "execution_count": 5,
   "metadata": {},
   "outputs": [
    {
     "name": "stdout",
     "output_type": "stream",
     "text": [
      "Кол-во уникальных пользователей: 7043\n"
     ]
    }
   ],
   "source": [
    "print('Кол-во уникальных пользователей:', pd.concat([contract, internet, personal, phone]).index.nunique())"
   ]
  },
  {
   "cell_type": "markdown",
   "metadata": {},
   "source": [
    "Объединяю все в один датафрейм для удобства работы:"
   ]
  },
  {
   "cell_type": "code",
   "execution_count": 6,
   "metadata": {},
   "outputs": [],
   "source": [
    "telecom = contract.join([internet, personal, phone])"
   ]
  },
  {
   "cell_type": "code",
   "execution_count": 7,
   "metadata": {},
   "outputs": [
    {
     "name": "stdout",
     "output_type": "stream",
     "text": [
      "<class 'pandas.core.frame.DataFrame'>\n",
      "Index: 7043 entries, 7590-VHVEG to 3186-AJIEK\n",
      "Data columns (total 19 columns):\n",
      " #   Column            Non-Null Count  Dtype  \n",
      "---  ------            --------------  -----  \n",
      " 0   BeginDate         7043 non-null   object \n",
      " 1   EndDate           7043 non-null   object \n",
      " 2   Type              7043 non-null   object \n",
      " 3   PaperlessBilling  7043 non-null   object \n",
      " 4   PaymentMethod     7043 non-null   object \n",
      " 5   MonthlyCharges    7043 non-null   float64\n",
      " 6   TotalCharges      7043 non-null   object \n",
      " 7   InternetService   5517 non-null   object \n",
      " 8   OnlineSecurity    5517 non-null   object \n",
      " 9   OnlineBackup      5517 non-null   object \n",
      " 10  DeviceProtection  5517 non-null   object \n",
      " 11  TechSupport       5517 non-null   object \n",
      " 12  StreamingTV       5517 non-null   object \n",
      " 13  StreamingMovies   5517 non-null   object \n",
      " 14  gender            7043 non-null   object \n",
      " 15  SeniorCitizen     7043 non-null   int64  \n",
      " 16  Partner           7043 non-null   object \n",
      " 17  Dependents        7043 non-null   object \n",
      " 18  MultipleLines     6361 non-null   object \n",
      "dtypes: float64(1), int64(1), object(17)\n",
      "memory usage: 1.4+ MB\n"
     ]
    }
   ],
   "source": [
    "telecom.info()"
   ]
  },
  {
   "cell_type": "markdown",
   "metadata": {},
   "source": [
    "<a id='Preprocessing'></a>\n",
    "### Предобработка"
   ]
  },
  {
   "cell_type": "markdown",
   "metadata": {},
   "source": [
    "BeginDate необходимо перевести в формат datetime, TotalCharges во float:"
   ]
  },
  {
   "cell_type": "code",
   "execution_count": 8,
   "metadata": {},
   "outputs": [],
   "source": [
    "telecom['BeginDate'] = pd.to_datetime(telecom['BeginDate'])\n",
    "# Пустые значения отмечаю нулями (все такие клиенты заключили контракт в феврале 2020, и видимо еще не оплачивали счета)\n",
    "telecom.loc[telecom['TotalCharges'] == ' ', 'TotalCharges'] = 0\n",
    "telecom['TotalCharges'] = telecom['TotalCharges'].astype('float64')"
   ]
  },
  {
   "cell_type": "code",
   "execution_count": 9,
   "metadata": {},
   "outputs": [
    {
     "data": {
      "text/plain": [
       "No                     5174\n",
       "2019-11-01 00:00:00     485\n",
       "2019-12-01 00:00:00     466\n",
       "2020-01-01 00:00:00     460\n",
       "2019-10-01 00:00:00     458\n",
       "Name: EndDate, dtype: int64"
      ]
     },
     "execution_count": 9,
     "metadata": {},
     "output_type": "execute_result"
    }
   ],
   "source": [
    "telecom['EndDate'].value_counts()"
   ]
  },
  {
   "cell_type": "markdown",
   "metadata": {},
   "source": [
    "Было уточнено, что если данные по использованию интернет услуг и телефонии отсутствуют, значит клиент не использует эти услуги."
   ]
  },
  {
   "cell_type": "code",
   "execution_count": 10,
   "metadata": {},
   "outputs": [],
   "source": [
    "telecom['PhoneLines'] = telecom['MultipleLines'].apply(lambda x: 'One' if x=='No' else ('Multiple' if x=='Yes' else 'None'))\n",
    "telecom = telecom.drop('MultipleLines', axis=1)"
   ]
  },
  {
   "cell_type": "code",
   "execution_count": 11,
   "metadata": {},
   "outputs": [],
   "source": [
    "columns_with_missing_values = []\n",
    "for i in telecom.columns:\n",
    "    if telecom[i].isna().sum() > 0:\n",
    "        columns_with_missing_values.append(i)"
   ]
  },
  {
   "cell_type": "code",
   "execution_count": 12,
   "metadata": {},
   "outputs": [
    {
     "name": "stdout",
     "output_type": "stream",
     "text": [
      "InternetService ['DSL' 'Fiber optic' nan] 1526\n",
      "OnlineSecurity ['No' 'Yes' nan] 1526\n",
      "OnlineBackup ['Yes' 'No' nan] 1526\n",
      "DeviceProtection ['No' 'Yes' nan] 1526\n",
      "TechSupport ['No' 'Yes' nan] 1526\n",
      "StreamingTV ['No' 'Yes' nan] 1526\n",
      "StreamingMovies ['No' 'Yes' nan] 1526\n"
     ]
    }
   ],
   "source": [
    "for i in columns_with_missing_values:\n",
    "    print(i, telecom[i].unique(), telecom[i].isna().sum())"
   ]
  },
  {
   "cell_type": "code",
   "execution_count": 13,
   "metadata": {},
   "outputs": [],
   "source": [
    "for i in columns_with_missing_values:\n",
    "    telecom[i] = telecom[i].fillna('No')"
   ]
  },
  {
   "cell_type": "markdown",
   "metadata": {},
   "source": [
    "Смотрю какие значения принимают остальные категориальные признаки:"
   ]
  },
  {
   "cell_type": "code",
   "execution_count": 14,
   "metadata": {},
   "outputs": [
    {
     "name": "stdout",
     "output_type": "stream",
     "text": [
      "gender ['Female' 'Male']\n",
      "PaymentMethod ['Electronic check' 'Mailed check' 'Bank transfer (automatic)'\n",
      " 'Credit card (automatic)']\n",
      "EndDate ['No' '2019-12-01 00:00:00' '2019-11-01 00:00:00' '2019-10-01 00:00:00'\n",
      " '2020-01-01 00:00:00']\n",
      "Partner ['Yes' 'No']\n",
      "Dependents ['No' 'Yes']\n",
      "PaperlessBilling ['Yes' 'No']\n",
      "Type ['Month-to-month' 'One year' 'Two year']\n",
      "PhoneLines ['None' 'One' 'Multiple']\n"
     ]
    }
   ],
   "source": [
    "for i in list(set(telecom.columns).difference(set(columns_with_missing_values))):\n",
    "    if telecom[i].dtype == 'O':\n",
    "        print(i, telecom[i].unique())"
   ]
  },
  {
   "cell_type": "code",
   "execution_count": 15,
   "metadata": {},
   "outputs": [
    {
     "data": {
      "text/plain": [
       "0"
      ]
     },
     "execution_count": 15,
     "metadata": {},
     "output_type": "execute_result"
    }
   ],
   "source": [
    "telecom.isna().sum().sum()"
   ]
  },
  {
   "cell_type": "markdown",
   "metadata": {},
   "source": [
    "<a id='New features'></a>\n",
    "### Создание признаков"
   ]
  },
  {
   "cell_type": "markdown",
   "metadata": {},
   "source": [
    "Так как услуг много, попробую создать более емкую группировку: пользуется интернетом, телефоном или обеими группами услуг:"
   ]
  },
  {
   "cell_type": "code",
   "execution_count": 16,
   "metadata": {},
   "outputs": [],
   "source": [
    "def user_type (row):\n",
    "    internet_user = row['InternetService']\n",
    "    phone_user = row['PhoneLines']\n",
    "    if (internet_user == 'Fiber optic' or internet_user == 'DSL') and (phone_user=='One' or phone_user=='Multiple'):\n",
    "        return 'Internet and phone user'\n",
    "    elif (internet_user == 'Fiber optic' or internet_user == 'DSL'):\n",
    "        return 'Internet only user'\n",
    "    elif phone_user=='One' or phone_user=='Multiple':\n",
    "        return 'Phone only user'\n",
    "    else:\n",
    "        return 'Unknown type of user'"
   ]
  },
  {
   "cell_type": "code",
   "execution_count": 17,
   "metadata": {},
   "outputs": [],
   "source": [
    "telecom['UserType'] = telecom.apply(user_type, axis=1)"
   ]
  },
  {
   "cell_type": "markdown",
   "metadata": {},
   "source": [
    "Рассчитываю кол-во месяцев, в течении которого клиент пользовался / продолжает пользоваться нашими услугами:"
   ]
  },
  {
   "cell_type": "code",
   "execution_count": 18,
   "metadata": {},
   "outputs": [],
   "source": [
    "telecom['EndDate2'] = telecom['EndDate'].apply(lambda x: '2020-02-01' if x=='No' else x)\n",
    "telecom['EndDate2'] = pd.to_datetime(telecom['EndDate2'])\n",
    "telecom['MonthsWithUs'] = round((telecom['EndDate2'] - telecom['BeginDate'])/np.timedelta64(1, 'M'), 0)"
   ]
  },
  {
   "cell_type": "markdown",
   "metadata": {},
   "source": [
    "Считаю кол-во используемых услуг:"
   ]
  },
  {
   "cell_type": "code",
   "execution_count": 19,
   "metadata": {},
   "outputs": [],
   "source": [
    "def services_count (row):\n",
    "    count = 0\n",
    "    if row['InternetService'] != 'No':\n",
    "        count += 1\n",
    "    if row['OnlineSecurity'] == 'Yes':\n",
    "        count += 1\n",
    "    if row['OnlineBackup'] == 'Yes':\n",
    "        count += 1\n",
    "    if row['DeviceProtection'] == 'Yes':\n",
    "        count += 1\n",
    "    if row['TechSupport'] == 'Yes':\n",
    "        count += 1\n",
    "    if row['StreamingTV'] == 'Yes':\n",
    "        count += 1\n",
    "    if row['StreamingMovies'] == 'Yes':\n",
    "        count += 1\n",
    "    if row['PhoneLines'] == 'One':\n",
    "        count += 1\n",
    "    if row['PhoneLines'] == 'Multiple':\n",
    "        count += 2\n",
    "    return count"
   ]
  },
  {
   "cell_type": "code",
   "execution_count": 20,
   "metadata": {},
   "outputs": [],
   "source": [
    "telecom['ServicesCount'] = telecom.apply(services_count, axis=1).astype('float64')"
   ]
  },
  {
   "cell_type": "markdown",
   "metadata": {},
   "source": [
    "Группирую пользователей по ежемесячным затратам на услуги:"
   ]
  },
  {
   "cell_type": "code",
   "execution_count": 21,
   "metadata": {},
   "outputs": [],
   "source": [
    "def group_by_charges (x):\n",
    "    if x <= 20:\n",
    "        return 1\n",
    "    elif x <= 40:\n",
    "        return 2\n",
    "    elif x <= 60:\n",
    "        return 3\n",
    "    elif x <= 80:\n",
    "        return 4\n",
    "    elif x <= 100:\n",
    "        return 5\n",
    "    else:\n",
    "        return 6"
   ]
  },
  {
   "cell_type": "code",
   "execution_count": 22,
   "metadata": {},
   "outputs": [],
   "source": [
    "telecom['ChargesGroup'] = telecom['MonthlyCharges'].apply(group_by_charges)"
   ]
  },
  {
   "cell_type": "markdown",
   "metadata": {},
   "source": [
    "Группирую пользователей по кол-ву месяцев, в течении которых они пользовались / продолжают пользоваться нашими услугами:"
   ]
  },
  {
   "cell_type": "code",
   "execution_count": 23,
   "metadata": {},
   "outputs": [],
   "source": [
    "def group_by_months (x):\n",
    "    if x <= 1:\n",
    "        return 1\n",
    "    elif x <= 10:\n",
    "        return 2\n",
    "    elif x <= 20:\n",
    "        return 3\n",
    "    elif x <= 30:\n",
    "        return 4\n",
    "    elif x <= 40:\n",
    "        return 5\n",
    "    elif x <= 60:\n",
    "        return 6    \n",
    "    else:\n",
    "        return 7"
   ]
  },
  {
   "cell_type": "code",
   "execution_count": 24,
   "metadata": {},
   "outputs": [],
   "source": [
    "telecom['MonthsGroup'] = telecom['MonthsWithUs'].apply(group_by_months)"
   ]
  },
  {
   "cell_type": "markdown",
   "metadata": {},
   "source": [
    "Добавляю бинарные признаки, связанные с кол-вом месяцев использования услуг и ежемесячным платежом (границы взяты из EDA, который идет следующим шагом):"
   ]
  },
  {
   "cell_type": "code",
   "execution_count": 25,
   "metadata": {},
   "outputs": [],
   "source": [
    "telecom['Below20Months'] = telecom['MonthsWithUs'].apply(lambda x: 1 if x<20 else 0)\n",
    "telecom['Below65MonthPayment'] = telecom['MonthlyCharges'].apply(lambda x: 1 if x<65 else 0)"
   ]
  },
  {
   "cell_type": "code",
   "execution_count": 26,
   "metadata": {},
   "outputs": [],
   "source": [
    "telecom['Churn'] = telecom['EndDate'].apply(lambda x: 0 if x=='No' else 1)"
   ]
  },
  {
   "cell_type": "code",
   "execution_count": 27,
   "metadata": {},
   "outputs": [],
   "source": [
    "telecom = telecom.drop(['BeginDate', 'EndDate', 'EndDate2'], axis=1)"
   ]
  },
  {
   "cell_type": "code",
   "execution_count": 28,
   "metadata": {
    "scrolled": false
   },
   "outputs": [
    {
     "name": "stdout",
     "output_type": "stream",
     "text": [
      "<class 'pandas.core.frame.DataFrame'>\n",
      "Index: 7043 entries, 7590-VHVEG to 3186-AJIEK\n",
      "Data columns (total 25 columns):\n",
      " #   Column               Non-Null Count  Dtype  \n",
      "---  ------               --------------  -----  \n",
      " 0   Type                 7043 non-null   object \n",
      " 1   PaperlessBilling     7043 non-null   object \n",
      " 2   PaymentMethod        7043 non-null   object \n",
      " 3   MonthlyCharges       7043 non-null   float64\n",
      " 4   TotalCharges         7043 non-null   float64\n",
      " 5   InternetService      7043 non-null   object \n",
      " 6   OnlineSecurity       7043 non-null   object \n",
      " 7   OnlineBackup         7043 non-null   object \n",
      " 8   DeviceProtection     7043 non-null   object \n",
      " 9   TechSupport          7043 non-null   object \n",
      " 10  StreamingTV          7043 non-null   object \n",
      " 11  StreamingMovies      7043 non-null   object \n",
      " 12  gender               7043 non-null   object \n",
      " 13  SeniorCitizen        7043 non-null   int64  \n",
      " 14  Partner              7043 non-null   object \n",
      " 15  Dependents           7043 non-null   object \n",
      " 16  PhoneLines           7043 non-null   object \n",
      " 17  UserType             7043 non-null   object \n",
      " 18  MonthsWithUs         7043 non-null   float64\n",
      " 19  ServicesCount        7043 non-null   float64\n",
      " 20  ChargesGroup         7043 non-null   int64  \n",
      " 21  MonthsGroup          7043 non-null   int64  \n",
      " 22  Below20Months        7043 non-null   int64  \n",
      " 23  Below65MonthPayment  7043 non-null   int64  \n",
      " 24  Churn                7043 non-null   int64  \n",
      "dtypes: float64(4), int64(6), object(15)\n",
      "memory usage: 1.7+ MB\n"
     ]
    }
   ],
   "source": [
    "telecom.info()"
   ]
  },
  {
   "cell_type": "markdown",
   "metadata": {},
   "source": [
    "Сохраняю типы данных для дальнейшей работы:"
   ]
  },
  {
   "cell_type": "code",
   "execution_count": 29,
   "metadata": {},
   "outputs": [
    {
     "name": "stdout",
     "output_type": "stream",
     "text": [
      "Колонки с категориальными признаками:\n",
      "['Type', 'PaperlessBilling', 'PaymentMethod', 'InternetService', 'OnlineSecurity', 'OnlineBackup', 'DeviceProtection', 'TechSupport', 'StreamingTV', 'StreamingMovies', 'gender', 'SeniorCitizen', 'Partner', 'Dependents', 'PhoneLines', 'UserType', 'ChargesGroup', 'MonthsGroup', 'Below20Months', 'Below65MonthPayment']\n",
      "\n",
      "Колонки с количественными признаками:\n",
      "['MonthlyCharges', 'TotalCharges', 'MonthsWithUs', 'ServicesCount']\n"
     ]
    }
   ],
   "source": [
    "categorical_columns, quantitive_columns = [], []\n",
    "\n",
    "for i in telecom.columns:\n",
    "    if telecom[i].dtype == 'float64':\n",
    "        quantitive_columns.append(i)\n",
    "    else:\n",
    "        categorical_columns.append(i)\n",
    "\n",
    "categorical_columns.remove('Churn')\n",
    "print('Колонки с категориальными признаками:')\n",
    "print(categorical_columns)\n",
    "print()\n",
    "print('Колонки с количественными признаками:')\n",
    "print(quantitive_columns)"
   ]
  },
  {
   "cell_type": "markdown",
   "metadata": {},
   "source": [
    "<a id='Vizualization'></a>\n",
    "### Исследовательский анализ данных / визуализация"
   ]
  },
  {
   "cell_type": "code",
   "execution_count": 30,
   "metadata": {},
   "outputs": [
    {
     "data": {
      "image/png": "[encoded data removed]",
      "text/plain": [
       "<Figure size 1080x360 with 3 Axes>"
      ]
     },
     "metadata": {
      "needs_background": "light"
     },
     "output_type": "display_data"
    }
   ],
   "source": [
    "fig, ax = plt.subplots(1, 3, figsize=(15, 5))\n",
    "\n",
    "ax[0].hist(telecom['Type'])\n",
    "ax[0].hist(telecom[telecom['Churn'] == 1]['Type'])\n",
    "ax[0].set_title('Contract type')\n",
    "ax[1].hist(telecom['PaperlessBilling'])\n",
    "ax[1].hist(telecom[telecom['Churn'] == 1]['PaperlessBilling'])\n",
    "ax[1].set_title('Paperless billing')\n",
    "ax[2].hist(telecom['PaymentMethod'])\n",
    "ax[2].hist(telecom[telecom['Churn'] == 1]['PaymentMethod'])\n",
    "ax[2].set_title('Payment method')\n",
    "\n",
    "fig.autofmt_xdate()\n",
    "fig.suptitle('Distribution by contract / payment method', fontsize=20)\n",
    "fig.subplots_adjust(top=0.82)\n",
    "\n",
    "for i in range(3):\n",
    "    ax[i].legend(['All', 'Churn'])"
   ]
  },
  {
   "cell_type": "markdown",
   "metadata": {},
   "source": [
    "Около половины пользователей предпочитает долгосрочный контракт (1-2 года), 60% пользователей выбирают электронные чеки вместо бумажных. 88% ушедших пользователей пользовались 'Month-to-month' контактом. Можно сделать промежутный вывод, что у тех пользоателей, которые заключают долгосрочный контракт вероятность ухода меньше."
   ]
  },
  {
   "cell_type": "code",
   "execution_count": 31,
   "metadata": {},
   "outputs": [
    {
     "data": {
      "image/png": "[encoded data removed]",
      "text/plain": [
       "<Figure size 1080x288 with 4 Axes>"
      ]
     },
     "metadata": {
      "needs_background": "light"
     },
     "output_type": "display_data"
    },
    {
     "data": {
      "image/png": "[encoded data removed]",
      "text/plain": [
       "<Figure size 1080x288 with 4 Axes>"
      ]
     },
     "metadata": {
      "needs_background": "light"
     },
     "output_type": "display_data"
    }
   ],
   "source": [
    "fig, ax = plt.subplots(1, 4, figsize=(15, 4))\n",
    "\n",
    "ax[0].hist(telecom['InternetService'])\n",
    "ax[0].hist(telecom[telecom['Churn'] == 1]['InternetService'])\n",
    "ax[0].set_title('Internet service')\n",
    "ax[1].hist(telecom['OnlineSecurity'])\n",
    "ax[1].hist(telecom[telecom['Churn'] == 1]['OnlineSecurity'])\n",
    "ax[1].set_title('Online security')\n",
    "ax[2].hist(telecom['OnlineBackup'])\n",
    "ax[2].hist(telecom[telecom['Churn'] == 1]['OnlineBackup'])\n",
    "ax[2].set_title('Online backup')\n",
    "ax[3].hist(telecom['DeviceProtection'])\n",
    "ax[3].hist(telecom[telecom['Churn'] == 1]['DeviceProtection'])\n",
    "ax[3].set_title('Device protection')\n",
    "\n",
    "for i in range(4):\n",
    "    ax[i].legend(['All', 'Churn'])\n",
    "\n",
    "fig.suptitle('Distribution by services', fontsize=20)\n",
    "fig.subplots_adjust(top=0.82)\n",
    "    \n",
    "fig, ax = plt.subplots(1, 4, figsize=(15, 4))\n",
    "\n",
    "ax[0].hist(telecom['TechSupport'])\n",
    "ax[0].hist(telecom[telecom['Churn'] == 1]['TechSupport'])\n",
    "ax[0].set_title('Technical support')\n",
    "ax[1].hist(telecom['StreamingTV'])\n",
    "ax[1].hist(telecom[telecom['Churn'] == 1]['StreamingTV'])\n",
    "ax[1].set_title('Streaming TV')\n",
    "ax[2].hist(telecom['StreamingMovies'])\n",
    "ax[2].hist(telecom[telecom['Churn'] == 1]['StreamingMovies'])\n",
    "ax[2].set_title('Streaming movies')\n",
    "ax[3].hist(telecom['PhoneLines'])\n",
    "ax[3].hist(telecom[telecom['Churn'] == 1]['PhoneLines'])\n",
    "ax[3].set_title('Phone lines')\n",
    "\n",
    "for i in range(4):\n",
    "    ax[i].legend(['All', 'Churn'])"
   ]
  },
  {
   "cell_type": "markdown",
   "metadata": {},
   "source": [
    "Наиболее востребованные услуги: Streaming TV/Movies; Наименее востребованные услуги: TechSupport и Online security. Сильных различий по услугам между всеми и ушедшеми пользователями не обнаружено."
   ]
  },
  {
   "cell_type": "code",
   "execution_count": 32,
   "metadata": {},
   "outputs": [
    {
     "data": {
      "image/png": "[encoded data removed]",
      "text/plain": [
       "<Figure size 1080x288 with 4 Axes>"
      ]
     },
     "metadata": {
      "needs_background": "light"
     },
     "output_type": "display_data"
    }
   ],
   "source": [
    "fig, ax = plt.subplots(1, 4, figsize=(15, 4))\n",
    "\n",
    "ax[0].hist(telecom['gender'])\n",
    "ax[0].hist(telecom[telecom['Churn'] == 1]['gender'])\n",
    "ax[0].set_title('Gender')\n",
    "ax[1].hist(telecom['SeniorCitizen'].apply(lambda x: 'No' if x==0 else 'Yes'))\n",
    "ax[1].hist(telecom[telecom['Churn'] == 1]['SeniorCitizen'].apply(lambda x: 'No' if x==0 else 'Yes'))\n",
    "ax[1].set_title('Senior')\n",
    "ax[2].hist(telecom['Partner'])\n",
    "ax[2].hist(telecom[telecom['Churn'] == 1]['Partner'])\n",
    "ax[2].set_title('Partner')\n",
    "ax[3].hist(telecom['Dependents'])\n",
    "ax[3].hist(telecom[telecom['Churn'] == 1]['Dependents'])\n",
    "ax[3].set_title('Dependents')\n",
    "\n",
    "fig.suptitle('Distribution of personal information', fontsize=20)\n",
    "fig.subplots_adjust(top=0.82)\n",
    "\n",
    "for i in range(4):\n",
    "    ax[i].legend(['All', 'Churn'])"
   ]
  },
  {
   "cell_type": "markdown",
   "metadata": {},
   "source": [
    "Услугами одинаково часто пользуются как мужчины так и женщины; 16% пользователей - пожилые люди; у 30% пользователей есть дети.\n",
    "Неженатые/незамужние занимают долю 64% в ушедших пользователях, при том что в общем количестве они занимают 52%."
   ]
  },
  {
   "cell_type": "code",
   "execution_count": 33,
   "metadata": {},
   "outputs": [
    {
     "data": {
      "image/png": "[encoded data removed]",
      "text/plain": [
       "<Figure size 1080x432 with 2 Axes>"
      ]
     },
     "metadata": {},
     "output_type": "display_data"
    }
   ],
   "source": [
    "pie_user_type = pd.DataFrame(telecom['UserType'].value_counts(normalize=True)*100)\n",
    "pie_user_type.columns = ['All users']\n",
    "pie_user_type['Churn users'] = telecom[telecom['Churn'] == 1]['UserType'].value_counts(normalize=True)*100\n",
    "\n",
    "fig, ax = plt.subplots(1, 2, figsize=(15, 6))\n",
    "\n",
    "ax[0].pie(pie_user_type['All users'], labels=pie_user_type.index, autopct='%1.1f%%', shadow=True, startangle=90)\n",
    "ax[0].set_title('All users')\n",
    "ax[1].pie(pie_user_type['Churn users'], labels=pie_user_type.index, autopct='%1.1f%%', shadow=True, startangle=90)\n",
    "ax[1].set_title('Churn users')\n",
    "\n",
    "fig.suptitle('Distribution by user type', fontsize=20)\n",
    "fig.subplots_adjust(top=0.82)"
   ]
  },
  {
   "cell_type": "markdown",
   "metadata": {},
   "source": [
    "Общая доля пользователей, которая использует и интернет и телефон составляет 69%, при этом в ушедших клиентах эта доля составляет 85%. Доля ушедших, которые пользуются телефоном составляет 6%, в общем распределении эта доля гораздо выше и составляет 22%."
   ]
  },
  {
   "cell_type": "code",
   "execution_count": 34,
   "metadata": {},
   "outputs": [
    {
     "data": {
      "image/png": "[encoded data removed]",
      "text/plain": [
       "<Figure size 1008x432 with 1 Axes>"
      ]
     },
     "metadata": {
      "needs_background": "light"
     },
     "output_type": "display_data"
    }
   ],
   "source": [
    "plt.figure(figsize = (14, 6))\n",
    "sns.distplot(telecom['MonthsWithUs'], label='All', bins=80)\n",
    "sns.distplot(telecom[telecom['Churn'] == 1]['MonthsWithUs'], label='Churn', bins=80)\n",
    "plt.title('Distribution by months using our services', fontsize=20)\n",
    "plt.legend();"
   ]
  },
  {
   "cell_type": "markdown",
   "metadata": {},
   "source": [
    "Чем дольше клиент пользуется нашими услугами, тем меньше вероятность его ухода. Основная масса уходящих, уходят в течении 20 месяцев (66%). 20% от ушедших пользовались услугами лишь один месяц."
   ]
  },
  {
   "cell_type": "code",
   "execution_count": 35,
   "metadata": {},
   "outputs": [
    {
     "data": {
      "image/png": "[encoded data removed]",
      "text/plain": [
       "<Figure size 1008x432 with 1 Axes>"
      ]
     },
     "metadata": {
      "needs_background": "light"
     },
     "output_type": "display_data"
    }
   ],
   "source": [
    "plt.figure(figsize = (14, 6))\n",
    "sns.distplot(telecom['MonthlyCharges'], label='All', bins=20)\n",
    "sns.distplot(telecom[telecom['Churn'] == 1]['MonthlyCharges'], label='Churn', bins=20)\n",
    "plt.title('Distribution by monthly charges', fontsize=20)\n",
    "plt.legend();"
   ]
  },
  {
   "cell_type": "code",
   "execution_count": 36,
   "metadata": {},
   "outputs": [
    {
     "data": {
      "text/plain": [
       "0    4\n",
       "1    1\n",
       "Name: Churn, dtype: int64"
      ]
     },
     "execution_count": 36,
     "metadata": {},
     "output_type": "execute_result"
    }
   ],
   "source": [
    "telecom[telecom['MonthlyCharges'] == 65]['Churn'].value_counts()"
   ]
  },
  {
   "cell_type": "markdown",
   "metadata": {},
   "source": [
    "Чем меньше размер ежемесячного платежа у клиента, тем меньше вероятность его ухода. 72% ушедших платили в месяц свыше 65. Среднемесячный платеж по оставшимся пользователям составляет 61, а по ушедшим 74."
   ]
  },
  {
   "cell_type": "code",
   "execution_count": 37,
   "metadata": {},
   "outputs": [
    {
     "data": {
      "image/png": "[encoded data removed]",
      "text/plain": [
       "<Figure size 720x576 with 2 Axes>"
      ]
     },
     "metadata": {
      "needs_background": "light"
     },
     "output_type": "display_data"
    }
   ],
   "source": [
    "plt.figure(figsize=(10, 8))\n",
    "sns.heatmap(telecom[quantitive_columns].corr(), annot=True);"
   ]
  },
  {
   "cell_type": "markdown",
   "metadata": {},
   "source": [
    "Высокая корреляция наблюдается у признаков MonthsWithUs и TotalCharges, что ожидаемо, так как MonthsWithUs = TotalCharges / MonthlyCharges. Признаки ServicesCount и MonthlyCharges тоже сильно коррелируют, но удалять не буду, так как смысл у этих прихнаков все-таки отличается. "
   ]
  },
  {
   "cell_type": "code",
   "execution_count": 38,
   "metadata": {},
   "outputs": [],
   "source": [
    "telecom = telecom.drop('TotalCharges', axis=1)\n",
    "quantitive_columns.remove('TotalCharges')"
   ]
  },
  {
   "cell_type": "markdown",
   "metadata": {},
   "source": [
    "<a id='EDA conclusion'></a>\n",
    "### Вывод по EDA"
   ]
  },
  {
   "cell_type": "markdown",
   "metadata": {},
   "source": [
    "#### Основные отличия между ушедшими и оставшимися пользователями:\n",
    "\n",
    "1) 72% ушедших платили в месяц свыше 65. Среднемесячный платеж по оставшимся пользователям составляет 61, а по ушедшим 74.\n",
    "\n",
    "2) 88% ушедших пользователей пользовались 'Month-to-month' (краткосрочным) контактом. Общие доли 55% (краткосрочный) и 45% (долгосрочный).\n",
    "\n",
    "3) Основная масса уходящих, ушли в течении 20 месяцев (66%). 20% от ушедших пользовались услугами лишь один месяц.\n",
    "\n",
    "4) Неженатые/незамужние занимают долю 64% в ушедших пользователях, при том что в общем количестве они занимают 52%.\n",
    "\n",
    "5) Общая доля пользователей, которая использует и интернет и телефон составляет 69%, при этом в ушедших клиентах эта доля составляет 85%.\n",
    "\n",
    "Все ушедшие ушли в период с октября 2019 по январь 2020, предполагаю что в этот период произошли крупные изменения, которые повлияли на отношение клиентов к компании. Исходя из наблюдений, приведенных выше, скорее всего значительно выросла стоимость услуг связанных с интернетом.\n",
    "\n",
    "Так как эта информация является \"утечкой\" и она не поможет для предсказания в будущем, пользоваться месяцем ухода для предсказания я не буду."
   ]
  },
  {
   "cell_type": "markdown",
   "metadata": {},
   "source": [
    "<a id='Model training'></a>\n",
    "## Обучение модели"
   ]
  },
  {
   "cell_type": "markdown",
   "metadata": {},
   "source": [
    "<a id='Ordinal Encoding'></a>\n",
    "### Кодирование категориальных признаков"
   ]
  },
  {
   "cell_type": "markdown",
   "metadata": {},
   "source": [
    "Делаю порядковое кодирование:"
   ]
  },
  {
   "cell_type": "code",
   "execution_count": 39,
   "metadata": {},
   "outputs": [
    {
     "data": {
      "text/html": [
       "<div>\n",
       "<style scoped>\n",
       "    .dataframe tbody tr th:only-of-type {\n",
       "        vertical-align: middle;\n",
       "    }\n",
       "\n",
       "    .dataframe tbody tr th {\n",
       "        vertical-align: top;\n",
       "    }\n",
       "\n",
       "    .dataframe thead th {\n",
       "        text-align: right;\n",
       "    }\n",
       "</style>\n",
       "<table border=\"1\" class=\"dataframe\">\n",
       "  <thead>\n",
       "    <tr style=\"text-align: right;\">\n",
       "      <th></th>\n",
       "      <th>Type</th>\n",
       "      <th>PaperlessBilling</th>\n",
       "      <th>PaymentMethod</th>\n",
       "      <th>InternetService</th>\n",
       "      <th>OnlineSecurity</th>\n",
       "      <th>OnlineBackup</th>\n",
       "      <th>DeviceProtection</th>\n",
       "      <th>TechSupport</th>\n",
       "      <th>StreamingTV</th>\n",
       "      <th>StreamingMovies</th>\n",
       "      <th>gender</th>\n",
       "      <th>SeniorCitizen</th>\n",
       "      <th>Partner</th>\n",
       "      <th>Dependents</th>\n",
       "      <th>PhoneLines</th>\n",
       "      <th>UserType</th>\n",
       "      <th>ChargesGroup</th>\n",
       "      <th>MonthsGroup</th>\n",
       "      <th>Below20Months</th>\n",
       "      <th>Below65MonthPayment</th>\n",
       "    </tr>\n",
       "    <tr>\n",
       "      <th>customerID</th>\n",
       "      <th></th>\n",
       "      <th></th>\n",
       "      <th></th>\n",
       "      <th></th>\n",
       "      <th></th>\n",
       "      <th></th>\n",
       "      <th></th>\n",
       "      <th></th>\n",
       "      <th></th>\n",
       "      <th></th>\n",
       "      <th></th>\n",
       "      <th></th>\n",
       "      <th></th>\n",
       "      <th></th>\n",
       "      <th></th>\n",
       "      <th></th>\n",
       "      <th></th>\n",
       "      <th></th>\n",
       "      <th></th>\n",
       "      <th></th>\n",
       "    </tr>\n",
       "  </thead>\n",
       "  <tbody>\n",
       "    <tr>\n",
       "      <th>7590-VHVEG</th>\n",
       "      <td>Month-to-month</td>\n",
       "      <td>Yes</td>\n",
       "      <td>Electronic check</td>\n",
       "      <td>DSL</td>\n",
       "      <td>No</td>\n",
       "      <td>Yes</td>\n",
       "      <td>No</td>\n",
       "      <td>No</td>\n",
       "      <td>No</td>\n",
       "      <td>No</td>\n",
       "      <td>Female</td>\n",
       "      <td>0</td>\n",
       "      <td>Yes</td>\n",
       "      <td>No</td>\n",
       "      <td>None</td>\n",
       "      <td>Internet only user</td>\n",
       "      <td>2</td>\n",
       "      <td>1</td>\n",
       "      <td>1</td>\n",
       "      <td>1</td>\n",
       "    </tr>\n",
       "    <tr>\n",
       "      <th>5575-GNVDE</th>\n",
       "      <td>One year</td>\n",
       "      <td>No</td>\n",
       "      <td>Mailed check</td>\n",
       "      <td>DSL</td>\n",
       "      <td>Yes</td>\n",
       "      <td>No</td>\n",
       "      <td>Yes</td>\n",
       "      <td>No</td>\n",
       "      <td>No</td>\n",
       "      <td>No</td>\n",
       "      <td>Male</td>\n",
       "      <td>0</td>\n",
       "      <td>No</td>\n",
       "      <td>No</td>\n",
       "      <td>One</td>\n",
       "      <td>Internet and phone user</td>\n",
       "      <td>3</td>\n",
       "      <td>5</td>\n",
       "      <td>0</td>\n",
       "      <td>1</td>\n",
       "    </tr>\n",
       "    <tr>\n",
       "      <th>3668-QPYBK</th>\n",
       "      <td>Month-to-month</td>\n",
       "      <td>Yes</td>\n",
       "      <td>Mailed check</td>\n",
       "      <td>DSL</td>\n",
       "      <td>Yes</td>\n",
       "      <td>Yes</td>\n",
       "      <td>No</td>\n",
       "      <td>No</td>\n",
       "      <td>No</td>\n",
       "      <td>No</td>\n",
       "      <td>Male</td>\n",
       "      <td>0</td>\n",
       "      <td>No</td>\n",
       "      <td>No</td>\n",
       "      <td>One</td>\n",
       "      <td>Internet and phone user</td>\n",
       "      <td>3</td>\n",
       "      <td>2</td>\n",
       "      <td>1</td>\n",
       "      <td>1</td>\n",
       "    </tr>\n",
       "    <tr>\n",
       "      <th>7795-CFOCW</th>\n",
       "      <td>One year</td>\n",
       "      <td>No</td>\n",
       "      <td>Bank transfer (automatic)</td>\n",
       "      <td>DSL</td>\n",
       "      <td>Yes</td>\n",
       "      <td>No</td>\n",
       "      <td>Yes</td>\n",
       "      <td>Yes</td>\n",
       "      <td>No</td>\n",
       "      <td>No</td>\n",
       "      <td>Male</td>\n",
       "      <td>0</td>\n",
       "      <td>No</td>\n",
       "      <td>No</td>\n",
       "      <td>None</td>\n",
       "      <td>Internet only user</td>\n",
       "      <td>3</td>\n",
       "      <td>6</td>\n",
       "      <td>0</td>\n",
       "      <td>1</td>\n",
       "    </tr>\n",
       "    <tr>\n",
       "      <th>9237-HQITU</th>\n",
       "      <td>Month-to-month</td>\n",
       "      <td>Yes</td>\n",
       "      <td>Electronic check</td>\n",
       "      <td>Fiber optic</td>\n",
       "      <td>No</td>\n",
       "      <td>No</td>\n",
       "      <td>No</td>\n",
       "      <td>No</td>\n",
       "      <td>No</td>\n",
       "      <td>No</td>\n",
       "      <td>Female</td>\n",
       "      <td>0</td>\n",
       "      <td>No</td>\n",
       "      <td>No</td>\n",
       "      <td>One</td>\n",
       "      <td>Internet and phone user</td>\n",
       "      <td>4</td>\n",
       "      <td>2</td>\n",
       "      <td>1</td>\n",
       "      <td>0</td>\n",
       "    </tr>\n",
       "  </tbody>\n",
       "</table>\n",
       "</div>"
      ],
      "text/plain": [
       "                      Type PaperlessBilling              PaymentMethod  \\\n",
       "customerID                                                               \n",
       "7590-VHVEG  Month-to-month              Yes           Electronic check   \n",
       "5575-GNVDE        One year               No               Mailed check   \n",
       "3668-QPYBK  Month-to-month              Yes               Mailed check   \n",
       "7795-CFOCW        One year               No  Bank transfer (automatic)   \n",
       "9237-HQITU  Month-to-month              Yes           Electronic check   \n",
       "\n",
       "           InternetService OnlineSecurity OnlineBackup DeviceProtection  \\\n",
       "customerID                                                                \n",
       "7590-VHVEG             DSL             No          Yes               No   \n",
       "5575-GNVDE             DSL            Yes           No              Yes   \n",
       "3668-QPYBK             DSL            Yes          Yes               No   \n",
       "7795-CFOCW             DSL            Yes           No              Yes   \n",
       "9237-HQITU     Fiber optic             No           No               No   \n",
       "\n",
       "           TechSupport StreamingTV StreamingMovies  gender  SeniorCitizen  \\\n",
       "customerID                                                                  \n",
       "7590-VHVEG          No          No              No  Female              0   \n",
       "5575-GNVDE          No          No              No    Male              0   \n",
       "3668-QPYBK          No          No              No    Male              0   \n",
       "7795-CFOCW         Yes          No              No    Male              0   \n",
       "9237-HQITU          No          No              No  Female              0   \n",
       "\n",
       "           Partner Dependents PhoneLines                 UserType  \\\n",
       "customerID                                                          \n",
       "7590-VHVEG     Yes         No       None       Internet only user   \n",
       "5575-GNVDE      No         No        One  Internet and phone user   \n",
       "3668-QPYBK      No         No        One  Internet and phone user   \n",
       "7795-CFOCW      No         No       None       Internet only user   \n",
       "9237-HQITU      No         No        One  Internet and phone user   \n",
       "\n",
       "            ChargesGroup  MonthsGroup  Below20Months  Below65MonthPayment  \n",
       "customerID                                                                 \n",
       "7590-VHVEG             2            1              1                    1  \n",
       "5575-GNVDE             3            5              0                    1  \n",
       "3668-QPYBK             3            2              1                    1  \n",
       "7795-CFOCW             3            6              0                    1  \n",
       "9237-HQITU             4            2              1                    0  "
      ]
     },
     "execution_count": 39,
     "metadata": {},
     "output_type": "execute_result"
    }
   ],
   "source": [
    "telecom_ord = telecom.copy()\n",
    "telecom_ord[categorical_columns].head()"
   ]
  },
  {
   "cell_type": "code",
   "execution_count": 40,
   "metadata": {},
   "outputs": [],
   "source": [
    "encoder = OrdinalEncoder()\n",
    "\n",
    "telecom_ord.loc[:, categorical_columns] = encoder.fit_transform(telecom_ord.loc[:, categorical_columns]).astype('int64')"
   ]
  },
  {
   "cell_type": "code",
   "execution_count": 41,
   "metadata": {},
   "outputs": [
    {
     "data": {
      "text/html": [
       "<div>\n",
       "<style scoped>\n",
       "    .dataframe tbody tr th:only-of-type {\n",
       "        vertical-align: middle;\n",
       "    }\n",
       "\n",
       "    .dataframe tbody tr th {\n",
       "        vertical-align: top;\n",
       "    }\n",
       "\n",
       "    .dataframe thead th {\n",
       "        text-align: right;\n",
       "    }\n",
       "</style>\n",
       "<table border=\"1\" class=\"dataframe\">\n",
       "  <thead>\n",
       "    <tr style=\"text-align: right;\">\n",
       "      <th></th>\n",
       "      <th>Type</th>\n",
       "      <th>PaperlessBilling</th>\n",
       "      <th>PaymentMethod</th>\n",
       "      <th>InternetService</th>\n",
       "      <th>OnlineSecurity</th>\n",
       "      <th>OnlineBackup</th>\n",
       "      <th>DeviceProtection</th>\n",
       "      <th>TechSupport</th>\n",
       "      <th>StreamingTV</th>\n",
       "      <th>StreamingMovies</th>\n",
       "      <th>gender</th>\n",
       "      <th>SeniorCitizen</th>\n",
       "      <th>Partner</th>\n",
       "      <th>Dependents</th>\n",
       "      <th>PhoneLines</th>\n",
       "      <th>UserType</th>\n",
       "      <th>ChargesGroup</th>\n",
       "      <th>MonthsGroup</th>\n",
       "      <th>Below20Months</th>\n",
       "      <th>Below65MonthPayment</th>\n",
       "    </tr>\n",
       "    <tr>\n",
       "      <th>customerID</th>\n",
       "      <th></th>\n",
       "      <th></th>\n",
       "      <th></th>\n",
       "      <th></th>\n",
       "      <th></th>\n",
       "      <th></th>\n",
       "      <th></th>\n",
       "      <th></th>\n",
       "      <th></th>\n",
       "      <th></th>\n",
       "      <th></th>\n",
       "      <th></th>\n",
       "      <th></th>\n",
       "      <th></th>\n",
       "      <th></th>\n",
       "      <th></th>\n",
       "      <th></th>\n",
       "      <th></th>\n",
       "      <th></th>\n",
       "      <th></th>\n",
       "    </tr>\n",
       "  </thead>\n",
       "  <tbody>\n",
       "    <tr>\n",
       "      <th>7590-VHVEG</th>\n",
       "      <td>0</td>\n",
       "      <td>1</td>\n",
       "      <td>2</td>\n",
       "      <td>0</td>\n",
       "      <td>0</td>\n",
       "      <td>1</td>\n",
       "      <td>0</td>\n",
       "      <td>0</td>\n",
       "      <td>0</td>\n",
       "      <td>0</td>\n",
       "      <td>0</td>\n",
       "      <td>0</td>\n",
       "      <td>1</td>\n",
       "      <td>0</td>\n",
       "      <td>1</td>\n",
       "      <td>1</td>\n",
       "      <td>1</td>\n",
       "      <td>0</td>\n",
       "      <td>1</td>\n",
       "      <td>1</td>\n",
       "    </tr>\n",
       "    <tr>\n",
       "      <th>5575-GNVDE</th>\n",
       "      <td>1</td>\n",
       "      <td>0</td>\n",
       "      <td>3</td>\n",
       "      <td>0</td>\n",
       "      <td>1</td>\n",
       "      <td>0</td>\n",
       "      <td>1</td>\n",
       "      <td>0</td>\n",
       "      <td>0</td>\n",
       "      <td>0</td>\n",
       "      <td>1</td>\n",
       "      <td>0</td>\n",
       "      <td>0</td>\n",
       "      <td>0</td>\n",
       "      <td>2</td>\n",
       "      <td>0</td>\n",
       "      <td>2</td>\n",
       "      <td>4</td>\n",
       "      <td>0</td>\n",
       "      <td>1</td>\n",
       "    </tr>\n",
       "    <tr>\n",
       "      <th>3668-QPYBK</th>\n",
       "      <td>0</td>\n",
       "      <td>1</td>\n",
       "      <td>3</td>\n",
       "      <td>0</td>\n",
       "      <td>1</td>\n",
       "      <td>1</td>\n",
       "      <td>0</td>\n",
       "      <td>0</td>\n",
       "      <td>0</td>\n",
       "      <td>0</td>\n",
       "      <td>1</td>\n",
       "      <td>0</td>\n",
       "      <td>0</td>\n",
       "      <td>0</td>\n",
       "      <td>2</td>\n",
       "      <td>0</td>\n",
       "      <td>2</td>\n",
       "      <td>1</td>\n",
       "      <td>1</td>\n",
       "      <td>1</td>\n",
       "    </tr>\n",
       "    <tr>\n",
       "      <th>7795-CFOCW</th>\n",
       "      <td>1</td>\n",
       "      <td>0</td>\n",
       "      <td>0</td>\n",
       "      <td>0</td>\n",
       "      <td>1</td>\n",
       "      <td>0</td>\n",
       "      <td>1</td>\n",
       "      <td>1</td>\n",
       "      <td>0</td>\n",
       "      <td>0</td>\n",
       "      <td>1</td>\n",
       "      <td>0</td>\n",
       "      <td>0</td>\n",
       "      <td>0</td>\n",
       "      <td>1</td>\n",
       "      <td>1</td>\n",
       "      <td>2</td>\n",
       "      <td>5</td>\n",
       "      <td>0</td>\n",
       "      <td>1</td>\n",
       "    </tr>\n",
       "    <tr>\n",
       "      <th>9237-HQITU</th>\n",
       "      <td>0</td>\n",
       "      <td>1</td>\n",
       "      <td>2</td>\n",
       "      <td>1</td>\n",
       "      <td>0</td>\n",
       "      <td>0</td>\n",
       "      <td>0</td>\n",
       "      <td>0</td>\n",
       "      <td>0</td>\n",
       "      <td>0</td>\n",
       "      <td>0</td>\n",
       "      <td>0</td>\n",
       "      <td>0</td>\n",
       "      <td>0</td>\n",
       "      <td>2</td>\n",
       "      <td>0</td>\n",
       "      <td>3</td>\n",
       "      <td>1</td>\n",
       "      <td>1</td>\n",
       "      <td>0</td>\n",
       "    </tr>\n",
       "  </tbody>\n",
       "</table>\n",
       "</div>"
      ],
      "text/plain": [
       "            Type  PaperlessBilling  PaymentMethod  InternetService  \\\n",
       "customerID                                                           \n",
       "7590-VHVEG     0                 1              2                0   \n",
       "5575-GNVDE     1                 0              3                0   \n",
       "3668-QPYBK     0                 1              3                0   \n",
       "7795-CFOCW     1                 0              0                0   \n",
       "9237-HQITU     0                 1              2                1   \n",
       "\n",
       "            OnlineSecurity  OnlineBackup  DeviceProtection  TechSupport  \\\n",
       "customerID                                                                \n",
       "7590-VHVEG               0             1                 0            0   \n",
       "5575-GNVDE               1             0                 1            0   \n",
       "3668-QPYBK               1             1                 0            0   \n",
       "7795-CFOCW               1             0                 1            1   \n",
       "9237-HQITU               0             0                 0            0   \n",
       "\n",
       "            StreamingTV  StreamingMovies  gender  SeniorCitizen  Partner  \\\n",
       "customerID                                                                 \n",
       "7590-VHVEG            0                0       0              0        1   \n",
       "5575-GNVDE            0                0       1              0        0   \n",
       "3668-QPYBK            0                0       1              0        0   \n",
       "7795-CFOCW            0                0       1              0        0   \n",
       "9237-HQITU            0                0       0              0        0   \n",
       "\n",
       "            Dependents  PhoneLines  UserType  ChargesGroup  MonthsGroup  \\\n",
       "customerID                                                                \n",
       "7590-VHVEG           0           1         1             1            0   \n",
       "5575-GNVDE           0           2         0             2            4   \n",
       "3668-QPYBK           0           2         0             2            1   \n",
       "7795-CFOCW           0           1         1             2            5   \n",
       "9237-HQITU           0           2         0             3            1   \n",
       "\n",
       "            Below20Months  Below65MonthPayment  \n",
       "customerID                                      \n",
       "7590-VHVEG              1                    1  \n",
       "5575-GNVDE              0                    1  \n",
       "3668-QPYBK              1                    1  \n",
       "7795-CFOCW              0                    1  \n",
       "9237-HQITU              1                    0  "
      ]
     },
     "execution_count": 41,
     "metadata": {},
     "output_type": "execute_result"
    }
   ],
   "source": [
    "telecom_ord[categorical_columns].head()"
   ]
  },
  {
   "cell_type": "markdown",
   "metadata": {},
   "source": [
    "Делаю OHE кодирование:"
   ]
  },
  {
   "cell_type": "code",
   "execution_count": 42,
   "metadata": {},
   "outputs": [
    {
     "data": {
      "text/html": [
       "<div>\n",
       "<style scoped>\n",
       "    .dataframe tbody tr th:only-of-type {\n",
       "        vertical-align: middle;\n",
       "    }\n",
       "\n",
       "    .dataframe tbody tr th {\n",
       "        vertical-align: top;\n",
       "    }\n",
       "\n",
       "    .dataframe thead th {\n",
       "        text-align: right;\n",
       "    }\n",
       "</style>\n",
       "<table border=\"1\" class=\"dataframe\">\n",
       "  <thead>\n",
       "    <tr style=\"text-align: right;\">\n",
       "      <th></th>\n",
       "      <th>Type</th>\n",
       "      <th>PaperlessBilling</th>\n",
       "      <th>PaymentMethod</th>\n",
       "      <th>InternetService</th>\n",
       "      <th>OnlineSecurity</th>\n",
       "      <th>OnlineBackup</th>\n",
       "      <th>DeviceProtection</th>\n",
       "      <th>TechSupport</th>\n",
       "      <th>StreamingTV</th>\n",
       "      <th>StreamingMovies</th>\n",
       "      <th>gender</th>\n",
       "      <th>SeniorCitizen</th>\n",
       "      <th>Partner</th>\n",
       "      <th>Dependents</th>\n",
       "      <th>PhoneLines</th>\n",
       "      <th>UserType</th>\n",
       "      <th>ChargesGroup</th>\n",
       "      <th>MonthsGroup</th>\n",
       "      <th>Below20Months</th>\n",
       "      <th>Below65MonthPayment</th>\n",
       "    </tr>\n",
       "    <tr>\n",
       "      <th>customerID</th>\n",
       "      <th></th>\n",
       "      <th></th>\n",
       "      <th></th>\n",
       "      <th></th>\n",
       "      <th></th>\n",
       "      <th></th>\n",
       "      <th></th>\n",
       "      <th></th>\n",
       "      <th></th>\n",
       "      <th></th>\n",
       "      <th></th>\n",
       "      <th></th>\n",
       "      <th></th>\n",
       "      <th></th>\n",
       "      <th></th>\n",
       "      <th></th>\n",
       "      <th></th>\n",
       "      <th></th>\n",
       "      <th></th>\n",
       "      <th></th>\n",
       "    </tr>\n",
       "  </thead>\n",
       "  <tbody>\n",
       "    <tr>\n",
       "      <th>7590-VHVEG</th>\n",
       "      <td>Month-to-month</td>\n",
       "      <td>Yes</td>\n",
       "      <td>Electronic check</td>\n",
       "      <td>DSL</td>\n",
       "      <td>No</td>\n",
       "      <td>Yes</td>\n",
       "      <td>No</td>\n",
       "      <td>No</td>\n",
       "      <td>No</td>\n",
       "      <td>No</td>\n",
       "      <td>Female</td>\n",
       "      <td>0</td>\n",
       "      <td>Yes</td>\n",
       "      <td>No</td>\n",
       "      <td>None</td>\n",
       "      <td>Internet only user</td>\n",
       "      <td>2</td>\n",
       "      <td>1</td>\n",
       "      <td>1</td>\n",
       "      <td>1</td>\n",
       "    </tr>\n",
       "    <tr>\n",
       "      <th>5575-GNVDE</th>\n",
       "      <td>One year</td>\n",
       "      <td>No</td>\n",
       "      <td>Mailed check</td>\n",
       "      <td>DSL</td>\n",
       "      <td>Yes</td>\n",
       "      <td>No</td>\n",
       "      <td>Yes</td>\n",
       "      <td>No</td>\n",
       "      <td>No</td>\n",
       "      <td>No</td>\n",
       "      <td>Male</td>\n",
       "      <td>0</td>\n",
       "      <td>No</td>\n",
       "      <td>No</td>\n",
       "      <td>One</td>\n",
       "      <td>Internet and phone user</td>\n",
       "      <td>3</td>\n",
       "      <td>5</td>\n",
       "      <td>0</td>\n",
       "      <td>1</td>\n",
       "    </tr>\n",
       "    <tr>\n",
       "      <th>3668-QPYBK</th>\n",
       "      <td>Month-to-month</td>\n",
       "      <td>Yes</td>\n",
       "      <td>Mailed check</td>\n",
       "      <td>DSL</td>\n",
       "      <td>Yes</td>\n",
       "      <td>Yes</td>\n",
       "      <td>No</td>\n",
       "      <td>No</td>\n",
       "      <td>No</td>\n",
       "      <td>No</td>\n",
       "      <td>Male</td>\n",
       "      <td>0</td>\n",
       "      <td>No</td>\n",
       "      <td>No</td>\n",
       "      <td>One</td>\n",
       "      <td>Internet and phone user</td>\n",
       "      <td>3</td>\n",
       "      <td>2</td>\n",
       "      <td>1</td>\n",
       "      <td>1</td>\n",
       "    </tr>\n",
       "    <tr>\n",
       "      <th>7795-CFOCW</th>\n",
       "      <td>One year</td>\n",
       "      <td>No</td>\n",
       "      <td>Bank transfer (automatic)</td>\n",
       "      <td>DSL</td>\n",
       "      <td>Yes</td>\n",
       "      <td>No</td>\n",
       "      <td>Yes</td>\n",
       "      <td>Yes</td>\n",
       "      <td>No</td>\n",
       "      <td>No</td>\n",
       "      <td>Male</td>\n",
       "      <td>0</td>\n",
       "      <td>No</td>\n",
       "      <td>No</td>\n",
       "      <td>None</td>\n",
       "      <td>Internet only user</td>\n",
       "      <td>3</td>\n",
       "      <td>6</td>\n",
       "      <td>0</td>\n",
       "      <td>1</td>\n",
       "    </tr>\n",
       "    <tr>\n",
       "      <th>9237-HQITU</th>\n",
       "      <td>Month-to-month</td>\n",
       "      <td>Yes</td>\n",
       "      <td>Electronic check</td>\n",
       "      <td>Fiber optic</td>\n",
       "      <td>No</td>\n",
       "      <td>No</td>\n",
       "      <td>No</td>\n",
       "      <td>No</td>\n",
       "      <td>No</td>\n",
       "      <td>No</td>\n",
       "      <td>Female</td>\n",
       "      <td>0</td>\n",
       "      <td>No</td>\n",
       "      <td>No</td>\n",
       "      <td>One</td>\n",
       "      <td>Internet and phone user</td>\n",
       "      <td>4</td>\n",
       "      <td>2</td>\n",
       "      <td>1</td>\n",
       "      <td>0</td>\n",
       "    </tr>\n",
       "  </tbody>\n",
       "</table>\n",
       "</div>"
      ],
      "text/plain": [
       "                      Type PaperlessBilling              PaymentMethod  \\\n",
       "customerID                                                               \n",
       "7590-VHVEG  Month-to-month              Yes           Electronic check   \n",
       "5575-GNVDE        One year               No               Mailed check   \n",
       "3668-QPYBK  Month-to-month              Yes               Mailed check   \n",
       "7795-CFOCW        One year               No  Bank transfer (automatic)   \n",
       "9237-HQITU  Month-to-month              Yes           Electronic check   \n",
       "\n",
       "           InternetService OnlineSecurity OnlineBackup DeviceProtection  \\\n",
       "customerID                                                                \n",
       "7590-VHVEG             DSL             No          Yes               No   \n",
       "5575-GNVDE             DSL            Yes           No              Yes   \n",
       "3668-QPYBK             DSL            Yes          Yes               No   \n",
       "7795-CFOCW             DSL            Yes           No              Yes   \n",
       "9237-HQITU     Fiber optic             No           No               No   \n",
       "\n",
       "           TechSupport StreamingTV StreamingMovies  gender  SeniorCitizen  \\\n",
       "customerID                                                                  \n",
       "7590-VHVEG          No          No              No  Female              0   \n",
       "5575-GNVDE          No          No              No    Male              0   \n",
       "3668-QPYBK          No          No              No    Male              0   \n",
       "7795-CFOCW         Yes          No              No    Male              0   \n",
       "9237-HQITU          No          No              No  Female              0   \n",
       "\n",
       "           Partner Dependents PhoneLines                 UserType  \\\n",
       "customerID                                                          \n",
       "7590-VHVEG     Yes         No       None       Internet only user   \n",
       "5575-GNVDE      No         No        One  Internet and phone user   \n",
       "3668-QPYBK      No         No        One  Internet and phone user   \n",
       "7795-CFOCW      No         No       None       Internet only user   \n",
       "9237-HQITU      No         No        One  Internet and phone user   \n",
       "\n",
       "            ChargesGroup  MonthsGroup  Below20Months  Below65MonthPayment  \n",
       "customerID                                                                 \n",
       "7590-VHVEG             2            1              1                    1  \n",
       "5575-GNVDE             3            5              0                    1  \n",
       "3668-QPYBK             3            2              1                    1  \n",
       "7795-CFOCW             3            6              0                    1  \n",
       "9237-HQITU             4            2              1                    0  "
      ]
     },
     "execution_count": 42,
     "metadata": {},
     "output_type": "execute_result"
    }
   ],
   "source": [
    "telecom_ohe = telecom.copy()\n",
    "telecom_ohe[categorical_columns].head()"
   ]
  },
  {
   "cell_type": "code",
   "execution_count": 43,
   "metadata": {},
   "outputs": [
    {
     "data": {
      "text/plain": [
       "(7043, 24)"
      ]
     },
     "execution_count": 43,
     "metadata": {},
     "output_type": "execute_result"
    }
   ],
   "source": [
    "telecom_ohe.shape"
   ]
  },
  {
   "cell_type": "code",
   "execution_count": 44,
   "metadata": {},
   "outputs": [],
   "source": [
    "telecom_ohe = pd.get_dummies(telecom_ohe, columns=categorical_columns, drop_first=True)"
   ]
  },
  {
   "cell_type": "code",
   "execution_count": 45,
   "metadata": {},
   "outputs": [
    {
     "data": {
      "text/html": [
       "<div>\n",
       "<style scoped>\n",
       "    .dataframe tbody tr th:only-of-type {\n",
       "        vertical-align: middle;\n",
       "    }\n",
       "\n",
       "    .dataframe tbody tr th {\n",
       "        vertical-align: top;\n",
       "    }\n",
       "\n",
       "    .dataframe thead th {\n",
       "        text-align: right;\n",
       "    }\n",
       "</style>\n",
       "<table border=\"1\" class=\"dataframe\">\n",
       "  <thead>\n",
       "    <tr style=\"text-align: right;\">\n",
       "      <th></th>\n",
       "      <th>Churn</th>\n",
       "      <th>Type_One year</th>\n",
       "      <th>Type_Two year</th>\n",
       "      <th>PaperlessBilling_Yes</th>\n",
       "      <th>PaymentMethod_Credit card (automatic)</th>\n",
       "      <th>PaymentMethod_Electronic check</th>\n",
       "      <th>PaymentMethod_Mailed check</th>\n",
       "      <th>InternetService_Fiber optic</th>\n",
       "      <th>InternetService_No</th>\n",
       "      <th>OnlineSecurity_Yes</th>\n",
       "      <th>...</th>\n",
       "      <th>ChargesGroup_5</th>\n",
       "      <th>ChargesGroup_6</th>\n",
       "      <th>MonthsGroup_2</th>\n",
       "      <th>MonthsGroup_3</th>\n",
       "      <th>MonthsGroup_4</th>\n",
       "      <th>MonthsGroup_5</th>\n",
       "      <th>MonthsGroup_6</th>\n",
       "      <th>MonthsGroup_7</th>\n",
       "      <th>Below20Months_1</th>\n",
       "      <th>Below65MonthPayment_1</th>\n",
       "    </tr>\n",
       "    <tr>\n",
       "      <th>customerID</th>\n",
       "      <th></th>\n",
       "      <th></th>\n",
       "      <th></th>\n",
       "      <th></th>\n",
       "      <th></th>\n",
       "      <th></th>\n",
       "      <th></th>\n",
       "      <th></th>\n",
       "      <th></th>\n",
       "      <th></th>\n",
       "      <th></th>\n",
       "      <th></th>\n",
       "      <th></th>\n",
       "      <th></th>\n",
       "      <th></th>\n",
       "      <th></th>\n",
       "      <th></th>\n",
       "      <th></th>\n",
       "      <th></th>\n",
       "      <th></th>\n",
       "      <th></th>\n",
       "    </tr>\n",
       "  </thead>\n",
       "  <tbody>\n",
       "    <tr>\n",
       "      <th>7590-VHVEG</th>\n",
       "      <td>0</td>\n",
       "      <td>0</td>\n",
       "      <td>0</td>\n",
       "      <td>1</td>\n",
       "      <td>0</td>\n",
       "      <td>1</td>\n",
       "      <td>0</td>\n",
       "      <td>0</td>\n",
       "      <td>0</td>\n",
       "      <td>0</td>\n",
       "      <td>...</td>\n",
       "      <td>0</td>\n",
       "      <td>0</td>\n",
       "      <td>0</td>\n",
       "      <td>0</td>\n",
       "      <td>0</td>\n",
       "      <td>0</td>\n",
       "      <td>0</td>\n",
       "      <td>0</td>\n",
       "      <td>1</td>\n",
       "      <td>1</td>\n",
       "    </tr>\n",
       "    <tr>\n",
       "      <th>5575-GNVDE</th>\n",
       "      <td>0</td>\n",
       "      <td>1</td>\n",
       "      <td>0</td>\n",
       "      <td>0</td>\n",
       "      <td>0</td>\n",
       "      <td>0</td>\n",
       "      <td>1</td>\n",
       "      <td>0</td>\n",
       "      <td>0</td>\n",
       "      <td>1</td>\n",
       "      <td>...</td>\n",
       "      <td>0</td>\n",
       "      <td>0</td>\n",
       "      <td>0</td>\n",
       "      <td>0</td>\n",
       "      <td>0</td>\n",
       "      <td>1</td>\n",
       "      <td>0</td>\n",
       "      <td>0</td>\n",
       "      <td>0</td>\n",
       "      <td>1</td>\n",
       "    </tr>\n",
       "    <tr>\n",
       "      <th>3668-QPYBK</th>\n",
       "      <td>1</td>\n",
       "      <td>0</td>\n",
       "      <td>0</td>\n",
       "      <td>1</td>\n",
       "      <td>0</td>\n",
       "      <td>0</td>\n",
       "      <td>1</td>\n",
       "      <td>0</td>\n",
       "      <td>0</td>\n",
       "      <td>1</td>\n",
       "      <td>...</td>\n",
       "      <td>0</td>\n",
       "      <td>0</td>\n",
       "      <td>1</td>\n",
       "      <td>0</td>\n",
       "      <td>0</td>\n",
       "      <td>0</td>\n",
       "      <td>0</td>\n",
       "      <td>0</td>\n",
       "      <td>1</td>\n",
       "      <td>1</td>\n",
       "    </tr>\n",
       "    <tr>\n",
       "      <th>7795-CFOCW</th>\n",
       "      <td>0</td>\n",
       "      <td>1</td>\n",
       "      <td>0</td>\n",
       "      <td>0</td>\n",
       "      <td>0</td>\n",
       "      <td>0</td>\n",
       "      <td>0</td>\n",
       "      <td>0</td>\n",
       "      <td>0</td>\n",
       "      <td>1</td>\n",
       "      <td>...</td>\n",
       "      <td>0</td>\n",
       "      <td>0</td>\n",
       "      <td>0</td>\n",
       "      <td>0</td>\n",
       "      <td>0</td>\n",
       "      <td>0</td>\n",
       "      <td>1</td>\n",
       "      <td>0</td>\n",
       "      <td>0</td>\n",
       "      <td>1</td>\n",
       "    </tr>\n",
       "    <tr>\n",
       "      <th>9237-HQITU</th>\n",
       "      <td>1</td>\n",
       "      <td>0</td>\n",
       "      <td>0</td>\n",
       "      <td>1</td>\n",
       "      <td>0</td>\n",
       "      <td>1</td>\n",
       "      <td>0</td>\n",
       "      <td>1</td>\n",
       "      <td>0</td>\n",
       "      <td>0</td>\n",
       "      <td>...</td>\n",
       "      <td>0</td>\n",
       "      <td>0</td>\n",
       "      <td>1</td>\n",
       "      <td>0</td>\n",
       "      <td>0</td>\n",
       "      <td>0</td>\n",
       "      <td>0</td>\n",
       "      <td>0</td>\n",
       "      <td>1</td>\n",
       "      <td>0</td>\n",
       "    </tr>\n",
       "  </tbody>\n",
       "</table>\n",
       "<p>5 rows × 36 columns</p>\n",
       "</div>"
      ],
      "text/plain": [
       "            Churn  Type_One year  Type_Two year  PaperlessBilling_Yes  \\\n",
       "customerID                                                              \n",
       "7590-VHVEG      0              0              0                     1   \n",
       "5575-GNVDE      0              1              0                     0   \n",
       "3668-QPYBK      1              0              0                     1   \n",
       "7795-CFOCW      0              1              0                     0   \n",
       "9237-HQITU      1              0              0                     1   \n",
       "\n",
       "            PaymentMethod_Credit card (automatic)  \\\n",
       "customerID                                          \n",
       "7590-VHVEG                                      0   \n",
       "5575-GNVDE                                      0   \n",
       "3668-QPYBK                                      0   \n",
       "7795-CFOCW                                      0   \n",
       "9237-HQITU                                      0   \n",
       "\n",
       "            PaymentMethod_Electronic check  PaymentMethod_Mailed check  \\\n",
       "customerID                                                               \n",
       "7590-VHVEG                               1                           0   \n",
       "5575-GNVDE                               0                           1   \n",
       "3668-QPYBK                               0                           1   \n",
       "7795-CFOCW                               0                           0   \n",
       "9237-HQITU                               1                           0   \n",
       "\n",
       "            InternetService_Fiber optic  InternetService_No  \\\n",
       "customerID                                                    \n",
       "7590-VHVEG                            0                   0   \n",
       "5575-GNVDE                            0                   0   \n",
       "3668-QPYBK                            0                   0   \n",
       "7795-CFOCW                            0                   0   \n",
       "9237-HQITU                            1                   0   \n",
       "\n",
       "            OnlineSecurity_Yes  ...  ChargesGroup_5  ChargesGroup_6  \\\n",
       "customerID                      ...                                   \n",
       "7590-VHVEG                   0  ...               0               0   \n",
       "5575-GNVDE                   1  ...               0               0   \n",
       "3668-QPYBK                   1  ...               0               0   \n",
       "7795-CFOCW                   1  ...               0               0   \n",
       "9237-HQITU                   0  ...               0               0   \n",
       "\n",
       "            MonthsGroup_2  MonthsGroup_3  MonthsGroup_4  MonthsGroup_5  \\\n",
       "customerID                                                               \n",
       "7590-VHVEG              0              0              0              0   \n",
       "5575-GNVDE              0              0              0              1   \n",
       "3668-QPYBK              1              0              0              0   \n",
       "7795-CFOCW              0              0              0              0   \n",
       "9237-HQITU              1              0              0              0   \n",
       "\n",
       "            MonthsGroup_6  MonthsGroup_7  Below20Months_1  \\\n",
       "customerID                                                  \n",
       "7590-VHVEG              0              0                1   \n",
       "5575-GNVDE              0              0                0   \n",
       "3668-QPYBK              0              0                1   \n",
       "7795-CFOCW              1              0                0   \n",
       "9237-HQITU              0              0                1   \n",
       "\n",
       "            Below65MonthPayment_1  \n",
       "customerID                         \n",
       "7590-VHVEG                      1  \n",
       "5575-GNVDE                      1  \n",
       "3668-QPYBK                      1  \n",
       "7795-CFOCW                      1  \n",
       "9237-HQITU                      0  \n",
       "\n",
       "[5 rows x 36 columns]"
      ]
     },
     "execution_count": 45,
     "metadata": {},
     "output_type": "execute_result"
    }
   ],
   "source": [
    "telecom_ohe.drop(quantitive_columns, axis=1).head()"
   ]
  },
  {
   "cell_type": "code",
   "execution_count": 46,
   "metadata": {},
   "outputs": [
    {
     "data": {
      "text/plain": [
       "(7043, 39)"
      ]
     },
     "execution_count": 46,
     "metadata": {},
     "output_type": "execute_result"
    }
   ],
   "source": [
    "telecom_ohe.shape"
   ]
  },
  {
   "cell_type": "markdown",
   "metadata": {},
   "source": [
    "<a id='Traintestsplit'></a>\n",
    "### Подготовка обучающей и тестовой выборок"
   ]
  },
  {
   "cell_type": "code",
   "execution_count": 47,
   "metadata": {},
   "outputs": [],
   "source": [
    "x_telecom_ord = telecom_ord.drop('Churn', axis=1)\n",
    "y_telecom_ord = telecom_ord['Churn']\n",
    "x_telecom_ohe = telecom_ohe.drop('Churn', axis=1)\n",
    "y_telecom_ohe = telecom_ohe['Churn']"
   ]
  },
  {
   "cell_type": "code",
   "execution_count": 48,
   "metadata": {},
   "outputs": [
    {
     "name": "stdout",
     "output_type": "stream",
     "text": [
      "Распределение классов в датасете:\n"
     ]
    },
    {
     "data": {
      "text/plain": [
       "0    0.73463\n",
       "1    0.26537\n",
       "Name: Churn, dtype: float64"
      ]
     },
     "metadata": {},
     "output_type": "display_data"
    }
   ],
   "source": [
    "print('Распределение классов в датасете:')\n",
    "display(telecom_ord['Churn'].value_counts(normalize=True))"
   ]
  },
  {
   "cell_type": "code",
   "execution_count": 49,
   "metadata": {},
   "outputs": [
    {
     "name": "stdout",
     "output_type": "stream",
     "text": [
      "(5282, 23) (1761, 23) (5282,) (1761,)\n",
      "(5282, 38) (1761, 38) (5282,) (1761,)\n"
     ]
    }
   ],
   "source": [
    "x_train_telecom_ord, x_test_telecom_ord, y_train_telecom_ord, y_test_telecom_ord = train_test_split(\n",
    "    x_telecom_ord, y_telecom_ord, random_state=0, stratify=y_telecom_ord)\n",
    "\n",
    "print(x_train_telecom_ord.shape, x_test_telecom_ord.shape, y_train_telecom_ord.shape, y_test_telecom_ord.shape)\n",
    "\n",
    "x_train_telecom_ohe, x_test_telecom_ohe, y_train_telecom_ohe, y_test_telecom_ohe = train_test_split(\n",
    "    x_telecom_ohe, y_telecom_ohe, random_state=0, stratify=y_telecom_ohe)\n",
    "\n",
    "print(x_train_telecom_ohe.shape, x_test_telecom_ohe.shape, y_train_telecom_ohe.shape, y_test_telecom_ohe.shape)"
   ]
  },
  {
   "cell_type": "code",
   "execution_count": 50,
   "metadata": {},
   "outputs": [
    {
     "name": "stdout",
     "output_type": "stream",
     "text": [
      "Распределение классов в тренировочной выборке:\n"
     ]
    },
    {
     "data": {
      "text/plain": [
       "0    0.73457\n",
       "1    0.26543\n",
       "Name: Churn, dtype: float64"
      ]
     },
     "metadata": {},
     "output_type": "display_data"
    },
    {
     "name": "stdout",
     "output_type": "stream",
     "text": [
      "Распределение классов в тестовой выборке:\n"
     ]
    },
    {
     "data": {
      "text/plain": [
       "0    0.73481\n",
       "1    0.26519\n",
       "Name: Churn, dtype: float64"
      ]
     },
     "metadata": {},
     "output_type": "display_data"
    }
   ],
   "source": [
    "print('Распределение классов в тренировочной выборке:')\n",
    "display(y_train_telecom_ord.value_counts(normalize=True))\n",
    "print('Распределение классов в тестовой выборке:')\n",
    "display(y_test_telecom_ord.value_counts(normalize=True))"
   ]
  },
  {
   "cell_type": "markdown",
   "metadata": {},
   "source": [
    "<a id='Scaling'></a>\n",
    "### Масштабирование"
   ]
  },
  {
   "cell_type": "code",
   "execution_count": 51,
   "metadata": {},
   "outputs": [
    {
     "data": {
      "text/html": [
       "<div>\n",
       "<style scoped>\n",
       "    .dataframe tbody tr th:only-of-type {\n",
       "        vertical-align: middle;\n",
       "    }\n",
       "\n",
       "    .dataframe tbody tr th {\n",
       "        vertical-align: top;\n",
       "    }\n",
       "\n",
       "    .dataframe thead th {\n",
       "        text-align: right;\n",
       "    }\n",
       "</style>\n",
       "<table border=\"1\" class=\"dataframe\">\n",
       "  <thead>\n",
       "    <tr style=\"text-align: right;\">\n",
       "      <th></th>\n",
       "      <th>MonthlyCharges</th>\n",
       "      <th>MonthsWithUs</th>\n",
       "      <th>ServicesCount</th>\n",
       "    </tr>\n",
       "    <tr>\n",
       "      <th>customerID</th>\n",
       "      <th></th>\n",
       "      <th></th>\n",
       "      <th></th>\n",
       "    </tr>\n",
       "  </thead>\n",
       "  <tbody>\n",
       "    <tr>\n",
       "      <th>6885-PKOAM</th>\n",
       "      <td>85.75</td>\n",
       "      <td>71.0</td>\n",
       "      <td>9.0</td>\n",
       "    </tr>\n",
       "    <tr>\n",
       "      <th>1064-FBXNK</th>\n",
       "      <td>19.85</td>\n",
       "      <td>1.0</td>\n",
       "      <td>1.0</td>\n",
       "    </tr>\n",
       "  </tbody>\n",
       "</table>\n",
       "</div>"
      ],
      "text/plain": [
       "            MonthlyCharges  MonthsWithUs  ServicesCount\n",
       "customerID                                             \n",
       "6885-PKOAM           85.75          71.0            9.0\n",
       "1064-FBXNK           19.85           1.0            1.0"
      ]
     },
     "metadata": {},
     "output_type": "display_data"
    },
    {
     "data": {
      "text/html": [
       "<div>\n",
       "<style scoped>\n",
       "    .dataframe tbody tr th:only-of-type {\n",
       "        vertical-align: middle;\n",
       "    }\n",
       "\n",
       "    .dataframe tbody tr th {\n",
       "        vertical-align: top;\n",
       "    }\n",
       "\n",
       "    .dataframe thead th {\n",
       "        text-align: right;\n",
       "    }\n",
       "</style>\n",
       "<table border=\"1\" class=\"dataframe\">\n",
       "  <thead>\n",
       "    <tr style=\"text-align: right;\">\n",
       "      <th></th>\n",
       "      <th>MonthlyCharges</th>\n",
       "      <th>MonthsWithUs</th>\n",
       "      <th>ServicesCount</th>\n",
       "    </tr>\n",
       "    <tr>\n",
       "      <th>customerID</th>\n",
       "      <th></th>\n",
       "      <th></th>\n",
       "      <th></th>\n",
       "    </tr>\n",
       "  </thead>\n",
       "  <tbody>\n",
       "    <tr>\n",
       "      <th>6885-PKOAM</th>\n",
       "      <td>85.75</td>\n",
       "      <td>71.0</td>\n",
       "      <td>9.0</td>\n",
       "    </tr>\n",
       "    <tr>\n",
       "      <th>1064-FBXNK</th>\n",
       "      <td>19.85</td>\n",
       "      <td>1.0</td>\n",
       "      <td>1.0</td>\n",
       "    </tr>\n",
       "  </tbody>\n",
       "</table>\n",
       "</div>"
      ],
      "text/plain": [
       "            MonthlyCharges  MonthsWithUs  ServicesCount\n",
       "customerID                                             \n",
       "6885-PKOAM           85.75          71.0            9.0\n",
       "1064-FBXNK           19.85           1.0            1.0"
      ]
     },
     "metadata": {},
     "output_type": "display_data"
    },
    {
     "data": {
      "text/html": [
       "<div>\n",
       "<style scoped>\n",
       "    .dataframe tbody tr th:only-of-type {\n",
       "        vertical-align: middle;\n",
       "    }\n",
       "\n",
       "    .dataframe tbody tr th {\n",
       "        vertical-align: top;\n",
       "    }\n",
       "\n",
       "    .dataframe thead th {\n",
       "        text-align: right;\n",
       "    }\n",
       "</style>\n",
       "<table border=\"1\" class=\"dataframe\">\n",
       "  <thead>\n",
       "    <tr style=\"text-align: right;\">\n",
       "      <th></th>\n",
       "      <th>MonthlyCharges</th>\n",
       "      <th>MonthsWithUs</th>\n",
       "      <th>ServicesCount</th>\n",
       "    </tr>\n",
       "    <tr>\n",
       "      <th>customerID</th>\n",
       "      <th></th>\n",
       "      <th></th>\n",
       "      <th></th>\n",
       "    </tr>\n",
       "  </thead>\n",
       "  <tbody>\n",
       "    <tr>\n",
       "      <th>2782-LFZVW</th>\n",
       "      <td>58.95</td>\n",
       "      <td>11.0</td>\n",
       "      <td>4.0</td>\n",
       "    </tr>\n",
       "    <tr>\n",
       "      <th>0098-BOWSO</th>\n",
       "      <td>19.40</td>\n",
       "      <td>27.0</td>\n",
       "      <td>1.0</td>\n",
       "    </tr>\n",
       "  </tbody>\n",
       "</table>\n",
       "</div>"
      ],
      "text/plain": [
       "            MonthlyCharges  MonthsWithUs  ServicesCount\n",
       "customerID                                             \n",
       "2782-LFZVW           58.95          11.0            4.0\n",
       "0098-BOWSO           19.40          27.0            1.0"
      ]
     },
     "metadata": {},
     "output_type": "display_data"
    },
    {
     "data": {
      "text/html": [
       "<div>\n",
       "<style scoped>\n",
       "    .dataframe tbody tr th:only-of-type {\n",
       "        vertical-align: middle;\n",
       "    }\n",
       "\n",
       "    .dataframe tbody tr th {\n",
       "        vertical-align: top;\n",
       "    }\n",
       "\n",
       "    .dataframe thead th {\n",
       "        text-align: right;\n",
       "    }\n",
       "</style>\n",
       "<table border=\"1\" class=\"dataframe\">\n",
       "  <thead>\n",
       "    <tr style=\"text-align: right;\">\n",
       "      <th></th>\n",
       "      <th>MonthlyCharges</th>\n",
       "      <th>MonthsWithUs</th>\n",
       "      <th>ServicesCount</th>\n",
       "    </tr>\n",
       "    <tr>\n",
       "      <th>customerID</th>\n",
       "      <th></th>\n",
       "      <th></th>\n",
       "      <th></th>\n",
       "    </tr>\n",
       "  </thead>\n",
       "  <tbody>\n",
       "    <tr>\n",
       "      <th>2782-LFZVW</th>\n",
       "      <td>58.95</td>\n",
       "      <td>11.0</td>\n",
       "      <td>4.0</td>\n",
       "    </tr>\n",
       "    <tr>\n",
       "      <th>0098-BOWSO</th>\n",
       "      <td>19.40</td>\n",
       "      <td>27.0</td>\n",
       "      <td>1.0</td>\n",
       "    </tr>\n",
       "  </tbody>\n",
       "</table>\n",
       "</div>"
      ],
      "text/plain": [
       "            MonthlyCharges  MonthsWithUs  ServicesCount\n",
       "customerID                                             \n",
       "2782-LFZVW           58.95          11.0            4.0\n",
       "0098-BOWSO           19.40          27.0            1.0"
      ]
     },
     "metadata": {},
     "output_type": "display_data"
    }
   ],
   "source": [
    "display(x_train_telecom_ord[quantitive_columns].head(2))\n",
    "display(x_train_telecom_ohe[quantitive_columns].head(2))\n",
    "display(x_test_telecom_ord[quantitive_columns].head(2))\n",
    "display(x_test_telecom_ohe[quantitive_columns].head(2))"
   ]
  },
  {
   "cell_type": "code",
   "execution_count": 52,
   "metadata": {},
   "outputs": [],
   "source": [
    "scaler = StandardScaler()\n",
    "\n",
    "warnings.filterwarnings('ignore')\n",
    "x_train_telecom_ord.loc[:, quantitive_columns] = scaler.fit_transform(x_train_telecom_ord.loc[:, quantitive_columns])\n",
    "x_train_telecom_ohe.loc[:, quantitive_columns] = scaler.transform(x_train_telecom_ohe.loc[:, quantitive_columns])\n",
    "x_test_telecom_ord.loc[:, quantitive_columns] = scaler.transform(x_test_telecom_ord.loc[:, quantitive_columns])\n",
    "x_test_telecom_ohe.loc[:, quantitive_columns] = scaler.transform(x_test_telecom_ohe.loc[:, quantitive_columns])\n",
    "warnings.filterwarnings('default')"
   ]
  },
  {
   "cell_type": "code",
   "execution_count": 53,
   "metadata": {},
   "outputs": [
    {
     "data": {
      "text/html": [
       "<div>\n",
       "<style scoped>\n",
       "    .dataframe tbody tr th:only-of-type {\n",
       "        vertical-align: middle;\n",
       "    }\n",
       "\n",
       "    .dataframe tbody tr th {\n",
       "        vertical-align: top;\n",
       "    }\n",
       "\n",
       "    .dataframe thead th {\n",
       "        text-align: right;\n",
       "    }\n",
       "</style>\n",
       "<table border=\"1\" class=\"dataframe\">\n",
       "  <thead>\n",
       "    <tr style=\"text-align: right;\">\n",
       "      <th></th>\n",
       "      <th>MonthlyCharges</th>\n",
       "      <th>MonthsWithUs</th>\n",
       "      <th>ServicesCount</th>\n",
       "    </tr>\n",
       "    <tr>\n",
       "      <th>customerID</th>\n",
       "      <th></th>\n",
       "      <th></th>\n",
       "      <th></th>\n",
       "    </tr>\n",
       "  </thead>\n",
       "  <tbody>\n",
       "    <tr>\n",
       "      <th>6885-PKOAM</th>\n",
       "      <td>0.710795</td>\n",
       "      <td>1.589131</td>\n",
       "      <td>2.112527</td>\n",
       "    </tr>\n",
       "    <tr>\n",
       "      <th>1064-FBXNK</th>\n",
       "      <td>-1.477313</td>\n",
       "      <td>-1.272574</td>\n",
       "      <td>-1.348640</td>\n",
       "    </tr>\n",
       "  </tbody>\n",
       "</table>\n",
       "</div>"
      ],
      "text/plain": [
       "            MonthlyCharges  MonthsWithUs  ServicesCount\n",
       "customerID                                             \n",
       "6885-PKOAM        0.710795      1.589131       2.112527\n",
       "1064-FBXNK       -1.477313     -1.272574      -1.348640"
      ]
     },
     "metadata": {},
     "output_type": "display_data"
    },
    {
     "data": {
      "text/html": [
       "<div>\n",
       "<style scoped>\n",
       "    .dataframe tbody tr th:only-of-type {\n",
       "        vertical-align: middle;\n",
       "    }\n",
       "\n",
       "    .dataframe tbody tr th {\n",
       "        vertical-align: top;\n",
       "    }\n",
       "\n",
       "    .dataframe thead th {\n",
       "        text-align: right;\n",
       "    }\n",
       "</style>\n",
       "<table border=\"1\" class=\"dataframe\">\n",
       "  <thead>\n",
       "    <tr style=\"text-align: right;\">\n",
       "      <th></th>\n",
       "      <th>MonthlyCharges</th>\n",
       "      <th>MonthsWithUs</th>\n",
       "      <th>ServicesCount</th>\n",
       "    </tr>\n",
       "    <tr>\n",
       "      <th>customerID</th>\n",
       "      <th></th>\n",
       "      <th></th>\n",
       "      <th></th>\n",
       "    </tr>\n",
       "  </thead>\n",
       "  <tbody>\n",
       "    <tr>\n",
       "      <th>6885-PKOAM</th>\n",
       "      <td>0.710795</td>\n",
       "      <td>1.589131</td>\n",
       "      <td>2.112527</td>\n",
       "    </tr>\n",
       "    <tr>\n",
       "      <th>1064-FBXNK</th>\n",
       "      <td>-1.477313</td>\n",
       "      <td>-1.272574</td>\n",
       "      <td>-1.348640</td>\n",
       "    </tr>\n",
       "  </tbody>\n",
       "</table>\n",
       "</div>"
      ],
      "text/plain": [
       "            MonthlyCharges  MonthsWithUs  ServicesCount\n",
       "customerID                                             \n",
       "6885-PKOAM        0.710795      1.589131       2.112527\n",
       "1064-FBXNK       -1.477313     -1.272574      -1.348640"
      ]
     },
     "metadata": {},
     "output_type": "display_data"
    },
    {
     "data": {
      "text/html": [
       "<div>\n",
       "<style scoped>\n",
       "    .dataframe tbody tr th:only-of-type {\n",
       "        vertical-align: middle;\n",
       "    }\n",
       "\n",
       "    .dataframe tbody tr th {\n",
       "        vertical-align: top;\n",
       "    }\n",
       "\n",
       "    .dataframe thead th {\n",
       "        text-align: right;\n",
       "    }\n",
       "</style>\n",
       "<table border=\"1\" class=\"dataframe\">\n",
       "  <thead>\n",
       "    <tr style=\"text-align: right;\">\n",
       "      <th></th>\n",
       "      <th>MonthlyCharges</th>\n",
       "      <th>MonthsWithUs</th>\n",
       "      <th>ServicesCount</th>\n",
       "    </tr>\n",
       "    <tr>\n",
       "      <th>customerID</th>\n",
       "      <th></th>\n",
       "      <th></th>\n",
       "      <th></th>\n",
       "    </tr>\n",
       "  </thead>\n",
       "  <tbody>\n",
       "    <tr>\n",
       "      <th>2782-LFZVW</th>\n",
       "      <td>-0.179058</td>\n",
       "      <td>-0.863759</td>\n",
       "      <td>-0.050702</td>\n",
       "    </tr>\n",
       "    <tr>\n",
       "      <th>0098-BOWSO</th>\n",
       "      <td>-1.492254</td>\n",
       "      <td>-0.209655</td>\n",
       "      <td>-1.348640</td>\n",
       "    </tr>\n",
       "  </tbody>\n",
       "</table>\n",
       "</div>"
      ],
      "text/plain": [
       "            MonthlyCharges  MonthsWithUs  ServicesCount\n",
       "customerID                                             \n",
       "2782-LFZVW       -0.179058     -0.863759      -0.050702\n",
       "0098-BOWSO       -1.492254     -0.209655      -1.348640"
      ]
     },
     "metadata": {},
     "output_type": "display_data"
    },
    {
     "data": {
      "text/html": [
       "<div>\n",
       "<style scoped>\n",
       "    .dataframe tbody tr th:only-of-type {\n",
       "        vertical-align: middle;\n",
       "    }\n",
       "\n",
       "    .dataframe tbody tr th {\n",
       "        vertical-align: top;\n",
       "    }\n",
       "\n",
       "    .dataframe thead th {\n",
       "        text-align: right;\n",
       "    }\n",
       "</style>\n",
       "<table border=\"1\" class=\"dataframe\">\n",
       "  <thead>\n",
       "    <tr style=\"text-align: right;\">\n",
       "      <th></th>\n",
       "      <th>MonthlyCharges</th>\n",
       "      <th>MonthsWithUs</th>\n",
       "      <th>ServicesCount</th>\n",
       "    </tr>\n",
       "    <tr>\n",
       "      <th>customerID</th>\n",
       "      <th></th>\n",
       "      <th></th>\n",
       "      <th></th>\n",
       "    </tr>\n",
       "  </thead>\n",
       "  <tbody>\n",
       "    <tr>\n",
       "      <th>2782-LFZVW</th>\n",
       "      <td>-0.179058</td>\n",
       "      <td>-0.863759</td>\n",
       "      <td>-0.050702</td>\n",
       "    </tr>\n",
       "    <tr>\n",
       "      <th>0098-BOWSO</th>\n",
       "      <td>-1.492254</td>\n",
       "      <td>-0.209655</td>\n",
       "      <td>-1.348640</td>\n",
       "    </tr>\n",
       "  </tbody>\n",
       "</table>\n",
       "</div>"
      ],
      "text/plain": [
       "            MonthlyCharges  MonthsWithUs  ServicesCount\n",
       "customerID                                             \n",
       "2782-LFZVW       -0.179058     -0.863759      -0.050702\n",
       "0098-BOWSO       -1.492254     -0.209655      -1.348640"
      ]
     },
     "metadata": {},
     "output_type": "display_data"
    }
   ],
   "source": [
    "display(x_train_telecom_ord[quantitive_columns].head(2))\n",
    "display(x_train_telecom_ohe[quantitive_columns].head(2))\n",
    "display(x_test_telecom_ord[quantitive_columns].head(2))\n",
    "display(x_test_telecom_ohe[quantitive_columns].head(2))"
   ]
  },
  {
   "cell_type": "markdown",
   "metadata": {},
   "source": [
    "<a id='Results table'></a>\n",
    "### Подготовка таблицы с результатами"
   ]
  },
  {
   "cell_type": "code",
   "execution_count": 54,
   "metadata": {},
   "outputs": [
    {
     "data": {
      "text/html": [
       "<div>\n",
       "<style scoped>\n",
       "    .dataframe tbody tr th:only-of-type {\n",
       "        vertical-align: middle;\n",
       "    }\n",
       "\n",
       "    .dataframe tbody tr th {\n",
       "        vertical-align: top;\n",
       "    }\n",
       "\n",
       "    .dataframe thead th {\n",
       "        text-align: right;\n",
       "    }\n",
       "</style>\n",
       "<table border=\"1\" class=\"dataframe\">\n",
       "  <thead>\n",
       "    <tr style=\"text-align: right;\">\n",
       "      <th></th>\n",
       "      <th>Model</th>\n",
       "      <th>Train auc score</th>\n",
       "      <th>Train accuracy score</th>\n",
       "      <th>Test auc score</th>\n",
       "      <th>Test accuracy score</th>\n",
       "    </tr>\n",
       "  </thead>\n",
       "  <tbody>\n",
       "  </tbody>\n",
       "</table>\n",
       "</div>"
      ],
      "text/plain": [
       "Empty DataFrame\n",
       "Columns: [Model, Train auc score, Train accuracy score, Test auc score, Test accuracy score]\n",
       "Index: []"
      ]
     },
     "execution_count": 54,
     "metadata": {},
     "output_type": "execute_result"
    }
   ],
   "source": [
    "results = pd.DataFrame({'Model' : [], 'Train auc score' : [], 'Train accuracy score' : [],\n",
    "                        'Test auc score' : [], 'Test accuracy score' : []})\n",
    "results"
   ]
  },
  {
   "cell_type": "code",
   "execution_count": 55,
   "metadata": {},
   "outputs": [],
   "source": [
    "def results_append (model : str, x_train, y_train, x_test, y_test, clf):\n",
    "    globals()['results'] = globals()['results'].append({\n",
    "        'Model' : model, \n",
    "        'Train auc score' : round(roc_auc_score(y_train, clf.predict_proba(x_train)[:, 1]), 3), \n",
    "        'Train accuracy score' : round(accuracy_score(y_train, clf.predict(x_train)), 3),\n",
    "        'Test auc score' : round(roc_auc_score(y_test, clf.predict_proba(x_test)[:, 1]), 3), \n",
    "        'Test accuracy score' : round(accuracy_score(y_test, clf.predict(x_test)), 3)},\n",
    "        ignore_index=True)"
   ]
  },
  {
   "cell_type": "markdown",
   "metadata": {},
   "source": [
    "<a id='Logistic Regression'></a>\n",
    "### Logistic Regression"
   ]
  },
  {
   "cell_type": "code",
   "execution_count": 56,
   "metadata": {},
   "outputs": [],
   "source": [
    "lr_space = {'penalty' : hp.choice('penalty', ['l1', 'l2', 'elasticnet']),\n",
    "            'fit_intercept' : hp.choice('fit_intercept', [True, False]),\n",
    "            'C': hp.uniform('C', 0.00001, 1),\n",
    "            'max_iter' : hp.quniform('max_iter', 100, 3000, 50)\n",
    "           }"
   ]
  },
  {
   "cell_type": "code",
   "execution_count": 57,
   "metadata": {},
   "outputs": [],
   "source": [
    "def lr_hyperopt(params):\n",
    "    params = {'penalty': params['penalty'],\n",
    "              'fit_intercept': params['fit_intercept'],\n",
    "              'C': params['C'],\n",
    "              'max_iter' : int(params['max_iter'])\n",
    "             }\n",
    "    \n",
    "    lr = LogisticRegression(**params)\n",
    "    score = cross_val_score(lr, x_train_telecom_ohe, y_train_telecom_ohe, scoring='roc_auc', cv=5, n_jobs=-1).mean()\n",
    "    return -score"
   ]
  },
  {
   "cell_type": "code",
   "execution_count": 58,
   "metadata": {},
   "outputs": [
    {
     "name": "stdout",
     "output_type": "stream",
     "text": [
      "100%|███████████████████████████████████████████████| 10/10 [00:02<00:00,  4.16trial/s, best loss: -0.8490938320562478]\n"
     ]
    }
   ],
   "source": [
    "lr_best = fmin(fn=lr_hyperopt, space=lr_space, max_evals=10, rstate=np.random.RandomState(12345), algo=tpe.suggest)\n",
    "lr_best = space_eval(lr_space, lr_best)"
   ]
  },
  {
   "cell_type": "code",
   "execution_count": 59,
   "metadata": {},
   "outputs": [
    {
     "name": "stdout",
     "output_type": "stream",
     "text": [
      "{'C': 0.40760899308973625, 'fit_intercept': True, 'max_iter': 2400.0, 'penalty': 'l2'}\n"
     ]
    }
   ],
   "source": [
    "print(lr_best)"
   ]
  },
  {
   "cell_type": "code",
   "execution_count": 60,
   "metadata": {},
   "outputs": [
    {
     "data": {
      "text/plain": [
       "LogisticRegression(C=0.40760899308973625, max_iter=2400)"
      ]
     },
     "execution_count": 60,
     "metadata": {},
     "output_type": "execute_result"
    }
   ],
   "source": [
    "lr_final = LogisticRegression(penalty = lr_best['penalty'], C = lr_best['C'], max_iter = int(lr_best['max_iter']))\n",
    "lr_final.fit(x_train_telecom_ohe, y_train_telecom_ohe)"
   ]
  },
  {
   "cell_type": "code",
   "execution_count": 61,
   "metadata": {},
   "outputs": [
    {
     "data": {
      "text/html": [
       "<div>\n",
       "<style scoped>\n",
       "    .dataframe tbody tr th:only-of-type {\n",
       "        vertical-align: middle;\n",
       "    }\n",
       "\n",
       "    .dataframe tbody tr th {\n",
       "        vertical-align: top;\n",
       "    }\n",
       "\n",
       "    .dataframe thead th {\n",
       "        text-align: right;\n",
       "    }\n",
       "</style>\n",
       "<table border=\"1\" class=\"dataframe\">\n",
       "  <thead>\n",
       "    <tr style=\"text-align: right;\">\n",
       "      <th></th>\n",
       "      <th>Model</th>\n",
       "      <th>Train auc score</th>\n",
       "      <th>Train accuracy score</th>\n",
       "      <th>Test auc score</th>\n",
       "      <th>Test accuracy score</th>\n",
       "    </tr>\n",
       "  </thead>\n",
       "  <tbody>\n",
       "    <tr>\n",
       "      <th>0</th>\n",
       "      <td>Logistic Regression</td>\n",
       "      <td>0.854</td>\n",
       "      <td>0.81</td>\n",
       "      <td>0.851</td>\n",
       "      <td>0.801</td>\n",
       "    </tr>\n",
       "  </tbody>\n",
       "</table>\n",
       "</div>"
      ],
      "text/plain": [
       "                 Model  Train auc score  Train accuracy score  Test auc score  \\\n",
       "0  Logistic Regression            0.854                  0.81           0.851   \n",
       "\n",
       "   Test accuracy score  \n",
       "0                0.801  "
      ]
     },
     "execution_count": 61,
     "metadata": {},
     "output_type": "execute_result"
    }
   ],
   "source": [
    "results_append('Logistic Regression', x_train_telecom_ohe, y_train_telecom_ohe, x_test_telecom_ohe, \n",
    "               y_test_telecom_ohe, lr_final)\n",
    "results"
   ]
  },
  {
   "cell_type": "markdown",
   "metadata": {},
   "source": [
    "<a id='LGB'></a>\n",
    "### LightGBM"
   ]
  },
  {
   "cell_type": "code",
   "execution_count": 62,
   "metadata": {},
   "outputs": [],
   "source": [
    "lgb_space = {'n_estimators' : hp.quniform('n_estimators', 500, 3000, 50),\n",
    "             'learning_rate': hp.uniform('learning_rate', 0.00001, 2),\n",
    "             'max_depth': hp.quniform('max_depth', 3, 100, 1),\n",
    "             'num_leaves' : hp.quniform('num_leaves', 2, 100, 5),\n",
    "             'min_child_samples' : hp.quniform('min_child_samples', 2, 100, 5),\n",
    "             'subsample' : hp.uniform('subsample', 0.6, 1),\n",
    "             'colsample_bytree' : hp.uniform('colsample_bytree', 0.6, 1),\n",
    "             'reg_alpha' : hp.uniform('reg_alpha', 1, 15),\n",
    "             'reg_lambda' : hp.uniform('reg_lambda', 1, 15)}"
   ]
  },
  {
   "cell_type": "code",
   "execution_count": 63,
   "metadata": {},
   "outputs": [],
   "source": [
    "def lgb_hyperopt(params):\n",
    "    params = {'n_estimators': int(params['n_estimators']),\n",
    "              'learning_rate': params['learning_rate'],\n",
    "              'max_depth': int(params['max_depth']),\n",
    "              'num_leaves' : int(params['num_leaves']),\n",
    "              'min_child_samples' : int(params['min_child_samples']),\n",
    "              'subsample' : params['subsample'],\n",
    "              'colsample_bytree' : params['colsample_bytree'],\n",
    "              'reg_alpha' : params['reg_alpha'],\n",
    "              'reg_lambda' : params['reg_lambda']\n",
    "             }\n",
    "    \n",
    "    lgb = lightgbm.LGBMClassifier(**params)\n",
    "    score = cross_val_score(lgb, x_train_telecom_ord, y_train_telecom_ord, scoring='roc_auc', cv=5, n_jobs=-1).mean()\n",
    "    return -score"
   ]
  },
  {
   "cell_type": "code",
   "execution_count": 64,
   "metadata": {},
   "outputs": [
    {
     "name": "stdout",
     "output_type": "stream",
     "text": [
      "100%|███████████████████████████████████████████████| 40/40 [00:48<00:00,  1.22s/trial, best loss: -0.8489271923594988]\n"
     ]
    }
   ],
   "source": [
    "lgb_best = fmin(fn=lgb_hyperopt, space=lgb_space, max_evals=40, rstate=np.random.RandomState(12345), algo=tpe.suggest)"
   ]
  },
  {
   "cell_type": "code",
   "execution_count": 65,
   "metadata": {},
   "outputs": [
    {
     "name": "stdout",
     "output_type": "stream",
     "text": [
      "{'colsample_bytree': 0.8762479862955602, 'learning_rate': 0.06119820914018864, 'max_depth': 72.0, 'min_child_samples': 0.0, 'n_estimators': 3000.0, 'num_leaves': 60.0, 'reg_alpha': 14.955902851109885, 'reg_lambda': 14.347180864401635, 'subsample': 0.6632116515923062}\n"
     ]
    }
   ],
   "source": [
    "print(lgb_best)"
   ]
  },
  {
   "cell_type": "code",
   "execution_count": 66,
   "metadata": {},
   "outputs": [
    {
     "name": "stderr",
     "output_type": "stream",
     "text": [
      "c:\\users\\yansa\\appdata\\local\\programs\\python\\python38\\lib\\site-packages\\lightgbm\\basic.py:1551: UserWarning: Using categorical_feature in Dataset.\n",
      "  warnings.warn('Using categorical_feature in Dataset.')\n"
     ]
    },
    {
     "data": {
      "text/plain": [
       "LGBMClassifier(colsample_bytree=0.8762479862955602,\n",
       "               learning_rate=0.06119820914018864, max_depth=72,\n",
       "               min_child_samples=0, n_estimators=3000, num_leaves=60,\n",
       "               reg_alpha=14.955902851109885, reg_lambda=14.347180864401635,\n",
       "               subsample=0.6632116515923062)"
      ]
     },
     "execution_count": 66,
     "metadata": {},
     "output_type": "execute_result"
    }
   ],
   "source": [
    "lgb_final = lightgbm.LGBMClassifier(n_estimators = int(lgb_best['n_estimators']), learning_rate = lgb_best['learning_rate'], \n",
    "                                   max_depth = int(lgb_best['max_depth']), num_leaves = int(lgb_best['num_leaves']), \n",
    "                                   min_child_samples = int(lgb_best['min_child_samples']), subsample = lgb_best['subsample'], \n",
    "                                   colsample_bytree = lgb_best['colsample_bytree'], reg_alpha = lgb_best['reg_alpha'], \n",
    "                                   reg_lambda = lgb_best['reg_lambda'])\n",
    "\n",
    "lgb_final.fit(x_train_telecom_ord, y_train_telecom_ord, categorical_feature=categorical_columns)"
   ]
  },
  {
   "cell_type": "code",
   "execution_count": 67,
   "metadata": {},
   "outputs": [
    {
     "data": {
      "text/html": [
       "<div>\n",
       "<style scoped>\n",
       "    .dataframe tbody tr th:only-of-type {\n",
       "        vertical-align: middle;\n",
       "    }\n",
       "\n",
       "    .dataframe tbody tr th {\n",
       "        vertical-align: top;\n",
       "    }\n",
       "\n",
       "    .dataframe thead th {\n",
       "        text-align: right;\n",
       "    }\n",
       "</style>\n",
       "<table border=\"1\" class=\"dataframe\">\n",
       "  <thead>\n",
       "    <tr style=\"text-align: right;\">\n",
       "      <th></th>\n",
       "      <th>Model</th>\n",
       "      <th>Train auc score</th>\n",
       "      <th>Train accuracy score</th>\n",
       "      <th>Test auc score</th>\n",
       "      <th>Test accuracy score</th>\n",
       "    </tr>\n",
       "  </thead>\n",
       "  <tbody>\n",
       "    <tr>\n",
       "      <th>0</th>\n",
       "      <td>Logistic Regression</td>\n",
       "      <td>0.854</td>\n",
       "      <td>0.810</td>\n",
       "      <td>0.851</td>\n",
       "      <td>0.801</td>\n",
       "    </tr>\n",
       "    <tr>\n",
       "      <th>1</th>\n",
       "      <td>LightGBM</td>\n",
       "      <td>0.868</td>\n",
       "      <td>0.818</td>\n",
       "      <td>0.845</td>\n",
       "      <td>0.797</td>\n",
       "    </tr>\n",
       "  </tbody>\n",
       "</table>\n",
       "</div>"
      ],
      "text/plain": [
       "                 Model  Train auc score  Train accuracy score  Test auc score  \\\n",
       "0  Logistic Regression            0.854                 0.810           0.851   \n",
       "1             LightGBM            0.868                 0.818           0.845   \n",
       "\n",
       "   Test accuracy score  \n",
       "0                0.801  \n",
       "1                0.797  "
      ]
     },
     "execution_count": 67,
     "metadata": {},
     "output_type": "execute_result"
    }
   ],
   "source": [
    "results_append('LightGBM', x_train_telecom_ord, y_train_telecom_ord, x_test_telecom_ord, \n",
    "               y_test_telecom_ord, lgb_final)\n",
    "results"
   ]
  },
  {
   "cell_type": "markdown",
   "metadata": {},
   "source": [
    "<a id='XGBoost'></a>\n",
    "### XGBoost"
   ]
  },
  {
   "cell_type": "code",
   "execution_count": 68,
   "metadata": {},
   "outputs": [],
   "source": [
    "xgb_space = {'n_estimators':hp.quniform('n_estimators', 500, 3000, 50),\n",
    "             'gamma':hp.uniform('gamma', 0.01, 0.1),\n",
    "             'learning_rate':hp.uniform('learning_rate', 0.00001, 2),\n",
    "             'max_depth':hp.quniform('max_depth', 3, 100, 1),\n",
    "             'subsample':hp.uniform('subsample', 0.60, 0.95),\n",
    "             'colsample_bytree':hp.uniform('colsample_bytree', 0.60, 0.98),\n",
    "             'colsample_bylevel':hp.uniform('colsample_bylevel', 0.60, 0.98),\n",
    "             'reg_lambda': hp.uniform('reg_lambda', 1, 20)\n",
    "            }"
   ]
  },
  {
   "cell_type": "code",
   "execution_count": 69,
   "metadata": {},
   "outputs": [],
   "source": [
    "def xgb_hyperopt(params):\n",
    "    params = {'n_estimators': int(params['n_estimators']),\n",
    "              'gamma': params['gamma'],\n",
    "              'learning_rate': params['learning_rate'],\n",
    "              'max_depth': int(params['max_depth']),\n",
    "              'subsample': params['subsample'],\n",
    "              'colsample_bytree': params['colsample_bytree'],\n",
    "              'colsample_bylevel': params['colsample_bylevel'],\n",
    "              'reg_lambda': params['reg_lambda']\n",
    "             }\n",
    "    \n",
    "    xgb = xgboost.XGBClassifier(**params)\n",
    "    score = cross_val_score(xgb, x_train_telecom_ohe, y_train_telecom_ohe, scoring='roc_auc', cv=5, n_jobs=-1).mean()\n",
    "    return -score"
   ]
  },
  {
   "cell_type": "code",
   "execution_count": 70,
   "metadata": {},
   "outputs": [
    {
     "name": "stdout",
     "output_type": "stream",
     "text": [
      "100%|███████████████████████████████████████████████| 40/40 [15:59<00:00, 23.98s/trial, best loss: -0.8304256884863127]\n"
     ]
    }
   ],
   "source": [
    "xgb_best = fmin(fn=xgb_hyperopt, space=xgb_space, max_evals=40, rstate=np.random.RandomState(12345), algo=tpe.suggest)"
   ]
  },
  {
   "cell_type": "code",
   "execution_count": 71,
   "metadata": {},
   "outputs": [
    {
     "name": "stdout",
     "output_type": "stream",
     "text": [
      "{'colsample_bylevel': 0.7331128272455502, 'colsample_bytree': 0.6307062347375482, 'gamma': 0.041300184029094994, 'learning_rate': 0.006943324325539901, 'max_depth': 100.0, 'n_estimators': 1100.0, 'reg_lambda': 2.405566901295222, 'subsample': 0.8959816496262265}\n"
     ]
    }
   ],
   "source": [
    "print(xgb_best)"
   ]
  },
  {
   "cell_type": "code",
   "execution_count": 72,
   "metadata": {},
   "outputs": [
    {
     "data": {
      "text/plain": [
       "XGBClassifier(base_score=0.5, booster='gbtree',\n",
       "              colsample_bylevel=0.7331128272455502, colsample_bynode=1,\n",
       "              colsample_bytree=0.6307062347375482, gamma=0.041300184029094994,\n",
       "              gpu_id=-1, importance_type='gain', interaction_constraints='',\n",
       "              learning_rate=0.006943324325539901, max_delta_step=0,\n",
       "              max_depth=100, min_child_weight=1, missing=nan,\n",
       "              monotone_constraints='()', n_estimators=1100, n_jobs=0,\n",
       "              num_parallel_tree=1, random_state=0, reg_alpha=0,\n",
       "              reg_lambda=2.405566901295222, scale_pos_weight=1,\n",
       "              subsample=0.8959816496262265, tree_method='exact',\n",
       "              validate_parameters=1, verbosity=None)"
      ]
     },
     "execution_count": 72,
     "metadata": {},
     "output_type": "execute_result"
    }
   ],
   "source": [
    "xgb_final = xgboost.XGBClassifier(n_estimators = int(xgb_best['n_estimators']), colsample_bytree = xgb_best['colsample_bytree'],\n",
    "                                  gamma = xgb_best['gamma'], learning_rate = xgb_best['learning_rate'], \n",
    "                                  max_depth = int(xgb_best['max_depth']), subsample = xgb_best['subsample'], \n",
    "                                  colsample_bylevel = xgb_best['colsample_bylevel'], reg_lambda = xgb_best['reg_lambda'])\n",
    "\n",
    "xgb_final.fit(x_train_telecom_ohe, y_train_telecom_ohe)"
   ]
  },
  {
   "cell_type": "code",
   "execution_count": 73,
   "metadata": {},
   "outputs": [
    {
     "data": {
      "text/html": [
       "<div>\n",
       "<style scoped>\n",
       "    .dataframe tbody tr th:only-of-type {\n",
       "        vertical-align: middle;\n",
       "    }\n",
       "\n",
       "    .dataframe tbody tr th {\n",
       "        vertical-align: top;\n",
       "    }\n",
       "\n",
       "    .dataframe thead th {\n",
       "        text-align: right;\n",
       "    }\n",
       "</style>\n",
       "<table border=\"1\" class=\"dataframe\">\n",
       "  <thead>\n",
       "    <tr style=\"text-align: right;\">\n",
       "      <th></th>\n",
       "      <th>Model</th>\n",
       "      <th>Train auc score</th>\n",
       "      <th>Train accuracy score</th>\n",
       "      <th>Test auc score</th>\n",
       "      <th>Test accuracy score</th>\n",
       "    </tr>\n",
       "  </thead>\n",
       "  <tbody>\n",
       "    <tr>\n",
       "      <th>0</th>\n",
       "      <td>Logistic Regression</td>\n",
       "      <td>0.854</td>\n",
       "      <td>0.810</td>\n",
       "      <td>0.851</td>\n",
       "      <td>0.801</td>\n",
       "    </tr>\n",
       "    <tr>\n",
       "      <th>1</th>\n",
       "      <td>LightGBM</td>\n",
       "      <td>0.868</td>\n",
       "      <td>0.818</td>\n",
       "      <td>0.845</td>\n",
       "      <td>0.797</td>\n",
       "    </tr>\n",
       "    <tr>\n",
       "      <th>2</th>\n",
       "      <td>XGBoost</td>\n",
       "      <td>0.991</td>\n",
       "      <td>0.963</td>\n",
       "      <td>0.831</td>\n",
       "      <td>0.784</td>\n",
       "    </tr>\n",
       "  </tbody>\n",
       "</table>\n",
       "</div>"
      ],
      "text/plain": [
       "                 Model  Train auc score  Train accuracy score  Test auc score  \\\n",
       "0  Logistic Regression            0.854                 0.810           0.851   \n",
       "1             LightGBM            0.868                 0.818           0.845   \n",
       "2              XGBoost            0.991                 0.963           0.831   \n",
       "\n",
       "   Test accuracy score  \n",
       "0                0.801  \n",
       "1                0.797  \n",
       "2                0.784  "
      ]
     },
     "execution_count": 73,
     "metadata": {},
     "output_type": "execute_result"
    }
   ],
   "source": [
    "results_append('XGBoost', x_train_telecom_ohe, y_train_telecom_ohe, x_test_telecom_ohe, \n",
    "               y_test_telecom_ohe, xgb_final)\n",
    "results"
   ]
  },
  {
   "cell_type": "markdown",
   "metadata": {},
   "source": [
    "<a id='Logistic Regression + LightGBM'></a>\n",
    "### Logistic Regression + LightGBM"
   ]
  },
  {
   "cell_type": "code",
   "execution_count": 74,
   "metadata": {},
   "outputs": [],
   "source": [
    "proba_lr_train = lr_final.predict_proba(x_train_telecom_ohe)[:, 1]\n",
    "proba_lgb_train = lgb_final.predict_proba(x_train_telecom_ord)[:, 1]\n",
    "\n",
    "proba_lr_test = lr_final.predict_proba(x_test_telecom_ohe)[:, 1]\n",
    "proba_lgb_test = lgb_final.predict_proba(x_test_telecom_ord)[:, 1]"
   ]
  },
  {
   "cell_type": "code",
   "execution_count": 75,
   "metadata": {},
   "outputs": [],
   "source": [
    "mean_proba_train = (proba_lr_train + proba_lgb_train) / 2\n",
    "mean_proba_test = (proba_lr_test + proba_lgb_test) / 2\n",
    "\n",
    "lr_lgb_train_pred = np.round(mean_proba_train, 0).astype('int64')\n",
    "lr_lgb_test_pred = np.round(mean_proba_test, 0).astype('int64')"
   ]
  },
  {
   "cell_type": "code",
   "execution_count": 76,
   "metadata": {},
   "outputs": [
    {
     "data": {
      "text/html": [
       "<div>\n",
       "<style scoped>\n",
       "    .dataframe tbody tr th:only-of-type {\n",
       "        vertical-align: middle;\n",
       "    }\n",
       "\n",
       "    .dataframe tbody tr th {\n",
       "        vertical-align: top;\n",
       "    }\n",
       "\n",
       "    .dataframe thead th {\n",
       "        text-align: right;\n",
       "    }\n",
       "</style>\n",
       "<table border=\"1\" class=\"dataframe\">\n",
       "  <thead>\n",
       "    <tr style=\"text-align: right;\">\n",
       "      <th></th>\n",
       "      <th>Model</th>\n",
       "      <th>Train auc score</th>\n",
       "      <th>Train accuracy score</th>\n",
       "      <th>Test auc score</th>\n",
       "      <th>Test accuracy score</th>\n",
       "    </tr>\n",
       "  </thead>\n",
       "  <tbody>\n",
       "    <tr>\n",
       "      <th>0</th>\n",
       "      <td>Logistic Regression</td>\n",
       "      <td>0.854</td>\n",
       "      <td>0.810</td>\n",
       "      <td>0.851</td>\n",
       "      <td>0.801</td>\n",
       "    </tr>\n",
       "    <tr>\n",
       "      <th>1</th>\n",
       "      <td>LightGBM</td>\n",
       "      <td>0.868</td>\n",
       "      <td>0.818</td>\n",
       "      <td>0.845</td>\n",
       "      <td>0.797</td>\n",
       "    </tr>\n",
       "    <tr>\n",
       "      <th>2</th>\n",
       "      <td>XGBoost</td>\n",
       "      <td>0.991</td>\n",
       "      <td>0.963</td>\n",
       "      <td>0.831</td>\n",
       "      <td>0.784</td>\n",
       "    </tr>\n",
       "    <tr>\n",
       "      <th>3</th>\n",
       "      <td>LR + LightGBM</td>\n",
       "      <td>0.862</td>\n",
       "      <td>0.817</td>\n",
       "      <td>0.850</td>\n",
       "      <td>0.803</td>\n",
       "    </tr>\n",
       "  </tbody>\n",
       "</table>\n",
       "</div>"
      ],
      "text/plain": [
       "                 Model  Train auc score  Train accuracy score  Test auc score  \\\n",
       "0  Logistic Regression            0.854                 0.810           0.851   \n",
       "1             LightGBM            0.868                 0.818           0.845   \n",
       "2              XGBoost            0.991                 0.963           0.831   \n",
       "3        LR + LightGBM            0.862                 0.817           0.850   \n",
       "\n",
       "   Test accuracy score  \n",
       "0                0.801  \n",
       "1                0.797  \n",
       "2                0.784  \n",
       "3                0.803  "
      ]
     },
     "execution_count": 76,
     "metadata": {},
     "output_type": "execute_result"
    }
   ],
   "source": [
    "results = results.append({'Model' : 'LR + LightGBM', \n",
    "                          'Train auc score' : round(roc_auc_score(y_train_telecom_ohe, mean_proba_train), 3),\n",
    "                          'Train accuracy score' : round(accuracy_score(y_train_telecom_ohe, lr_lgb_train_pred), 3),\n",
    "                          'Test auc score' : round(roc_auc_score(y_test_telecom_ohe, mean_proba_test), 3),\n",
    "                          'Test accuracy score' : round(accuracy_score(y_test_telecom_ohe, lr_lgb_test_pred), 3)},\n",
    "                         ignore_index=True)\n",
    "results"
   ]
  },
  {
   "cell_type": "markdown",
   "metadata": {},
   "source": [
    "<a id='Conclusion'></a>\n",
    "## Вывод"
   ]
  },
  {
   "cell_type": "markdown",
   "metadata": {},
   "source": [
    "Получилось добиться максимального показателя 0.851 ROC-AUC и 0.8 accuracy. Из всех моделей лучше всего себя показала логистическая регрессия."
   ]
  },
  {
   "cell_type": "code",
   "execution_count": 77,
   "metadata": {},
   "outputs": [
    {
     "data": {
      "text/html": [
       "<div>\n",
       "<style scoped>\n",
       "    .dataframe tbody tr th:only-of-type {\n",
       "        vertical-align: middle;\n",
       "    }\n",
       "\n",
       "    .dataframe tbody tr th {\n",
       "        vertical-align: top;\n",
       "    }\n",
       "\n",
       "    .dataframe thead th {\n",
       "        text-align: right;\n",
       "    }\n",
       "</style>\n",
       "<table border=\"1\" class=\"dataframe\">\n",
       "  <thead>\n",
       "    <tr style=\"text-align: right;\">\n",
       "      <th></th>\n",
       "      <th>Model</th>\n",
       "      <th>Train auc score</th>\n",
       "      <th>Train accuracy score</th>\n",
       "      <th>Test auc score</th>\n",
       "      <th>Test accuracy score</th>\n",
       "    </tr>\n",
       "  </thead>\n",
       "  <tbody>\n",
       "    <tr>\n",
       "      <th>0</th>\n",
       "      <td>Logistic Regression</td>\n",
       "      <td>0.854</td>\n",
       "      <td>0.810</td>\n",
       "      <td>0.851</td>\n",
       "      <td>0.801</td>\n",
       "    </tr>\n",
       "    <tr>\n",
       "      <th>3</th>\n",
       "      <td>LR + LightGBM</td>\n",
       "      <td>0.862</td>\n",
       "      <td>0.817</td>\n",
       "      <td>0.850</td>\n",
       "      <td>0.803</td>\n",
       "    </tr>\n",
       "    <tr>\n",
       "      <th>1</th>\n",
       "      <td>LightGBM</td>\n",
       "      <td>0.868</td>\n",
       "      <td>0.818</td>\n",
       "      <td>0.845</td>\n",
       "      <td>0.797</td>\n",
       "    </tr>\n",
       "    <tr>\n",
       "      <th>2</th>\n",
       "      <td>XGBoost</td>\n",
       "      <td>0.991</td>\n",
       "      <td>0.963</td>\n",
       "      <td>0.831</td>\n",
       "      <td>0.784</td>\n",
       "    </tr>\n",
       "  </tbody>\n",
       "</table>\n",
       "</div>"
      ],
      "text/plain": [
       "                 Model  Train auc score  Train accuracy score  Test auc score  \\\n",
       "0  Logistic Regression            0.854                 0.810           0.851   \n",
       "3        LR + LightGBM            0.862                 0.817           0.850   \n",
       "1             LightGBM            0.868                 0.818           0.845   \n",
       "2              XGBoost            0.991                 0.963           0.831   \n",
       "\n",
       "   Test accuracy score  \n",
       "0                0.801  \n",
       "3                0.803  \n",
       "1                0.797  \n",
       "2                0.784  "
      ]
     },
     "execution_count": 77,
     "metadata": {},
     "output_type": "execute_result"
    }
   ],
   "source": [
    "results.sort_values(by='Test auc score', ascending=False)"
   ]
  },
  {
   "cell_type": "markdown",
   "metadata": {},
   "source": [
    "#### Матрица ошибок и ROC кривая"
   ]
  },
  {
   "cell_type": "code",
   "execution_count": 78,
   "metadata": {},
   "outputs": [
    {
     "data": {
      "image/png": "[encoded data removed]",
      "text/plain": [
       "<Figure size 432x288 with 2 Axes>"
      ]
     },
     "metadata": {
      "needs_background": "light"
     },
     "output_type": "display_data"
    }
   ],
   "source": [
    "plot_confusion_matrix(estimator=lr_final, y_true = y_test_telecom_ohe, X = x_test_telecom_ohe);"
   ]
  },
  {
   "cell_type": "markdown",
   "metadata": {},
   "source": [
    "90% пользователей, которые останутся предсказаны правильно, из всех ушедших получилось \"поймать\" 52%. 66% из тех кого определяем как уходяшего, действительно уходят, то есть с ушедшими ошибаемся в 34% случаев."
   ]
  },
  {
   "cell_type": "code",
   "execution_count": 79,
   "metadata": {},
   "outputs": [
    {
     "data": {
      "image/png": "[encoded data removed]",
      "text/plain": [
       "<Figure size 576x576 with 1 Axes>"
      ]
     },
     "metadata": {
      "needs_background": "light"
     },
     "output_type": "display_data"
    }
   ],
   "source": [
    "fpr, tpr, thresholds = roc_curve(y_test_telecom_ohe, lr_final.predict_proba(x_test_telecom_ohe)[:, 1])\n",
    "\n",
    "plt.figure(figsize=(8,8))\n",
    "plt.plot(fpr, tpr)\n",
    "plt.plot([0, 1], [0, 1], linestyle='--')\n",
    "plt.xlim([0.0,1.0])\n",
    "plt.ylim([0.0,1.0])\n",
    "plt.xlabel('False Positive Rate')\n",
    "plt.ylabel('True Positive Rate')\n",
    "plt.title('ROC-кривая')\n",
    "plt.show()"
   ]
  },
  {
   "cell_type": "markdown",
   "metadata": {},
   "source": [
    "#### Влияние признаков"
   ]
  },
  {
   "cell_type": "code",
   "execution_count": 80,
   "metadata": {},
   "outputs": [
    {
     "data": {
      "image/png": "[encoded data removed]",
      "text/plain": [
       "<Figure size 864x864 with 1 Axes>"
      ]
     },
     "metadata": {},
     "output_type": "display_data"
    }
   ],
   "source": [
    "weights = lr_final.coef_\n",
    "abs_weights = np.abs(weights)\n",
    "\n",
    "feature_importances = pd.DataFrame({'Features' : list(x_train_telecom_ohe.columns),\n",
    "                                    'Weights' : abs_weights[0]}).sort_values(by='Weights', ascending=False)\n",
    "feature_importances\n",
    "\n",
    "feature_importances[:30].plot.pie(explode=[0.1]*30,\n",
    "                             labels = feature_importances.Features,\n",
    "                             y = 'Weights', autopct='%1.1f%%', shadow=True, legend=False, figsize=(12, 12), \n",
    "                             title='Влияние признаков на результат предсказания');"
   ]
  },
  {
   "cell_type": "markdown",
   "metadata": {},
   "source": [
    "Наиболее влияющие признаки: наличие 2хгодового типа контракта; кол-во месяцев, которые пользователь пробыл с нами; пробыл ли пользователь клиентом в течении 20 месяцев."
   ]
  }
 ],
 "metadata": {
  "kernelspec": {
   "display_name": "Python 3",
   "language": "python",
   "name": "python3"
  },
  "language_info": {
   "codemirror_mode": {
    "name": "ipython",
    "version": 3
   },
   "file_extension": ".py",
   "mimetype": "text/x-python",
   "name": "python",
   "nbconvert_exporter": "python",
   "pygments_lexer": "ipython3",
   "version": "3.8.2"
  }
 },
 "nbformat": 4,
 "nbformat_minor": 4
}
