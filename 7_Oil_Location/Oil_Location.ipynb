{
 "cells": [
  {
   "cell_type": "markdown",
   "metadata": {},
   "source": [
    "# Выбор месторождения для бурения новой скважины\n",
    "\n",
    "Мне предоставлены пробы нефти в трёх регионах, где измерили качество нефти и объём её запасов. Необходимо посторить модель, которая поможет определить наиболее прибыльный регион с наименьшими рисками."
   ]
  },
  {
   "cell_type": "code",
   "execution_count": 1,
   "metadata": {},
   "outputs": [],
   "source": [
    "import pandas as pd\n",
    "import matplotlib\n",
    "import matplotlib.pyplot as plt\n",
    "import seaborn as sns\n",
    "import numpy as np\n",
    "\n",
    "from scipy import stats as st\n",
    "\n",
    "from sklearn.linear_model import LinearRegression\n",
    "from sklearn.model_selection import train_test_split, GridSearchCV\n",
    "from sklearn.metrics import mean_squared_error"
   ]
  },
  {
   "cell_type": "markdown",
   "metadata": {},
   "source": [
    "### Изучение и ознакомление с данными"
   ]
  },
  {
   "cell_type": "code",
   "execution_count": 2,
   "metadata": {},
   "outputs": [],
   "source": [
    "geo0 = pd.read_csv('C:\\\\Users\\\\yansa\\\\YP_Projects\\\\YP_DataSets\\\\SP7\\\\geo_data_0.csv')\n",
    "geo1 = pd.read_csv('C:\\\\Users\\\\yansa\\\\YP_Projects\\\\YP_DataSets\\\\SP7\\\\geo_data_1.csv')\n",
    "geo2 = pd.read_csv('C:\\\\Users\\\\yansa\\\\YP_Projects\\\\YP_DataSets\\\\SP7\\\\geo_data_2.csv')"
   ]
  },
  {
   "cell_type": "code",
   "execution_count": 3,
   "metadata": {
    "scrolled": false
   },
   "outputs": [
    {
     "name": "stdout",
     "output_type": "stream",
     "text": [
      "Geo region 0\n"
     ]
    },
    {
     "data": {
      "text/html": [
       "<div>\n",
       "<style scoped>\n",
       "    .dataframe tbody tr th:only-of-type {\n",
       "        vertical-align: middle;\n",
       "    }\n",
       "\n",
       "    .dataframe tbody tr th {\n",
       "        vertical-align: top;\n",
       "    }\n",
       "\n",
       "    .dataframe thead th {\n",
       "        text-align: right;\n",
       "    }\n",
       "</style>\n",
       "<table border=\"1\" class=\"dataframe\">\n",
       "  <thead>\n",
       "    <tr style=\"text-align: right;\">\n",
       "      <th></th>\n",
       "      <th>id</th>\n",
       "      <th>f0</th>\n",
       "      <th>f1</th>\n",
       "      <th>f2</th>\n",
       "      <th>product</th>\n",
       "    </tr>\n",
       "  </thead>\n",
       "  <tbody>\n",
       "    <tr>\n",
       "      <th>0</th>\n",
       "      <td>txEyH</td>\n",
       "      <td>0.705745</td>\n",
       "      <td>-0.497823</td>\n",
       "      <td>1.221170</td>\n",
       "      <td>105.280062</td>\n",
       "    </tr>\n",
       "    <tr>\n",
       "      <th>1</th>\n",
       "      <td>2acmU</td>\n",
       "      <td>1.334711</td>\n",
       "      <td>-0.340164</td>\n",
       "      <td>4.365080</td>\n",
       "      <td>73.037750</td>\n",
       "    </tr>\n",
       "    <tr>\n",
       "      <th>2</th>\n",
       "      <td>409Wp</td>\n",
       "      <td>1.022732</td>\n",
       "      <td>0.151990</td>\n",
       "      <td>1.419926</td>\n",
       "      <td>85.265647</td>\n",
       "    </tr>\n",
       "    <tr>\n",
       "      <th>3</th>\n",
       "      <td>iJLyR</td>\n",
       "      <td>-0.032172</td>\n",
       "      <td>0.139033</td>\n",
       "      <td>2.978566</td>\n",
       "      <td>168.620776</td>\n",
       "    </tr>\n",
       "    <tr>\n",
       "      <th>4</th>\n",
       "      <td>Xdl7t</td>\n",
       "      <td>1.988431</td>\n",
       "      <td>0.155413</td>\n",
       "      <td>4.751769</td>\n",
       "      <td>154.036647</td>\n",
       "    </tr>\n",
       "  </tbody>\n",
       "</table>\n",
       "</div>"
      ],
      "text/plain": [
       "      id        f0        f1        f2     product\n",
       "0  txEyH  0.705745 -0.497823  1.221170  105.280062\n",
       "1  2acmU  1.334711 -0.340164  4.365080   73.037750\n",
       "2  409Wp  1.022732  0.151990  1.419926   85.265647\n",
       "3  iJLyR -0.032172  0.139033  2.978566  168.620776\n",
       "4  Xdl7t  1.988431  0.155413  4.751769  154.036647"
      ]
     },
     "metadata": {},
     "output_type": "display_data"
    },
    {
     "name": "stdout",
     "output_type": "stream",
     "text": [
      "Geo region 1\n"
     ]
    },
    {
     "data": {
      "text/html": [
       "<div>\n",
       "<style scoped>\n",
       "    .dataframe tbody tr th:only-of-type {\n",
       "        vertical-align: middle;\n",
       "    }\n",
       "\n",
       "    .dataframe tbody tr th {\n",
       "        vertical-align: top;\n",
       "    }\n",
       "\n",
       "    .dataframe thead th {\n",
       "        text-align: right;\n",
       "    }\n",
       "</style>\n",
       "<table border=\"1\" class=\"dataframe\">\n",
       "  <thead>\n",
       "    <tr style=\"text-align: right;\">\n",
       "      <th></th>\n",
       "      <th>id</th>\n",
       "      <th>f0</th>\n",
       "      <th>f1</th>\n",
       "      <th>f2</th>\n",
       "      <th>product</th>\n",
       "    </tr>\n",
       "  </thead>\n",
       "  <tbody>\n",
       "    <tr>\n",
       "      <th>0</th>\n",
       "      <td>kBEdx</td>\n",
       "      <td>-15.001348</td>\n",
       "      <td>-8.276000</td>\n",
       "      <td>-0.005876</td>\n",
       "      <td>3.179103</td>\n",
       "    </tr>\n",
       "    <tr>\n",
       "      <th>1</th>\n",
       "      <td>62mP7</td>\n",
       "      <td>14.272088</td>\n",
       "      <td>-3.475083</td>\n",
       "      <td>0.999183</td>\n",
       "      <td>26.953261</td>\n",
       "    </tr>\n",
       "    <tr>\n",
       "      <th>2</th>\n",
       "      <td>vyE1P</td>\n",
       "      <td>6.263187</td>\n",
       "      <td>-5.948386</td>\n",
       "      <td>5.001160</td>\n",
       "      <td>134.766305</td>\n",
       "    </tr>\n",
       "    <tr>\n",
       "      <th>3</th>\n",
       "      <td>KcrkZ</td>\n",
       "      <td>-13.081196</td>\n",
       "      <td>-11.506057</td>\n",
       "      <td>4.999415</td>\n",
       "      <td>137.945408</td>\n",
       "    </tr>\n",
       "    <tr>\n",
       "      <th>4</th>\n",
       "      <td>AHL4O</td>\n",
       "      <td>12.702195</td>\n",
       "      <td>-8.147433</td>\n",
       "      <td>5.004363</td>\n",
       "      <td>134.766305</td>\n",
       "    </tr>\n",
       "  </tbody>\n",
       "</table>\n",
       "</div>"
      ],
      "text/plain": [
       "      id         f0         f1        f2     product\n",
       "0  kBEdx -15.001348  -8.276000 -0.005876    3.179103\n",
       "1  62mP7  14.272088  -3.475083  0.999183   26.953261\n",
       "2  vyE1P   6.263187  -5.948386  5.001160  134.766305\n",
       "3  KcrkZ -13.081196 -11.506057  4.999415  137.945408\n",
       "4  AHL4O  12.702195  -8.147433  5.004363  134.766305"
      ]
     },
     "metadata": {},
     "output_type": "display_data"
    },
    {
     "name": "stdout",
     "output_type": "stream",
     "text": [
      "Geo region 2\n"
     ]
    },
    {
     "data": {
      "text/html": [
       "<div>\n",
       "<style scoped>\n",
       "    .dataframe tbody tr th:only-of-type {\n",
       "        vertical-align: middle;\n",
       "    }\n",
       "\n",
       "    .dataframe tbody tr th {\n",
       "        vertical-align: top;\n",
       "    }\n",
       "\n",
       "    .dataframe thead th {\n",
       "        text-align: right;\n",
       "    }\n",
       "</style>\n",
       "<table border=\"1\" class=\"dataframe\">\n",
       "  <thead>\n",
       "    <tr style=\"text-align: right;\">\n",
       "      <th></th>\n",
       "      <th>id</th>\n",
       "      <th>f0</th>\n",
       "      <th>f1</th>\n",
       "      <th>f2</th>\n",
       "      <th>product</th>\n",
       "    </tr>\n",
       "  </thead>\n",
       "  <tbody>\n",
       "    <tr>\n",
       "      <th>0</th>\n",
       "      <td>fwXo0</td>\n",
       "      <td>-1.146987</td>\n",
       "      <td>0.963328</td>\n",
       "      <td>-0.828965</td>\n",
       "      <td>27.758673</td>\n",
       "    </tr>\n",
       "    <tr>\n",
       "      <th>1</th>\n",
       "      <td>WJtFt</td>\n",
       "      <td>0.262778</td>\n",
       "      <td>0.269839</td>\n",
       "      <td>-2.530187</td>\n",
       "      <td>56.069697</td>\n",
       "    </tr>\n",
       "    <tr>\n",
       "      <th>2</th>\n",
       "      <td>ovLUW</td>\n",
       "      <td>0.194587</td>\n",
       "      <td>0.289035</td>\n",
       "      <td>-5.586433</td>\n",
       "      <td>62.871910</td>\n",
       "    </tr>\n",
       "    <tr>\n",
       "      <th>3</th>\n",
       "      <td>q6cA6</td>\n",
       "      <td>2.236060</td>\n",
       "      <td>-0.553760</td>\n",
       "      <td>0.930038</td>\n",
       "      <td>114.572842</td>\n",
       "    </tr>\n",
       "    <tr>\n",
       "      <th>4</th>\n",
       "      <td>WPMUX</td>\n",
       "      <td>-0.515993</td>\n",
       "      <td>1.716266</td>\n",
       "      <td>5.899011</td>\n",
       "      <td>149.600746</td>\n",
       "    </tr>\n",
       "  </tbody>\n",
       "</table>\n",
       "</div>"
      ],
      "text/plain": [
       "      id        f0        f1        f2     product\n",
       "0  fwXo0 -1.146987  0.963328 -0.828965   27.758673\n",
       "1  WJtFt  0.262778  0.269839 -2.530187   56.069697\n",
       "2  ovLUW  0.194587  0.289035 -5.586433   62.871910\n",
       "3  q6cA6  2.236060 -0.553760  0.930038  114.572842\n",
       "4  WPMUX -0.515993  1.716266  5.899011  149.600746"
      ]
     },
     "metadata": {},
     "output_type": "display_data"
    }
   ],
   "source": [
    "print('Geo region 0')\n",
    "display(geo0.head())\n",
    "print('Geo region 1')\n",
    "display(geo1.head())\n",
    "print('Geo region 2')\n",
    "display(geo2.head())"
   ]
  },
  {
   "cell_type": "markdown",
   "metadata": {},
   "source": [
    "Подготовлю датафрейм для визуализации."
   ]
  },
  {
   "cell_type": "code",
   "execution_count": 4,
   "metadata": {},
   "outputs": [
    {
     "data": {
      "text/html": [
       "<div>\n",
       "<style scoped>\n",
       "    .dataframe tbody tr th:only-of-type {\n",
       "        vertical-align: middle;\n",
       "    }\n",
       "\n",
       "    .dataframe tbody tr th {\n",
       "        vertical-align: top;\n",
       "    }\n",
       "\n",
       "    .dataframe thead th {\n",
       "        text-align: right;\n",
       "    }\n",
       "</style>\n",
       "<table border=\"1\" class=\"dataframe\">\n",
       "  <thead>\n",
       "    <tr style=\"text-align: right;\">\n",
       "      <th></th>\n",
       "      <th>Geo_0 f0</th>\n",
       "      <th>Geo_0 f1</th>\n",
       "      <th>Geo_0 f2</th>\n",
       "      <th>Geo_0 product</th>\n",
       "      <th>Geo_1 f0</th>\n",
       "      <th>Geo_1 f1</th>\n",
       "      <th>Geo_1 f2</th>\n",
       "      <th>Geo_1 product</th>\n",
       "      <th>Geo_2 f0</th>\n",
       "      <th>Geo_2 f1</th>\n",
       "      <th>Geo_2 f2</th>\n",
       "      <th>Geo_2 product</th>\n",
       "    </tr>\n",
       "  </thead>\n",
       "  <tbody>\n",
       "    <tr>\n",
       "      <th>0</th>\n",
       "      <td>0.705745</td>\n",
       "      <td>-0.497823</td>\n",
       "      <td>1.221170</td>\n",
       "      <td>105.280062</td>\n",
       "      <td>-15.001348</td>\n",
       "      <td>-8.276000</td>\n",
       "      <td>-0.005876</td>\n",
       "      <td>3.179103</td>\n",
       "      <td>-1.146987</td>\n",
       "      <td>0.963328</td>\n",
       "      <td>-0.828965</td>\n",
       "      <td>27.758673</td>\n",
       "    </tr>\n",
       "    <tr>\n",
       "      <th>1</th>\n",
       "      <td>1.334711</td>\n",
       "      <td>-0.340164</td>\n",
       "      <td>4.365080</td>\n",
       "      <td>73.037750</td>\n",
       "      <td>14.272088</td>\n",
       "      <td>-3.475083</td>\n",
       "      <td>0.999183</td>\n",
       "      <td>26.953261</td>\n",
       "      <td>0.262778</td>\n",
       "      <td>0.269839</td>\n",
       "      <td>-2.530187</td>\n",
       "      <td>56.069697</td>\n",
       "    </tr>\n",
       "    <tr>\n",
       "      <th>2</th>\n",
       "      <td>1.022732</td>\n",
       "      <td>0.151990</td>\n",
       "      <td>1.419926</td>\n",
       "      <td>85.265647</td>\n",
       "      <td>6.263187</td>\n",
       "      <td>-5.948386</td>\n",
       "      <td>5.001160</td>\n",
       "      <td>134.766305</td>\n",
       "      <td>0.194587</td>\n",
       "      <td>0.289035</td>\n",
       "      <td>-5.586433</td>\n",
       "      <td>62.871910</td>\n",
       "    </tr>\n",
       "    <tr>\n",
       "      <th>3</th>\n",
       "      <td>-0.032172</td>\n",
       "      <td>0.139033</td>\n",
       "      <td>2.978566</td>\n",
       "      <td>168.620776</td>\n",
       "      <td>-13.081196</td>\n",
       "      <td>-11.506057</td>\n",
       "      <td>4.999415</td>\n",
       "      <td>137.945408</td>\n",
       "      <td>2.236060</td>\n",
       "      <td>-0.553760</td>\n",
       "      <td>0.930038</td>\n",
       "      <td>114.572842</td>\n",
       "    </tr>\n",
       "    <tr>\n",
       "      <th>4</th>\n",
       "      <td>1.988431</td>\n",
       "      <td>0.155413</td>\n",
       "      <td>4.751769</td>\n",
       "      <td>154.036647</td>\n",
       "      <td>12.702195</td>\n",
       "      <td>-8.147433</td>\n",
       "      <td>5.004363</td>\n",
       "      <td>134.766305</td>\n",
       "      <td>-0.515993</td>\n",
       "      <td>1.716266</td>\n",
       "      <td>5.899011</td>\n",
       "      <td>149.600746</td>\n",
       "    </tr>\n",
       "  </tbody>\n",
       "</table>\n",
       "</div>"
      ],
      "text/plain": [
       "   Geo_0 f0  Geo_0 f1  Geo_0 f2  Geo_0 product   Geo_1 f0   Geo_1 f1  \\\n",
       "0  0.705745 -0.497823  1.221170     105.280062 -15.001348  -8.276000   \n",
       "1  1.334711 -0.340164  4.365080      73.037750  14.272088  -3.475083   \n",
       "2  1.022732  0.151990  1.419926      85.265647   6.263187  -5.948386   \n",
       "3 -0.032172  0.139033  2.978566     168.620776 -13.081196 -11.506057   \n",
       "4  1.988431  0.155413  4.751769     154.036647  12.702195  -8.147433   \n",
       "\n",
       "   Geo_1 f2  Geo_1 product  Geo_2 f0  Geo_2 f1  Geo_2 f2  Geo_2 product  \n",
       "0 -0.005876       3.179103 -1.146987  0.963328 -0.828965      27.758673  \n",
       "1  0.999183      26.953261  0.262778  0.269839 -2.530187      56.069697  \n",
       "2  5.001160     134.766305  0.194587  0.289035 -5.586433      62.871910  \n",
       "3  4.999415     137.945408  2.236060 -0.553760  0.930038     114.572842  \n",
       "4  5.004363     134.766305 -0.515993  1.716266  5.899011     149.600746  "
      ]
     },
     "execution_count": 4,
     "metadata": {},
     "output_type": "execute_result"
    }
   ],
   "source": [
    "geo_boxplot = geo0.drop('id', axis=1).rename(columns={'f0':'Geo_0 f0', 'f1':'Geo_0 f1', \n",
    "                                                      'f2':'Geo_0 f2', 'product':'Geo_0 product'})\n",
    "geo_boxplot = geo_boxplot.join(geo1.drop('id', axis=1).rename(columns={'f0':'Geo_1 f0', 'f1':'Geo_1 f1', \n",
    "                                                      'f2':'Geo_1 f2', 'product':'Geo_1 product'}))\n",
    "geo_boxplot = geo_boxplot.join(geo2.drop('id', axis=1).rename(columns={'f0':'Geo_2 f0', 'f1':'Geo_2 f1', \n",
    "                                                      'f2':'Geo_2 f2', 'product':'Geo_2 product'}))\n",
    "geo_boxplot.head()"
   ]
  },
  {
   "cell_type": "code",
   "execution_count": 5,
   "metadata": {},
   "outputs": [
    {
     "data": {
      "image/png": "[encoded data removed]",
      "text/plain": [
       "<Figure size 864x432 with 1 Axes>"
      ]
     },
     "metadata": {
      "needs_background": "light"
     },
     "output_type": "display_data"
    }
   ],
   "source": [
    "plot = sns.catplot(data=geo_boxplot[['Geo_0 f0', 'Geo_1 f0', 'Geo_2 f0']], kind='box', height=6,\n",
    "                    aspect=2, legend_out=False)\n",
    "plot.set_axis_labels(x_var='f0 by region', y_var='Unknown unit')\n",
    "plot.set\n",
    "plot.fig.suptitle('f0 boxplot', y=1.1);"
   ]
  },
  {
   "cell_type": "code",
   "execution_count": 6,
   "metadata": {},
   "outputs": [
    {
     "data": {
      "image/png": "[encoded data removed]",
      "text/plain": [
       "<Figure size 864x432 with 1 Axes>"
      ]
     },
     "metadata": {
      "needs_background": "light"
     },
     "output_type": "display_data"
    }
   ],
   "source": [
    "plot = sns.catplot(data=geo_boxplot[['Geo_0 f1', 'Geo_1 f1', 'Geo_2 f1']], kind='box', height=6,\n",
    "                    aspect=2, legend_out=False)\n",
    "plot.set_axis_labels(x_var='f1 by region', y_var='Unknown unit')\n",
    "plot.set\n",
    "plot.fig.suptitle('f1 boxplot', y=1.1);"
   ]
  },
  {
   "cell_type": "code",
   "execution_count": 7,
   "metadata": {},
   "outputs": [
    {
     "data": {
      "image/png": "[encoded data removed]",
      "text/plain": [
       "<Figure size 864x432 with 1 Axes>"
      ]
     },
     "metadata": {
      "needs_background": "light"
     },
     "output_type": "display_data"
    }
   ],
   "source": [
    "plot = sns.catplot(data=geo_boxplot[['Geo_0 f2', 'Geo_1 f2', 'Geo_2 f2']], kind='box', height=6,\n",
    "                    aspect=2, legend_out=False)\n",
    "plot.set_axis_labels(x_var='f2 by region', y_var='Unknown unit')\n",
    "plot.set\n",
    "plot.fig.suptitle('f2 boxplot', y=1.1);"
   ]
  },
  {
   "cell_type": "code",
   "execution_count": 8,
   "metadata": {},
   "outputs": [
    {
     "data": {
      "image/png": "[encoded data removed]",
      "text/plain": [
       "<Figure size 864x432 with 1 Axes>"
      ]
     },
     "metadata": {
      "needs_background": "light"
     },
     "output_type": "display_data"
    }
   ],
   "source": [
    "plot = sns.catplot(data=geo_boxplot[['Geo_0 product', 'Geo_1 product', 'Geo_2 product']], kind='box', height=6,\n",
    "                    aspect=2, legend_out=False)\n",
    "plot.set_axis_labels(x_var='Product by region', y_var='Barrels (thousands)')\n",
    "plot.set\n",
    "plot.fig.suptitle('Product by region', y=1.1);"
   ]
  },
  {
   "cell_type": "code",
   "execution_count": 9,
   "metadata": {},
   "outputs": [
    {
     "name": "stdout",
     "output_type": "stream",
     "text": [
      "Geo region 0\n"
     ]
    },
    {
     "data": {
      "text/plain": [
       "id          object\n",
       "f0         float64\n",
       "f1         float64\n",
       "f2         float64\n",
       "product    float64\n",
       "dtype: object"
      ]
     },
     "metadata": {},
     "output_type": "display_data"
    },
    {
     "name": "stdout",
     "output_type": "stream",
     "text": [
      "Geo region 1\n"
     ]
    },
    {
     "data": {
      "text/plain": [
       "id          object\n",
       "f0         float64\n",
       "f1         float64\n",
       "f2         float64\n",
       "product    float64\n",
       "dtype: object"
      ]
     },
     "metadata": {},
     "output_type": "display_data"
    },
    {
     "name": "stdout",
     "output_type": "stream",
     "text": [
      "Geo region 2\n"
     ]
    },
    {
     "data": {
      "text/plain": [
       "id          object\n",
       "f0         float64\n",
       "f1         float64\n",
       "f2         float64\n",
       "product    float64\n",
       "dtype: object"
      ]
     },
     "metadata": {},
     "output_type": "display_data"
    }
   ],
   "source": [
    "print('Geo region 0')\n",
    "display(geo0.dtypes)\n",
    "print('Geo region 1')\n",
    "display(geo1.dtypes)\n",
    "print('Geo region 2')\n",
    "display(geo2.dtypes)"
   ]
  },
  {
   "cell_type": "markdown",
   "metadata": {},
   "source": [
    "Все типы данных приведены и готовы к обучению."
   ]
  },
  {
   "cell_type": "code",
   "execution_count": 10,
   "metadata": {},
   "outputs": [
    {
     "name": "stdout",
     "output_type": "stream",
     "text": [
      "Geo region 0\n"
     ]
    },
    {
     "data": {
      "text/plain": [
       "id          99990\n",
       "f0         100000\n",
       "f1         100000\n",
       "f2         100000\n",
       "product    100000\n",
       "dtype: int64"
      ]
     },
     "metadata": {},
     "output_type": "display_data"
    },
    {
     "name": "stdout",
     "output_type": "stream",
     "text": [
      "Geo region 1\n"
     ]
    },
    {
     "data": {
      "text/plain": [
       "id          99996\n",
       "f0         100000\n",
       "f1         100000\n",
       "f2         100000\n",
       "product        12\n",
       "dtype: int64"
      ]
     },
     "metadata": {},
     "output_type": "display_data"
    },
    {
     "name": "stdout",
     "output_type": "stream",
     "text": [
      "Geo region 2\n"
     ]
    },
    {
     "data": {
      "text/plain": [
       "id          99996\n",
       "f0         100000\n",
       "f1         100000\n",
       "f2         100000\n",
       "product    100000\n",
       "dtype: int64"
      ]
     },
     "metadata": {},
     "output_type": "display_data"
    }
   ],
   "source": [
    "print('Geo region 0')\n",
    "display(geo0.nunique())\n",
    "print('Geo region 1')\n",
    "display(geo1.nunique())\n",
    "print('Geo region 2')\n",
    "display(geo2.nunique())"
   ]
  },
  {
   "cell_type": "markdown",
   "metadata": {},
   "source": [
    "В данных присутствуют повторяющиеся id, что странно, тк каждый id должен отображать уникальное месторождение. Удалю дублирующиеся id:"
   ]
  },
  {
   "cell_type": "code",
   "execution_count": 11,
   "metadata": {},
   "outputs": [],
   "source": [
    "geo0 = geo0.drop_duplicates(subset='id', keep=False).reset_index(drop=True)\n",
    "geo1 = geo1.drop_duplicates(subset='id', keep=False).reset_index(drop=True)\n",
    "geo2 = geo2.drop_duplicates(subset='id', keep=False).reset_index(drop=True)"
   ]
  },
  {
   "cell_type": "markdown",
   "metadata": {},
   "source": [
    "Проверяем:"
   ]
  },
  {
   "cell_type": "code",
   "execution_count": 12,
   "metadata": {},
   "outputs": [
    {
     "name": "stdout",
     "output_type": "stream",
     "text": [
      "Geo region 0\n"
     ]
    },
    {
     "data": {
      "text/plain": [
       "id         99980\n",
       "f0         99980\n",
       "f1         99980\n",
       "f2         99980\n",
       "product    99980\n",
       "dtype: int64"
      ]
     },
     "metadata": {},
     "output_type": "display_data"
    },
    {
     "name": "stdout",
     "output_type": "stream",
     "text": [
      "Geo region 1\n"
     ]
    },
    {
     "data": {
      "text/plain": [
       "id         99992\n",
       "f0         99992\n",
       "f1         99992\n",
       "f2         99992\n",
       "product       12\n",
       "dtype: int64"
      ]
     },
     "metadata": {},
     "output_type": "display_data"
    },
    {
     "name": "stdout",
     "output_type": "stream",
     "text": [
      "Geo region 2\n"
     ]
    },
    {
     "data": {
      "text/plain": [
       "id         99992\n",
       "f0         99992\n",
       "f1         99992\n",
       "f2         99992\n",
       "product    99992\n",
       "dtype: int64"
      ]
     },
     "metadata": {},
     "output_type": "display_data"
    }
   ],
   "source": [
    "print('Geo region 0')\n",
    "display(geo0.nunique())\n",
    "print('Geo region 1')\n",
    "display(geo1.nunique())\n",
    "print('Geo region 2')\n",
    "display(geo2.nunique())"
   ]
  },
  {
   "cell_type": "markdown",
   "metadata": {},
   "source": [
    "### Обучу и проверю модель для каждого региона"
   ]
  },
  {
   "cell_type": "markdown",
   "metadata": {},
   "source": [
    "Разобью данные на 2 датасета: 1ый с параметрами, по которым предсказываем, 2ой с предсказываемым параметром."
   ]
  },
  {
   "cell_type": "code",
   "execution_count": 13,
   "metadata": {},
   "outputs": [],
   "source": [
    "x_geo0 = geo0.drop(['id','product'], axis=1)\n",
    "y_geo0 = geo0['product']\n",
    "x_geo1 = geo1.drop(['id','product'], axis=1)\n",
    "y_geo1 = geo1['product']\n",
    "x_geo2 = geo2.drop(['id','product'], axis=1)\n",
    "y_geo2 = geo2['product']"
   ]
  },
  {
   "cell_type": "markdown",
   "metadata": {},
   "source": [
    "Разделю датасеты на обучающую и тестовую выборку (бью на две части вместо трех, тк в дальнейшем планирую подбор параметров с помощью кроссвалидации)."
   ]
  },
  {
   "cell_type": "code",
   "execution_count": 14,
   "metadata": {},
   "outputs": [
    {
     "data": {
      "text/plain": [
       "((74985, 3), (24995, 3), (74985,), (24995,))"
      ]
     },
     "metadata": {},
     "output_type": "display_data"
    },
    {
     "data": {
      "text/plain": [
       "((74994, 3), (24998, 3), (74994,), (24998,))"
      ]
     },
     "metadata": {},
     "output_type": "display_data"
    },
    {
     "data": {
      "text/plain": [
       "((74994, 3), (24998, 3), (74994,), (24998,))"
      ]
     },
     "metadata": {},
     "output_type": "display_data"
    }
   ],
   "source": [
    "x_geo0_train, x_geo0_test, y_geo0_train, y_geo0_test = train_test_split(x_geo0, y_geo0, random_state=12345)\n",
    "display((x_geo0_train.shape, x_geo0_test.shape, y_geo0_train.shape, y_geo0_test.shape))\n",
    "\n",
    "x_geo1_train, x_geo1_test, y_geo1_train, y_geo1_test = train_test_split(x_geo1, y_geo1, random_state=12345)\n",
    "display((x_geo1_train.shape, x_geo1_test.shape, y_geo1_train.shape, y_geo1_test.shape))\n",
    "\n",
    "x_geo2_train, x_geo2_test, y_geo2_train, y_geo2_test = train_test_split(x_geo2, y_geo2, random_state=12345)\n",
    "display((x_geo2_train.shape, x_geo2_test.shape, y_geo2_train.shape, y_geo2_test.shape))"
   ]
  },
  {
   "cell_type": "markdown",
   "metadata": {},
   "source": [
    "### Обучение моделей"
   ]
  },
  {
   "cell_type": "code",
   "execution_count": 15,
   "metadata": {},
   "outputs": [],
   "source": [
    "clf = LinearRegression()"
   ]
  },
  {
   "cell_type": "markdown",
   "metadata": {},
   "source": [
    "Поищем лучшие гиперпараметры:"
   ]
  },
  {
   "cell_type": "code",
   "execution_count": 16,
   "metadata": {},
   "outputs": [],
   "source": [
    "params = {'fit_intercept' : [True, False], 'normalize' : [True, False]}"
   ]
  },
  {
   "cell_type": "code",
   "execution_count": 17,
   "metadata": {},
   "outputs": [],
   "source": [
    "clf_gs_geo0 = GridSearchCV(clf, params, cv=5, verbose=1)\n",
    "clf_gs_geo1 = GridSearchCV(clf, params, cv=5, verbose=1)\n",
    "clf_gs_geo2 = GridSearchCV(clf, params, cv=5, verbose=1)"
   ]
  },
  {
   "cell_type": "code",
   "execution_count": 18,
   "metadata": {},
   "outputs": [
    {
     "name": "stdout",
     "output_type": "stream",
     "text": [
      "Fitting 5 folds for each of 4 candidates, totalling 20 fits\n"
     ]
    },
    {
     "name": "stderr",
     "output_type": "stream",
     "text": [
      "[Parallel(n_jobs=1)]: Using backend SequentialBackend with 1 concurrent workers.\n",
      "[Parallel(n_jobs=1)]: Done  20 out of  20 | elapsed:    0.1s finished\n",
      "[Parallel(n_jobs=1)]: Using backend SequentialBackend with 1 concurrent workers.\n"
     ]
    },
    {
     "name": "stdout",
     "output_type": "stream",
     "text": [
      "Fitting 5 folds for each of 4 candidates, totalling 20 fits\n"
     ]
    },
    {
     "name": "stderr",
     "output_type": "stream",
     "text": [
      "[Parallel(n_jobs=1)]: Done  20 out of  20 | elapsed:    0.1s finished\n",
      "[Parallel(n_jobs=1)]: Using backend SequentialBackend with 1 concurrent workers.\n"
     ]
    },
    {
     "name": "stdout",
     "output_type": "stream",
     "text": [
      "Fitting 5 folds for each of 4 candidates, totalling 20 fits\n"
     ]
    },
    {
     "name": "stderr",
     "output_type": "stream",
     "text": [
      "[Parallel(n_jobs=1)]: Done  20 out of  20 | elapsed:    0.1s finished\n"
     ]
    },
    {
     "data": {
      "text/plain": [
       "GridSearchCV(cv=5, estimator=LinearRegression(),\n",
       "             param_grid={'fit_intercept': [True, False],\n",
       "                         'normalize': [True, False]},\n",
       "             verbose=1)"
      ]
     },
     "execution_count": 18,
     "metadata": {},
     "output_type": "execute_result"
    }
   ],
   "source": [
    "clf_gs_geo0.fit(x_geo0_train, y_geo0_train)\n",
    "clf_gs_geo1.fit(x_geo1_train, y_geo1_train)\n",
    "clf_gs_geo2.fit(x_geo2_train, y_geo2_train)"
   ]
  },
  {
   "cell_type": "code",
   "execution_count": 19,
   "metadata": {},
   "outputs": [
    {
     "data": {
      "text/plain": [
       "array([ 62.28661337,  70.42817752,  87.34956247, ...,  95.05743312,\n",
       "        78.94454642, 115.48299868])"
      ]
     },
     "execution_count": 19,
     "metadata": {},
     "output_type": "execute_result"
    }
   ],
   "source": [
    "prediction_geo0 = clf_gs_geo0.predict(x_geo0_test)\n",
    "prediction_geo1 = clf_gs_geo1.predict(x_geo1_test)\n",
    "prediction_geo2 = clf_gs_geo2.predict(x_geo2_test)\n",
    "prediction_geo0"
   ]
  },
  {
   "cell_type": "markdown",
   "metadata": {},
   "source": [
    "Предскажем результаты по тестовым данным и соберем реальные данные и предсказанные в один датафрейм:"
   ]
  },
  {
   "cell_type": "code",
   "execution_count": 20,
   "metadata": {},
   "outputs": [],
   "source": [
    "region_list = ['geo0', 'geo1', 'geo2']"
   ]
  },
  {
   "cell_type": "code",
   "execution_count": 21,
   "metadata": {},
   "outputs": [
    {
     "name": "stdout",
     "output_type": "stream",
     "text": [
      "geo0_results\n"
     ]
    },
    {
     "data": {
      "text/html": [
       "<div>\n",
       "<style scoped>\n",
       "    .dataframe tbody tr th:only-of-type {\n",
       "        vertical-align: middle;\n",
       "    }\n",
       "\n",
       "    .dataframe tbody tr th {\n",
       "        vertical-align: top;\n",
       "    }\n",
       "\n",
       "    .dataframe thead th {\n",
       "        text-align: right;\n",
       "    }\n",
       "</style>\n",
       "<table border=\"1\" class=\"dataframe\">\n",
       "  <thead>\n",
       "    <tr style=\"text-align: right;\">\n",
       "      <th></th>\n",
       "      <th>real</th>\n",
       "      <th>predicted</th>\n",
       "      <th>difference</th>\n",
       "    </tr>\n",
       "  </thead>\n",
       "  <tbody>\n",
       "    <tr>\n",
       "      <th>0</th>\n",
       "      <td>61.171722</td>\n",
       "      <td>62.286613</td>\n",
       "      <td>-1.114891</td>\n",
       "    </tr>\n",
       "    <tr>\n",
       "      <th>1</th>\n",
       "      <td>94.192535</td>\n",
       "      <td>70.428178</td>\n",
       "      <td>23.764358</td>\n",
       "    </tr>\n",
       "    <tr>\n",
       "      <th>2</th>\n",
       "      <td>137.742601</td>\n",
       "      <td>87.349562</td>\n",
       "      <td>50.393039</td>\n",
       "    </tr>\n",
       "    <tr>\n",
       "      <th>3</th>\n",
       "      <td>10.936404</td>\n",
       "      <td>26.782932</td>\n",
       "      <td>-15.846527</td>\n",
       "    </tr>\n",
       "    <tr>\n",
       "      <th>4</th>\n",
       "      <td>49.611033</td>\n",
       "      <td>34.554999</td>\n",
       "      <td>15.056034</td>\n",
       "    </tr>\n",
       "  </tbody>\n",
       "</table>\n",
       "</div>"
      ],
      "text/plain": [
       "         real  predicted  difference\n",
       "0   61.171722  62.286613   -1.114891\n",
       "1   94.192535  70.428178   23.764358\n",
       "2  137.742601  87.349562   50.393039\n",
       "3   10.936404  26.782932  -15.846527\n",
       "4   49.611033  34.554999   15.056034"
      ]
     },
     "metadata": {},
     "output_type": "display_data"
    },
    {
     "name": "stdout",
     "output_type": "stream",
     "text": [
      "geo1_results\n"
     ]
    },
    {
     "data": {
      "text/html": [
       "<div>\n",
       "<style scoped>\n",
       "    .dataframe tbody tr th:only-of-type {\n",
       "        vertical-align: middle;\n",
       "    }\n",
       "\n",
       "    .dataframe tbody tr th {\n",
       "        vertical-align: top;\n",
       "    }\n",
       "\n",
       "    .dataframe thead th {\n",
       "        text-align: right;\n",
       "    }\n",
       "</style>\n",
       "<table border=\"1\" class=\"dataframe\">\n",
       "  <thead>\n",
       "    <tr style=\"text-align: right;\">\n",
       "      <th></th>\n",
       "      <th>real</th>\n",
       "      <th>predicted</th>\n",
       "      <th>difference</th>\n",
       "    </tr>\n",
       "  </thead>\n",
       "  <tbody>\n",
       "    <tr>\n",
       "      <th>0</th>\n",
       "      <td>57.085625</td>\n",
       "      <td>55.971735</td>\n",
       "      <td>1.113890</td>\n",
       "    </tr>\n",
       "    <tr>\n",
       "      <th>1</th>\n",
       "      <td>57.085625</td>\n",
       "      <td>54.633633</td>\n",
       "      <td>2.451992</td>\n",
       "    </tr>\n",
       "    <tr>\n",
       "      <th>2</th>\n",
       "      <td>53.906522</td>\n",
       "      <td>54.674833</td>\n",
       "      <td>-0.768311</td>\n",
       "    </tr>\n",
       "    <tr>\n",
       "      <th>3</th>\n",
       "      <td>134.766305</td>\n",
       "      <td>133.810938</td>\n",
       "      <td>0.955367</td>\n",
       "    </tr>\n",
       "    <tr>\n",
       "      <th>4</th>\n",
       "      <td>84.038886</td>\n",
       "      <td>85.478312</td>\n",
       "      <td>-1.439426</td>\n",
       "    </tr>\n",
       "  </tbody>\n",
       "</table>\n",
       "</div>"
      ],
      "text/plain": [
       "         real   predicted  difference\n",
       "0   57.085625   55.971735    1.113890\n",
       "1   57.085625   54.633633    2.451992\n",
       "2   53.906522   54.674833   -0.768311\n",
       "3  134.766305  133.810938    0.955367\n",
       "4   84.038886   85.478312   -1.439426"
      ]
     },
     "metadata": {},
     "output_type": "display_data"
    },
    {
     "name": "stdout",
     "output_type": "stream",
     "text": [
      "geo2_results\n"
     ]
    },
    {
     "data": {
      "text/html": [
       "<div>\n",
       "<style scoped>\n",
       "    .dataframe tbody tr th:only-of-type {\n",
       "        vertical-align: middle;\n",
       "    }\n",
       "\n",
       "    .dataframe tbody tr th {\n",
       "        vertical-align: top;\n",
       "    }\n",
       "\n",
       "    .dataframe thead th {\n",
       "        text-align: right;\n",
       "    }\n",
       "</style>\n",
       "<table border=\"1\" class=\"dataframe\">\n",
       "  <thead>\n",
       "    <tr style=\"text-align: right;\">\n",
       "      <th></th>\n",
       "      <th>real</th>\n",
       "      <th>predicted</th>\n",
       "      <th>difference</th>\n",
       "    </tr>\n",
       "  </thead>\n",
       "  <tbody>\n",
       "    <tr>\n",
       "      <th>0</th>\n",
       "      <td>37.147754</td>\n",
       "      <td>42.989028</td>\n",
       "      <td>-5.841274</td>\n",
       "    </tr>\n",
       "    <tr>\n",
       "      <th>1</th>\n",
       "      <td>55.498481</td>\n",
       "      <td>95.462292</td>\n",
       "      <td>-39.963810</td>\n",
       "    </tr>\n",
       "    <tr>\n",
       "      <th>2</th>\n",
       "      <td>60.024016</td>\n",
       "      <td>109.408090</td>\n",
       "      <td>-49.384075</td>\n",
       "    </tr>\n",
       "    <tr>\n",
       "      <th>3</th>\n",
       "      <td>33.638710</td>\n",
       "      <td>144.760222</td>\n",
       "      <td>-111.121512</td>\n",
       "    </tr>\n",
       "    <tr>\n",
       "      <th>4</th>\n",
       "      <td>109.242324</td>\n",
       "      <td>103.116807</td>\n",
       "      <td>6.125517</td>\n",
       "    </tr>\n",
       "  </tbody>\n",
       "</table>\n",
       "</div>"
      ],
      "text/plain": [
       "         real   predicted  difference\n",
       "0   37.147754   42.989028   -5.841274\n",
       "1   55.498481   95.462292  -39.963810\n",
       "2   60.024016  109.408090  -49.384075\n",
       "3   33.638710  144.760222 -111.121512\n",
       "4  109.242324  103.116807    6.125517"
      ]
     },
     "metadata": {},
     "output_type": "display_data"
    }
   ],
   "source": [
    "for i in range(len(region_list)):\n",
    "    globals()[region_list[i]+'_results'] = pd.DataFrame({\n",
    "        'real':globals()['y_'+region_list[i]+'_test'].reset_index(drop=True), \n",
    "        'predicted':pd.Series(globals()['prediction_'+region_list[i]])})\n",
    "    globals()[region_list[i]+'_results']['difference'] = (globals()[region_list[i]+'_results']['real'] -\n",
    "        globals()[region_list[i]+'_results']['predicted'])\n",
    "    print(region_list[i]+'_results')\n",
    "    display(globals()[region_list[i]+'_results'].head())"
   ]
  },
  {
   "cell_type": "code",
   "execution_count": 22,
   "metadata": {},
   "outputs": [
    {
     "name": "stdout",
     "output_type": "stream",
     "text": [
      "Region = geo0\n",
      "\n",
      "RMSE = 37.72\n",
      "Real mean = 92.39\n",
      "Predicted mean = 92.42\n",
      "Real total product = 2309375.0\n",
      "Predicted total product = 2310134.0\n",
      "\n",
      "Region = geo1\n",
      "\n",
      "RMSE = 0.89\n",
      "Real mean = 68.98\n",
      "Predicted mean = 68.98\n",
      "Real total product = 1724371.0\n",
      "Predicted total product = 1724440.0\n",
      "\n",
      "Region = geo2\n",
      "\n",
      "RMSE = 39.98\n",
      "Real mean = 94.55\n",
      "Predicted mean = 95.12\n",
      "Real total product = 2363506.0\n",
      "Predicted total product = 2377715.0\n",
      "\n"
     ]
    }
   ],
   "source": [
    "for i in range(len(region_list)):\n",
    "    globals()['mse_'+region_list[i]] = mean_squared_error(globals()[region_list[i]+'_results']['real'], \n",
    "                                                          globals()[region_list[i]+'_results']['predicted'])\n",
    "    globals()['rmse_'+region_list[i]] = globals()['mse_'+region_list[i]]**0.5\n",
    "    globals()['real_mean_'+region_list[i]] = globals()[region_list[i]+'_results']['real'].mean()\n",
    "    globals()['pred_mean_'+region_list[i]] = globals()[region_list[i]+'_results']['predicted'].mean()\n",
    "    globals()['real_product_'+region_list[i]] = globals()[region_list[i]+'_results']['real'].sum()\n",
    "    globals()['pred_product_'+region_list[i]] = globals()[region_list[i]+'_results']['predicted'].sum()\n",
    "    \n",
    "    print(f'Region = {region_list[i]}')\n",
    "    print()\n",
    "    print('RMSE =', globals()['rmse_'+region_list[i]].round(2))\n",
    "    print('Real mean =', globals()['real_mean_'+region_list[i]].round(2))\n",
    "    print('Predicted mean =', globals()['pred_mean_'+region_list[i]].round(2))\n",
    "    print('Real total product =', globals()['real_product_'+region_list[i]].round(0))\n",
    "    print('Predicted total product =', globals()['pred_product_'+region_list[i]].round(0))\n",
    "\n",
    "    print()"
   ]
  },
  {
   "cell_type": "markdown",
   "metadata": {},
   "source": [
    "### Анализ результатов по 3 регионам"
   ]
  },
  {
   "cell_type": "code",
   "execution_count": 23,
   "metadata": {},
   "outputs": [],
   "source": [
    "all_regions_results = pd.DataFrame({\n",
    "    'Region' : ['geo0', 'geo1', 'geo2'], 'RMSE' : [rmse_geo0, rmse_geo1, rmse_geo2],\n",
    "    'Real mean' : [real_mean_geo0, real_mean_geo1, real_mean_geo2],\n",
    "    'Predicted mean' : [pred_mean_geo0, pred_mean_geo1, pred_mean_geo2],\n",
    "    'Real total product' : [real_product_geo0, real_product_geo1, real_product_geo2],\n",
    "    'Predicted total product' : [pred_product_geo0, pred_product_geo1, pred_product_geo2]\n",
    "}).round(2)"
   ]
  },
  {
   "cell_type": "code",
   "execution_count": 24,
   "metadata": {},
   "outputs": [
    {
     "data": {
      "text/html": [
       "<div>\n",
       "<style scoped>\n",
       "    .dataframe tbody tr th:only-of-type {\n",
       "        vertical-align: middle;\n",
       "    }\n",
       "\n",
       "    .dataframe tbody tr th {\n",
       "        vertical-align: top;\n",
       "    }\n",
       "\n",
       "    .dataframe thead th {\n",
       "        text-align: right;\n",
       "    }\n",
       "</style>\n",
       "<table border=\"1\" class=\"dataframe\">\n",
       "  <thead>\n",
       "    <tr style=\"text-align: right;\">\n",
       "      <th></th>\n",
       "      <th>Region</th>\n",
       "      <th>RMSE</th>\n",
       "      <th>Real mean</th>\n",
       "      <th>Predicted mean</th>\n",
       "      <th>Real total product</th>\n",
       "      <th>Predicted total product</th>\n",
       "    </tr>\n",
       "  </thead>\n",
       "  <tbody>\n",
       "    <tr>\n",
       "      <th>0</th>\n",
       "      <td>geo0</td>\n",
       "      <td>37.72</td>\n",
       "      <td>92.39</td>\n",
       "      <td>92.42</td>\n",
       "      <td>2309375.27</td>\n",
       "      <td>2310133.91</td>\n",
       "    </tr>\n",
       "    <tr>\n",
       "      <th>1</th>\n",
       "      <td>geo1</td>\n",
       "      <td>0.89</td>\n",
       "      <td>68.98</td>\n",
       "      <td>68.98</td>\n",
       "      <td>1724371.37</td>\n",
       "      <td>1724440.00</td>\n",
       "    </tr>\n",
       "    <tr>\n",
       "      <th>2</th>\n",
       "      <td>geo2</td>\n",
       "      <td>39.98</td>\n",
       "      <td>94.55</td>\n",
       "      <td>95.12</td>\n",
       "      <td>2363506.35</td>\n",
       "      <td>2377715.34</td>\n",
       "    </tr>\n",
       "  </tbody>\n",
       "</table>\n",
       "</div>"
      ],
      "text/plain": [
       "  Region   RMSE  Real mean  Predicted mean  Real total product  \\\n",
       "0   geo0  37.72      92.39           92.42          2309375.27   \n",
       "1   geo1   0.89      68.98           68.98          1724371.37   \n",
       "2   geo2  39.98      94.55           95.12          2363506.35   \n",
       "\n",
       "   Predicted total product  \n",
       "0               2310133.91  \n",
       "1               1724440.00  \n",
       "2               2377715.34  "
      ]
     },
     "execution_count": 24,
     "metadata": {},
     "output_type": "execute_result"
    }
   ],
   "source": [
    "all_regions_results"
   ]
  },
  {
   "cell_type": "markdown",
   "metadata": {},
   "source": [
    "По всем трем регионам модель довольно точно предсказывает общий объем запасов в скважине, и среднее предсказываемое значение очень близко к реальному. Подозрительно низкий результат RMSE у региона geo1 и 100% попадание со средним значением. В предыдущих шагах также было замечено, что в регионе geo0 всего 12 уникальных значений product, думаю что именно с этим и связана такая точность предсказаний."
   ]
  },
  {
   "cell_type": "markdown",
   "metadata": {},
   "source": [
    "### Подготовлю данные к расчёту прибыли"
   ]
  },
  {
   "cell_type": "markdown",
   "metadata": {},
   "source": [
    "Добавим переменные для дальнейших расчетов:"
   ]
  },
  {
   "cell_type": "code",
   "execution_count": 25,
   "metadata": {},
   "outputs": [],
   "source": [
    "product_breakeven_ttl = 10000000/450\n",
    "product_breakeven_each = product_breakeven_ttl/200\n",
    "profit_per_product_mln = 0.45\n",
    "budget_mln = 10000\n",
    "geo0_mean = geo0['product'].mean()\n",
    "geo1_mean = geo1['product'].mean()\n",
    "geo2_mean = geo2['product'].mean()"
   ]
  },
  {
   "cell_type": "code",
   "execution_count": 26,
   "metadata": {},
   "outputs": [
    {
     "name": "stdout",
     "output_type": "stream",
     "text": [
      "Общий объём сырья для безубыточной разработки = 22222.22 тысяч баррелей\n",
      "Объём сырья для безубыточной разработки одного месторождения = 111.11 тысяч баррелей\n",
      "Средний объём сырья месторождения в регионе geo0 = 92.50 тысяч баррелей\n",
      "Средний объём сырья месторождения в регионе geo1 = 68.82 тысяч баррелей\n",
      "Средний объём сырья месторождения в регионе geo2 = 95.00 тысяч баррелей\n"
     ]
    }
   ],
   "source": [
    "print(f'Общий объём сырья для безубыточной разработки = {product_breakeven_ttl:.2f} тысяч баррелей',\n",
    "      f'Объём сырья для безубыточной разработки одного месторождения = {product_breakeven_each:.2f} тысяч баррелей',\n",
    "      f'Средний объём сырья месторождения в регионе geo0 = {geo0_mean:.2f} тысяч баррелей',\n",
    "      f'Средний объём сырья месторождения в регионе geo1 = {geo1_mean:.2f} тысяч баррелей',\n",
    "      f'Средний объём сырья месторождения в регионе geo2 = {geo2_mean:.2f} тысяч баррелей',\n",
    "     sep='\\n')"
   ]
  },
  {
   "cell_type": "markdown",
   "metadata": {},
   "source": [
    "Средний объём сырья одного месторождения во всех регионах ниже, чем точка безубыточности по одной скважине. В регионах geo0 и geo2 запас средней скважины на 16% ниже необходимого, а geo1 на все 39%."
   ]
  },
  {
   "cell_type": "markdown",
   "metadata": {},
   "source": [
    "### Соберу датафрейм с предсказанными и реальными значениями"
   ]
  },
  {
   "cell_type": "code",
   "execution_count": 27,
   "metadata": {},
   "outputs": [],
   "source": [
    "geo0_results['real_profit_mln'] = geo0_results['real']*profit_per_product_mln\n",
    "geo0_results['pred_profit_mln'] = geo0_results['predicted']*profit_per_product_mln\n",
    "geo1_results['real_profit_mln'] = geo1_results['real']*profit_per_product_mln\n",
    "geo1_results['pred_profit_mln'] = geo1_results['predicted']*profit_per_product_mln\n",
    "geo2_results['real_profit_mln'] = geo2_results['real']*profit_per_product_mln\n",
    "geo2_results['pred_profit_mln'] = geo2_results['predicted']*profit_per_product_mln"
   ]
  },
  {
   "cell_type": "code",
   "execution_count": 28,
   "metadata": {},
   "outputs": [
    {
     "data": {
      "text/html": [
       "<div>\n",
       "<style scoped>\n",
       "    .dataframe tbody tr th:only-of-type {\n",
       "        vertical-align: middle;\n",
       "    }\n",
       "\n",
       "    .dataframe tbody tr th {\n",
       "        vertical-align: top;\n",
       "    }\n",
       "\n",
       "    .dataframe thead th {\n",
       "        text-align: right;\n",
       "    }\n",
       "</style>\n",
       "<table border=\"1\" class=\"dataframe\">\n",
       "  <thead>\n",
       "    <tr style=\"text-align: right;\">\n",
       "      <th></th>\n",
       "      <th>real</th>\n",
       "      <th>predicted</th>\n",
       "      <th>difference</th>\n",
       "      <th>real_profit_mln</th>\n",
       "      <th>pred_profit_mln</th>\n",
       "    </tr>\n",
       "  </thead>\n",
       "  <tbody>\n",
       "    <tr>\n",
       "      <th>0</th>\n",
       "      <td>61.171722</td>\n",
       "      <td>62.286613</td>\n",
       "      <td>-1.114891</td>\n",
       "      <td>27.527275</td>\n",
       "      <td>28.028976</td>\n",
       "    </tr>\n",
       "    <tr>\n",
       "      <th>1</th>\n",
       "      <td>94.192535</td>\n",
       "      <td>70.428178</td>\n",
       "      <td>23.764358</td>\n",
       "      <td>42.386641</td>\n",
       "      <td>31.692680</td>\n",
       "    </tr>\n",
       "    <tr>\n",
       "      <th>2</th>\n",
       "      <td>137.742601</td>\n",
       "      <td>87.349562</td>\n",
       "      <td>50.393039</td>\n",
       "      <td>61.984171</td>\n",
       "      <td>39.307303</td>\n",
       "    </tr>\n",
       "    <tr>\n",
       "      <th>3</th>\n",
       "      <td>10.936404</td>\n",
       "      <td>26.782932</td>\n",
       "      <td>-15.846527</td>\n",
       "      <td>4.921382</td>\n",
       "      <td>12.052319</td>\n",
       "    </tr>\n",
       "    <tr>\n",
       "      <th>4</th>\n",
       "      <td>49.611033</td>\n",
       "      <td>34.554999</td>\n",
       "      <td>15.056034</td>\n",
       "      <td>22.324965</td>\n",
       "      <td>15.549750</td>\n",
       "    </tr>\n",
       "  </tbody>\n",
       "</table>\n",
       "</div>"
      ],
      "text/plain": [
       "         real  predicted  difference  real_profit_mln  pred_profit_mln\n",
       "0   61.171722  62.286613   -1.114891        27.527275        28.028976\n",
       "1   94.192535  70.428178   23.764358        42.386641        31.692680\n",
       "2  137.742601  87.349562   50.393039        61.984171        39.307303\n",
       "3   10.936404  26.782932  -15.846527         4.921382        12.052319\n",
       "4   49.611033  34.554999   15.056034        22.324965        15.549750"
      ]
     },
     "metadata": {},
     "output_type": "display_data"
    },
    {
     "data": {
      "text/html": [
       "<div>\n",
       "<style scoped>\n",
       "    .dataframe tbody tr th:only-of-type {\n",
       "        vertical-align: middle;\n",
       "    }\n",
       "\n",
       "    .dataframe tbody tr th {\n",
       "        vertical-align: top;\n",
       "    }\n",
       "\n",
       "    .dataframe thead th {\n",
       "        text-align: right;\n",
       "    }\n",
       "</style>\n",
       "<table border=\"1\" class=\"dataframe\">\n",
       "  <thead>\n",
       "    <tr style=\"text-align: right;\">\n",
       "      <th></th>\n",
       "      <th>real</th>\n",
       "      <th>predicted</th>\n",
       "      <th>difference</th>\n",
       "      <th>real_profit_mln</th>\n",
       "      <th>pred_profit_mln</th>\n",
       "    </tr>\n",
       "  </thead>\n",
       "  <tbody>\n",
       "    <tr>\n",
       "      <th>0</th>\n",
       "      <td>57.085625</td>\n",
       "      <td>55.971735</td>\n",
       "      <td>1.113890</td>\n",
       "      <td>25.688531</td>\n",
       "      <td>25.187281</td>\n",
       "    </tr>\n",
       "    <tr>\n",
       "      <th>1</th>\n",
       "      <td>57.085625</td>\n",
       "      <td>54.633633</td>\n",
       "      <td>2.451992</td>\n",
       "      <td>25.688531</td>\n",
       "      <td>24.585135</td>\n",
       "    </tr>\n",
       "    <tr>\n",
       "      <th>2</th>\n",
       "      <td>53.906522</td>\n",
       "      <td>54.674833</td>\n",
       "      <td>-0.768311</td>\n",
       "      <td>24.257935</td>\n",
       "      <td>24.603675</td>\n",
       "    </tr>\n",
       "    <tr>\n",
       "      <th>3</th>\n",
       "      <td>134.766305</td>\n",
       "      <td>133.810938</td>\n",
       "      <td>0.955367</td>\n",
       "      <td>60.644837</td>\n",
       "      <td>60.214922</td>\n",
       "    </tr>\n",
       "    <tr>\n",
       "      <th>4</th>\n",
       "      <td>84.038886</td>\n",
       "      <td>85.478312</td>\n",
       "      <td>-1.439426</td>\n",
       "      <td>37.817499</td>\n",
       "      <td>38.465240</td>\n",
       "    </tr>\n",
       "  </tbody>\n",
       "</table>\n",
       "</div>"
      ],
      "text/plain": [
       "         real   predicted  difference  real_profit_mln  pred_profit_mln\n",
       "0   57.085625   55.971735    1.113890        25.688531        25.187281\n",
       "1   57.085625   54.633633    2.451992        25.688531        24.585135\n",
       "2   53.906522   54.674833   -0.768311        24.257935        24.603675\n",
       "3  134.766305  133.810938    0.955367        60.644837        60.214922\n",
       "4   84.038886   85.478312   -1.439426        37.817499        38.465240"
      ]
     },
     "metadata": {},
     "output_type": "display_data"
    },
    {
     "data": {
      "text/html": [
       "<div>\n",
       "<style scoped>\n",
       "    .dataframe tbody tr th:only-of-type {\n",
       "        vertical-align: middle;\n",
       "    }\n",
       "\n",
       "    .dataframe tbody tr th {\n",
       "        vertical-align: top;\n",
       "    }\n",
       "\n",
       "    .dataframe thead th {\n",
       "        text-align: right;\n",
       "    }\n",
       "</style>\n",
       "<table border=\"1\" class=\"dataframe\">\n",
       "  <thead>\n",
       "    <tr style=\"text-align: right;\">\n",
       "      <th></th>\n",
       "      <th>real</th>\n",
       "      <th>predicted</th>\n",
       "      <th>difference</th>\n",
       "      <th>real_profit_mln</th>\n",
       "      <th>pred_profit_mln</th>\n",
       "    </tr>\n",
       "  </thead>\n",
       "  <tbody>\n",
       "    <tr>\n",
       "      <th>0</th>\n",
       "      <td>37.147754</td>\n",
       "      <td>42.989028</td>\n",
       "      <td>-5.841274</td>\n",
       "      <td>16.716490</td>\n",
       "      <td>19.345063</td>\n",
       "    </tr>\n",
       "    <tr>\n",
       "      <th>1</th>\n",
       "      <td>55.498481</td>\n",
       "      <td>95.462292</td>\n",
       "      <td>-39.963810</td>\n",
       "      <td>24.974317</td>\n",
       "      <td>42.958031</td>\n",
       "    </tr>\n",
       "    <tr>\n",
       "      <th>2</th>\n",
       "      <td>60.024016</td>\n",
       "      <td>109.408090</td>\n",
       "      <td>-49.384075</td>\n",
       "      <td>27.010807</td>\n",
       "      <td>49.233641</td>\n",
       "    </tr>\n",
       "    <tr>\n",
       "      <th>3</th>\n",
       "      <td>33.638710</td>\n",
       "      <td>144.760222</td>\n",
       "      <td>-111.121512</td>\n",
       "      <td>15.137419</td>\n",
       "      <td>65.142100</td>\n",
       "    </tr>\n",
       "    <tr>\n",
       "      <th>4</th>\n",
       "      <td>109.242324</td>\n",
       "      <td>103.116807</td>\n",
       "      <td>6.125517</td>\n",
       "      <td>49.159046</td>\n",
       "      <td>46.402563</td>\n",
       "    </tr>\n",
       "  </tbody>\n",
       "</table>\n",
       "</div>"
      ],
      "text/plain": [
       "         real   predicted  difference  real_profit_mln  pred_profit_mln\n",
       "0   37.147754   42.989028   -5.841274        16.716490        19.345063\n",
       "1   55.498481   95.462292  -39.963810        24.974317        42.958031\n",
       "2   60.024016  109.408090  -49.384075        27.010807        49.233641\n",
       "3   33.638710  144.760222 -111.121512        15.137419        65.142100\n",
       "4  109.242324  103.116807    6.125517        49.159046        46.402563"
      ]
     },
     "metadata": {},
     "output_type": "display_data"
    }
   ],
   "source": [
    "display(geo0_results.head())\n",
    "display(geo1_results.head())\n",
    "display(geo2_results.head())"
   ]
  },
  {
   "cell_type": "code",
   "execution_count": 29,
   "metadata": {},
   "outputs": [],
   "source": [
    "geo0_top200 = geo0_results.sort_values('predicted', ascending=False)[:200]\n",
    "geo1_top200 = geo1_results.sort_values('predicted', ascending=False)[:200]\n",
    "geo2_top200 = geo2_results.sort_values('predicted', ascending=False)[:200]"
   ]
  },
  {
   "cell_type": "code",
   "execution_count": 30,
   "metadata": {},
   "outputs": [
    {
     "data": {
      "text/html": [
       "<div>\n",
       "<style scoped>\n",
       "    .dataframe tbody tr th:only-of-type {\n",
       "        vertical-align: middle;\n",
       "    }\n",
       "\n",
       "    .dataframe tbody tr th {\n",
       "        vertical-align: top;\n",
       "    }\n",
       "\n",
       "    .dataframe thead th {\n",
       "        text-align: right;\n",
       "    }\n",
       "</style>\n",
       "<table border=\"1\" class=\"dataframe\">\n",
       "  <thead>\n",
       "    <tr style=\"text-align: right;\">\n",
       "      <th></th>\n",
       "      <th>real</th>\n",
       "      <th>predicted</th>\n",
       "      <th>real_profit_mln</th>\n",
       "      <th>pred_profit_mln</th>\n",
       "    </tr>\n",
       "  </thead>\n",
       "  <tbody>\n",
       "    <tr>\n",
       "      <th>geo0</th>\n",
       "      <td>29191.17</td>\n",
       "      <td>30804.35</td>\n",
       "      <td>3136.03</td>\n",
       "      <td>3861.96</td>\n",
       "    </tr>\n",
       "    <tr>\n",
       "      <th>geo1</th>\n",
       "      <td>27589.08</td>\n",
       "      <td>27744.67</td>\n",
       "      <td>2415.09</td>\n",
       "      <td>2485.10</td>\n",
       "    </tr>\n",
       "    <tr>\n",
       "      <th>geo2</th>\n",
       "      <td>27702.10</td>\n",
       "      <td>29988.98</td>\n",
       "      <td>2465.95</td>\n",
       "      <td>3495.04</td>\n",
       "    </tr>\n",
       "  </tbody>\n",
       "</table>\n",
       "</div>"
      ],
      "text/plain": [
       "          real  predicted  real_profit_mln  pred_profit_mln\n",
       "geo0  29191.17   30804.35          3136.03          3861.96\n",
       "geo1  27589.08   27744.67          2415.09          2485.10\n",
       "geo2  27702.10   29988.98          2465.95          3495.04"
      ]
     },
     "execution_count": 30,
     "metadata": {},
     "output_type": "execute_result"
    }
   ],
   "source": [
    "profit0 = pd.DataFrame(geo0_top200.drop(['difference'], axis=1).sum()).transpose().rename(index={0: 'geo0'})\n",
    "profit1 = pd.DataFrame(geo1_top200.drop(['difference'], axis=1).sum()).transpose().rename(index={0: 'geo1'})\n",
    "profit2 = pd.DataFrame(geo2_top200.drop(['difference'], axis=1).sum()).transpose().rename(index={0: 'geo2'})\n",
    "profit_all_regions = pd.concat([profit0, profit1, profit2])\n",
    "profit_all_regions['real_profit_mln'] = profit_all_regions['real_profit_mln'] - budget_mln\n",
    "profit_all_regions['pred_profit_mln'] = profit_all_regions['pred_profit_mln'] - budget_mln\n",
    "profit_all_regions.round(2)"
   ]
  },
  {
   "cell_type": "markdown",
   "metadata": {},
   "source": [
    "По всем трем регионам предсказанная прибыль больше, чем реальная на 23%, 3% и 42% соответственно. Модель geo1 близка к реальности, а вот модели по geo0 и geo2 слишком оптимистичны."
   ]
  },
  {
   "cell_type": "markdown",
   "metadata": {},
   "source": [
    "### Готовлю функцию для расчета прибыли:"
   ]
  },
  {
   "cell_type": "code",
   "execution_count": 31,
   "metadata": {},
   "outputs": [],
   "source": [
    "def profit(df, quantity):\n",
    "    return df.sort_values('pred_profit_mln', ascending=False)[:quantity]['real_profit_mln'].sum() - budget_mln"
   ]
  },
  {
   "cell_type": "markdown",
   "metadata": {},
   "source": [
    "Проверяем:"
   ]
  },
  {
   "cell_type": "code",
   "execution_count": 32,
   "metadata": {},
   "outputs": [
    {
     "data": {
      "text/plain": [
       "2415.0866966815083"
      ]
     },
     "execution_count": 32,
     "metadata": {},
     "output_type": "execute_result"
    }
   ],
   "source": [
    "profit(geo1_top200, 200)"
   ]
  },
  {
   "cell_type": "markdown",
   "metadata": {},
   "source": [
    "### Посчитаю риски и прибыль для каждого региона"
   ]
  },
  {
   "cell_type": "markdown",
   "metadata": {},
   "source": [
    "#### Bootstrap"
   ]
  },
  {
   "cell_type": "code",
   "execution_count": 33,
   "metadata": {},
   "outputs": [],
   "source": [
    "state = np.random.RandomState(12345)\n",
    "values0 = []\n",
    "for i in range(1000):\n",
    "    subsample = geo0_results.sample(n=500, random_state=state, replace=True)\n",
    "    values0.append(profit(subsample, 200))"
   ]
  },
  {
   "cell_type": "code",
   "execution_count": 34,
   "metadata": {},
   "outputs": [],
   "source": [
    "state = np.random.RandomState(12345)\n",
    "values1 = []\n",
    "for i in range(1000):\n",
    "    subsample = geo1_results.sample(n=500, random_state=state, replace=True)\n",
    "    values1.append(profit(subsample, 200))"
   ]
  },
  {
   "cell_type": "code",
   "execution_count": 35,
   "metadata": {},
   "outputs": [],
   "source": [
    "state = np.random.RandomState(12345)\n",
    "values2 = []\n",
    "for i in range(1000):\n",
    "    subsample = geo2_results.sample(n=500, random_state=state, replace=True)\n",
    "    values2.append(profit(subsample, 200))"
   ]
  },
  {
   "cell_type": "code",
   "execution_count": 36,
   "metadata": {},
   "outputs": [],
   "source": [
    "values0, values1, values2 = pd.Series(values0), pd.Series(values1), pd.Series(values2)"
   ]
  },
  {
   "cell_type": "code",
   "execution_count": 37,
   "metadata": {},
   "outputs": [
    {
     "name": "stdout",
     "output_type": "stream",
     "text": [
      "Гистограмма распределения прибыли с 1000 выборок с региона geo0\n"
     ]
    },
    {
     "data": {
      "image/png": "[encoded data removed]",
      "text/plain": [
       "<Figure size 432x288 with 1 Axes>"
      ]
     },
     "metadata": {
      "needs_background": "light"
     },
     "output_type": "display_data"
    }
   ],
   "source": [
    "print('Гистограмма распределения прибыли с 1000 выборок с региона geo0')\n",
    "values0.hist();"
   ]
  },
  {
   "cell_type": "code",
   "execution_count": 38,
   "metadata": {},
   "outputs": [
    {
     "name": "stdout",
     "output_type": "stream",
     "text": [
      "Гистограмма распределения прибыли с 1000 выборок с региона geo1\n"
     ]
    },
    {
     "data": {
      "image/png": "[encoded data removed]",
      "text/plain": [
       "<Figure size 432x288 with 1 Axes>"
      ]
     },
     "metadata": {
      "needs_background": "light"
     },
     "output_type": "display_data"
    }
   ],
   "source": [
    "print('Гистограмма распределения прибыли с 1000 выборок с региона geo1')\n",
    "values1.hist();"
   ]
  },
  {
   "cell_type": "code",
   "execution_count": 39,
   "metadata": {},
   "outputs": [
    {
     "name": "stdout",
     "output_type": "stream",
     "text": [
      "Гистограмма распределения прибыли с 1000 выборок с региона geo2\n"
     ]
    },
    {
     "data": {
      "image/png": "[encoded data removed]",
      "text/plain": [
       "<Figure size 432x288 with 1 Axes>"
      ]
     },
     "metadata": {
      "needs_background": "light"
     },
     "output_type": "display_data"
    }
   ],
   "source": [
    "print('Гистограмма распределения прибыли с 1000 выборок с региона geo2')\n",
    "values2.hist();"
   ]
  },
  {
   "cell_type": "code",
   "execution_count": 40,
   "metadata": {},
   "outputs": [
    {
     "name": "stdout",
     "output_type": "stream",
     "text": [
      "Регион geo0\n",
      "\n",
      "Средняя прибыль = 431.54\n",
      "95% доверительный интервал = от 415.18 до 447.9\n",
      "Риск убытков = 5.5 %\n",
      "\n",
      "Регион geo1\n",
      "\n",
      "Средняя прибыль = 477.95\n",
      "95% доверительный интервал = от 461.59 до 494.31\n",
      "Риск убытков = 2.0 %\n",
      "\n",
      "Регион geo2\n",
      "\n",
      "Средняя прибыль = 322.15\n",
      "95% доверительный интервал = от 305.79 до 338.51\n",
      "Риск убытков = 12.3 %\n",
      "\n"
     ]
    }
   ],
   "source": [
    "for i in range(0,3):\n",
    "    globals()['mean_profit'+str(i)] = globals()['values'+str(i)].mean()\n",
    "    globals()['confidence_interval'+str(i)] = st.t.interval(alpha = 0.95, df=len(globals()['values'+str(i)])-1, \n",
    "                                                            loc=globals()['mean_profit'+str(i)], \n",
    "                                                            scale=values0.sem())\n",
    "    globals()['risk'+str(i)] = globals()['values'+str(i)][globals()['values'+str(i)] < 0].count() / \\\n",
    "        globals()['values'+str(i)].count()\n",
    "    \n",
    "    print(f'Регион geo{i}')\n",
    "    print()\n",
    "    print('Средняя прибыль =', globals()['mean_profit'+str(i)].round(2))\n",
    "    print('95% доверительный интервал = от', globals()['confidence_interval'+str(i)][0].round(2),\n",
    "         'до', globals()['confidence_interval'+str(i)][1].round(2))\n",
    "    print('Риск убытков =', globals()['risk'+str(i)]*100, '%')\n",
    "    print()"
   ]
  },
  {
   "cell_type": "code",
   "execution_count": 41,
   "metadata": {},
   "outputs": [
    {
     "data": {
      "text/html": [
       "<div>\n",
       "<style scoped>\n",
       "    .dataframe tbody tr th:only-of-type {\n",
       "        vertical-align: middle;\n",
       "    }\n",
       "\n",
       "    .dataframe tbody tr th {\n",
       "        vertical-align: top;\n",
       "    }\n",
       "\n",
       "    .dataframe thead th {\n",
       "        text-align: right;\n",
       "    }\n",
       "</style>\n",
       "<table border=\"1\" class=\"dataframe\">\n",
       "  <thead>\n",
       "    <tr style=\"text-align: right;\">\n",
       "      <th></th>\n",
       "      <th>Region</th>\n",
       "      <th>Mean profit</th>\n",
       "      <th>Conf interval start</th>\n",
       "      <th>Conf interval end</th>\n",
       "      <th>Risk%</th>\n",
       "    </tr>\n",
       "  </thead>\n",
       "  <tbody>\n",
       "    <tr>\n",
       "      <th>0</th>\n",
       "      <td>geo0</td>\n",
       "      <td>431.54</td>\n",
       "      <td>415.18</td>\n",
       "      <td>447.90</td>\n",
       "      <td>5.5</td>\n",
       "    </tr>\n",
       "    <tr>\n",
       "      <th>1</th>\n",
       "      <td>geo1</td>\n",
       "      <td>477.95</td>\n",
       "      <td>461.59</td>\n",
       "      <td>494.31</td>\n",
       "      <td>2.0</td>\n",
       "    </tr>\n",
       "    <tr>\n",
       "      <th>2</th>\n",
       "      <td>geo2</td>\n",
       "      <td>322.15</td>\n",
       "      <td>305.79</td>\n",
       "      <td>338.51</td>\n",
       "      <td>12.3</td>\n",
       "    </tr>\n",
       "  </tbody>\n",
       "</table>\n",
       "</div>"
      ],
      "text/plain": [
       "  Region  Mean profit  Conf interval start  Conf interval end  Risk%\n",
       "0   geo0       431.54               415.18             447.90    5.5\n",
       "1   geo1       477.95               461.59             494.31    2.0\n",
       "2   geo2       322.15               305.79             338.51   12.3"
      ]
     },
     "execution_count": 41,
     "metadata": {},
     "output_type": "execute_result"
    }
   ],
   "source": [
    "bootstrap_results = pd.DataFrame({\n",
    "    'Region' : ['geo0', 'geo1', 'geo2'], 'Mean profit' : [mean_profit0, mean_profit1, mean_profit2],\n",
    "    'Conf interval start' : [confidence_interval0[0], confidence_interval1[0], confidence_interval2[0]],\n",
    "    'Conf interval end' : [confidence_interval0[1], confidence_interval1[1], confidence_interval2[1]],\n",
    "    'Risk%' : [risk0*100, risk1*100, risk2*100]\n",
    "})\n",
    "bootstrap_results.round(2)"
   ]
  },
  {
   "cell_type": "markdown",
   "metadata": {},
   "source": [
    "## Вывод"
   ]
  },
  {
   "cell_type": "markdown",
   "metadata": {},
   "source": [
    "По всем трем регионам модель довольно точно предсказывает общий объем запасов в скважине, и среднее предсказываемое значение очень близко к реальному. \n",
    "\n",
    "Наибольшую точность показала модель обученная на регионе geo1:"
   ]
  },
  {
   "cell_type": "code",
   "execution_count": 42,
   "metadata": {},
   "outputs": [
    {
     "data": {
      "text/html": [
       "<div>\n",
       "<style scoped>\n",
       "    .dataframe tbody tr th:only-of-type {\n",
       "        vertical-align: middle;\n",
       "    }\n",
       "\n",
       "    .dataframe tbody tr th {\n",
       "        vertical-align: top;\n",
       "    }\n",
       "\n",
       "    .dataframe thead th {\n",
       "        text-align: right;\n",
       "    }\n",
       "</style>\n",
       "<table border=\"1\" class=\"dataframe\">\n",
       "  <thead>\n",
       "    <tr style=\"text-align: right;\">\n",
       "      <th></th>\n",
       "      <th>Region</th>\n",
       "      <th>RMSE</th>\n",
       "      <th>Real mean</th>\n",
       "      <th>Predicted mean</th>\n",
       "      <th>Real total product</th>\n",
       "      <th>Predicted total product</th>\n",
       "    </tr>\n",
       "  </thead>\n",
       "  <tbody>\n",
       "    <tr>\n",
       "      <th>0</th>\n",
       "      <td>geo0</td>\n",
       "      <td>37.72</td>\n",
       "      <td>92.39</td>\n",
       "      <td>92.42</td>\n",
       "      <td>2309375.27</td>\n",
       "      <td>2310133.91</td>\n",
       "    </tr>\n",
       "    <tr>\n",
       "      <th>1</th>\n",
       "      <td>geo1</td>\n",
       "      <td>0.89</td>\n",
       "      <td>68.98</td>\n",
       "      <td>68.98</td>\n",
       "      <td>1724371.37</td>\n",
       "      <td>1724440.00</td>\n",
       "    </tr>\n",
       "    <tr>\n",
       "      <th>2</th>\n",
       "      <td>geo2</td>\n",
       "      <td>39.98</td>\n",
       "      <td>94.55</td>\n",
       "      <td>95.12</td>\n",
       "      <td>2363506.35</td>\n",
       "      <td>2377715.34</td>\n",
       "    </tr>\n",
       "  </tbody>\n",
       "</table>\n",
       "</div>"
      ],
      "text/plain": [
       "  Region   RMSE  Real mean  Predicted mean  Real total product  \\\n",
       "0   geo0  37.72      92.39           92.42          2309375.27   \n",
       "1   geo1   0.89      68.98           68.98          1724371.37   \n",
       "2   geo2  39.98      94.55           95.12          2363506.35   \n",
       "\n",
       "   Predicted total product  \n",
       "0               2310133.91  \n",
       "1               1724440.00  \n",
       "2               2377715.34  "
      ]
     },
     "execution_count": 42,
     "metadata": {},
     "output_type": "execute_result"
    }
   ],
   "source": [
    "all_regions_results"
   ]
  },
  {
   "cell_type": "markdown",
   "metadata": {},
   "source": [
    "По всем трем регионам предсказанная прибыль больше, чем реальная на 23%, 3% и 42% соответственно. Модель geo1 близка к реальности, а вот модели по geo0 и geo2 слишком оптимистичны."
   ]
  },
  {
   "cell_type": "code",
   "execution_count": 43,
   "metadata": {
    "scrolled": true
   },
   "outputs": [
    {
     "data": {
      "text/html": [
       "<div>\n",
       "<style scoped>\n",
       "    .dataframe tbody tr th:only-of-type {\n",
       "        vertical-align: middle;\n",
       "    }\n",
       "\n",
       "    .dataframe tbody tr th {\n",
       "        vertical-align: top;\n",
       "    }\n",
       "\n",
       "    .dataframe thead th {\n",
       "        text-align: right;\n",
       "    }\n",
       "</style>\n",
       "<table border=\"1\" class=\"dataframe\">\n",
       "  <thead>\n",
       "    <tr style=\"text-align: right;\">\n",
       "      <th></th>\n",
       "      <th>real</th>\n",
       "      <th>predicted</th>\n",
       "      <th>real_profit_mln</th>\n",
       "      <th>pred_profit_mln</th>\n",
       "    </tr>\n",
       "  </thead>\n",
       "  <tbody>\n",
       "    <tr>\n",
       "      <th>geo0</th>\n",
       "      <td>29191.17</td>\n",
       "      <td>30804.35</td>\n",
       "      <td>3136.03</td>\n",
       "      <td>3861.96</td>\n",
       "    </tr>\n",
       "    <tr>\n",
       "      <th>geo1</th>\n",
       "      <td>27589.08</td>\n",
       "      <td>27744.67</td>\n",
       "      <td>2415.09</td>\n",
       "      <td>2485.10</td>\n",
       "    </tr>\n",
       "    <tr>\n",
       "      <th>geo2</th>\n",
       "      <td>27702.10</td>\n",
       "      <td>29988.98</td>\n",
       "      <td>2465.95</td>\n",
       "      <td>3495.04</td>\n",
       "    </tr>\n",
       "  </tbody>\n",
       "</table>\n",
       "</div>"
      ],
      "text/plain": [
       "          real  predicted  real_profit_mln  pred_profit_mln\n",
       "geo0  29191.17   30804.35          3136.03          3861.96\n",
       "geo1  27589.08   27744.67          2415.09          2485.10\n",
       "geo2  27702.10   29988.98          2465.95          3495.04"
      ]
     },
     "execution_count": 43,
     "metadata": {},
     "output_type": "execute_result"
    }
   ],
   "source": [
    "profit_all_regions.round(2)"
   ]
  },
  {
   "cell_type": "markdown",
   "metadata": {},
   "source": [
    "По итогам применения метода Bootstrap, регион geo1 оказался наименее рискованным."
   ]
  },
  {
   "cell_type": "code",
   "execution_count": 44,
   "metadata": {},
   "outputs": [
    {
     "data": {
      "text/html": [
       "<div>\n",
       "<style scoped>\n",
       "    .dataframe tbody tr th:only-of-type {\n",
       "        vertical-align: middle;\n",
       "    }\n",
       "\n",
       "    .dataframe tbody tr th {\n",
       "        vertical-align: top;\n",
       "    }\n",
       "\n",
       "    .dataframe thead th {\n",
       "        text-align: right;\n",
       "    }\n",
       "</style>\n",
       "<table border=\"1\" class=\"dataframe\">\n",
       "  <thead>\n",
       "    <tr style=\"text-align: right;\">\n",
       "      <th></th>\n",
       "      <th>Region</th>\n",
       "      <th>Mean profit</th>\n",
       "      <th>Conf interval start</th>\n",
       "      <th>Conf interval end</th>\n",
       "      <th>Risk%</th>\n",
       "    </tr>\n",
       "  </thead>\n",
       "  <tbody>\n",
       "    <tr>\n",
       "      <th>0</th>\n",
       "      <td>geo0</td>\n",
       "      <td>431.54</td>\n",
       "      <td>415.18</td>\n",
       "      <td>447.90</td>\n",
       "      <td>5.5</td>\n",
       "    </tr>\n",
       "    <tr>\n",
       "      <th>1</th>\n",
       "      <td>geo1</td>\n",
       "      <td>477.95</td>\n",
       "      <td>461.59</td>\n",
       "      <td>494.31</td>\n",
       "      <td>2.0</td>\n",
       "    </tr>\n",
       "    <tr>\n",
       "      <th>2</th>\n",
       "      <td>geo2</td>\n",
       "      <td>322.15</td>\n",
       "      <td>305.79</td>\n",
       "      <td>338.51</td>\n",
       "      <td>12.3</td>\n",
       "    </tr>\n",
       "  </tbody>\n",
       "</table>\n",
       "</div>"
      ],
      "text/plain": [
       "  Region  Mean profit  Conf interval start  Conf interval end  Risk%\n",
       "0   geo0       431.54               415.18             447.90    5.5\n",
       "1   geo1       477.95               461.59             494.31    2.0\n",
       "2   geo2       322.15               305.79             338.51   12.3"
      ]
     },
     "execution_count": 44,
     "metadata": {},
     "output_type": "execute_result"
    }
   ],
   "source": [
    "bootstrap_results.round(2)"
   ]
  },
  {
   "cell_type": "markdown",
   "metadata": {},
   "source": [
    "В связи с вышеизолженным: оказалось что модель рассчитывает запасы в регионе geo0 и geo2 чересчур оптимистично, и в реальности показатели прибыли с большей вероятностью уйдут в убыток. В то время как в регионе geo1 модель ведет себя гораздо точнее и стабильнее, средняя прибыль выше и вероятность убытков меньше. В качестве региона для разработки скважин предлагаю регион geo1."
   ]
  }
 ],
 "metadata": {
  "kernelspec": {
   "display_name": "Python 3",
   "language": "python",
   "name": "python3"
  },
  "language_info": {
   "codemirror_mode": {
    "name": "ipython",
    "version": 3
   },
   "file_extension": ".py",
   "mimetype": "text/x-python",
   "name": "python",
   "nbconvert_exporter": "python",
   "pygments_lexer": "ipython3",
   "version": "3.8.2"
  }
 },
 "nbformat": 4,
 "nbformat_minor": 4
}
