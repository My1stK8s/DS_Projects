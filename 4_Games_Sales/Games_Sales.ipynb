{
 "cells": [
  {
   "cell_type": "markdown",
   "metadata": {},
   "source": [
    "# Исследование продаж компьютерных игр\n",
    "\n",
    "Из открытых источников доступны исторические данные о продажах игр, оценки пользователей и экспертов, жанры и платформы. Необходимо выявить определяющие успешность игры закономерности и для каждого из трех регионов (NA, Europe, JP) выбрать игры для рекламных кампаний."
   ]
  },
  {
   "cell_type": "code",
   "execution_count": 1,
   "metadata": {},
   "outputs": [],
   "source": [
    "import pandas as pd\n",
    "import matplotlib\n",
    "import matplotlib.pyplot as plt\n",
    "import seaborn as sns\n",
    "import datetime as dt\n",
    "import numpy as np\n",
    "from scipy import stats as st\n",
    "import warnings"
   ]
  },
  {
   "cell_type": "code",
   "execution_count": 2,
   "metadata": {
    "scrolled": true
   },
   "outputs": [],
   "source": [
    "games = pd.read_csv('C:\\\\Users\\\\yansa\\\\YP_Projects\\\\YP_DataSets\\\\SP4\\\\games.csv')"
   ]
  },
  {
   "cell_type": "code",
   "execution_count": 3,
   "metadata": {},
   "outputs": [
    {
     "data": {
      "text/html": [
       "<div>\n",
       "<style scoped>\n",
       "    .dataframe tbody tr th:only-of-type {\n",
       "        vertical-align: middle;\n",
       "    }\n",
       "\n",
       "    .dataframe tbody tr th {\n",
       "        vertical-align: top;\n",
       "    }\n",
       "\n",
       "    .dataframe thead th {\n",
       "        text-align: right;\n",
       "    }\n",
       "</style>\n",
       "<table border=\"1\" class=\"dataframe\">\n",
       "  <thead>\n",
       "    <tr style=\"text-align: right;\">\n",
       "      <th></th>\n",
       "      <th>Name</th>\n",
       "      <th>Platform</th>\n",
       "      <th>Year_of_Release</th>\n",
       "      <th>Genre</th>\n",
       "      <th>NA_sales</th>\n",
       "      <th>EU_sales</th>\n",
       "      <th>JP_sales</th>\n",
       "      <th>Other_sales</th>\n",
       "      <th>Critic_Score</th>\n",
       "      <th>User_Score</th>\n",
       "      <th>Rating</th>\n",
       "    </tr>\n",
       "  </thead>\n",
       "  <tbody>\n",
       "    <tr>\n",
       "      <th>0</th>\n",
       "      <td>Wii Sports</td>\n",
       "      <td>Wii</td>\n",
       "      <td>2006.0</td>\n",
       "      <td>Sports</td>\n",
       "      <td>41.36</td>\n",
       "      <td>28.96</td>\n",
       "      <td>3.77</td>\n",
       "      <td>8.45</td>\n",
       "      <td>76.0</td>\n",
       "      <td>8</td>\n",
       "      <td>E</td>\n",
       "    </tr>\n",
       "    <tr>\n",
       "      <th>1</th>\n",
       "      <td>Super Mario Bros.</td>\n",
       "      <td>NES</td>\n",
       "      <td>1985.0</td>\n",
       "      <td>Platform</td>\n",
       "      <td>29.08</td>\n",
       "      <td>3.58</td>\n",
       "      <td>6.81</td>\n",
       "      <td>0.77</td>\n",
       "      <td>NaN</td>\n",
       "      <td>NaN</td>\n",
       "      <td>NaN</td>\n",
       "    </tr>\n",
       "    <tr>\n",
       "      <th>2</th>\n",
       "      <td>Mario Kart Wii</td>\n",
       "      <td>Wii</td>\n",
       "      <td>2008.0</td>\n",
       "      <td>Racing</td>\n",
       "      <td>15.68</td>\n",
       "      <td>12.76</td>\n",
       "      <td>3.79</td>\n",
       "      <td>3.29</td>\n",
       "      <td>82.0</td>\n",
       "      <td>8.3</td>\n",
       "      <td>E</td>\n",
       "    </tr>\n",
       "    <tr>\n",
       "      <th>3</th>\n",
       "      <td>Wii Sports Resort</td>\n",
       "      <td>Wii</td>\n",
       "      <td>2009.0</td>\n",
       "      <td>Sports</td>\n",
       "      <td>15.61</td>\n",
       "      <td>10.93</td>\n",
       "      <td>3.28</td>\n",
       "      <td>2.95</td>\n",
       "      <td>80.0</td>\n",
       "      <td>8</td>\n",
       "      <td>E</td>\n",
       "    </tr>\n",
       "    <tr>\n",
       "      <th>4</th>\n",
       "      <td>Pokemon Red/Pokemon Blue</td>\n",
       "      <td>GB</td>\n",
       "      <td>1996.0</td>\n",
       "      <td>Role-Playing</td>\n",
       "      <td>11.27</td>\n",
       "      <td>8.89</td>\n",
       "      <td>10.22</td>\n",
       "      <td>1.00</td>\n",
       "      <td>NaN</td>\n",
       "      <td>NaN</td>\n",
       "      <td>NaN</td>\n",
       "    </tr>\n",
       "  </tbody>\n",
       "</table>\n",
       "</div>"
      ],
      "text/plain": [
       "                       Name Platform  Year_of_Release         Genre  NA_sales  \\\n",
       "0                Wii Sports      Wii           2006.0        Sports     41.36   \n",
       "1         Super Mario Bros.      NES           1985.0      Platform     29.08   \n",
       "2            Mario Kart Wii      Wii           2008.0        Racing     15.68   \n",
       "3         Wii Sports Resort      Wii           2009.0        Sports     15.61   \n",
       "4  Pokemon Red/Pokemon Blue       GB           1996.0  Role-Playing     11.27   \n",
       "\n",
       "   EU_sales  JP_sales  Other_sales  Critic_Score User_Score Rating  \n",
       "0     28.96      3.77         8.45          76.0          8      E  \n",
       "1      3.58      6.81         0.77           NaN        NaN    NaN  \n",
       "2     12.76      3.79         3.29          82.0        8.3      E  \n",
       "3     10.93      3.28         2.95          80.0          8      E  \n",
       "4      8.89     10.22         1.00           NaN        NaN    NaN  "
      ]
     },
     "execution_count": 3,
     "metadata": {},
     "output_type": "execute_result"
    }
   ],
   "source": [
    "games.head()"
   ]
  },
  {
   "cell_type": "code",
   "execution_count": 4,
   "metadata": {
    "scrolled": true
   },
   "outputs": [
    {
     "name": "stdout",
     "output_type": "stream",
     "text": [
      "<class 'pandas.core.frame.DataFrame'>\n",
      "RangeIndex: 16715 entries, 0 to 16714\n",
      "Data columns (total 11 columns):\n",
      " #   Column           Non-Null Count  Dtype  \n",
      "---  ------           --------------  -----  \n",
      " 0   Name             16713 non-null  object \n",
      " 1   Platform         16715 non-null  object \n",
      " 2   Year_of_Release  16446 non-null  float64\n",
      " 3   Genre            16713 non-null  object \n",
      " 4   NA_sales         16715 non-null  float64\n",
      " 5   EU_sales         16715 non-null  float64\n",
      " 6   JP_sales         16715 non-null  float64\n",
      " 7   Other_sales      16715 non-null  float64\n",
      " 8   Critic_Score     8137 non-null   float64\n",
      " 9   User_Score       10014 non-null  object \n",
      " 10  Rating           9949 non-null   object \n",
      "dtypes: float64(6), object(5)\n",
      "memory usage: 1.4+ MB\n"
     ]
    }
   ],
   "source": [
    "games.info()"
   ]
  },
  {
   "cell_type": "code",
   "execution_count": 5,
   "metadata": {},
   "outputs": [
    {
     "data": {
      "text/html": [
       "<div>\n",
       "<style scoped>\n",
       "    .dataframe tbody tr th:only-of-type {\n",
       "        vertical-align: middle;\n",
       "    }\n",
       "\n",
       "    .dataframe tbody tr th {\n",
       "        vertical-align: top;\n",
       "    }\n",
       "\n",
       "    .dataframe thead th {\n",
       "        text-align: right;\n",
       "    }\n",
       "</style>\n",
       "<table border=\"1\" class=\"dataframe\">\n",
       "  <thead>\n",
       "    <tr style=\"text-align: right;\">\n",
       "      <th></th>\n",
       "      <th>Year_of_Release</th>\n",
       "      <th>NA_sales</th>\n",
       "      <th>EU_sales</th>\n",
       "      <th>JP_sales</th>\n",
       "      <th>Other_sales</th>\n",
       "      <th>Critic_Score</th>\n",
       "    </tr>\n",
       "  </thead>\n",
       "  <tbody>\n",
       "    <tr>\n",
       "      <th>count</th>\n",
       "      <td>16446.000000</td>\n",
       "      <td>16715.000000</td>\n",
       "      <td>16715.000000</td>\n",
       "      <td>16715.000000</td>\n",
       "      <td>16715.000000</td>\n",
       "      <td>8137.000000</td>\n",
       "    </tr>\n",
       "    <tr>\n",
       "      <th>mean</th>\n",
       "      <td>2006.484616</td>\n",
       "      <td>0.263377</td>\n",
       "      <td>0.145060</td>\n",
       "      <td>0.077617</td>\n",
       "      <td>0.047342</td>\n",
       "      <td>68.967679</td>\n",
       "    </tr>\n",
       "    <tr>\n",
       "      <th>std</th>\n",
       "      <td>5.877050</td>\n",
       "      <td>0.813604</td>\n",
       "      <td>0.503339</td>\n",
       "      <td>0.308853</td>\n",
       "      <td>0.186731</td>\n",
       "      <td>13.938165</td>\n",
       "    </tr>\n",
       "    <tr>\n",
       "      <th>min</th>\n",
       "      <td>1980.000000</td>\n",
       "      <td>0.000000</td>\n",
       "      <td>0.000000</td>\n",
       "      <td>0.000000</td>\n",
       "      <td>0.000000</td>\n",
       "      <td>13.000000</td>\n",
       "    </tr>\n",
       "    <tr>\n",
       "      <th>25%</th>\n",
       "      <td>2003.000000</td>\n",
       "      <td>0.000000</td>\n",
       "      <td>0.000000</td>\n",
       "      <td>0.000000</td>\n",
       "      <td>0.000000</td>\n",
       "      <td>60.000000</td>\n",
       "    </tr>\n",
       "    <tr>\n",
       "      <th>50%</th>\n",
       "      <td>2007.000000</td>\n",
       "      <td>0.080000</td>\n",
       "      <td>0.020000</td>\n",
       "      <td>0.000000</td>\n",
       "      <td>0.010000</td>\n",
       "      <td>71.000000</td>\n",
       "    </tr>\n",
       "    <tr>\n",
       "      <th>75%</th>\n",
       "      <td>2010.000000</td>\n",
       "      <td>0.240000</td>\n",
       "      <td>0.110000</td>\n",
       "      <td>0.040000</td>\n",
       "      <td>0.030000</td>\n",
       "      <td>79.000000</td>\n",
       "    </tr>\n",
       "    <tr>\n",
       "      <th>max</th>\n",
       "      <td>2016.000000</td>\n",
       "      <td>41.360000</td>\n",
       "      <td>28.960000</td>\n",
       "      <td>10.220000</td>\n",
       "      <td>10.570000</td>\n",
       "      <td>98.000000</td>\n",
       "    </tr>\n",
       "  </tbody>\n",
       "</table>\n",
       "</div>"
      ],
      "text/plain": [
       "       Year_of_Release      NA_sales      EU_sales      JP_sales  \\\n",
       "count     16446.000000  16715.000000  16715.000000  16715.000000   \n",
       "mean       2006.484616      0.263377      0.145060      0.077617   \n",
       "std           5.877050      0.813604      0.503339      0.308853   \n",
       "min        1980.000000      0.000000      0.000000      0.000000   \n",
       "25%        2003.000000      0.000000      0.000000      0.000000   \n",
       "50%        2007.000000      0.080000      0.020000      0.000000   \n",
       "75%        2010.000000      0.240000      0.110000      0.040000   \n",
       "max        2016.000000     41.360000     28.960000     10.220000   \n",
       "\n",
       "        Other_sales  Critic_Score  \n",
       "count  16715.000000   8137.000000  \n",
       "mean       0.047342     68.967679  \n",
       "std        0.186731     13.938165  \n",
       "min        0.000000     13.000000  \n",
       "25%        0.000000     60.000000  \n",
       "50%        0.010000     71.000000  \n",
       "75%        0.030000     79.000000  \n",
       "max       10.570000     98.000000  "
      ]
     },
     "execution_count": 5,
     "metadata": {},
     "output_type": "execute_result"
    }
   ],
   "source": [
    "games.describe()"
   ]
  },
  {
   "cell_type": "code",
   "execution_count": 6,
   "metadata": {},
   "outputs": [
    {
     "data": {
      "text/plain": [
       "array(['Wii', 'NES', 'GB', 'DS', 'X360', 'PS3', 'PS2', 'SNES', 'GBA',\n",
       "       'PS4', '3DS', 'N64', 'PS', 'XB', 'PC', '2600', 'PSP', 'XOne',\n",
       "       'WiiU', 'GC', 'GEN', 'DC', 'PSV', 'SAT', 'SCD', 'WS', 'NG', 'TG16',\n",
       "       '3DO', 'GG', 'PCFX'], dtype=object)"
      ]
     },
     "metadata": {},
     "output_type": "display_data"
    },
    {
     "data": {
      "text/plain": [
       "array(['Sports', 'Platform', 'Racing', 'Role-Playing', 'Puzzle', 'Misc',\n",
       "       'Shooter', 'Simulation', 'Action', 'Fighting', 'Adventure',\n",
       "       'Strategy', nan], dtype=object)"
      ]
     },
     "metadata": {},
     "output_type": "display_data"
    }
   ],
   "source": [
    "display(games['Platform'].unique())\n",
    "display(games['Genre'].unique())"
   ]
  },
  {
   "cell_type": "markdown",
   "metadata": {},
   "source": [
    "В таблице присутствуют данные с 1980 до 2016 года. Плафтформы и жанры заполнены на первый взгляд корректно. \n",
    "В колонках c оценками и рейтингами много пропусков, также их надо перевести в числовой формат. \n",
    "Год выпуска нужно перести в формат дат."
   ]
  },
  {
   "cell_type": "markdown",
   "metadata": {},
   "source": [
    "### Предобработка данных"
   ]
  },
  {
   "cell_type": "code",
   "execution_count": 7,
   "metadata": {},
   "outputs": [
    {
     "data": {
      "text/plain": [
       "Index(['name', 'platform', 'year_of_release', 'genre', 'na_sales', 'eu_sales',\n",
       "       'jp_sales', 'other_sales', 'critic_score', 'user_score', 'rating'],\n",
       "      dtype='object')"
      ]
     },
     "execution_count": 7,
     "metadata": {},
     "output_type": "execute_result"
    }
   ],
   "source": [
    "column_names = []\n",
    "for i in games.columns:\n",
    "    column_names.append(i.lower())\n",
    "    \n",
    "games.columns = column_names\n",
    "games.columns"
   ]
  },
  {
   "cell_type": "code",
   "execution_count": 8,
   "metadata": {},
   "outputs": [],
   "source": [
    "games = games[games['name'].isna() == False]"
   ]
  },
  {
   "cell_type": "code",
   "execution_count": 9,
   "metadata": {
    "scrolled": true
   },
   "outputs": [
    {
     "data": {
      "text/html": [
       "<div>\n",
       "<style scoped>\n",
       "    .dataframe tbody tr th:only-of-type {\n",
       "        vertical-align: middle;\n",
       "    }\n",
       "\n",
       "    .dataframe tbody tr th {\n",
       "        vertical-align: top;\n",
       "    }\n",
       "\n",
       "    .dataframe thead th {\n",
       "        text-align: right;\n",
       "    }\n",
       "</style>\n",
       "<table border=\"1\" class=\"dataframe\">\n",
       "  <thead>\n",
       "    <tr style=\"text-align: right;\">\n",
       "      <th></th>\n",
       "      <th>name</th>\n",
       "      <th>year_of_release</th>\n",
       "    </tr>\n",
       "  </thead>\n",
       "  <tbody>\n",
       "    <tr>\n",
       "      <th>183</th>\n",
       "      <td>Madden NFL 2004</td>\n",
       "      <td>NaN</td>\n",
       "    </tr>\n",
       "    <tr>\n",
       "      <th>377</th>\n",
       "      <td>FIFA Soccer 2004</td>\n",
       "      <td>NaN</td>\n",
       "    </tr>\n",
       "    <tr>\n",
       "      <th>456</th>\n",
       "      <td>LEGO Batman: The Videogame</td>\n",
       "      <td>NaN</td>\n",
       "    </tr>\n",
       "    <tr>\n",
       "      <th>475</th>\n",
       "      <td>wwe Smackdown vs. Raw 2006</td>\n",
       "      <td>NaN</td>\n",
       "    </tr>\n",
       "    <tr>\n",
       "      <th>609</th>\n",
       "      <td>Space Invaders</td>\n",
       "      <td>NaN</td>\n",
       "    </tr>\n",
       "    <tr>\n",
       "      <th>...</th>\n",
       "      <td>...</td>\n",
       "      <td>...</td>\n",
       "    </tr>\n",
       "    <tr>\n",
       "      <th>16373</th>\n",
       "      <td>PDC World Championship Darts 2008</td>\n",
       "      <td>NaN</td>\n",
       "    </tr>\n",
       "    <tr>\n",
       "      <th>16405</th>\n",
       "      <td>Freaky Flyers</td>\n",
       "      <td>NaN</td>\n",
       "    </tr>\n",
       "    <tr>\n",
       "      <th>16448</th>\n",
       "      <td>Inversion</td>\n",
       "      <td>NaN</td>\n",
       "    </tr>\n",
       "    <tr>\n",
       "      <th>16458</th>\n",
       "      <td>Hakuouki: Shinsengumi Kitan</td>\n",
       "      <td>NaN</td>\n",
       "    </tr>\n",
       "    <tr>\n",
       "      <th>16522</th>\n",
       "      <td>Virtua Quest</td>\n",
       "      <td>NaN</td>\n",
       "    </tr>\n",
       "  </tbody>\n",
       "</table>\n",
       "<p>269 rows × 2 columns</p>\n",
       "</div>"
      ],
      "text/plain": [
       "                                    name  year_of_release\n",
       "183                      Madden NFL 2004              NaN\n",
       "377                     FIFA Soccer 2004              NaN\n",
       "456           LEGO Batman: The Videogame              NaN\n",
       "475           wwe Smackdown vs. Raw 2006              NaN\n",
       "609                       Space Invaders              NaN\n",
       "...                                  ...              ...\n",
       "16373  PDC World Championship Darts 2008              NaN\n",
       "16405                      Freaky Flyers              NaN\n",
       "16448                          Inversion              NaN\n",
       "16458        Hakuouki: Shinsengumi Kitan              NaN\n",
       "16522                       Virtua Quest              NaN\n",
       "\n",
       "[269 rows x 2 columns]"
      ]
     },
     "execution_count": 9,
     "metadata": {},
     "output_type": "execute_result"
    }
   ],
   "source": [
    "games[games['year_of_release'].isna() == True][['name', 'year_of_release']]"
   ]
  },
  {
   "cell_type": "markdown",
   "metadata": {},
   "source": [
    "При проверке игр, где отсутствует год выпуска, было замечено, что у некоторых игр год есть в названии, поэтому далее написана функция, с помощью которой эта информация была извлечена и были устранены 20 из 269 пропусков. 249 оставшихся были выброшены, тк год выпуска играет важную роль в дальнейшем исследовании."
   ]
  },
  {
   "cell_type": "code",
   "execution_count": 10,
   "metadata": {},
   "outputs": [],
   "source": [
    "def get_release_year(row):\n",
    "    name = row['name']\n",
    "    year = row['year_of_release']\n",
    "    #print(year.isdigit())\n",
    "    if year>1:\n",
    "        return int(year)\n",
    "    else:\n",
    "        if name.split(' ')[-1].isdigit() and len(name.split(' ')[-1]) == 2 and name.split(' ')[-1] != '64':\n",
    "            if name.split(' ')[-1] == '99':\n",
    "                 return int('19'+ name.split(' ')[-1])-1\n",
    "            else:\n",
    "                return int('20'+ name.split(' ')[-1])-1\n",
    "        elif name.split(' ')[-1].isdigit() and len(name.split(' ')[-1])==4:\n",
    "            return int(name.split(' ')[-1])-1\n",
    "        else:\n",
    "            return year"
   ]
  },
  {
   "cell_type": "code",
   "execution_count": 11,
   "metadata": {
    "scrolled": true
   },
   "outputs": [],
   "source": [
    "games['year_of_release'] = games.apply(get_release_year, axis = 1)\n",
    "games = games[games['year_of_release'].isna() == False]"
   ]
  },
  {
   "cell_type": "markdown",
   "metadata": {},
   "source": [
    "Значения 'tbd' заменяю на 'NaN', тк 'tbd' расшифровывается как 'to be determined', то есть 'еще не определен', соответсвенно рейтинга еще нет. "
   ]
  },
  {
   "cell_type": "code",
   "execution_count": 12,
   "metadata": {},
   "outputs": [],
   "source": [
    "games['user_score'] = games['user_score'].replace('tbd', np.NaN)\n",
    "games['user_score'] = games['user_score'].astype('float64')"
   ]
  },
  {
   "cell_type": "code",
   "execution_count": 13,
   "metadata": {},
   "outputs": [],
   "source": [
    "games['ttl_sales'] = games['na_sales'] + games['eu_sales'] + games['jp_sales'] + games['other_sales']"
   ]
  },
  {
   "cell_type": "markdown",
   "metadata": {},
   "source": [
    "Рейтинг \"K-A\" (\"Kids to Adults\") в 1996 была заменен на «E» («Everyone»), объединяю в один рейтинг. Источник: https://ru.wikipedia.org/wiki/Entertainment_Software_Rating_Board"
   ]
  },
  {
   "cell_type": "code",
   "execution_count": 14,
   "metadata": {},
   "outputs": [],
   "source": [
    "games['rating'] = games['rating'].replace('K-A','E')"
   ]
  },
  {
   "cell_type": "code",
   "execution_count": 15,
   "metadata": {},
   "outputs": [],
   "source": [
    "games['year_of_release'] = pd.to_datetime(games['year_of_release'], format = '%Y').dt.year"
   ]
  },
  {
   "cell_type": "code",
   "execution_count": 16,
   "metadata": {
    "scrolled": true
   },
   "outputs": [
    {
     "name": "stdout",
     "output_type": "stream",
     "text": [
      "<class 'pandas.core.frame.DataFrame'>\n",
      "Int64Index: 16464 entries, 0 to 16714\n",
      "Data columns (total 12 columns):\n",
      " #   Column           Non-Null Count  Dtype  \n",
      "---  ------           --------------  -----  \n",
      " 0   name             16464 non-null  object \n",
      " 1   platform         16464 non-null  object \n",
      " 2   year_of_release  16464 non-null  int64  \n",
      " 3   genre            16464 non-null  object \n",
      " 4   na_sales         16464 non-null  float64\n",
      " 5   eu_sales         16464 non-null  float64\n",
      " 6   jp_sales         16464 non-null  float64\n",
      " 7   other_sales      16464 non-null  float64\n",
      " 8   critic_score     7998 non-null   float64\n",
      " 9   user_score       7476 non-null   float64\n",
      " 10  rating           9782 non-null   object \n",
      " 11  ttl_sales        16464 non-null  float64\n",
      "dtypes: float64(7), int64(1), object(4)\n",
      "memory usage: 1.6+ MB\n"
     ]
    }
   ],
   "source": [
    "games.info()"
   ]
  },
  {
   "cell_type": "code",
   "execution_count": 17,
   "metadata": {
    "scrolled": true
   },
   "outputs": [
    {
     "data": {
      "text/html": [
       "<div>\n",
       "<style scoped>\n",
       "    .dataframe tbody tr th:only-of-type {\n",
       "        vertical-align: middle;\n",
       "    }\n",
       "\n",
       "    .dataframe tbody tr th {\n",
       "        vertical-align: top;\n",
       "    }\n",
       "\n",
       "    .dataframe thead th {\n",
       "        text-align: right;\n",
       "    }\n",
       "</style>\n",
       "<table border=\"1\" class=\"dataframe\">\n",
       "  <thead>\n",
       "    <tr style=\"text-align: right;\">\n",
       "      <th></th>\n",
       "      <th></th>\n",
       "      <th>name</th>\n",
       "    </tr>\n",
       "    <tr>\n",
       "      <th>genre</th>\n",
       "      <th>rating</th>\n",
       "      <th></th>\n",
       "    </tr>\n",
       "  </thead>\n",
       "  <tbody>\n",
       "    <tr>\n",
       "      <th rowspan=\"6\" valign=\"top\">Action</th>\n",
       "      <th>AO</th>\n",
       "      <td>1</td>\n",
       "    </tr>\n",
       "    <tr>\n",
       "      <th>E</th>\n",
       "      <td>410</td>\n",
       "    </tr>\n",
       "    <tr>\n",
       "      <th>E10+</th>\n",
       "      <td>468</td>\n",
       "    </tr>\n",
       "    <tr>\n",
       "      <th>EC</th>\n",
       "      <td>1</td>\n",
       "    </tr>\n",
       "    <tr>\n",
       "      <th>M</th>\n",
       "      <td>596</td>\n",
       "    </tr>\n",
       "    <tr>\n",
       "      <th>T</th>\n",
       "      <td>670</td>\n",
       "    </tr>\n",
       "    <tr>\n",
       "      <th rowspan=\"5\" valign=\"top\">Adventure</th>\n",
       "      <th>E</th>\n",
       "      <td>159</td>\n",
       "    </tr>\n",
       "    <tr>\n",
       "      <th>E10+</th>\n",
       "      <td>67</td>\n",
       "    </tr>\n",
       "    <tr>\n",
       "      <th>EC</th>\n",
       "      <td>2</td>\n",
       "    </tr>\n",
       "    <tr>\n",
       "      <th>M</th>\n",
       "      <td>98</td>\n",
       "    </tr>\n",
       "    <tr>\n",
       "      <th>T</th>\n",
       "      <td>114</td>\n",
       "    </tr>\n",
       "    <tr>\n",
       "      <th rowspan=\"4\" valign=\"top\">Fighting</th>\n",
       "      <th>E</th>\n",
       "      <td>8</td>\n",
       "    </tr>\n",
       "    <tr>\n",
       "      <th>E10+</th>\n",
       "      <td>19</td>\n",
       "    </tr>\n",
       "    <tr>\n",
       "      <th>M</th>\n",
       "      <td>48</td>\n",
       "    </tr>\n",
       "    <tr>\n",
       "      <th>T</th>\n",
       "      <td>357</td>\n",
       "    </tr>\n",
       "    <tr>\n",
       "      <th rowspan=\"5\" valign=\"top\">Misc</th>\n",
       "      <th>E</th>\n",
       "      <td>450</td>\n",
       "    </tr>\n",
       "    <tr>\n",
       "      <th>E10+</th>\n",
       "      <td>166</td>\n",
       "    </tr>\n",
       "    <tr>\n",
       "      <th>EC</th>\n",
       "      <td>5</td>\n",
       "    </tr>\n",
       "    <tr>\n",
       "      <th>M</th>\n",
       "      <td>13</td>\n",
       "    </tr>\n",
       "    <tr>\n",
       "      <th>T</th>\n",
       "      <td>228</td>\n",
       "    </tr>\n",
       "    <tr>\n",
       "      <th rowspan=\"4\" valign=\"top\">Platform</th>\n",
       "      <th>E</th>\n",
       "      <td>354</td>\n",
       "    </tr>\n",
       "    <tr>\n",
       "      <th>E10+</th>\n",
       "      <td>141</td>\n",
       "    </tr>\n",
       "    <tr>\n",
       "      <th>M</th>\n",
       "      <td>3</td>\n",
       "    </tr>\n",
       "    <tr>\n",
       "      <th>T</th>\n",
       "      <td>63</td>\n",
       "    </tr>\n",
       "    <tr>\n",
       "      <th rowspan=\"3\" valign=\"top\">Puzzle</th>\n",
       "      <th>E</th>\n",
       "      <td>284</td>\n",
       "    </tr>\n",
       "    <tr>\n",
       "      <th>E10+</th>\n",
       "      <td>42</td>\n",
       "    </tr>\n",
       "    <tr>\n",
       "      <th>T</th>\n",
       "      <td>10</td>\n",
       "    </tr>\n",
       "    <tr>\n",
       "      <th rowspan=\"4\" valign=\"top\">Racing</th>\n",
       "      <th>E</th>\n",
       "      <td>577</td>\n",
       "    </tr>\n",
       "    <tr>\n",
       "      <th>E10+</th>\n",
       "      <td>95</td>\n",
       "    </tr>\n",
       "    <tr>\n",
       "      <th>M</th>\n",
       "      <td>18</td>\n",
       "    </tr>\n",
       "    <tr>\n",
       "      <th>T</th>\n",
       "      <td>167</td>\n",
       "    </tr>\n",
       "    <tr>\n",
       "      <th rowspan=\"4\" valign=\"top\">Role-Playing</th>\n",
       "      <th>E</th>\n",
       "      <td>83</td>\n",
       "    </tr>\n",
       "    <tr>\n",
       "      <th>E10+</th>\n",
       "      <td>111</td>\n",
       "    </tr>\n",
       "    <tr>\n",
       "      <th>M</th>\n",
       "      <td>161</td>\n",
       "    </tr>\n",
       "    <tr>\n",
       "      <th>T</th>\n",
       "      <td>415</td>\n",
       "    </tr>\n",
       "    <tr>\n",
       "      <th rowspan=\"4\" valign=\"top\">Shooter</th>\n",
       "      <th>E</th>\n",
       "      <td>47</td>\n",
       "    </tr>\n",
       "    <tr>\n",
       "      <th>E10+</th>\n",
       "      <td>56</td>\n",
       "    </tr>\n",
       "    <tr>\n",
       "      <th>M</th>\n",
       "      <td>553</td>\n",
       "    </tr>\n",
       "    <tr>\n",
       "      <th>T</th>\n",
       "      <td>340</td>\n",
       "    </tr>\n",
       "    <tr>\n",
       "      <th rowspan=\"4\" valign=\"top\">Simulation</th>\n",
       "      <th>E</th>\n",
       "      <td>321</td>\n",
       "    </tr>\n",
       "    <tr>\n",
       "      <th>E10+</th>\n",
       "      <td>47</td>\n",
       "    </tr>\n",
       "    <tr>\n",
       "      <th>M</th>\n",
       "      <td>5</td>\n",
       "    </tr>\n",
       "    <tr>\n",
       "      <th>T</th>\n",
       "      <td>186</td>\n",
       "    </tr>\n",
       "    <tr>\n",
       "      <th rowspan=\"4\" valign=\"top\">Sports</th>\n",
       "      <th>E</th>\n",
       "      <td>1174</td>\n",
       "    </tr>\n",
       "    <tr>\n",
       "      <th>E10+</th>\n",
       "      <td>106</td>\n",
       "    </tr>\n",
       "    <tr>\n",
       "      <th>M</th>\n",
       "      <td>16</td>\n",
       "    </tr>\n",
       "    <tr>\n",
       "      <th>T</th>\n",
       "      <td>195</td>\n",
       "    </tr>\n",
       "    <tr>\n",
       "      <th rowspan=\"5\" valign=\"top\">Strategy</th>\n",
       "      <th>E</th>\n",
       "      <td>70</td>\n",
       "    </tr>\n",
       "    <tr>\n",
       "      <th>E10+</th>\n",
       "      <td>76</td>\n",
       "    </tr>\n",
       "    <tr>\n",
       "      <th>M</th>\n",
       "      <td>25</td>\n",
       "    </tr>\n",
       "    <tr>\n",
       "      <th>RP</th>\n",
       "      <td>1</td>\n",
       "    </tr>\n",
       "    <tr>\n",
       "      <th>T</th>\n",
       "      <td>160</td>\n",
       "    </tr>\n",
       "  </tbody>\n",
       "</table>\n",
       "</div>"
      ],
      "text/plain": [
       "                     name\n",
       "genre        rating      \n",
       "Action       AO         1\n",
       "             E        410\n",
       "             E10+     468\n",
       "             EC         1\n",
       "             M        596\n",
       "             T        670\n",
       "Adventure    E        159\n",
       "             E10+      67\n",
       "             EC         2\n",
       "             M         98\n",
       "             T        114\n",
       "Fighting     E          8\n",
       "             E10+      19\n",
       "             M         48\n",
       "             T        357\n",
       "Misc         E        450\n",
       "             E10+     166\n",
       "             EC         5\n",
       "             M         13\n",
       "             T        228\n",
       "Platform     E        354\n",
       "             E10+     141\n",
       "             M          3\n",
       "             T         63\n",
       "Puzzle       E        284\n",
       "             E10+      42\n",
       "             T         10\n",
       "Racing       E        577\n",
       "             E10+      95\n",
       "             M         18\n",
       "             T        167\n",
       "Role-Playing E         83\n",
       "             E10+     111\n",
       "             M        161\n",
       "             T        415\n",
       "Shooter      E         47\n",
       "             E10+      56\n",
       "             M        553\n",
       "             T        340\n",
       "Simulation   E        321\n",
       "             E10+      47\n",
       "             M          5\n",
       "             T        186\n",
       "Sports       E       1174\n",
       "             E10+     106\n",
       "             M         16\n",
       "             T        195\n",
       "Strategy     E         70\n",
       "             E10+      76\n",
       "             M         25\n",
       "             RP         1\n",
       "             T        160"
      ]
     },
     "execution_count": 17,
     "metadata": {},
     "output_type": "execute_result"
    }
   ],
   "source": [
    "games_pivot = games.pivot_table(index = ['genre','rating'], values = 'name', aggfunc = 'count')\n",
    "games_pivot"
   ]
  },
  {
   "cell_type": "markdown",
   "metadata": {},
   "source": [
    "Год приведен к типу int64, все остальные числовые данные приведены к типу float64.\n",
    "\n",
    "Удалил из данных 2 строки где отсутствовало название игры.\n",
    "\n",
    "Из 269 строк с отсутствующим годом выпуска для 20 вытащил год выпуска, так как он присутствовал в названии, остальные исключил из датасета.\n",
    "\n",
    "В рейтингах критиков и пользователей, не заполнял пропуски. На мой взгляд не верно заполнять эти данные средним или медианой, тк каждая игра имеет свой уникальный рейтинг исходя из множества факторов.\n",
    "\n",
    "В колонке 'user_score' значения 'tbd' были заменены на 'NaN', тк 'tbd' расшифровывается как 'to be determined', то есть 'еще не определен', соответсвенно рейтинга еще нет. \n",
    "\n",
    "В колонке 'rating', предположил, что у таких жанров как sports и racing может быть одинаковый рейтинг ESRB, и выявив такие жанры смогу заполнить пропущенные значение, но попытка провалилась.\n",
    "\n",
    "Суммарные продажи по всем регионам были добавлены в колонку 'ttl_sales'"
   ]
  },
  {
   "cell_type": "markdown",
   "metadata": {},
   "source": [
    "### Исследовательский анализ данных"
   ]
  },
  {
   "cell_type": "markdown",
   "metadata": {},
   "source": [
    "- Посмотрите, сколько игр выпускалось в разные годы. Важны ли данные за все периоды?\n",
    "- Посмотрите, как менялись продажи по платформам. Выберите платформы с наибольшими суммарными продажами и постройте распределение по годам. За какой характерный срок появляются новые и исчезают старые платформы?\n",
    "- Возьмите данные за соответствующий актуальный период. Актуальный период определите самостоятельно в результате исследования предыдущих вопросов. Основной фактор — эти данные помогут построить прогноз на 2017 год.\n",
    "- Не учитывайте в работе данные за предыдущие годы.\n",
    "- Какие платформы лидируют по продажам, растут или падают? Выберите несколько потенциально прибыльных платформ.\n",
    "- Постройте график «ящик с усами» по глобальным продажам каждой игры и разбивкой по платформам. Велика ли разница в продажах? А в средних продажах на разных платформах? Опишите результат.\n",
    "- Посмотрите, как влияют на продажи внутри одной популярной платформы отзывы пользователей и критиков. Постройте диаграмму рассеяния и посчитайте корреляцию между отзывами и продажами. Сформулируйте выводы.\n",
    "- Соотнесите выводы с продажами игр на других платформах.\n",
    "- Посмотрите на общее распределение игр по жанрам. Что можно сказать о самых прибыльных жанрах? Выделяются ли жанры с высокими и низкими продажами?"
   ]
  },
  {
   "cell_type": "markdown",
   "metadata": {},
   "source": [
    "#### Рассматриваю сколько игр выпускалось в разные годы"
   ]
  },
  {
   "cell_type": "code",
   "execution_count": 18,
   "metadata": {
    "scrolled": true
   },
   "outputs": [
    {
     "data": {
      "text/html": [
       "<div>\n",
       "<style scoped>\n",
       "    .dataframe tbody tr th:only-of-type {\n",
       "        vertical-align: middle;\n",
       "    }\n",
       "\n",
       "    .dataframe tbody tr th {\n",
       "        vertical-align: top;\n",
       "    }\n",
       "\n",
       "    .dataframe thead th {\n",
       "        text-align: right;\n",
       "    }\n",
       "</style>\n",
       "<table border=\"1\" class=\"dataframe\">\n",
       "  <thead>\n",
       "    <tr style=\"text-align: right;\">\n",
       "      <th></th>\n",
       "      <th>name</th>\n",
       "    </tr>\n",
       "    <tr>\n",
       "      <th>year_of_release</th>\n",
       "      <th></th>\n",
       "    </tr>\n",
       "  </thead>\n",
       "  <tbody>\n",
       "    <tr>\n",
       "      <th>1980</th>\n",
       "      <td>9</td>\n",
       "    </tr>\n",
       "    <tr>\n",
       "      <th>1981</th>\n",
       "      <td>46</td>\n",
       "    </tr>\n",
       "    <tr>\n",
       "      <th>1982</th>\n",
       "      <td>36</td>\n",
       "    </tr>\n",
       "    <tr>\n",
       "      <th>1983</th>\n",
       "      <td>17</td>\n",
       "    </tr>\n",
       "    <tr>\n",
       "      <th>1984</th>\n",
       "      <td>14</td>\n",
       "    </tr>\n",
       "    <tr>\n",
       "      <th>1985</th>\n",
       "      <td>14</td>\n",
       "    </tr>\n",
       "    <tr>\n",
       "      <th>1986</th>\n",
       "      <td>21</td>\n",
       "    </tr>\n",
       "    <tr>\n",
       "      <th>1987</th>\n",
       "      <td>16</td>\n",
       "    </tr>\n",
       "    <tr>\n",
       "      <th>1988</th>\n",
       "      <td>15</td>\n",
       "    </tr>\n",
       "    <tr>\n",
       "      <th>1989</th>\n",
       "      <td>17</td>\n",
       "    </tr>\n",
       "    <tr>\n",
       "      <th>1990</th>\n",
       "      <td>16</td>\n",
       "    </tr>\n",
       "    <tr>\n",
       "      <th>1991</th>\n",
       "      <td>41</td>\n",
       "    </tr>\n",
       "    <tr>\n",
       "      <th>1992</th>\n",
       "      <td>43</td>\n",
       "    </tr>\n",
       "    <tr>\n",
       "      <th>1993</th>\n",
       "      <td>60</td>\n",
       "    </tr>\n",
       "    <tr>\n",
       "      <th>1994</th>\n",
       "      <td>121</td>\n",
       "    </tr>\n",
       "    <tr>\n",
       "      <th>1995</th>\n",
       "      <td>219</td>\n",
       "    </tr>\n",
       "    <tr>\n",
       "      <th>1996</th>\n",
       "      <td>263</td>\n",
       "    </tr>\n",
       "    <tr>\n",
       "      <th>1997</th>\n",
       "      <td>289</td>\n",
       "    </tr>\n",
       "    <tr>\n",
       "      <th>1998</th>\n",
       "      <td>380</td>\n",
       "    </tr>\n",
       "    <tr>\n",
       "      <th>1999</th>\n",
       "      <td>338</td>\n",
       "    </tr>\n",
       "    <tr>\n",
       "      <th>2000</th>\n",
       "      <td>350</td>\n",
       "    </tr>\n",
       "    <tr>\n",
       "      <th>2001</th>\n",
       "      <td>483</td>\n",
       "    </tr>\n",
       "    <tr>\n",
       "      <th>2002</th>\n",
       "      <td>833</td>\n",
       "    </tr>\n",
       "    <tr>\n",
       "      <th>2003</th>\n",
       "      <td>777</td>\n",
       "    </tr>\n",
       "    <tr>\n",
       "      <th>2004</th>\n",
       "      <td>764</td>\n",
       "    </tr>\n",
       "    <tr>\n",
       "      <th>2005</th>\n",
       "      <td>942</td>\n",
       "    </tr>\n",
       "    <tr>\n",
       "      <th>2006</th>\n",
       "      <td>1009</td>\n",
       "    </tr>\n",
       "    <tr>\n",
       "      <th>2007</th>\n",
       "      <td>1199</td>\n",
       "    </tr>\n",
       "    <tr>\n",
       "      <th>2008</th>\n",
       "      <td>1427</td>\n",
       "    </tr>\n",
       "    <tr>\n",
       "      <th>2009</th>\n",
       "      <td>1426</td>\n",
       "    </tr>\n",
       "    <tr>\n",
       "      <th>2010</th>\n",
       "      <td>1257</td>\n",
       "    </tr>\n",
       "    <tr>\n",
       "      <th>2011</th>\n",
       "      <td>1136</td>\n",
       "    </tr>\n",
       "    <tr>\n",
       "      <th>2012</th>\n",
       "      <td>653</td>\n",
       "    </tr>\n",
       "    <tr>\n",
       "      <th>2013</th>\n",
       "      <td>544</td>\n",
       "    </tr>\n",
       "    <tr>\n",
       "      <th>2014</th>\n",
       "      <td>581</td>\n",
       "    </tr>\n",
       "    <tr>\n",
       "      <th>2015</th>\n",
       "      <td>606</td>\n",
       "    </tr>\n",
       "    <tr>\n",
       "      <th>2016</th>\n",
       "      <td>502</td>\n",
       "    </tr>\n",
       "  </tbody>\n",
       "</table>\n",
       "</div>"
      ],
      "text/plain": [
       "                 name\n",
       "year_of_release      \n",
       "1980                9\n",
       "1981               46\n",
       "1982               36\n",
       "1983               17\n",
       "1984               14\n",
       "1985               14\n",
       "1986               21\n",
       "1987               16\n",
       "1988               15\n",
       "1989               17\n",
       "1990               16\n",
       "1991               41\n",
       "1992               43\n",
       "1993               60\n",
       "1994              121\n",
       "1995              219\n",
       "1996              263\n",
       "1997              289\n",
       "1998              380\n",
       "1999              338\n",
       "2000              350\n",
       "2001              483\n",
       "2002              833\n",
       "2003              777\n",
       "2004              764\n",
       "2005              942\n",
       "2006             1009\n",
       "2007             1199\n",
       "2008             1427\n",
       "2009             1426\n",
       "2010             1257\n",
       "2011             1136\n",
       "2012              653\n",
       "2013              544\n",
       "2014              581\n",
       "2015              606\n",
       "2016              502"
      ]
     },
     "execution_count": 18,
     "metadata": {},
     "output_type": "execute_result"
    }
   ],
   "source": [
    "games_pivot_by_year = games.pivot_table(index = 'year_of_release', values = 'name', aggfunc = 'count')\n",
    "games_pivot_by_year"
   ]
  },
  {
   "cell_type": "code",
   "execution_count": 19,
   "metadata": {
    "scrolled": false
   },
   "outputs": [
    {
     "name": "stdout",
     "output_type": "stream",
     "text": [
      "\n"
     ]
    },
    {
     "data": {
      "image/png": "[encoded data removed]",
      "text/plain": [
       "<Figure size 1008x504 with 1 Axes>"
      ]
     },
     "metadata": {
      "needs_background": "light"
     },
     "output_type": "display_data"
    }
   ],
   "source": [
    "plot = games_pivot_by_year.plot(figsize=(14,7), legend=True, grid=True, title='Games released per year')\n",
    "plot.set_xlabel('Year'), plot.set_ylabel('Games')\n",
    "print()"
   ]
  },
  {
   "cell_type": "markdown",
   "metadata": {},
   "source": [
    "Количество выпускаемых игр очень быстро росла в период с 1992 по 2008 год. На пике в год выпускалось 1427 игр. В последнии 5 лет выпускается около 550-650 игр в год."
   ]
  },
  {
   "cell_type": "markdown",
   "metadata": {},
   "source": [
    "#### Рассматриваю как менялись продажи по платформам"
   ]
  },
  {
   "cell_type": "code",
   "execution_count": 20,
   "metadata": {
    "scrolled": false
   },
   "outputs": [
    {
     "name": "stdout",
     "output_type": "stream",
     "text": [
      "Top 5 platforms global\n"
     ]
    },
    {
     "data": {
      "text/html": [
       "<div>\n",
       "<style scoped>\n",
       "    .dataframe tbody tr th:only-of-type {\n",
       "        vertical-align: middle;\n",
       "    }\n",
       "\n",
       "    .dataframe tbody tr th {\n",
       "        vertical-align: top;\n",
       "    }\n",
       "\n",
       "    .dataframe thead th {\n",
       "        text-align: right;\n",
       "    }\n",
       "</style>\n",
       "<table border=\"1\" class=\"dataframe\">\n",
       "  <thead>\n",
       "    <tr style=\"text-align: right;\">\n",
       "      <th></th>\n",
       "      <th>ttl_sales</th>\n",
       "    </tr>\n",
       "    <tr>\n",
       "      <th>platform</th>\n",
       "      <th></th>\n",
       "    </tr>\n",
       "  </thead>\n",
       "  <tbody>\n",
       "    <tr>\n",
       "      <th>PS2</th>\n",
       "      <td>1247.28</td>\n",
       "    </tr>\n",
       "    <tr>\n",
       "      <th>X360</th>\n",
       "      <td>961.88</td>\n",
       "    </tr>\n",
       "    <tr>\n",
       "      <th>PS3</th>\n",
       "      <td>931.34</td>\n",
       "    </tr>\n",
       "    <tr>\n",
       "      <th>Wii</th>\n",
       "      <td>892.37</td>\n",
       "    </tr>\n",
       "    <tr>\n",
       "      <th>DS</th>\n",
       "      <td>802.79</td>\n",
       "    </tr>\n",
       "  </tbody>\n",
       "</table>\n",
       "</div>"
      ],
      "text/plain": [
       "          ttl_sales\n",
       "platform           \n",
       "PS2         1247.28\n",
       "X360         961.88\n",
       "PS3          931.34\n",
       "Wii          892.37\n",
       "DS           802.79"
      ]
     },
     "metadata": {},
     "output_type": "display_data"
    }
   ],
   "source": [
    "games_pivot_by_platform = games.pivot_table(index = 'platform', values = 'ttl_sales', aggfunc = 'sum')\n",
    "top_5_platforms = games_pivot_by_platform.sort_values(by = 'ttl_sales', ascending = False).head(5)\n",
    "print('Top 5 platforms global')\n",
    "display(top_5_platforms)"
   ]
  },
  {
   "cell_type": "code",
   "execution_count": 21,
   "metadata": {
    "scrolled": true
   },
   "outputs": [
    {
     "name": "stdout",
     "output_type": "stream",
     "text": [
      "Таблица для построения графика\n"
     ]
    },
    {
     "data": {
      "text/html": [
       "<div>\n",
       "<style scoped>\n",
       "    .dataframe tbody tr th:only-of-type {\n",
       "        vertical-align: middle;\n",
       "    }\n",
       "\n",
       "    .dataframe tbody tr th {\n",
       "        vertical-align: top;\n",
       "    }\n",
       "\n",
       "    .dataframe thead th {\n",
       "        text-align: right;\n",
       "    }\n",
       "</style>\n",
       "<table border=\"1\" class=\"dataframe\">\n",
       "  <thead>\n",
       "    <tr style=\"text-align: right;\">\n",
       "      <th>platform</th>\n",
       "      <th>PS2</th>\n",
       "      <th>X360</th>\n",
       "      <th>PS3</th>\n",
       "      <th>Wii</th>\n",
       "      <th>DS</th>\n",
       "    </tr>\n",
       "    <tr>\n",
       "      <th>year_of_release</th>\n",
       "      <th></th>\n",
       "      <th></th>\n",
       "      <th></th>\n",
       "      <th></th>\n",
       "      <th></th>\n",
       "    </tr>\n",
       "  </thead>\n",
       "  <tbody>\n",
       "    <tr>\n",
       "      <th>2012</th>\n",
       "      <td>NaN</td>\n",
       "      <td>99.74</td>\n",
       "      <td>107.36</td>\n",
       "      <td>21.71</td>\n",
       "      <td>11.01</td>\n",
       "    </tr>\n",
       "    <tr>\n",
       "      <th>2013</th>\n",
       "      <td>NaN</td>\n",
       "      <td>88.58</td>\n",
       "      <td>113.25</td>\n",
       "      <td>8.59</td>\n",
       "      <td>1.54</td>\n",
       "    </tr>\n",
       "    <tr>\n",
       "      <th>2014</th>\n",
       "      <td>NaN</td>\n",
       "      <td>34.74</td>\n",
       "      <td>47.76</td>\n",
       "      <td>3.75</td>\n",
       "      <td>NaN</td>\n",
       "    </tr>\n",
       "    <tr>\n",
       "      <th>2015</th>\n",
       "      <td>NaN</td>\n",
       "      <td>11.96</td>\n",
       "      <td>16.82</td>\n",
       "      <td>1.14</td>\n",
       "      <td>NaN</td>\n",
       "    </tr>\n",
       "    <tr>\n",
       "      <th>2016</th>\n",
       "      <td>NaN</td>\n",
       "      <td>1.52</td>\n",
       "      <td>3.60</td>\n",
       "      <td>0.18</td>\n",
       "      <td>NaN</td>\n",
       "    </tr>\n",
       "  </tbody>\n",
       "</table>\n",
       "</div>"
      ],
      "text/plain": [
       "platform         PS2   X360     PS3    Wii     DS\n",
       "year_of_release                                  \n",
       "2012             NaN  99.74  107.36  21.71  11.01\n",
       "2013             NaN  88.58  113.25   8.59   1.54\n",
       "2014             NaN  34.74   47.76   3.75    NaN\n",
       "2015             NaN  11.96   16.82   1.14    NaN\n",
       "2016             NaN   1.52    3.60   0.18    NaN"
      ]
     },
     "metadata": {},
     "output_type": "display_data"
    }
   ],
   "source": [
    "games_pivot_sales_per_year_by_platform = games.pivot_table(index = 'year_of_release', columns = 'platform', \n",
    "                                                           values = 'ttl_sales', aggfunc = 'sum')\n",
    "plot_table = games_pivot_sales_per_year_by_platform[top_5_platforms.index]\n",
    "print('Таблица для построения графика')\n",
    "display(plot_table.tail())"
   ]
  },
  {
   "cell_type": "code",
   "execution_count": 22,
   "metadata": {
    "scrolled": false
   },
   "outputs": [
    {
     "name": "stdout",
     "output_type": "stream",
     "text": [
      "\n"
     ]
    },
    {
     "data": {
      "image/png": "[encoded data removed]",
      "text/plain": [
       "<Figure size 1008x504 with 1 Axes>"
      ]
     },
     "metadata": {
      "needs_background": "light"
     },
     "output_type": "display_data"
    }
   ],
   "source": [
    "plot = plot_table.plot(figsize=(14,7), legend=True, grid=True, alpha=0.8, \n",
    "                  title='Top 5 platforms games global sales', xlim=(1999,2016))\n",
    "plot.set_xlabel('Year'), plot.set_ylabel('Sales, mln $')\n",
    "print()"
   ]
  },
  {
   "cell_type": "code",
   "execution_count": 23,
   "metadata": {
    "scrolled": true
   },
   "outputs": [
    {
     "data": {
      "text/html": [
       "<div>\n",
       "<style scoped>\n",
       "    .dataframe tbody tr th:only-of-type {\n",
       "        vertical-align: middle;\n",
       "    }\n",
       "\n",
       "    .dataframe tbody tr th {\n",
       "        vertical-align: top;\n",
       "    }\n",
       "\n",
       "    .dataframe thead tr th {\n",
       "        text-align: left;\n",
       "    }\n",
       "\n",
       "    .dataframe thead tr:last-of-type th {\n",
       "        text-align: right;\n",
       "    }\n",
       "</style>\n",
       "<table border=\"1\" class=\"dataframe\">\n",
       "  <thead>\n",
       "    <tr>\n",
       "      <th></th>\n",
       "      <th>min</th>\n",
       "      <th>max</th>\n",
       "      <th>platform_years</th>\n",
       "    </tr>\n",
       "    <tr>\n",
       "      <th></th>\n",
       "      <th>year_of_release</th>\n",
       "      <th>year_of_release</th>\n",
       "      <th></th>\n",
       "    </tr>\n",
       "    <tr>\n",
       "      <th>platform</th>\n",
       "      <th></th>\n",
       "      <th></th>\n",
       "      <th></th>\n",
       "    </tr>\n",
       "  </thead>\n",
       "  <tbody>\n",
       "    <tr>\n",
       "      <th>PC</th>\n",
       "      <td>1985</td>\n",
       "      <td>2016</td>\n",
       "      <td>31</td>\n",
       "    </tr>\n",
       "    <tr>\n",
       "      <th>DS</th>\n",
       "      <td>1985</td>\n",
       "      <td>2013</td>\n",
       "      <td>28</td>\n",
       "    </tr>\n",
       "    <tr>\n",
       "      <th>GB</th>\n",
       "      <td>1988</td>\n",
       "      <td>2001</td>\n",
       "      <td>13</td>\n",
       "    </tr>\n",
       "    <tr>\n",
       "      <th>X360</th>\n",
       "      <td>2005</td>\n",
       "      <td>2016</td>\n",
       "      <td>11</td>\n",
       "    </tr>\n",
       "    <tr>\n",
       "      <th>PSP</th>\n",
       "      <td>2004</td>\n",
       "      <td>2015</td>\n",
       "      <td>11</td>\n",
       "    </tr>\n",
       "  </tbody>\n",
       "</table>\n",
       "</div>"
      ],
      "text/plain": [
       "                     min             max platform_years\n",
       "         year_of_release year_of_release               \n",
       "platform                                               \n",
       "PC                  1985            2016             31\n",
       "DS                  1985            2013             28\n",
       "GB                  1988            2001             13\n",
       "X360                2005            2016             11\n",
       "PSP                 2004            2015             11"
      ]
     },
     "metadata": {},
     "output_type": "display_data"
    },
    {
     "name": "stdout",
     "output_type": "stream",
     "text": [
      "Среднее время существования платформы: 7.6 лет\n"
     ]
    }
   ],
   "source": [
    "games_pivot_by_platform = games.pivot_table(index = 'platform', values = 'year_of_release', aggfunc = ['min', 'max'])\n",
    "\n",
    "games_pivot_by_platform['platform_years'] = games_pivot_by_platform[('max', 'year_of_release')] - games_pivot_by_platform[('min', 'year_of_release')]\n",
    "display(games_pivot_by_platform.sort_values(by = 'platform_years', ascending = False).head())\n",
    "platform_years = games_pivot_by_platform['platform_years'].mean()\n",
    "print(f'Среднее время существования платформы: {platform_years:.1f} лет')"
   ]
  },
  {
   "cell_type": "markdown",
   "metadata": {},
   "source": [
    "Построено распределение по 5 платформам с наибольшими продажами игр для них. Среднее время существования платформы: 7.6 лет."
   ]
  },
  {
   "cell_type": "markdown",
   "metadata": {},
   "source": [
    "#### Отбрасываю неактуальные года"
   ]
  },
  {
   "cell_type": "markdown",
   "metadata": {},
   "source": [
    "В связи с тем, что средний цикл жизни платформы составляет 7,6 лет, а также мы планируем рекламную кампанию на 2017 год, считаю что уместно отбросить часть данных, тк многие платформы уже неактуальны и нужно взять акутуальные предпочтения целевой аудитории. Поэтому в дальнейшем сконцентрируюсь на анализе продаж последних 6 лет (2010-2016 года)."
   ]
  },
  {
   "cell_type": "code",
   "execution_count": 24,
   "metadata": {},
   "outputs": [
    {
     "data": {
      "text/plain": [
       "array(['X360', 'PS3', 'DS', 'PS4', '3DS', 'Wii', 'XOne', 'WiiU', 'PC',\n",
       "       'PSP', 'PSV', 'PS2'], dtype=object)"
      ]
     },
     "execution_count": 24,
     "metadata": {},
     "output_type": "execute_result"
    }
   ],
   "source": [
    "games_sample = games[games['year_of_release'] >= 2010].reset_index()\n",
    "games_sample['platform'].unique()"
   ]
  },
  {
   "cell_type": "code",
   "execution_count": 25,
   "metadata": {},
   "outputs": [
    {
     "name": "stdout",
     "output_type": "stream",
     "text": [
      "Sales by platforms 2010-2016\n"
     ]
    },
    {
     "data": {
      "text/html": [
       "<div>\n",
       "<style scoped>\n",
       "    .dataframe tbody tr th:only-of-type {\n",
       "        vertical-align: middle;\n",
       "    }\n",
       "\n",
       "    .dataframe tbody tr th {\n",
       "        vertical-align: top;\n",
       "    }\n",
       "\n",
       "    .dataframe thead th {\n",
       "        text-align: right;\n",
       "    }\n",
       "</style>\n",
       "<table border=\"1\" class=\"dataframe\">\n",
       "  <thead>\n",
       "    <tr style=\"text-align: right;\">\n",
       "      <th></th>\n",
       "      <th>ttl_sales</th>\n",
       "    </tr>\n",
       "    <tr>\n",
       "      <th>platform</th>\n",
       "      <th></th>\n",
       "    </tr>\n",
       "  </thead>\n",
       "  <tbody>\n",
       "    <tr>\n",
       "      <th>PS3</th>\n",
       "      <td>587.74</td>\n",
       "    </tr>\n",
       "    <tr>\n",
       "      <th>X360</th>\n",
       "      <td>550.46</td>\n",
       "    </tr>\n",
       "    <tr>\n",
       "      <th>PS4</th>\n",
       "      <td>314.14</td>\n",
       "    </tr>\n",
       "    <tr>\n",
       "      <th>3DS</th>\n",
       "      <td>257.81</td>\n",
       "    </tr>\n",
       "    <tr>\n",
       "      <th>Wii</th>\n",
       "      <td>223.69</td>\n",
       "    </tr>\n",
       "    <tr>\n",
       "      <th>XOne</th>\n",
       "      <td>159.32</td>\n",
       "    </tr>\n",
       "    <tr>\n",
       "      <th>DS</th>\n",
       "      <td>123.75</td>\n",
       "    </tr>\n",
       "    <tr>\n",
       "      <th>PC</th>\n",
       "      <td>121.96</td>\n",
       "    </tr>\n",
       "    <tr>\n",
       "      <th>WiiU</th>\n",
       "      <td>82.19</td>\n",
       "    </tr>\n",
       "    <tr>\n",
       "      <th>PSP</th>\n",
       "      <td>64.05</td>\n",
       "    </tr>\n",
       "    <tr>\n",
       "      <th>PSV</th>\n",
       "      <td>53.81</td>\n",
       "    </tr>\n",
       "    <tr>\n",
       "      <th>PS2</th>\n",
       "      <td>6.09</td>\n",
       "    </tr>\n",
       "  </tbody>\n",
       "</table>\n",
       "</div>"
      ],
      "text/plain": [
       "          ttl_sales\n",
       "platform           \n",
       "PS3          587.74\n",
       "X360         550.46\n",
       "PS4          314.14\n",
       "3DS          257.81\n",
       "Wii          223.69\n",
       "XOne         159.32\n",
       "DS           123.75\n",
       "PC           121.96\n",
       "WiiU          82.19\n",
       "PSP           64.05\n",
       "PSV           53.81\n",
       "PS2            6.09"
      ]
     },
     "metadata": {},
     "output_type": "display_data"
    }
   ],
   "source": [
    "games_pivot_by_platform = games_sample.pivot_table(index = 'platform', values = 'ttl_sales', aggfunc = 'sum')\n",
    "platforms = games_pivot_by_platform.sort_values(by = 'ttl_sales', ascending = False)\n",
    "print('Sales by platforms 2010-2016')\n",
    "display(platforms)"
   ]
  },
  {
   "cell_type": "code",
   "execution_count": 26,
   "metadata": {},
   "outputs": [
    {
     "name": "stdout",
     "output_type": "stream",
     "text": [
      "Таблица для построения графика\n"
     ]
    },
    {
     "data": {
      "text/html": [
       "<div>\n",
       "<style scoped>\n",
       "    .dataframe tbody tr th:only-of-type {\n",
       "        vertical-align: middle;\n",
       "    }\n",
       "\n",
       "    .dataframe tbody tr th {\n",
       "        vertical-align: top;\n",
       "    }\n",
       "\n",
       "    .dataframe thead th {\n",
       "        text-align: right;\n",
       "    }\n",
       "</style>\n",
       "<table border=\"1\" class=\"dataframe\">\n",
       "  <thead>\n",
       "    <tr style=\"text-align: right;\">\n",
       "      <th>platform</th>\n",
       "      <th>PS3</th>\n",
       "      <th>X360</th>\n",
       "      <th>PS4</th>\n",
       "      <th>3DS</th>\n",
       "      <th>Wii</th>\n",
       "      <th>XOne</th>\n",
       "      <th>DS</th>\n",
       "      <th>PC</th>\n",
       "      <th>WiiU</th>\n",
       "      <th>PSP</th>\n",
       "      <th>PSV</th>\n",
       "      <th>PS2</th>\n",
       "    </tr>\n",
       "    <tr>\n",
       "      <th>year_of_release</th>\n",
       "      <th></th>\n",
       "      <th></th>\n",
       "      <th></th>\n",
       "      <th></th>\n",
       "      <th></th>\n",
       "      <th></th>\n",
       "      <th></th>\n",
       "      <th></th>\n",
       "      <th></th>\n",
       "      <th></th>\n",
       "      <th></th>\n",
       "      <th></th>\n",
       "    </tr>\n",
       "  </thead>\n",
       "  <tbody>\n",
       "    <tr>\n",
       "      <th>2010</th>\n",
       "      <td>142.17</td>\n",
       "      <td>170.08</td>\n",
       "      <td>NaN</td>\n",
       "      <td>NaN</td>\n",
       "      <td>128.67</td>\n",
       "      <td>NaN</td>\n",
       "      <td>85.02</td>\n",
       "      <td>24.28</td>\n",
       "      <td>NaN</td>\n",
       "      <td>35.04</td>\n",
       "      <td>NaN</td>\n",
       "      <td>5.64</td>\n",
       "    </tr>\n",
       "    <tr>\n",
       "      <th>2011</th>\n",
       "      <td>156.78</td>\n",
       "      <td>143.84</td>\n",
       "      <td>NaN</td>\n",
       "      <td>63.20</td>\n",
       "      <td>59.65</td>\n",
       "      <td>NaN</td>\n",
       "      <td>26.18</td>\n",
       "      <td>35.03</td>\n",
       "      <td>NaN</td>\n",
       "      <td>17.82</td>\n",
       "      <td>4.63</td>\n",
       "      <td>0.45</td>\n",
       "    </tr>\n",
       "    <tr>\n",
       "      <th>2012</th>\n",
       "      <td>107.36</td>\n",
       "      <td>99.74</td>\n",
       "      <td>NaN</td>\n",
       "      <td>51.36</td>\n",
       "      <td>21.71</td>\n",
       "      <td>NaN</td>\n",
       "      <td>11.01</td>\n",
       "      <td>23.22</td>\n",
       "      <td>17.56</td>\n",
       "      <td>7.69</td>\n",
       "      <td>16.19</td>\n",
       "      <td>NaN</td>\n",
       "    </tr>\n",
       "    <tr>\n",
       "      <th>2013</th>\n",
       "      <td>113.25</td>\n",
       "      <td>88.58</td>\n",
       "      <td>25.99</td>\n",
       "      <td>56.57</td>\n",
       "      <td>8.59</td>\n",
       "      <td>18.96</td>\n",
       "      <td>1.54</td>\n",
       "      <td>12.38</td>\n",
       "      <td>21.65</td>\n",
       "      <td>3.14</td>\n",
       "      <td>10.59</td>\n",
       "      <td>NaN</td>\n",
       "    </tr>\n",
       "    <tr>\n",
       "      <th>2014</th>\n",
       "      <td>47.76</td>\n",
       "      <td>34.74</td>\n",
       "      <td>100.00</td>\n",
       "      <td>43.76</td>\n",
       "      <td>3.75</td>\n",
       "      <td>54.07</td>\n",
       "      <td>NaN</td>\n",
       "      <td>13.28</td>\n",
       "      <td>22.03</td>\n",
       "      <td>0.24</td>\n",
       "      <td>11.90</td>\n",
       "      <td>NaN</td>\n",
       "    </tr>\n",
       "    <tr>\n",
       "      <th>2015</th>\n",
       "      <td>16.82</td>\n",
       "      <td>11.96</td>\n",
       "      <td>118.90</td>\n",
       "      <td>27.78</td>\n",
       "      <td>1.14</td>\n",
       "      <td>60.14</td>\n",
       "      <td>NaN</td>\n",
       "      <td>8.52</td>\n",
       "      <td>16.35</td>\n",
       "      <td>0.12</td>\n",
       "      <td>6.25</td>\n",
       "      <td>NaN</td>\n",
       "    </tr>\n",
       "    <tr>\n",
       "      <th>2016</th>\n",
       "      <td>3.60</td>\n",
       "      <td>1.52</td>\n",
       "      <td>69.25</td>\n",
       "      <td>15.14</td>\n",
       "      <td>0.18</td>\n",
       "      <td>26.15</td>\n",
       "      <td>NaN</td>\n",
       "      <td>5.25</td>\n",
       "      <td>4.60</td>\n",
       "      <td>NaN</td>\n",
       "      <td>4.25</td>\n",
       "      <td>NaN</td>\n",
       "    </tr>\n",
       "  </tbody>\n",
       "</table>\n",
       "</div>"
      ],
      "text/plain": [
       "platform            PS3    X360     PS4    3DS     Wii   XOne     DS     PC  \\\n",
       "year_of_release                                                               \n",
       "2010             142.17  170.08     NaN    NaN  128.67    NaN  85.02  24.28   \n",
       "2011             156.78  143.84     NaN  63.20   59.65    NaN  26.18  35.03   \n",
       "2012             107.36   99.74     NaN  51.36   21.71    NaN  11.01  23.22   \n",
       "2013             113.25   88.58   25.99  56.57    8.59  18.96   1.54  12.38   \n",
       "2014              47.76   34.74  100.00  43.76    3.75  54.07    NaN  13.28   \n",
       "2015              16.82   11.96  118.90  27.78    1.14  60.14    NaN   8.52   \n",
       "2016               3.60    1.52   69.25  15.14    0.18  26.15    NaN   5.25   \n",
       "\n",
       "platform          WiiU    PSP    PSV   PS2  \n",
       "year_of_release                             \n",
       "2010               NaN  35.04    NaN  5.64  \n",
       "2011               NaN  17.82   4.63  0.45  \n",
       "2012             17.56   7.69  16.19   NaN  \n",
       "2013             21.65   3.14  10.59   NaN  \n",
       "2014             22.03   0.24  11.90   NaN  \n",
       "2015             16.35   0.12   6.25   NaN  \n",
       "2016              4.60    NaN   4.25   NaN  "
      ]
     },
     "metadata": {},
     "output_type": "display_data"
    }
   ],
   "source": [
    "games_pivot_sales_per_year_by_platform = games_sample.pivot_table(index = 'year_of_release', columns = 'platform', \n",
    "                                                           values = 'ttl_sales', aggfunc = 'sum')\n",
    "plot_table = games_pivot_sales_per_year_by_platform[platforms.index]\n",
    "print('Таблица для построения графика')\n",
    "display(plot_table)"
   ]
  },
  {
   "cell_type": "code",
   "execution_count": 27,
   "metadata": {
    "scrolled": false
   },
   "outputs": [
    {
     "name": "stdout",
     "output_type": "stream",
     "text": [
      "\n"
     ]
    },
    {
     "data": {
      "image/png": "[encoded data removed]",
      "text/plain": [
       "<Figure size 1008x504 with 1 Axes>"
      ]
     },
     "metadata": {
      "needs_background": "light"
     },
     "output_type": "display_data"
    }
   ],
   "source": [
    "plot = plot_table.plot(figsize=(14,7), legend=True, grid=True, alpha=0.8, \n",
    "                  title='Top 5 platforms games global sales')\n",
    "plot.set_xlabel('Year'), plot.set_ylabel('Sales, mln $')\n",
    "print()"
   ]
  },
  {
   "cell_type": "code",
   "execution_count": 28,
   "metadata": {
    "scrolled": true
   },
   "outputs": [
    {
     "name": "stdout",
     "output_type": "stream",
     "text": [
      "2014\n"
     ]
    },
    {
     "data": {
      "text/html": [
       "<div>\n",
       "<style scoped>\n",
       "    .dataframe tbody tr th:only-of-type {\n",
       "        vertical-align: middle;\n",
       "    }\n",
       "\n",
       "    .dataframe tbody tr th {\n",
       "        vertical-align: top;\n",
       "    }\n",
       "\n",
       "    .dataframe thead th {\n",
       "        text-align: right;\n",
       "    }\n",
       "</style>\n",
       "<table border=\"1\" class=\"dataframe\">\n",
       "  <thead>\n",
       "    <tr style=\"text-align: right;\">\n",
       "      <th></th>\n",
       "      <th>ttl_sales</th>\n",
       "    </tr>\n",
       "    <tr>\n",
       "      <th>platform</th>\n",
       "      <th></th>\n",
       "    </tr>\n",
       "  </thead>\n",
       "  <tbody>\n",
       "    <tr>\n",
       "      <th>PS4</th>\n",
       "      <td>100.00</td>\n",
       "    </tr>\n",
       "    <tr>\n",
       "      <th>XOne</th>\n",
       "      <td>54.07</td>\n",
       "    </tr>\n",
       "    <tr>\n",
       "      <th>PS3</th>\n",
       "      <td>47.76</td>\n",
       "    </tr>\n",
       "    <tr>\n",
       "      <th>3DS</th>\n",
       "      <td>43.76</td>\n",
       "    </tr>\n",
       "    <tr>\n",
       "      <th>X360</th>\n",
       "      <td>34.74</td>\n",
       "    </tr>\n",
       "    <tr>\n",
       "      <th>WiiU</th>\n",
       "      <td>22.03</td>\n",
       "    </tr>\n",
       "    <tr>\n",
       "      <th>PC</th>\n",
       "      <td>13.28</td>\n",
       "    </tr>\n",
       "    <tr>\n",
       "      <th>PSV</th>\n",
       "      <td>11.90</td>\n",
       "    </tr>\n",
       "    <tr>\n",
       "      <th>Wii</th>\n",
       "      <td>3.75</td>\n",
       "    </tr>\n",
       "    <tr>\n",
       "      <th>PSP</th>\n",
       "      <td>0.24</td>\n",
       "    </tr>\n",
       "  </tbody>\n",
       "</table>\n",
       "</div>"
      ],
      "text/plain": [
       "          ttl_sales\n",
       "platform           \n",
       "PS4          100.00\n",
       "XOne          54.07\n",
       "PS3           47.76\n",
       "3DS           43.76\n",
       "X360          34.74\n",
       "WiiU          22.03\n",
       "PC            13.28\n",
       "PSV           11.90\n",
       "Wii            3.75\n",
       "PSP            0.24"
      ]
     },
     "metadata": {},
     "output_type": "display_data"
    },
    {
     "name": "stdout",
     "output_type": "stream",
     "text": [
      "2015\n"
     ]
    },
    {
     "data": {
      "text/html": [
       "<div>\n",
       "<style scoped>\n",
       "    .dataframe tbody tr th:only-of-type {\n",
       "        vertical-align: middle;\n",
       "    }\n",
       "\n",
       "    .dataframe tbody tr th {\n",
       "        vertical-align: top;\n",
       "    }\n",
       "\n",
       "    .dataframe thead th {\n",
       "        text-align: right;\n",
       "    }\n",
       "</style>\n",
       "<table border=\"1\" class=\"dataframe\">\n",
       "  <thead>\n",
       "    <tr style=\"text-align: right;\">\n",
       "      <th></th>\n",
       "      <th>ttl_sales</th>\n",
       "    </tr>\n",
       "    <tr>\n",
       "      <th>platform</th>\n",
       "      <th></th>\n",
       "    </tr>\n",
       "  </thead>\n",
       "  <tbody>\n",
       "    <tr>\n",
       "      <th>PS4</th>\n",
       "      <td>118.90</td>\n",
       "    </tr>\n",
       "    <tr>\n",
       "      <th>XOne</th>\n",
       "      <td>60.14</td>\n",
       "    </tr>\n",
       "    <tr>\n",
       "      <th>3DS</th>\n",
       "      <td>27.78</td>\n",
       "    </tr>\n",
       "    <tr>\n",
       "      <th>PS3</th>\n",
       "      <td>16.82</td>\n",
       "    </tr>\n",
       "    <tr>\n",
       "      <th>WiiU</th>\n",
       "      <td>16.35</td>\n",
       "    </tr>\n",
       "    <tr>\n",
       "      <th>X360</th>\n",
       "      <td>11.96</td>\n",
       "    </tr>\n",
       "    <tr>\n",
       "      <th>PC</th>\n",
       "      <td>8.52</td>\n",
       "    </tr>\n",
       "    <tr>\n",
       "      <th>PSV</th>\n",
       "      <td>6.25</td>\n",
       "    </tr>\n",
       "    <tr>\n",
       "      <th>Wii</th>\n",
       "      <td>1.14</td>\n",
       "    </tr>\n",
       "    <tr>\n",
       "      <th>PSP</th>\n",
       "      <td>0.12</td>\n",
       "    </tr>\n",
       "  </tbody>\n",
       "</table>\n",
       "</div>"
      ],
      "text/plain": [
       "          ttl_sales\n",
       "platform           \n",
       "PS4          118.90\n",
       "XOne          60.14\n",
       "3DS           27.78\n",
       "PS3           16.82\n",
       "WiiU          16.35\n",
       "X360          11.96\n",
       "PC             8.52\n",
       "PSV            6.25\n",
       "Wii            1.14\n",
       "PSP            0.12"
      ]
     },
     "metadata": {},
     "output_type": "display_data"
    },
    {
     "name": "stdout",
     "output_type": "stream",
     "text": [
      "2016\n"
     ]
    },
    {
     "data": {
      "text/html": [
       "<div>\n",
       "<style scoped>\n",
       "    .dataframe tbody tr th:only-of-type {\n",
       "        vertical-align: middle;\n",
       "    }\n",
       "\n",
       "    .dataframe tbody tr th {\n",
       "        vertical-align: top;\n",
       "    }\n",
       "\n",
       "    .dataframe thead th {\n",
       "        text-align: right;\n",
       "    }\n",
       "</style>\n",
       "<table border=\"1\" class=\"dataframe\">\n",
       "  <thead>\n",
       "    <tr style=\"text-align: right;\">\n",
       "      <th></th>\n",
       "      <th>ttl_sales</th>\n",
       "    </tr>\n",
       "    <tr>\n",
       "      <th>platform</th>\n",
       "      <th></th>\n",
       "    </tr>\n",
       "  </thead>\n",
       "  <tbody>\n",
       "    <tr>\n",
       "      <th>PS4</th>\n",
       "      <td>69.25</td>\n",
       "    </tr>\n",
       "    <tr>\n",
       "      <th>XOne</th>\n",
       "      <td>26.15</td>\n",
       "    </tr>\n",
       "    <tr>\n",
       "      <th>3DS</th>\n",
       "      <td>15.14</td>\n",
       "    </tr>\n",
       "    <tr>\n",
       "      <th>PC</th>\n",
       "      <td>5.25</td>\n",
       "    </tr>\n",
       "    <tr>\n",
       "      <th>WiiU</th>\n",
       "      <td>4.60</td>\n",
       "    </tr>\n",
       "    <tr>\n",
       "      <th>PSV</th>\n",
       "      <td>4.25</td>\n",
       "    </tr>\n",
       "    <tr>\n",
       "      <th>PS3</th>\n",
       "      <td>3.60</td>\n",
       "    </tr>\n",
       "    <tr>\n",
       "      <th>X360</th>\n",
       "      <td>1.52</td>\n",
       "    </tr>\n",
       "    <tr>\n",
       "      <th>Wii</th>\n",
       "      <td>0.18</td>\n",
       "    </tr>\n",
       "  </tbody>\n",
       "</table>\n",
       "</div>"
      ],
      "text/plain": [
       "          ttl_sales\n",
       "platform           \n",
       "PS4           69.25\n",
       "XOne          26.15\n",
       "3DS           15.14\n",
       "PC             5.25\n",
       "WiiU           4.60\n",
       "PSV            4.25\n",
       "PS3            3.60\n",
       "X360           1.52\n",
       "Wii            0.18"
      ]
     },
     "metadata": {},
     "output_type": "display_data"
    }
   ],
   "source": [
    "for i in [2014, 2015, 2016]:\n",
    "    pivot = games_sample[games_sample['year_of_release'] == i].pivot_table(index = 'platform', \n",
    "                                                           values = 'ttl_sales', aggfunc = 'sum')\n",
    "    print(i)\n",
    "    display(pivot.sort_values(by = 'ttl_sales', ascending = False))"
   ]
  },
  {
   "cell_type": "markdown",
   "metadata": {},
   "source": [
    "Лидеры по продажам за последние годы: PS4, XOne и 3DS. Учитывая то, что мы пока имеем неполные данные за 2016 год, продажи по платформам PS4 и XOne находятся в росте, а продажи 3DS постепенно падают, по графику заметно, что платформа теряет популярность. В качестве самых интересных для рекламной компании платформ, останавливаюсь на PS4 и XOne."
   ]
  },
  {
   "cell_type": "markdown",
   "metadata": {},
   "source": [
    "#### Выбираю топ 3 платформы"
   ]
  },
  {
   "cell_type": "markdown",
   "metadata": {},
   "source": [
    "Сконцентрируемся на анализе трех самых популярных платформ за последние годы:"
   ]
  },
  {
   "cell_type": "code",
   "execution_count": 29,
   "metadata": {},
   "outputs": [],
   "source": [
    "games_sample2 = games_sample[(games_sample['platform'] == 'PS4') | (games_sample['platform'] == 'XOne') | \n",
    "                             (games_sample['platform'] == '3DS')].reset_index()"
   ]
  },
  {
   "cell_type": "code",
   "execution_count": 30,
   "metadata": {
    "scrolled": false
   },
   "outputs": [
    {
     "name": "stdout",
     "output_type": "stream",
     "text": [
      "\n"
     ]
    },
    {
     "data": {
      "image/png": "[encoded data removed]",
      "text/plain": [
       "<Figure size 864x432 with 1 Axes>"
      ]
     },
     "metadata": {
      "needs_background": "light"
     },
     "output_type": "display_data"
    }
   ],
   "source": [
    "plot = sns.catplot(data=games_sample2, x='platform', y='ttl_sales', kind='box', height=6, \n",
    "                    aspect=2, legend_out=False)\n",
    "plot.set(ylim=(0, 4))\n",
    "plot.set_axis_labels(x_var='Plaform', y_var='Global sales, mln $')\n",
    "\n",
    "plot.fig.suptitle('Global sales by platform', y=1.1)\n",
    "print()"
   ]
  },
  {
   "cell_type": "code",
   "execution_count": 31,
   "metadata": {
    "scrolled": true
   },
   "outputs": [
    {
     "data": {
      "text/html": [
       "<div>\n",
       "<style scoped>\n",
       "    .dataframe tbody tr th:only-of-type {\n",
       "        vertical-align: middle;\n",
       "    }\n",
       "\n",
       "    .dataframe tbody tr th {\n",
       "        vertical-align: top;\n",
       "    }\n",
       "\n",
       "    .dataframe thead th {\n",
       "        text-align: right;\n",
       "    }\n",
       "</style>\n",
       "<table border=\"1\" class=\"dataframe\">\n",
       "  <thead>\n",
       "    <tr style=\"text-align: right;\">\n",
       "      <th></th>\n",
       "      <th>Stats</th>\n",
       "      <th>PS4</th>\n",
       "      <th>XOne</th>\n",
       "      <th>3DS</th>\n",
       "    </tr>\n",
       "  </thead>\n",
       "  <tbody>\n",
       "    <tr>\n",
       "      <th>0</th>\n",
       "      <td>count</td>\n",
       "      <td>392.00</td>\n",
       "      <td>247.00</td>\n",
       "      <td>512.00</td>\n",
       "    </tr>\n",
       "    <tr>\n",
       "      <th>1</th>\n",
       "      <td>mean</td>\n",
       "      <td>0.80</td>\n",
       "      <td>0.65</td>\n",
       "      <td>0.50</td>\n",
       "    </tr>\n",
       "    <tr>\n",
       "      <th>2</th>\n",
       "      <td>std</td>\n",
       "      <td>1.61</td>\n",
       "      <td>1.04</td>\n",
       "      <td>1.44</td>\n",
       "    </tr>\n",
       "    <tr>\n",
       "      <th>3</th>\n",
       "      <td>min</td>\n",
       "      <td>0.01</td>\n",
       "      <td>0.01</td>\n",
       "      <td>0.01</td>\n",
       "    </tr>\n",
       "    <tr>\n",
       "      <th>4</th>\n",
       "      <td>25%</td>\n",
       "      <td>0.06</td>\n",
       "      <td>0.06</td>\n",
       "      <td>0.05</td>\n",
       "    </tr>\n",
       "    <tr>\n",
       "      <th>5</th>\n",
       "      <td>50%</td>\n",
       "      <td>0.20</td>\n",
       "      <td>0.22</td>\n",
       "      <td>0.12</td>\n",
       "    </tr>\n",
       "    <tr>\n",
       "      <th>6</th>\n",
       "      <td>75%</td>\n",
       "      <td>0.73</td>\n",
       "      <td>0.69</td>\n",
       "      <td>0.33</td>\n",
       "    </tr>\n",
       "    <tr>\n",
       "      <th>7</th>\n",
       "      <td>max</td>\n",
       "      <td>14.63</td>\n",
       "      <td>7.39</td>\n",
       "      <td>14.60</td>\n",
       "    </tr>\n",
       "  </tbody>\n",
       "</table>\n",
       "</div>"
      ],
      "text/plain": [
       "   Stats     PS4    XOne     3DS\n",
       "0  count  392.00  247.00  512.00\n",
       "1   mean    0.80    0.65    0.50\n",
       "2    std    1.61    1.04    1.44\n",
       "3    min    0.01    0.01    0.01\n",
       "4    25%    0.06    0.06    0.05\n",
       "5    50%    0.20    0.22    0.12\n",
       "6    75%    0.73    0.69    0.33\n",
       "7    max   14.63    7.39   14.60"
      ]
     },
     "execution_count": 31,
     "metadata": {},
     "output_type": "execute_result"
    }
   ],
   "source": [
    "v1 = games_sample2[games_sample2['platform'] == 'PS4']['ttl_sales'].describe()\n",
    "v2 = games_sample2[games_sample2['platform'] == 'XOne']['ttl_sales'].describe()\n",
    "v3 = games_sample2[games_sample2['platform'] == '3DS']['ttl_sales'].describe()\n",
    "v1_list, v2_list, v3_list = [], [], []\n",
    "\n",
    "for i in v1:\n",
    "    v1_list.append(round(i,2))\n",
    "for i in v2:\n",
    "    v2_list.append(round(i,2))\n",
    "for i in v3:\n",
    "    v3_list.append(round(i,2))\n",
    "\n",
    "stats = pd.DataFrame(['count', 'mean', 'std', 'min', '25%', '50%', '75%', 'max'])\n",
    "stats.columns = ['Stats']\n",
    "stats['PS4'] = v1_list\n",
    "stats['XOne'] = v2_list\n",
    "stats['3DS'] = v3_list\n",
    "\n",
    "stats"
   ]
  },
  {
   "cell_type": "markdown",
   "metadata": {},
   "source": [
    "Средние продажи одной игры на платформе PS4 за последние 3 года, составляют 0.8 млн. дол., что на 23% больше чем аналогичный показатель для XOne (0.64) и на 60% больше чем 3DS (0.5). При этом максимальные показатели для PS4 и 3DS достигали 14.6 млн. дол."
   ]
  },
  {
   "cell_type": "markdown",
   "metadata": {},
   "source": [
    "#### Оцениваю как влияют на продажи внутри платформ отзывы пользователей и критиков"
   ]
  },
  {
   "cell_type": "code",
   "execution_count": 32,
   "metadata": {},
   "outputs": [
    {
     "name": "stdout",
     "output_type": "stream",
     "text": [
      "PS4 correlation\n"
     ]
    },
    {
     "data": {
      "text/html": [
       "<div>\n",
       "<style scoped>\n",
       "    .dataframe tbody tr th:only-of-type {\n",
       "        vertical-align: middle;\n",
       "    }\n",
       "\n",
       "    .dataframe tbody tr th {\n",
       "        vertical-align: top;\n",
       "    }\n",
       "\n",
       "    .dataframe thead th {\n",
       "        text-align: right;\n",
       "    }\n",
       "</style>\n",
       "<table border=\"1\" class=\"dataframe\">\n",
       "  <thead>\n",
       "    <tr style=\"text-align: right;\">\n",
       "      <th></th>\n",
       "      <th>ttl_sales</th>\n",
       "      <th>critic_score</th>\n",
       "      <th>user_score</th>\n",
       "    </tr>\n",
       "  </thead>\n",
       "  <tbody>\n",
       "    <tr>\n",
       "      <th>ttl_sales</th>\n",
       "      <td>1.000000</td>\n",
       "      <td>0.406568</td>\n",
       "      <td>-0.031957</td>\n",
       "    </tr>\n",
       "    <tr>\n",
       "      <th>critic_score</th>\n",
       "      <td>0.406568</td>\n",
       "      <td>1.000000</td>\n",
       "      <td>0.557654</td>\n",
       "    </tr>\n",
       "    <tr>\n",
       "      <th>user_score</th>\n",
       "      <td>-0.031957</td>\n",
       "      <td>0.557654</td>\n",
       "      <td>1.000000</td>\n",
       "    </tr>\n",
       "  </tbody>\n",
       "</table>\n",
       "</div>"
      ],
      "text/plain": [
       "              ttl_sales  critic_score  user_score\n",
       "ttl_sales      1.000000      0.406568   -0.031957\n",
       "critic_score   0.406568      1.000000    0.557654\n",
       "user_score    -0.031957      0.557654    1.000000"
      ]
     },
     "metadata": {},
     "output_type": "display_data"
    }
   ],
   "source": [
    "games_sample2_ps4 = games_sample2[(games_sample2['platform'] == 'PS4')][['ttl_sales', 'critic_score', 'user_score',\n",
    "       'rating']]\n",
    "games_sample2_ps4_corr = games_sample2_ps4.corr()\n",
    "\n",
    "print('PS4 correlation')\n",
    "display(games_sample2_ps4_corr)"
   ]
  },
  {
   "cell_type": "code",
   "execution_count": 33,
   "metadata": {},
   "outputs": [
    {
     "name": "stdout",
     "output_type": "stream",
     "text": [
      "\n"
     ]
    },
    {
     "data": {
      "image/png": "[encoded data removed]",
      "text/plain": [
       "<Figure size 1008x504 with 1 Axes>"
      ]
     },
     "metadata": {
      "needs_background": "light"
     },
     "output_type": "display_data"
    },
    {
     "data": {
      "image/png": "[encoded data removed]",
      "text/plain": [
       "<Figure size 1008x504 with 1 Axes>"
      ]
     },
     "metadata": {
      "needs_background": "light"
     },
     "output_type": "display_data"
    }
   ],
   "source": [
    "plot1 = games_sample2_ps4.plot(kind = 'scatter', x='critic_score', y='ttl_sales', figsize=(14,7), legend=True, grid=True, \n",
    "                             alpha=0.8, title='PS4 critic score vs sales', color='red')\n",
    "plot2 = games_sample2_ps4.plot(kind = 'scatter', x='user_score', y='ttl_sales', figsize=(14,7), legend=True, grid=True, \n",
    "                             alpha=0.8, title='PS4 user score vs sales', color='blue')\n",
    "plot1.set_xlabel('Critic score'), plot1.set_ylabel('Sales, mln $')\n",
    "plot2.set_xlabel('User score'), plot2.set_ylabel('Sales, mln $')\n",
    "print()"
   ]
  },
  {
   "cell_type": "code",
   "execution_count": 34,
   "metadata": {
    "scrolled": false
   },
   "outputs": [
    {
     "name": "stdout",
     "output_type": "stream",
     "text": [
      "XOne correlation\n"
     ]
    },
    {
     "data": {
      "text/html": [
       "<div>\n",
       "<style scoped>\n",
       "    .dataframe tbody tr th:only-of-type {\n",
       "        vertical-align: middle;\n",
       "    }\n",
       "\n",
       "    .dataframe tbody tr th {\n",
       "        vertical-align: top;\n",
       "    }\n",
       "\n",
       "    .dataframe thead th {\n",
       "        text-align: right;\n",
       "    }\n",
       "</style>\n",
       "<table border=\"1\" class=\"dataframe\">\n",
       "  <thead>\n",
       "    <tr style=\"text-align: right;\">\n",
       "      <th></th>\n",
       "      <th>ttl_sales</th>\n",
       "      <th>critic_score</th>\n",
       "      <th>user_score</th>\n",
       "    </tr>\n",
       "  </thead>\n",
       "  <tbody>\n",
       "    <tr>\n",
       "      <th>ttl_sales</th>\n",
       "      <td>1.000000</td>\n",
       "      <td>0.416998</td>\n",
       "      <td>-0.068925</td>\n",
       "    </tr>\n",
       "    <tr>\n",
       "      <th>critic_score</th>\n",
       "      <td>0.416998</td>\n",
       "      <td>1.000000</td>\n",
       "      <td>0.472462</td>\n",
       "    </tr>\n",
       "    <tr>\n",
       "      <th>user_score</th>\n",
       "      <td>-0.068925</td>\n",
       "      <td>0.472462</td>\n",
       "      <td>1.000000</td>\n",
       "    </tr>\n",
       "  </tbody>\n",
       "</table>\n",
       "</div>"
      ],
      "text/plain": [
       "              ttl_sales  critic_score  user_score\n",
       "ttl_sales      1.000000      0.416998   -0.068925\n",
       "critic_score   0.416998      1.000000    0.472462\n",
       "user_score    -0.068925      0.472462    1.000000"
      ]
     },
     "metadata": {},
     "output_type": "display_data"
    }
   ],
   "source": [
    "games_sample2_xone = games_sample2[(games_sample2['platform'] == 'XOne')][['ttl_sales', 'critic_score', 'user_score',\n",
    "       'rating']]\n",
    "games_sample2_xone_corr = games_sample2_xone.corr()\n",
    "\n",
    "print('XOne correlation')\n",
    "display(games_sample2_xone_corr)"
   ]
  },
  {
   "cell_type": "code",
   "execution_count": 35,
   "metadata": {},
   "outputs": [
    {
     "name": "stdout",
     "output_type": "stream",
     "text": [
      "\n"
     ]
    },
    {
     "data": {
      "image/png": "[encoded data removed]",
      "text/plain": [
       "<Figure size 1008x504 with 1 Axes>"
      ]
     },
     "metadata": {
      "needs_background": "light"
     },
     "output_type": "display_data"
    },
    {
     "data": {
      "image/png": "[encoded data removed]",
      "text/plain": [
       "<Figure size 1008x504 with 1 Axes>"
      ]
     },
     "metadata": {
      "needs_background": "light"
     },
     "output_type": "display_data"
    }
   ],
   "source": [
    "plot1 = games_sample2_xone.plot(kind = 'scatter', x='critic_score', y='ttl_sales', figsize=(14,7), legend=True, grid=True, \n",
    "                             alpha=0.8, title='XOne critic score vs sales', color='red')\n",
    "plot2 = games_sample2_xone.plot(kind = 'scatter', x='user_score', y='ttl_sales', figsize=(14,7), legend=True, grid=True, \n",
    "                             alpha=0.8, title='XOne user score vs sales', color='blue')\n",
    "plot1.set_xlabel('Critic score'), plot1.set_ylabel('Sales, mln $')\n",
    "plot2.set_xlabel('User score'), plot2.set_ylabel('Sales, mln $')\n",
    "print()"
   ]
  },
  {
   "cell_type": "code",
   "execution_count": 36,
   "metadata": {},
   "outputs": [
    {
     "name": "stdout",
     "output_type": "stream",
     "text": [
      "3DS correlation\n"
     ]
    },
    {
     "data": {
      "text/html": [
       "<div>\n",
       "<style scoped>\n",
       "    .dataframe tbody tr th:only-of-type {\n",
       "        vertical-align: middle;\n",
       "    }\n",
       "\n",
       "    .dataframe tbody tr th {\n",
       "        vertical-align: top;\n",
       "    }\n",
       "\n",
       "    .dataframe thead th {\n",
       "        text-align: right;\n",
       "    }\n",
       "</style>\n",
       "<table border=\"1\" class=\"dataframe\">\n",
       "  <thead>\n",
       "    <tr style=\"text-align: right;\">\n",
       "      <th></th>\n",
       "      <th>ttl_sales</th>\n",
       "      <th>critic_score</th>\n",
       "      <th>user_score</th>\n",
       "    </tr>\n",
       "  </thead>\n",
       "  <tbody>\n",
       "    <tr>\n",
       "      <th>ttl_sales</th>\n",
       "      <td>1.000000</td>\n",
       "      <td>0.348740</td>\n",
       "      <td>0.222078</td>\n",
       "    </tr>\n",
       "    <tr>\n",
       "      <th>critic_score</th>\n",
       "      <td>0.348740</td>\n",
       "      <td>1.000000</td>\n",
       "      <td>0.745222</td>\n",
       "    </tr>\n",
       "    <tr>\n",
       "      <th>user_score</th>\n",
       "      <td>0.222078</td>\n",
       "      <td>0.745222</td>\n",
       "      <td>1.000000</td>\n",
       "    </tr>\n",
       "  </tbody>\n",
       "</table>\n",
       "</div>"
      ],
      "text/plain": [
       "              ttl_sales  critic_score  user_score\n",
       "ttl_sales      1.000000      0.348740    0.222078\n",
       "critic_score   0.348740      1.000000    0.745222\n",
       "user_score     0.222078      0.745222    1.000000"
      ]
     },
     "metadata": {},
     "output_type": "display_data"
    }
   ],
   "source": [
    "games_sample2_3ds = games_sample2[(games_sample2['platform'] == '3DS')][['ttl_sales', 'critic_score', 'user_score',\n",
    "       'rating']]\n",
    "games_sample2_3ds_corr = games_sample2_3ds.corr()\n",
    "\n",
    "print('3DS correlation')\n",
    "display(games_sample2_3ds_corr)"
   ]
  },
  {
   "cell_type": "code",
   "execution_count": 37,
   "metadata": {
    "scrolled": false
   },
   "outputs": [
    {
     "name": "stdout",
     "output_type": "stream",
     "text": [
      "\n"
     ]
    },
    {
     "data": {
      "image/png": "[encoded data removed]",
      "text/plain": [
       "<Figure size 1008x504 with 1 Axes>"
      ]
     },
     "metadata": {
      "needs_background": "light"
     },
     "output_type": "display_data"
    },
    {
     "data": {
      "image/png": "[encoded data removed]",
      "text/plain": [
       "<Figure size 1008x504 with 1 Axes>"
      ]
     },
     "metadata": {
      "needs_background": "light"
     },
     "output_type": "display_data"
    }
   ],
   "source": [
    "plot1 = games_sample2_3ds.plot(kind = 'scatter', x='critic_score', y='ttl_sales', figsize=(14,7), legend=True, grid=True, \n",
    "                             alpha=0.8, title='3DS critic score vs sales', color='red')\n",
    "plot2 = games_sample2_3ds.plot(kind = 'scatter', x='user_score', y='ttl_sales', figsize=(14,7), legend=True, grid=True, \n",
    "                             alpha=0.8, title='3DS user score vs sales', color='blue')\n",
    "plot1.set_xlabel('Critic score'), plot1.set_ylabel('Sales, mln $')\n",
    "plot2.set_xlabel('User score'), plot2.set_ylabel('Sales, mln $')\n",
    "print()"
   ]
  },
  {
   "cell_type": "markdown",
   "metadata": {},
   "source": [
    "У платформ PS4 и XOne наблюдается корреляция между продажами и оценками критиков, корреляция положительная и составляет 0,4. Сильнее всего она проявляется после отметок свыше 60. Корреляция между продажами и оценками пользователей по этим платформам отсутствует. \n",
    "Немного другая картина по платформе 3DS: корреляция между отзывами критиков и продажами составляет 0.35, а корреляция между отзывами пользователей и продажами составляет 0.22. "
   ]
  },
  {
   "cell_type": "markdown",
   "metadata": {},
   "source": [
    "#### Рассматриваю продажи в разрезе жанров"
   ]
  },
  {
   "cell_type": "code",
   "execution_count": 38,
   "metadata": {},
   "outputs": [
    {
     "name": "stdout",
     "output_type": "stream",
     "text": [
      "Sales by genre\n"
     ]
    },
    {
     "data": {
      "text/html": [
       "<div>\n",
       "<style scoped>\n",
       "    .dataframe tbody tr th:only-of-type {\n",
       "        vertical-align: middle;\n",
       "    }\n",
       "\n",
       "    .dataframe tbody tr th {\n",
       "        vertical-align: top;\n",
       "    }\n",
       "\n",
       "    .dataframe thead th {\n",
       "        text-align: right;\n",
       "    }\n",
       "</style>\n",
       "<table border=\"1\" class=\"dataframe\">\n",
       "  <thead>\n",
       "    <tr style=\"text-align: right;\">\n",
       "      <th></th>\n",
       "      <th>sales</th>\n",
       "      <th>games</th>\n",
       "      <th>sales_per_game</th>\n",
       "    </tr>\n",
       "    <tr>\n",
       "      <th>genre</th>\n",
       "      <th></th>\n",
       "      <th></th>\n",
       "      <th></th>\n",
       "    </tr>\n",
       "  </thead>\n",
       "  <tbody>\n",
       "    <tr>\n",
       "      <th>Action</th>\n",
       "      <td>191.25</td>\n",
       "      <td>416</td>\n",
       "      <td>0.459736</td>\n",
       "    </tr>\n",
       "    <tr>\n",
       "      <th>Shooter</th>\n",
       "      <td>150.11</td>\n",
       "      <td>85</td>\n",
       "      <td>1.766000</td>\n",
       "    </tr>\n",
       "    <tr>\n",
       "      <th>Role-Playing</th>\n",
       "      <td>123.74</td>\n",
       "      <td>152</td>\n",
       "      <td>0.814079</td>\n",
       "    </tr>\n",
       "    <tr>\n",
       "      <th>Sports</th>\n",
       "      <td>88.50</td>\n",
       "      <td>109</td>\n",
       "      <td>0.811927</td>\n",
       "    </tr>\n",
       "    <tr>\n",
       "      <th>Platform</th>\n",
       "      <td>41.15</td>\n",
       "      <td>45</td>\n",
       "      <td>0.914444</td>\n",
       "    </tr>\n",
       "    <tr>\n",
       "      <th>Racing</th>\n",
       "      <td>36.80</td>\n",
       "      <td>49</td>\n",
       "      <td>0.751020</td>\n",
       "    </tr>\n",
       "    <tr>\n",
       "      <th>Simulation</th>\n",
       "      <td>28.88</td>\n",
       "      <td>39</td>\n",
       "      <td>0.740513</td>\n",
       "    </tr>\n",
       "    <tr>\n",
       "      <th>Misc</th>\n",
       "      <td>26.61</td>\n",
       "      <td>93</td>\n",
       "      <td>0.286129</td>\n",
       "    </tr>\n",
       "    <tr>\n",
       "      <th>Fighting</th>\n",
       "      <td>21.66</td>\n",
       "      <td>39</td>\n",
       "      <td>0.555385</td>\n",
       "    </tr>\n",
       "    <tr>\n",
       "      <th>Adventure</th>\n",
       "      <td>13.85</td>\n",
       "      <td>79</td>\n",
       "      <td>0.175316</td>\n",
       "    </tr>\n",
       "    <tr>\n",
       "      <th>Puzzle</th>\n",
       "      <td>5.59</td>\n",
       "      <td>21</td>\n",
       "      <td>0.266190</td>\n",
       "    </tr>\n",
       "    <tr>\n",
       "      <th>Strategy</th>\n",
       "      <td>3.13</td>\n",
       "      <td>24</td>\n",
       "      <td>0.130417</td>\n",
       "    </tr>\n",
       "  </tbody>\n",
       "</table>\n",
       "</div>"
      ],
      "text/plain": [
       "               sales  games  sales_per_game\n",
       "genre                                      \n",
       "Action        191.25    416        0.459736\n",
       "Shooter       150.11     85        1.766000\n",
       "Role-Playing  123.74    152        0.814079\n",
       "Sports         88.50    109        0.811927\n",
       "Platform       41.15     45        0.914444\n",
       "Racing         36.80     49        0.751020\n",
       "Simulation     28.88     39        0.740513\n",
       "Misc           26.61     93        0.286129\n",
       "Fighting       21.66     39        0.555385\n",
       "Adventure      13.85     79        0.175316\n",
       "Puzzle          5.59     21        0.266190\n",
       "Strategy        3.13     24        0.130417"
      ]
     },
     "metadata": {},
     "output_type": "display_data"
    }
   ],
   "source": [
    "games_sample2_genre_pivot = games_sample2.pivot_table(index = 'genre', values = 'ttl_sales', aggfunc = ['sum', 'count'])\n",
    "games_sample2_genre_pivot.columns = ['sales', 'games']\n",
    "games_sample2_genre_pivot['sales_per_game'] = games_sample2_genre_pivot['sales'] / games_sample2_genre_pivot['games']\n",
    "print('Sales by genre')\n",
    "display(games_sample2_genre_pivot.sort_values(by = 'sales', ascending = False))"
   ]
  },
  {
   "cell_type": "code",
   "execution_count": 39,
   "metadata": {
    "scrolled": false
   },
   "outputs": [
    {
     "data": {
      "image/png": "[encoded data removed]",
      "text/plain": [
       "<Figure size 864x864 with 1 Axes>"
      ]
     },
     "metadata": {},
     "output_type": "display_data"
    }
   ],
   "source": [
    "g1 = games_sample2_genre_pivot.sort_values(by = 'sales', ascending = False)\n",
    "plot2 = g1.plot(kind = 'pie', y='sales', figsize=(12,12), title = 'Sales by genre', legend=False)"
   ]
  },
  {
   "cell_type": "markdown",
   "metadata": {},
   "source": [
    "Лидерами по общим продажам являются жанры Action, shooter и role-playing.\n",
    "Наименее низкие продажи и продажи с каждой игры по жанрам strategy, puzzle и adventure. Средние продажи за игру по этим жанрам ниже, чем у лидирующего жанра shooter в 9 раз."
   ]
  },
  {
   "cell_type": "markdown",
   "metadata": {},
   "source": [
    "## Составляю портрет пользователя каждого региона (NA, EU, JP)\n",
    "\n",
    "- Самые популярные платформы;\n",
    "- Самые популярные жанры;\n",
    "- Влияние рейтинга ESRB."
   ]
  },
  {
   "cell_type": "markdown",
   "metadata": {},
   "source": [
    "#### В разрезе платформ"
   ]
  },
  {
   "cell_type": "code",
   "execution_count": 40,
   "metadata": {},
   "outputs": [
    {
     "name": "stdout",
     "output_type": "stream",
     "text": [
      "Sales by platform\n"
     ]
    },
    {
     "data": {
      "text/html": [
       "<div>\n",
       "<style scoped>\n",
       "    .dataframe tbody tr th:only-of-type {\n",
       "        vertical-align: middle;\n",
       "    }\n",
       "\n",
       "    .dataframe tbody tr th {\n",
       "        vertical-align: top;\n",
       "    }\n",
       "\n",
       "    .dataframe thead th {\n",
       "        text-align: right;\n",
       "    }\n",
       "</style>\n",
       "<table border=\"1\" class=\"dataframe\">\n",
       "  <thead>\n",
       "    <tr style=\"text-align: right;\">\n",
       "      <th></th>\n",
       "      <th>eu_sales</th>\n",
       "      <th>jp_sales</th>\n",
       "      <th>na_sales</th>\n",
       "    </tr>\n",
       "    <tr>\n",
       "      <th>platform</th>\n",
       "      <th></th>\n",
       "      <th></th>\n",
       "      <th></th>\n",
       "    </tr>\n",
       "  </thead>\n",
       "  <tbody>\n",
       "    <tr>\n",
       "      <th>3DS</th>\n",
       "      <td>30.96</td>\n",
       "      <td>67.81</td>\n",
       "      <td>38.20</td>\n",
       "    </tr>\n",
       "    <tr>\n",
       "      <th>DS</th>\n",
       "      <td>0.85</td>\n",
       "      <td>0.00</td>\n",
       "      <td>0.57</td>\n",
       "    </tr>\n",
       "    <tr>\n",
       "      <th>PC</th>\n",
       "      <td>25.36</td>\n",
       "      <td>0.00</td>\n",
       "      <td>11.11</td>\n",
       "    </tr>\n",
       "    <tr>\n",
       "      <th>PS3</th>\n",
       "      <td>67.81</td>\n",
       "      <td>23.35</td>\n",
       "      <td>63.50</td>\n",
       "    </tr>\n",
       "    <tr>\n",
       "      <th>PS4</th>\n",
       "      <td>141.09</td>\n",
       "      <td>15.96</td>\n",
       "      <td>108.74</td>\n",
       "    </tr>\n",
       "    <tr>\n",
       "      <th>PSP</th>\n",
       "      <td>0.17</td>\n",
       "      <td>3.29</td>\n",
       "      <td>0.00</td>\n",
       "    </tr>\n",
       "    <tr>\n",
       "      <th>PSV</th>\n",
       "      <td>6.10</td>\n",
       "      <td>18.59</td>\n",
       "      <td>5.04</td>\n",
       "    </tr>\n",
       "    <tr>\n",
       "      <th>Wii</th>\n",
       "      <td>5.93</td>\n",
       "      <td>0.05</td>\n",
       "      <td>6.56</td>\n",
       "    </tr>\n",
       "    <tr>\n",
       "      <th>WiiU</th>\n",
       "      <td>19.85</td>\n",
       "      <td>10.88</td>\n",
       "      <td>29.21</td>\n",
       "    </tr>\n",
       "    <tr>\n",
       "      <th>X360</th>\n",
       "      <td>42.52</td>\n",
       "      <td>0.51</td>\n",
       "      <td>81.66</td>\n",
       "    </tr>\n",
       "    <tr>\n",
       "      <th>XOne</th>\n",
       "      <td>51.59</td>\n",
       "      <td>0.34</td>\n",
       "      <td>93.12</td>\n",
       "    </tr>\n",
       "  </tbody>\n",
       "</table>\n",
       "</div>"
      ],
      "text/plain": [
       "          eu_sales  jp_sales  na_sales\n",
       "platform                              \n",
       "3DS          30.96     67.81     38.20\n",
       "DS            0.85      0.00      0.57\n",
       "PC           25.36      0.00     11.11\n",
       "PS3          67.81     23.35     63.50\n",
       "PS4         141.09     15.96    108.74\n",
       "PSP           0.17      3.29      0.00\n",
       "PSV           6.10     18.59      5.04\n",
       "Wii           5.93      0.05      6.56\n",
       "WiiU         19.85     10.88     29.21\n",
       "X360         42.52      0.51     81.66\n",
       "XOne         51.59      0.34     93.12"
      ]
     },
     "execution_count": 40,
     "metadata": {},
     "output_type": "execute_result"
    }
   ],
   "source": [
    "games_sample_region_platform_pivot = (games_sample[games_sample['year_of_release'] >= 2013]\n",
    "                                      .pivot_table(index = 'platform', values =['na_sales', 'eu_sales', 'jp_sales'],\n",
    "                                                             aggfunc = 'sum'))\n",
    "print('Sales by platform')\n",
    "games_sample_region_platform_pivot"
   ]
  },
  {
   "cell_type": "code",
   "execution_count": 41,
   "metadata": {},
   "outputs": [
    {
     "name": "stdout",
     "output_type": "stream",
     "text": [
      "NA top 5 platforms\n"
     ]
    },
    {
     "data": {
      "text/html": [
       "<div>\n",
       "<style scoped>\n",
       "    .dataframe tbody tr th:only-of-type {\n",
       "        vertical-align: middle;\n",
       "    }\n",
       "\n",
       "    .dataframe tbody tr th {\n",
       "        vertical-align: top;\n",
       "    }\n",
       "\n",
       "    .dataframe thead th {\n",
       "        text-align: right;\n",
       "    }\n",
       "</style>\n",
       "<table border=\"1\" class=\"dataframe\">\n",
       "  <thead>\n",
       "    <tr style=\"text-align: right;\">\n",
       "      <th></th>\n",
       "      <th>na_sales</th>\n",
       "      <th>%</th>\n",
       "    </tr>\n",
       "    <tr>\n",
       "      <th>platform</th>\n",
       "      <th></th>\n",
       "      <th></th>\n",
       "    </tr>\n",
       "  </thead>\n",
       "  <tbody>\n",
       "    <tr>\n",
       "      <th>PS4</th>\n",
       "      <td>108.74</td>\n",
       "      <td>0.282280</td>\n",
       "    </tr>\n",
       "    <tr>\n",
       "      <th>XOne</th>\n",
       "      <td>93.12</td>\n",
       "      <td>0.241732</td>\n",
       "    </tr>\n",
       "    <tr>\n",
       "      <th>X360</th>\n",
       "      <td>81.66</td>\n",
       "      <td>0.211983</td>\n",
       "    </tr>\n",
       "    <tr>\n",
       "      <th>PS3</th>\n",
       "      <td>63.50</td>\n",
       "      <td>0.164841</td>\n",
       "    </tr>\n",
       "    <tr>\n",
       "      <th>3DS</th>\n",
       "      <td>38.20</td>\n",
       "      <td>0.099164</td>\n",
       "    </tr>\n",
       "  </tbody>\n",
       "</table>\n",
       "</div>"
      ],
      "text/plain": [
       "          na_sales         %\n",
       "platform                    \n",
       "PS4         108.74  0.282280\n",
       "XOne         93.12  0.241732\n",
       "X360         81.66  0.211983\n",
       "PS3          63.50  0.164841\n",
       "3DS          38.20  0.099164"
      ]
     },
     "metadata": {},
     "output_type": "display_data"
    }
   ],
   "source": [
    "platforms_na = games_sample_region_platform_pivot['na_sales'].sort_values(ascending = False).head(5)\n",
    "platforms_na = pd.DataFrame(platforms_na)\n",
    "platforms_na['%'] = platforms_na['na_sales'] / platforms_na['na_sales'].sum()\n",
    "print('NA top 5 platforms')\n",
    "display(platforms_na)"
   ]
  },
  {
   "cell_type": "code",
   "execution_count": 42,
   "metadata": {},
   "outputs": [
    {
     "name": "stdout",
     "output_type": "stream",
     "text": [
      "\n"
     ]
    },
    {
     "data": {
      "image/png": "[encoded data removed]",
      "text/plain": [
       "<Figure size 864x432 with 1 Axes>"
      ]
     },
     "metadata": {
      "needs_background": "light"
     },
     "output_type": "display_data"
    }
   ],
   "source": [
    "data = games_sample[games_sample['platform'].isin(platforms_na.index)][['platform','na_sales']]\n",
    "plot = sns.catplot(data=data, x='platform', y='na_sales', kind='box', height=6, \n",
    "                    aspect=2, legend_out=False)\n",
    "plot.set(ylim=(0, 1.2))\n",
    "plot.set_axis_labels(x_var='Platform', y_var='NA sales, mln $')\n",
    "\n",
    "plot.fig.suptitle('NA sales by platform', y=1.1)\n",
    "print()"
   ]
  },
  {
   "cell_type": "code",
   "execution_count": 43,
   "metadata": {},
   "outputs": [
    {
     "name": "stdout",
     "output_type": "stream",
     "text": [
      "EU top 5 platforms\n"
     ]
    },
    {
     "data": {
      "text/html": [
       "<div>\n",
       "<style scoped>\n",
       "    .dataframe tbody tr th:only-of-type {\n",
       "        vertical-align: middle;\n",
       "    }\n",
       "\n",
       "    .dataframe tbody tr th {\n",
       "        vertical-align: top;\n",
       "    }\n",
       "\n",
       "    .dataframe thead th {\n",
       "        text-align: right;\n",
       "    }\n",
       "</style>\n",
       "<table border=\"1\" class=\"dataframe\">\n",
       "  <thead>\n",
       "    <tr style=\"text-align: right;\">\n",
       "      <th></th>\n",
       "      <th>eu_sales</th>\n",
       "      <th>%</th>\n",
       "    </tr>\n",
       "    <tr>\n",
       "      <th>platform</th>\n",
       "      <th></th>\n",
       "      <th></th>\n",
       "    </tr>\n",
       "  </thead>\n",
       "  <tbody>\n",
       "    <tr>\n",
       "      <th>PS4</th>\n",
       "      <td>141.09</td>\n",
       "      <td>0.422463</td>\n",
       "    </tr>\n",
       "    <tr>\n",
       "      <th>PS3</th>\n",
       "      <td>67.81</td>\n",
       "      <td>0.203042</td>\n",
       "    </tr>\n",
       "    <tr>\n",
       "      <th>XOne</th>\n",
       "      <td>51.59</td>\n",
       "      <td>0.154475</td>\n",
       "    </tr>\n",
       "    <tr>\n",
       "      <th>X360</th>\n",
       "      <td>42.52</td>\n",
       "      <td>0.127317</td>\n",
       "    </tr>\n",
       "    <tr>\n",
       "      <th>3DS</th>\n",
       "      <td>30.96</td>\n",
       "      <td>0.092703</td>\n",
       "    </tr>\n",
       "  </tbody>\n",
       "</table>\n",
       "</div>"
      ],
      "text/plain": [
       "          eu_sales         %\n",
       "platform                    \n",
       "PS4         141.09  0.422463\n",
       "PS3          67.81  0.203042\n",
       "XOne         51.59  0.154475\n",
       "X360         42.52  0.127317\n",
       "3DS          30.96  0.092703"
      ]
     },
     "metadata": {},
     "output_type": "display_data"
    }
   ],
   "source": [
    "platforms_eu = games_sample_region_platform_pivot['eu_sales'].sort_values(ascending = False).head(5)\n",
    "platforms_eu = pd.DataFrame(platforms_eu)\n",
    "platforms_eu['%'] = platforms_eu['eu_sales'] / platforms_eu['eu_sales'].sum()\n",
    "print('EU top 5 platforms')\n",
    "display(platforms_eu)"
   ]
  },
  {
   "cell_type": "code",
   "execution_count": 44,
   "metadata": {},
   "outputs": [
    {
     "name": "stdout",
     "output_type": "stream",
     "text": [
      "\n"
     ]
    },
    {
     "data": {
      "image/png": "[encoded data removed]",
      "text/plain": [
       "<Figure size 864x432 with 1 Axes>"
      ]
     },
     "metadata": {
      "needs_background": "light"
     },
     "output_type": "display_data"
    }
   ],
   "source": [
    "data = games_sample[games_sample['platform'].isin(platforms_eu.index)][['platform','eu_sales']]\n",
    "plot = sns.catplot(data=data, x='platform', y='eu_sales', kind='box', height=6, \n",
    "                    aspect=2, legend_out=False)\n",
    "plot.set(ylim=(0, 0.9))\n",
    "plot.set_axis_labels(x_var='Platform', y_var='EU sales, mln $')\n",
    "\n",
    "plot.fig.suptitle('EU sales by platform', y=1.1)\n",
    "print()"
   ]
  },
  {
   "cell_type": "code",
   "execution_count": 45,
   "metadata": {},
   "outputs": [
    {
     "name": "stdout",
     "output_type": "stream",
     "text": [
      "JP top 5 platforms\n"
     ]
    },
    {
     "data": {
      "text/html": [
       "<div>\n",
       "<style scoped>\n",
       "    .dataframe tbody tr th:only-of-type {\n",
       "        vertical-align: middle;\n",
       "    }\n",
       "\n",
       "    .dataframe tbody tr th {\n",
       "        vertical-align: top;\n",
       "    }\n",
       "\n",
       "    .dataframe thead th {\n",
       "        text-align: right;\n",
       "    }\n",
       "</style>\n",
       "<table border=\"1\" class=\"dataframe\">\n",
       "  <thead>\n",
       "    <tr style=\"text-align: right;\">\n",
       "      <th></th>\n",
       "      <th>jp_sales</th>\n",
       "      <th>%</th>\n",
       "    </tr>\n",
       "    <tr>\n",
       "      <th>platform</th>\n",
       "      <th></th>\n",
       "      <th></th>\n",
       "    </tr>\n",
       "  </thead>\n",
       "  <tbody>\n",
       "    <tr>\n",
       "      <th>3DS</th>\n",
       "      <td>67.81</td>\n",
       "      <td>0.496449</td>\n",
       "    </tr>\n",
       "    <tr>\n",
       "      <th>PS3</th>\n",
       "      <td>23.35</td>\n",
       "      <td>0.170950</td>\n",
       "    </tr>\n",
       "    <tr>\n",
       "      <th>PSV</th>\n",
       "      <td>18.59</td>\n",
       "      <td>0.136101</td>\n",
       "    </tr>\n",
       "    <tr>\n",
       "      <th>PS4</th>\n",
       "      <td>15.96</td>\n",
       "      <td>0.116846</td>\n",
       "    </tr>\n",
       "    <tr>\n",
       "      <th>WiiU</th>\n",
       "      <td>10.88</td>\n",
       "      <td>0.079654</td>\n",
       "    </tr>\n",
       "  </tbody>\n",
       "</table>\n",
       "</div>"
      ],
      "text/plain": [
       "          jp_sales         %\n",
       "platform                    \n",
       "3DS          67.81  0.496449\n",
       "PS3          23.35  0.170950\n",
       "PSV          18.59  0.136101\n",
       "PS4          15.96  0.116846\n",
       "WiiU         10.88  0.079654"
      ]
     },
     "execution_count": 45,
     "metadata": {},
     "output_type": "execute_result"
    }
   ],
   "source": [
    "platforms_jp = games_sample_region_platform_pivot['jp_sales'].sort_values(ascending = False).head(5)\n",
    "platforms_jp = pd.DataFrame(platforms_jp)\n",
    "platforms_jp['%'] = platforms_jp['jp_sales'] / platforms_jp['jp_sales'].sum()\n",
    "print('JP top 5 platforms')\n",
    "platforms_jp"
   ]
  },
  {
   "cell_type": "code",
   "execution_count": 46,
   "metadata": {},
   "outputs": [
    {
     "name": "stdout",
     "output_type": "stream",
     "text": [
      "\n"
     ]
    },
    {
     "data": {
      "image/png": "[encoded data removed]",
      "text/plain": [
       "<Figure size 864x432 with 1 Axes>"
      ]
     },
     "metadata": {
      "needs_background": "light"
     },
     "output_type": "display_data"
    }
   ],
   "source": [
    "data = games_sample[games_sample['platform'].isin(platforms_jp.index)][['platform','jp_sales']]\n",
    "plot = sns.catplot(data=data, x='platform', y='jp_sales', kind='box', height=6, \n",
    "                    aspect=2, legend_out=False)\n",
    "plot.set(ylim=(0, 0.5))\n",
    "plot.set_axis_labels(x_var='Platform', y_var='JP sales, mln $')\n",
    "\n",
    "plot.fig.suptitle('JP sales by platform', y=1.1)\n",
    "print()"
   ]
  },
  {
   "cell_type": "markdown",
   "metadata": {},
   "source": [
    "#### В разрезе жанров"
   ]
  },
  {
   "cell_type": "code",
   "execution_count": 47,
   "metadata": {
    "scrolled": true
   },
   "outputs": [
    {
     "name": "stdout",
     "output_type": "stream",
     "text": [
      "Sales by genre\n"
     ]
    },
    {
     "data": {
      "text/html": [
       "<div>\n",
       "<style scoped>\n",
       "    .dataframe tbody tr th:only-of-type {\n",
       "        vertical-align: middle;\n",
       "    }\n",
       "\n",
       "    .dataframe tbody tr th {\n",
       "        vertical-align: top;\n",
       "    }\n",
       "\n",
       "    .dataframe thead th {\n",
       "        text-align: right;\n",
       "    }\n",
       "</style>\n",
       "<table border=\"1\" class=\"dataframe\">\n",
       "  <thead>\n",
       "    <tr style=\"text-align: right;\">\n",
       "      <th></th>\n",
       "      <th>eu_sales</th>\n",
       "      <th>jp_sales</th>\n",
       "      <th>na_sales</th>\n",
       "    </tr>\n",
       "    <tr>\n",
       "      <th>genre</th>\n",
       "      <th></th>\n",
       "      <th></th>\n",
       "      <th></th>\n",
       "    </tr>\n",
       "  </thead>\n",
       "  <tbody>\n",
       "    <tr>\n",
       "      <th>Action</th>\n",
       "      <td>233.63</td>\n",
       "      <td>72.20</td>\n",
       "      <td>290.64</td>\n",
       "    </tr>\n",
       "    <tr>\n",
       "      <th>Adventure</th>\n",
       "      <td>18.88</td>\n",
       "      <td>15.67</td>\n",
       "      <td>20.84</td>\n",
       "    </tr>\n",
       "    <tr>\n",
       "      <th>Fighting</th>\n",
       "      <td>20.33</td>\n",
       "      <td>13.90</td>\n",
       "      <td>39.05</td>\n",
       "    </tr>\n",
       "    <tr>\n",
       "      <th>Misc</th>\n",
       "      <td>66.09</td>\n",
       "      <td>24.29</td>\n",
       "      <td>123.80</td>\n",
       "    </tr>\n",
       "    <tr>\n",
       "      <th>Platform</th>\n",
       "      <td>38.30</td>\n",
       "      <td>15.81</td>\n",
       "      <td>54.90</td>\n",
       "    </tr>\n",
       "    <tr>\n",
       "      <th>Puzzle</th>\n",
       "      <td>6.58</td>\n",
       "      <td>3.40</td>\n",
       "      <td>9.10</td>\n",
       "    </tr>\n",
       "    <tr>\n",
       "      <th>Racing</th>\n",
       "      <td>54.79</td>\n",
       "      <td>6.68</td>\n",
       "      <td>46.11</td>\n",
       "    </tr>\n",
       "    <tr>\n",
       "      <th>Role-Playing</th>\n",
       "      <td>75.48</td>\n",
       "      <td>103.54</td>\n",
       "      <td>112.05</td>\n",
       "    </tr>\n",
       "    <tr>\n",
       "      <th>Shooter</th>\n",
       "      <td>171.45</td>\n",
       "      <td>14.04</td>\n",
       "      <td>237.47</td>\n",
       "    </tr>\n",
       "    <tr>\n",
       "      <th>Simulation</th>\n",
       "      <td>26.39</td>\n",
       "      <td>13.30</td>\n",
       "      <td>26.39</td>\n",
       "    </tr>\n",
       "    <tr>\n",
       "      <th>Sports</th>\n",
       "      <td>116.84</td>\n",
       "      <td>15.51</td>\n",
       "      <td>157.49</td>\n",
       "    </tr>\n",
       "    <tr>\n",
       "      <th>Strategy</th>\n",
       "      <td>12.49</td>\n",
       "      <td>6.80</td>\n",
       "      <td>13.25</td>\n",
       "    </tr>\n",
       "  </tbody>\n",
       "</table>\n",
       "</div>"
      ],
      "text/plain": [
       "              eu_sales  jp_sales  na_sales\n",
       "genre                                     \n",
       "Action          233.63     72.20    290.64\n",
       "Adventure        18.88     15.67     20.84\n",
       "Fighting         20.33     13.90     39.05\n",
       "Misc             66.09     24.29    123.80\n",
       "Platform         38.30     15.81     54.90\n",
       "Puzzle            6.58      3.40      9.10\n",
       "Racing           54.79      6.68     46.11\n",
       "Role-Playing     75.48    103.54    112.05\n",
       "Shooter         171.45     14.04    237.47\n",
       "Simulation       26.39     13.30     26.39\n",
       "Sports          116.84     15.51    157.49\n",
       "Strategy         12.49      6.80     13.25"
      ]
     },
     "metadata": {},
     "output_type": "display_data"
    }
   ],
   "source": [
    "games_sample_region_genres_pivot = (games_sample\n",
    "                                      .pivot_table(index = 'genre', values =['na_sales', 'eu_sales', 'jp_sales'],\n",
    "                                                             aggfunc = 'sum'))\n",
    "print('Sales by genre')\n",
    "display(games_sample_region_genres_pivot)"
   ]
  },
  {
   "cell_type": "code",
   "execution_count": 48,
   "metadata": {},
   "outputs": [
    {
     "name": "stdout",
     "output_type": "stream",
     "text": [
      "NA by genre\n"
     ]
    },
    {
     "data": {
      "text/html": [
       "<div>\n",
       "<style scoped>\n",
       "    .dataframe tbody tr th:only-of-type {\n",
       "        vertical-align: middle;\n",
       "    }\n",
       "\n",
       "    .dataframe tbody tr th {\n",
       "        vertical-align: top;\n",
       "    }\n",
       "\n",
       "    .dataframe thead th {\n",
       "        text-align: right;\n",
       "    }\n",
       "</style>\n",
       "<table border=\"1\" class=\"dataframe\">\n",
       "  <thead>\n",
       "    <tr style=\"text-align: right;\">\n",
       "      <th></th>\n",
       "      <th>na_sales</th>\n",
       "      <th>%</th>\n",
       "    </tr>\n",
       "    <tr>\n",
       "      <th>genre</th>\n",
       "      <th></th>\n",
       "      <th></th>\n",
       "    </tr>\n",
       "  </thead>\n",
       "  <tbody>\n",
       "    <tr>\n",
       "      <th>Action</th>\n",
       "      <td>290.64</td>\n",
       "      <td>0.315416</td>\n",
       "    </tr>\n",
       "    <tr>\n",
       "      <th>Shooter</th>\n",
       "      <td>237.47</td>\n",
       "      <td>0.257713</td>\n",
       "    </tr>\n",
       "    <tr>\n",
       "      <th>Sports</th>\n",
       "      <td>157.49</td>\n",
       "      <td>0.170915</td>\n",
       "    </tr>\n",
       "    <tr>\n",
       "      <th>Misc</th>\n",
       "      <td>123.80</td>\n",
       "      <td>0.134353</td>\n",
       "    </tr>\n",
       "    <tr>\n",
       "      <th>Role-Playing</th>\n",
       "      <td>112.05</td>\n",
       "      <td>0.121602</td>\n",
       "    </tr>\n",
       "  </tbody>\n",
       "</table>\n",
       "</div>"
      ],
      "text/plain": [
       "              na_sales         %\n",
       "genre                           \n",
       "Action          290.64  0.315416\n",
       "Shooter         237.47  0.257713\n",
       "Sports          157.49  0.170915\n",
       "Misc            123.80  0.134353\n",
       "Role-Playing    112.05  0.121602"
      ]
     },
     "metadata": {},
     "output_type": "display_data"
    }
   ],
   "source": [
    "genres_na = games_sample_region_genres_pivot['na_sales'].sort_values(ascending = False).head(5)\n",
    "genres_na = pd.DataFrame(genres_na)\n",
    "genres_na['%'] = genres_na['na_sales'] / genres_na['na_sales'].sum()\n",
    "print('NA by genre')\n",
    "display(genres_na)"
   ]
  },
  {
   "cell_type": "code",
   "execution_count": 49,
   "metadata": {},
   "outputs": [
    {
     "name": "stdout",
     "output_type": "stream",
     "text": [
      "EU by genre\n"
     ]
    },
    {
     "data": {
      "text/html": [
       "<div>\n",
       "<style scoped>\n",
       "    .dataframe tbody tr th:only-of-type {\n",
       "        vertical-align: middle;\n",
       "    }\n",
       "\n",
       "    .dataframe tbody tr th {\n",
       "        vertical-align: top;\n",
       "    }\n",
       "\n",
       "    .dataframe thead th {\n",
       "        text-align: right;\n",
       "    }\n",
       "</style>\n",
       "<table border=\"1\" class=\"dataframe\">\n",
       "  <thead>\n",
       "    <tr style=\"text-align: right;\">\n",
       "      <th></th>\n",
       "      <th>eu_sales</th>\n",
       "      <th>%</th>\n",
       "    </tr>\n",
       "    <tr>\n",
       "      <th>genre</th>\n",
       "      <th></th>\n",
       "      <th></th>\n",
       "    </tr>\n",
       "  </thead>\n",
       "  <tbody>\n",
       "    <tr>\n",
       "      <th>Action</th>\n",
       "      <td>233.63</td>\n",
       "      <td>0.352123</td>\n",
       "    </tr>\n",
       "    <tr>\n",
       "      <th>Shooter</th>\n",
       "      <td>171.45</td>\n",
       "      <td>0.258406</td>\n",
       "    </tr>\n",
       "    <tr>\n",
       "      <th>Sports</th>\n",
       "      <td>116.84</td>\n",
       "      <td>0.176099</td>\n",
       "    </tr>\n",
       "    <tr>\n",
       "      <th>Role-Playing</th>\n",
       "      <td>75.48</td>\n",
       "      <td>0.113762</td>\n",
       "    </tr>\n",
       "    <tr>\n",
       "      <th>Misc</th>\n",
       "      <td>66.09</td>\n",
       "      <td>0.099610</td>\n",
       "    </tr>\n",
       "  </tbody>\n",
       "</table>\n",
       "</div>"
      ],
      "text/plain": [
       "              eu_sales         %\n",
       "genre                           \n",
       "Action          233.63  0.352123\n",
       "Shooter         171.45  0.258406\n",
       "Sports          116.84  0.176099\n",
       "Role-Playing     75.48  0.113762\n",
       "Misc             66.09  0.099610"
      ]
     },
     "metadata": {},
     "output_type": "display_data"
    }
   ],
   "source": [
    "genres_eu = games_sample_region_genres_pivot['eu_sales'].sort_values(ascending = False).head(5)\n",
    "genres_eu = pd.DataFrame(genres_eu)\n",
    "genres_eu['%'] = genres_eu['eu_sales'] / genres_eu['eu_sales'].sum()\n",
    "print('EU by genre')\n",
    "display(genres_eu)"
   ]
  },
  {
   "cell_type": "code",
   "execution_count": 50,
   "metadata": {},
   "outputs": [
    {
     "name": "stdout",
     "output_type": "stream",
     "text": [
      "JP by genre\n"
     ]
    },
    {
     "data": {
      "text/html": [
       "<div>\n",
       "<style scoped>\n",
       "    .dataframe tbody tr th:only-of-type {\n",
       "        vertical-align: middle;\n",
       "    }\n",
       "\n",
       "    .dataframe tbody tr th {\n",
       "        vertical-align: top;\n",
       "    }\n",
       "\n",
       "    .dataframe thead th {\n",
       "        text-align: right;\n",
       "    }\n",
       "</style>\n",
       "<table border=\"1\" class=\"dataframe\">\n",
       "  <thead>\n",
       "    <tr style=\"text-align: right;\">\n",
       "      <th></th>\n",
       "      <th>jp_sales</th>\n",
       "      <th>%</th>\n",
       "    </tr>\n",
       "    <tr>\n",
       "      <th>genre</th>\n",
       "      <th></th>\n",
       "      <th></th>\n",
       "    </tr>\n",
       "  </thead>\n",
       "  <tbody>\n",
       "    <tr>\n",
       "      <th>Role-Playing</th>\n",
       "      <td>103.54</td>\n",
       "      <td>0.447238</td>\n",
       "    </tr>\n",
       "    <tr>\n",
       "      <th>Action</th>\n",
       "      <td>72.20</td>\n",
       "      <td>0.311866</td>\n",
       "    </tr>\n",
       "    <tr>\n",
       "      <th>Misc</th>\n",
       "      <td>24.29</td>\n",
       "      <td>0.104920</td>\n",
       "    </tr>\n",
       "    <tr>\n",
       "      <th>Platform</th>\n",
       "      <td>15.81</td>\n",
       "      <td>0.068291</td>\n",
       "    </tr>\n",
       "    <tr>\n",
       "      <th>Adventure</th>\n",
       "      <td>15.67</td>\n",
       "      <td>0.067686</td>\n",
       "    </tr>\n",
       "  </tbody>\n",
       "</table>\n",
       "</div>"
      ],
      "text/plain": [
       "              jp_sales         %\n",
       "genre                           \n",
       "Role-Playing    103.54  0.447238\n",
       "Action           72.20  0.311866\n",
       "Misc             24.29  0.104920\n",
       "Platform         15.81  0.068291\n",
       "Adventure        15.67  0.067686"
      ]
     },
     "metadata": {},
     "output_type": "display_data"
    }
   ],
   "source": [
    "genres_jp = games_sample_region_genres_pivot['jp_sales'].sort_values(ascending = False).head(5)\n",
    "genres_jp = pd.DataFrame(genres_jp)\n",
    "genres_jp['%'] = genres_jp['jp_sales'] / genres_jp['jp_sales'].sum()\n",
    "print('JP by genre')\n",
    "display(genres_jp)"
   ]
  },
  {
   "cell_type": "markdown",
   "metadata": {},
   "source": [
    "#### В разрезе рейтинга ESRB"
   ]
  },
  {
   "cell_type": "code",
   "execution_count": 51,
   "metadata": {},
   "outputs": [
    {
     "name": "stdout",
     "output_type": "stream",
     "text": [
      "Sales by ESRB\n"
     ]
    },
    {
     "data": {
      "text/html": [
       "<div>\n",
       "<style scoped>\n",
       "    .dataframe tbody tr th:only-of-type {\n",
       "        vertical-align: middle;\n",
       "    }\n",
       "\n",
       "    .dataframe tbody tr th {\n",
       "        vertical-align: top;\n",
       "    }\n",
       "\n",
       "    .dataframe thead th {\n",
       "        text-align: right;\n",
       "    }\n",
       "</style>\n",
       "<table border=\"1\" class=\"dataframe\">\n",
       "  <thead>\n",
       "    <tr style=\"text-align: right;\">\n",
       "      <th></th>\n",
       "      <th>eu_sales</th>\n",
       "      <th>jp_sales</th>\n",
       "      <th>na_sales</th>\n",
       "    </tr>\n",
       "    <tr>\n",
       "      <th>rating</th>\n",
       "      <th></th>\n",
       "      <th></th>\n",
       "      <th></th>\n",
       "    </tr>\n",
       "  </thead>\n",
       "  <tbody>\n",
       "    <tr>\n",
       "      <th>E</th>\n",
       "      <td>197.34</td>\n",
       "      <td>47.87</td>\n",
       "      <td>271.83</td>\n",
       "    </tr>\n",
       "    <tr>\n",
       "      <th>E10+</th>\n",
       "      <td>99.28</td>\n",
       "      <td>13.22</td>\n",
       "      <td>159.38</td>\n",
       "    </tr>\n",
       "    <tr>\n",
       "      <th>EC</th>\n",
       "      <td>0.00</td>\n",
       "      <td>0.00</td>\n",
       "      <td>1.13</td>\n",
       "    </tr>\n",
       "    <tr>\n",
       "      <th>M</th>\n",
       "      <td>292.04</td>\n",
       "      <td>30.45</td>\n",
       "      <td>382.22</td>\n",
       "    </tr>\n",
       "    <tr>\n",
       "      <th>RP</th>\n",
       "      <td>0.03</td>\n",
       "      <td>0.00</td>\n",
       "      <td>0.00</td>\n",
       "    </tr>\n",
       "    <tr>\n",
       "      <th>T</th>\n",
       "      <td>113.08</td>\n",
       "      <td>42.11</td>\n",
       "      <td>160.81</td>\n",
       "    </tr>\n",
       "  </tbody>\n",
       "</table>\n",
       "</div>"
      ],
      "text/plain": [
       "        eu_sales  jp_sales  na_sales\n",
       "rating                              \n",
       "E         197.34     47.87    271.83\n",
       "E10+       99.28     13.22    159.38\n",
       "EC          0.00      0.00      1.13\n",
       "M         292.04     30.45    382.22\n",
       "RP          0.03      0.00      0.00\n",
       "T         113.08     42.11    160.81"
      ]
     },
     "metadata": {},
     "output_type": "display_data"
    }
   ],
   "source": [
    "games_sample_region_esrb_pivot = (games_sample\n",
    "                                      .pivot_table(index = 'rating', values =['na_sales', 'eu_sales', 'jp_sales'],\n",
    "                                                             aggfunc = 'sum'))\n",
    "print('Sales by ESRB')\n",
    "display(games_sample_region_esrb_pivot)"
   ]
  },
  {
   "cell_type": "code",
   "execution_count": 52,
   "metadata": {},
   "outputs": [
    {
     "name": "stdout",
     "output_type": "stream",
     "text": [
      "NA by ESRB\n"
     ]
    },
    {
     "data": {
      "text/html": [
       "<div>\n",
       "<style scoped>\n",
       "    .dataframe tbody tr th:only-of-type {\n",
       "        vertical-align: middle;\n",
       "    }\n",
       "\n",
       "    .dataframe tbody tr th {\n",
       "        vertical-align: top;\n",
       "    }\n",
       "\n",
       "    .dataframe thead th {\n",
       "        text-align: right;\n",
       "    }\n",
       "</style>\n",
       "<table border=\"1\" class=\"dataframe\">\n",
       "  <thead>\n",
       "    <tr style=\"text-align: right;\">\n",
       "      <th></th>\n",
       "      <th>na_sales</th>\n",
       "      <th>%</th>\n",
       "    </tr>\n",
       "    <tr>\n",
       "      <th>rating</th>\n",
       "      <th></th>\n",
       "      <th></th>\n",
       "    </tr>\n",
       "  </thead>\n",
       "  <tbody>\n",
       "    <tr>\n",
       "      <th>M</th>\n",
       "      <td>382.22</td>\n",
       "      <td>0.391872</td>\n",
       "    </tr>\n",
       "    <tr>\n",
       "      <th>E</th>\n",
       "      <td>271.83</td>\n",
       "      <td>0.278694</td>\n",
       "    </tr>\n",
       "    <tr>\n",
       "      <th>T</th>\n",
       "      <td>160.81</td>\n",
       "      <td>0.164871</td>\n",
       "    </tr>\n",
       "    <tr>\n",
       "      <th>E10+</th>\n",
       "      <td>159.38</td>\n",
       "      <td>0.163405</td>\n",
       "    </tr>\n",
       "    <tr>\n",
       "      <th>EC</th>\n",
       "      <td>1.13</td>\n",
       "      <td>0.001159</td>\n",
       "    </tr>\n",
       "  </tbody>\n",
       "</table>\n",
       "</div>"
      ],
      "text/plain": [
       "        na_sales         %\n",
       "rating                    \n",
       "M         382.22  0.391872\n",
       "E         271.83  0.278694\n",
       "T         160.81  0.164871\n",
       "E10+      159.38  0.163405\n",
       "EC          1.13  0.001159"
      ]
     },
     "metadata": {},
     "output_type": "display_data"
    }
   ],
   "source": [
    "esrb_na = games_sample_region_esrb_pivot['na_sales'].sort_values(ascending = False).head(5)\n",
    "esrb_na = pd.DataFrame(esrb_na)\n",
    "esrb_na['%'] = esrb_na['na_sales'] / esrb_na['na_sales'].sum()\n",
    "print('NA by ESRB')\n",
    "display(esrb_na)"
   ]
  },
  {
   "cell_type": "code",
   "execution_count": 53,
   "metadata": {},
   "outputs": [
    {
     "name": "stdout",
     "output_type": "stream",
     "text": [
      "EU by ESRB\n"
     ]
    },
    {
     "data": {
      "text/html": [
       "<div>\n",
       "<style scoped>\n",
       "    .dataframe tbody tr th:only-of-type {\n",
       "        vertical-align: middle;\n",
       "    }\n",
       "\n",
       "    .dataframe tbody tr th {\n",
       "        vertical-align: top;\n",
       "    }\n",
       "\n",
       "    .dataframe thead th {\n",
       "        text-align: right;\n",
       "    }\n",
       "</style>\n",
       "<table border=\"1\" class=\"dataframe\">\n",
       "  <thead>\n",
       "    <tr style=\"text-align: right;\">\n",
       "      <th></th>\n",
       "      <th>eu_sales</th>\n",
       "      <th>%</th>\n",
       "    </tr>\n",
       "    <tr>\n",
       "      <th>rating</th>\n",
       "      <th></th>\n",
       "      <th></th>\n",
       "    </tr>\n",
       "  </thead>\n",
       "  <tbody>\n",
       "    <tr>\n",
       "      <th>M</th>\n",
       "      <td>292.04</td>\n",
       "      <td>0.416148</td>\n",
       "    </tr>\n",
       "    <tr>\n",
       "      <th>E</th>\n",
       "      <td>197.34</td>\n",
       "      <td>0.281203</td>\n",
       "    </tr>\n",
       "    <tr>\n",
       "      <th>T</th>\n",
       "      <td>113.08</td>\n",
       "      <td>0.161135</td>\n",
       "    </tr>\n",
       "    <tr>\n",
       "      <th>E10+</th>\n",
       "      <td>99.28</td>\n",
       "      <td>0.141471</td>\n",
       "    </tr>\n",
       "    <tr>\n",
       "      <th>RP</th>\n",
       "      <td>0.03</td>\n",
       "      <td>0.000043</td>\n",
       "    </tr>\n",
       "  </tbody>\n",
       "</table>\n",
       "</div>"
      ],
      "text/plain": [
       "        eu_sales         %\n",
       "rating                    \n",
       "M         292.04  0.416148\n",
       "E         197.34  0.281203\n",
       "T         113.08  0.161135\n",
       "E10+       99.28  0.141471\n",
       "RP          0.03  0.000043"
      ]
     },
     "metadata": {},
     "output_type": "display_data"
    }
   ],
   "source": [
    "esrb_eu = games_sample_region_esrb_pivot['eu_sales'].sort_values(ascending = False).head(5)\n",
    "esrb_eu = pd.DataFrame(esrb_eu)\n",
    "esrb_eu['%'] = esrb_eu['eu_sales'] / esrb_eu['eu_sales'].sum()\n",
    "print('EU by ESRB')\n",
    "display(esrb_eu)"
   ]
  },
  {
   "cell_type": "code",
   "execution_count": 54,
   "metadata": {
    "scrolled": true
   },
   "outputs": [
    {
     "name": "stdout",
     "output_type": "stream",
     "text": [
      "JP by ESRB\n"
     ]
    },
    {
     "data": {
      "text/html": [
       "<div>\n",
       "<style scoped>\n",
       "    .dataframe tbody tr th:only-of-type {\n",
       "        vertical-align: middle;\n",
       "    }\n",
       "\n",
       "    .dataframe tbody tr th {\n",
       "        vertical-align: top;\n",
       "    }\n",
       "\n",
       "    .dataframe thead th {\n",
       "        text-align: right;\n",
       "    }\n",
       "</style>\n",
       "<table border=\"1\" class=\"dataframe\">\n",
       "  <thead>\n",
       "    <tr style=\"text-align: right;\">\n",
       "      <th></th>\n",
       "      <th>jp_sales</th>\n",
       "      <th>%</th>\n",
       "    </tr>\n",
       "    <tr>\n",
       "      <th>rating</th>\n",
       "      <th></th>\n",
       "      <th></th>\n",
       "    </tr>\n",
       "  </thead>\n",
       "  <tbody>\n",
       "    <tr>\n",
       "      <th>E</th>\n",
       "      <td>47.87</td>\n",
       "      <td>0.358174</td>\n",
       "    </tr>\n",
       "    <tr>\n",
       "      <th>T</th>\n",
       "      <td>42.11</td>\n",
       "      <td>0.315077</td>\n",
       "    </tr>\n",
       "    <tr>\n",
       "      <th>M</th>\n",
       "      <td>30.45</td>\n",
       "      <td>0.227834</td>\n",
       "    </tr>\n",
       "    <tr>\n",
       "      <th>E10+</th>\n",
       "      <td>13.22</td>\n",
       "      <td>0.098915</td>\n",
       "    </tr>\n",
       "    <tr>\n",
       "      <th>RP</th>\n",
       "      <td>0.00</td>\n",
       "      <td>0.000000</td>\n",
       "    </tr>\n",
       "  </tbody>\n",
       "</table>\n",
       "</div>"
      ],
      "text/plain": [
       "        jp_sales         %\n",
       "rating                    \n",
       "E          47.87  0.358174\n",
       "T          42.11  0.315077\n",
       "M          30.45  0.227834\n",
       "E10+       13.22  0.098915\n",
       "RP          0.00  0.000000"
      ]
     },
     "metadata": {},
     "output_type": "display_data"
    }
   ],
   "source": [
    "esrb_jp = games_sample_region_esrb_pivot['jp_sales'].sort_values(ascending = False).head(5)\n",
    "esrb_jp = pd.DataFrame(esrb_jp)\n",
    "esrb_jp['%'] = esrb_jp['jp_sales'] / esrb_jp['jp_sales'].sum()\n",
    "print('JP by ESRB')\n",
    "display(esrb_jp)"
   ]
  },
  {
   "cell_type": "code",
   "execution_count": 55,
   "metadata": {},
   "outputs": [],
   "source": [
    "esrb_dict = {'E' : 1, 'M' : 2, 'E10+' : 3, 'T' : 4, 'EC' : 5, 'RP' : 6}\n",
    "def esrb_to_scale(row):\n",
    "    esrb = row['rating']\n",
    "    if esrb in esrb_dict:\n",
    "        return esrb_dict[esrb]\n",
    "    else:\n",
    "        return esrb"
   ]
  },
  {
   "cell_type": "code",
   "execution_count": 56,
   "metadata": {},
   "outputs": [
    {
     "data": {
      "text/html": [
       "<div>\n",
       "<style scoped>\n",
       "    .dataframe tbody tr th:only-of-type {\n",
       "        vertical-align: middle;\n",
       "    }\n",
       "\n",
       "    .dataframe tbody tr th {\n",
       "        vertical-align: top;\n",
       "    }\n",
       "\n",
       "    .dataframe thead th {\n",
       "        text-align: right;\n",
       "    }\n",
       "</style>\n",
       "<table border=\"1\" class=\"dataframe\">\n",
       "  <thead>\n",
       "    <tr style=\"text-align: right;\">\n",
       "      <th></th>\n",
       "      <th>na_sales</th>\n",
       "      <th>eu_sales</th>\n",
       "      <th>jp_sales</th>\n",
       "      <th>esrb</th>\n",
       "    </tr>\n",
       "  </thead>\n",
       "  <tbody>\n",
       "    <tr>\n",
       "      <th>na_sales</th>\n",
       "      <td>1.000000</td>\n",
       "      <td>0.770061</td>\n",
       "      <td>0.254359</td>\n",
       "      <td>-0.081447</td>\n",
       "    </tr>\n",
       "    <tr>\n",
       "      <th>eu_sales</th>\n",
       "      <td>0.770061</td>\n",
       "      <td>1.000000</td>\n",
       "      <td>0.282091</td>\n",
       "      <td>-0.090725</td>\n",
       "    </tr>\n",
       "    <tr>\n",
       "      <th>jp_sales</th>\n",
       "      <td>0.254359</td>\n",
       "      <td>0.282091</td>\n",
       "      <td>1.000000</td>\n",
       "      <td>-0.015038</td>\n",
       "    </tr>\n",
       "    <tr>\n",
       "      <th>esrb</th>\n",
       "      <td>-0.081447</td>\n",
       "      <td>-0.090725</td>\n",
       "      <td>-0.015038</td>\n",
       "      <td>1.000000</td>\n",
       "    </tr>\n",
       "  </tbody>\n",
       "</table>\n",
       "</div>"
      ],
      "text/plain": [
       "          na_sales  eu_sales  jp_sales      esrb\n",
       "na_sales  1.000000  0.770061  0.254359 -0.081447\n",
       "eu_sales  0.770061  1.000000  0.282091 -0.090725\n",
       "jp_sales  0.254359  0.282091  1.000000 -0.015038\n",
       "esrb     -0.081447 -0.090725 -0.015038  1.000000"
      ]
     },
     "metadata": {},
     "output_type": "display_data"
    },
    {
     "name": "stdout",
     "output_type": "stream",
     "text": [
      "\n"
     ]
    },
    {
     "data": {
      "image/png": "[encoded data removed]",
      "text/plain": [
       "<Figure size 720x576 with 2 Axes>"
      ]
     },
     "metadata": {
      "needs_background": "light"
     },
     "output_type": "display_data"
    }
   ],
   "source": [
    "warnings.filterwarnings(action='ignore')\n",
    "games_sample_esrb = games_sample[['na_sales', 'eu_sales', 'jp_sales','rating']]\n",
    "games_sample_esrb['esrb'] = games_sample_esrb.apply(esrb_to_scale, axis = 1)\n",
    "games_sample_esrb_corr = games_sample_esrb.corr()\n",
    "\n",
    "display(games_sample_esrb_corr)\n",
    "plt.figure(figsize=(10, 8))\n",
    "plot = sns.heatmap(games_sample_esrb_corr, annot=True)\n",
    "plot.set_title('Correlation between ESRB rating and sales')\n",
    "print()\n",
    "warnings.filterwarnings(action='default')"
   ]
  },
  {
   "attachments": {
    "esrb_by_region.png": {
     "image/png": "[encoded data removed]"
    },
    "genres_by_region.png": {
     "image/png": "[encoded data removed]"
    },
    "platforms_by_region.png": {
     "image/png": "[encoded data removed]"
    }
   },
   "cell_type": "markdown",
   "metadata": {},
   "source": [
    "![platforms_by_region.png](attachment:platforms_by_region.png)\n",
    "\n",
    "В Европе лидирует PS4 (42% всех продаж), на втором месте PS3 (20% всех продаж). В Северной Америке также лидирует PS4 (28% от всех продаж), но не с таким сильным отрывом как в Европе. На второй строчке с отставанием в 4% следует XOne. В обоих регионах в топ5 попала лишь одна портативная приставка (3DS) на 5ое место с долей в продажах равной 10%. В Японии абсолютным лидером является платформа 3DS: продажи игр для нее занимают 50% всех продаж. На втором месте с большим отрывом идет PS3 (17% всех продаж).\n",
    "\n",
    "Большим отличием Японии от Северной Америки и Европы, является сильное предпочтение портативных игровых платформ, в сумме они занимают 63% (3DS и PSV) всех продаж. Также отличительной чертой является, что Япония не торопится обновлять PS3 до PS4, в отличие от Европы и Северной Америки.\n",
    "\n",
    "![genres_by_region.png](attachment:genres_by_region.png)\n",
    "\n",
    "В Северной Америке и Европе очень похожая ситуация с продажами по жанрам: первые 3 строчки занимают жанры action, shooter и sport (33%, 26% и 17% соответственно). В Японии абсолютным лидером является жанр role-playing (44% всех продаж), затем жанр action (33%) и на 3ей строчке жанр misc (10%).\n",
    "\n",
    "![esrb_by_region.png](attachment:esrb_by_region.png)\n",
    "\n",
    "В Северной Америке и Европе очень похожая ситуация с продажами по рейтингу ESRB: первые 3 строчки занимают M (mature), E (everyone) и T (teen) (40%, 28% и 16% соответственно). В Японии первые 3 строчки занимают E (everyone), T (teen) и M (mature)  (36%, 31% и 22% соответственно). Корреляция между продажами и рейтингом esrb близка к нулю по всем регионам."
   ]
  },
  {
   "cell_type": "markdown",
   "metadata": {},
   "source": [
    "## Проверяю гипотезы\n",
    "- Средние пользовательские рейтинги платформ Xbox One и PC одинаковые;\n",
    "- Средние пользовательские рейтинги жанров Action и Sports разные."
   ]
  },
  {
   "cell_type": "code",
   "execution_count": 57,
   "metadata": {},
   "outputs": [
    {
     "name": "stdout",
     "output_type": "stream",
     "text": [
      "H0: Средние пользовательские рейтинги платформы Xbox One  == Средние пользовательские рейтинги платформы PC\n",
      "H1: Средние пользовательские рейтинги платформы Xbox One  != Средние пользовательские рейтинги платформы PC\n",
      "Выборки независимы, поэтому использую метод ttest_ind\n"
     ]
    }
   ],
   "source": [
    "print('H0: Средние пользовательские рейтинги платформы Xbox One  == Средние пользовательские рейтинги платформы PC')\n",
    "print('H1: Средние пользовательские рейтинги платформы Xbox One  != Средние пользовательские рейтинги платформы PC')\n",
    "print('Выборки независимы, поэтому использую метод ttest_ind')"
   ]
  },
  {
   "cell_type": "code",
   "execution_count": 58,
   "metadata": {},
   "outputs": [],
   "source": [
    "xone_user_score = games_sample[games_sample['platform'] == 'XOne']['user_score'].dropna()\n",
    "pc_user_score = games_sample[games_sample['platform'] == 'PC']['user_score'].dropna()"
   ]
  },
  {
   "cell_type": "code",
   "execution_count": 59,
   "metadata": {},
   "outputs": [
    {
     "name": "stdout",
     "output_type": "stream",
     "text": [
      "H0: Дисперсия d1 == Дисперсия d2\n",
      "H1: Дисперсия d1 != Дисперсия d2\n",
      "p-значение: 0.9719686760402857\n",
      "Не получилось отвергнуть нулевую гипотезу\n",
      "Использую equal_var = True\n"
     ]
    }
   ],
   "source": [
    "print('H0: Дисперсия d1 == Дисперсия d2')\n",
    "print('H1: Дисперсия d1 != Дисперсия d2')\n",
    "\n",
    "d1 = xone_user_score.describe()[2]**2\n",
    "d2 = pc_user_score.describe()[2]**2\n",
    "df1 = len(xone_user_score) - 1 \n",
    "df2 = len(pc_user_score) - 1\n",
    "\n",
    "alpha = 0.05\n",
    "\n",
    "results = st.f.sf(d1/d2, df1, df2)\n",
    "\n",
    "print('p-значение:', results)\n",
    "\n",
    "if (results < alpha):\n",
    "    print(\"Отвергаем нулевую гипотезу\")\n",
    "else:\n",
    "    print(\"Не получилось отвергнуть нулевую гипотезу\")\n",
    "    \n",
    "print('Использую equal_var = True')"
   ]
  },
  {
   "cell_type": "code",
   "execution_count": 60,
   "metadata": {},
   "outputs": [
    {
     "name": "stdout",
     "output_type": "stream",
     "text": [
      "p-значение: 0.980998110649032\n",
      "Не получилось отвергнуть нулевую гипотезу\n"
     ]
    }
   ],
   "source": [
    "alpha = 0.05\n",
    "\n",
    "results = st.ttest_ind(list(xone_user_score), list(pc_user_score))\n",
    "\n",
    "print('p-значение:', results.pvalue)\n",
    "\n",
    "if (results.pvalue < alpha):\n",
    "    print(\"Отвергаем нулевую гипотезу\")\n",
    "else:\n",
    "    print(\"Не получилось отвергнуть нулевую гипотезу\")"
   ]
  },
  {
   "cell_type": "markdown",
   "metadata": {},
   "source": [
    "____"
   ]
  },
  {
   "cell_type": "code",
   "execution_count": 61,
   "metadata": {},
   "outputs": [
    {
     "name": "stdout",
     "output_type": "stream",
     "text": [
      "H0: Средние пользовательские рейтинги жанра Action  == Средние пользовательские рейтинги жанра Sports\n",
      "H1: Средние пользовательские рейтинги жанра Action != Средние пользовательские рейтинги жанра Sports\n",
      "Выборки независимы, поэтому использую метод ttest_ind\n"
     ]
    }
   ],
   "source": [
    "print('H0: Средние пользовательские рейтинги жанра Action  == Средние пользовательские рейтинги жанра Sports')\n",
    "print('H1: Средние пользовательские рейтинги жанра Action != Средние пользовательские рейтинги жанра Sports')\n",
    "print('Выборки независимы, поэтому использую метод ttest_ind')"
   ]
  },
  {
   "cell_type": "code",
   "execution_count": 62,
   "metadata": {},
   "outputs": [],
   "source": [
    "action_user_score = games_sample[games_sample['genre'] == 'Action']['user_score'].dropna()\n",
    "sports_user_score = games_sample[games_sample['genre'] == 'Sports']['user_score'].dropna()"
   ]
  },
  {
   "cell_type": "code",
   "execution_count": 63,
   "metadata": {},
   "outputs": [
    {
     "name": "stdout",
     "output_type": "stream",
     "text": [
      "H0: Дисперсия d1 == Дисперсия d2\n",
      "H1: Дисперсия d1 != Дисперсия d2\n",
      "p-значение: 0.9999981242201413\n",
      "Не получилось отвергнуть нулевую гипотезу\n",
      "Использую equal_var = True\n"
     ]
    }
   ],
   "source": [
    "print('H0: Дисперсия d1 == Дисперсия d2')\n",
    "print('H1: Дисперсия d1 != Дисперсия d2')\n",
    "\n",
    "d1 = action_user_score.describe()[2]**2\n",
    "d2 = sports_user_score.describe()[2]**2\n",
    "df1 = len(action_user_score) - 1 \n",
    "df2 = len(sports_user_score) - 1\n",
    "\n",
    "alpha = 0.05\n",
    "\n",
    "results = st.f.sf(d1/d2, df1, df2)\n",
    "\n",
    "print('p-значение:', results)\n",
    "\n",
    "if (results < alpha):\n",
    "    print(\"Отвергаем нулевую гипотезу\")\n",
    "else:\n",
    "    print(\"Не получилось отвергнуть нулевую гипотезу\")\n",
    "    \n",
    "print('Использую equal_var = True')"
   ]
  },
  {
   "cell_type": "code",
   "execution_count": 64,
   "metadata": {},
   "outputs": [
    {
     "name": "stdout",
     "output_type": "stream",
     "text": [
      "p-значение: 6.057466966671628e-19\n",
      "Отвергаем нулевую гипотезу\n"
     ]
    }
   ],
   "source": [
    "alpha = 0.01\n",
    "\n",
    "results = st.ttest_ind(list(action_user_score), list(sports_user_score))\n",
    "\n",
    "print('p-значение:', results.pvalue)\n",
    "\n",
    "if (results.pvalue < alpha):\n",
    "    print(\"Отвергаем нулевую гипотезу\")\n",
    "else:\n",
    "    print(\"Не получилось отвергнуть нулевую гипотезу\")"
   ]
  },
  {
   "cell_type": "markdown",
   "metadata": {},
   "source": [
    "##### Гипотеза 1:\n",
    "- Средние пользовательские рейтинги платформ Xbox One и PC одинаковые;\n",
    "\n",
    "H0: Средние пользовательские рейтинги платформы Xbox One  == Средние пользовательские рейтинги платформы PC\n",
    "\n",
    "H1: Средние пользовательские рейтинги платформы Xbox One  != Средние пользовательские рейтинги платформы PC\n",
    "\n",
    "Выборки независимы, поэтому использую метод ttest_ind\n",
    "\n",
    "Не получилось отвергнуть нулевую гипотезу равенства дисперсий, поэтому буду использовать equal_var = True\n",
    "\n",
    "p-значение: 0.980998110649032; Не получилось отвергнуть нулевую гипотезу о равенстве средних пользовательских рейтингов двух платформ.\n",
    "\n",
    "##### Гипотеза 2:\n",
    "- Средние пользовательские рейтинги жанров Action (англ. «действие», экшен-игры) и Sports (англ. «спортивные соревнования») разные;\n",
    "\n",
    "H0: Средние пользовательские рейтинги жанра Action  == Средние пользовательские рейтинги жанра Sports\n",
    "\n",
    "H1: Средние пользовательские рейтинги жанра Action != Средние пользовательские рейтинги жанра Sports\n",
    "\n",
    "Выборки независимы, поэтому использую метод ttest_ind\n",
    "\n",
    "Не получилось отвергнуть нулевую гипотезу равенства дисперсий, поэтому буду использовать equal_var = True\n",
    "\n",
    "p-значение: 6.057466966671628e-19; Нулевая гипотеза о равенстве средних пользовательских рейтингов двух жанров отвергнута"
   ]
  },
  {
   "attachments": {
    "esrb_by_region.png": {
     "image/png": "[encoded data removed]"
    },
    "genres_by_region.png": {
     "image/png": "[encoded data removed]"
    },
    "platforms_by_region.png": {
     "image/png": "[encoded data removed]"
    }
   },
   "cell_type": "markdown",
   "metadata": {},
   "source": [
    "### Вывод\n",
    "\n",
    "В ходе исследования продаж компьютерных игр были изучены полученные данные, проведен исследовательский анализ продаж в разрезе платформ, жанров и регионов, а также проверены две гипотезы.\n",
    "\n",
    "В связи с тем, что платформы меняются и их среднее время существования составляет 7.6 лет, для анализа продаж по платформам был выбран период 2013-2016 год, а для анализа остальных разрезов был взят период 2010-2016 года.\n",
    "\n",
    "Между регионами (Северная Америка, Европа и Япония), наблюдаются некоторые различия в предочтениях при выборе платформы, жанра игры и рейтинга ERSB. Более подробно эти различия описаны выше в проекте, поэтому здесь приведу лишь финальные таблицы:\n",
    "\n",
    "<h4><center>Предочтения по платформам в зависимости от региона</center></h4>\n",
    "\n",
    "![platforms_by_region.png](attachment:platforms_by_region.png)\n",
    "\n",
    "<h4><center>Предочтения по жанрам в зависимости от региона</center></h4>\n",
    "\n",
    "![genres_by_region.png](attachment:genres_by_region.png)\n",
    "\n",
    "<h4><center>Предочтения по рейтингу ESRB в зависимости от региона</center></h4>\n",
    "\n",
    "![esrb_by_region.png](attachment:esrb_by_region.png)\n",
    "\n",
    "В связи с этими различиями, продукт для рекламной кампании рекомендуется выбирать индивидуально для каждого региона из следующих категорий:\n",
    "\n",
    "- Северная Америка\n",
    "\n",
    "Платформа: PS4/XOne; Жанр: Action/Shooter; ESRB Rating: M/E\n",
    "\n",
    "- Европа\n",
    "\n",
    "Платформа: PS4; Жанр: Action; ESRB Rating: M/E\n",
    "\n",
    "- Япония\n",
    "\n",
    "Платформа: 3DS; Жанр: Role-Playing; ESRB Rating: E/T"
   ]
  },
  {
   "cell_type": "markdown",
   "metadata": {},
   "source": [
    "Списки актуальных игр для каждого региона, исходя из различий озвученных выше:"
   ]
  },
  {
   "cell_type": "code",
   "execution_count": 65,
   "metadata": {},
   "outputs": [
    {
     "name": "stdout",
     "output_type": "stream",
     "text": [
      "NA recomedation list\n"
     ]
    },
    {
     "data": {
      "text/html": [
       "<div>\n",
       "<style scoped>\n",
       "    .dataframe tbody tr th:only-of-type {\n",
       "        vertical-align: middle;\n",
       "    }\n",
       "\n",
       "    .dataframe tbody tr th {\n",
       "        vertical-align: top;\n",
       "    }\n",
       "\n",
       "    .dataframe thead th {\n",
       "        text-align: right;\n",
       "    }\n",
       "</style>\n",
       "<table border=\"1\" class=\"dataframe\">\n",
       "  <thead>\n",
       "    <tr style=\"text-align: right;\">\n",
       "      <th></th>\n",
       "      <th>name</th>\n",
       "      <th>platform</th>\n",
       "      <th>year_of_release</th>\n",
       "      <th>genre</th>\n",
       "      <th>na_sales</th>\n",
       "      <th>eu_sales</th>\n",
       "      <th>jp_sales</th>\n",
       "      <th>other_sales</th>\n",
       "      <th>critic_score</th>\n",
       "      <th>user_score</th>\n",
       "      <th>rating</th>\n",
       "      <th>ttl_sales</th>\n",
       "    </tr>\n",
       "  </thead>\n",
       "  <tbody>\n",
       "    <tr>\n",
       "      <th>171</th>\n",
       "      <td>Uncharted 4: A Thief's End</td>\n",
       "      <td>PS4</td>\n",
       "      <td>2016</td>\n",
       "      <td>Shooter</td>\n",
       "      <td>1.85</td>\n",
       "      <td>2.50</td>\n",
       "      <td>0.19</td>\n",
       "      <td>0.85</td>\n",
       "      <td>93.0</td>\n",
       "      <td>7.9</td>\n",
       "      <td>T</td>\n",
       "      <td>5.39</td>\n",
       "    </tr>\n",
       "    <tr>\n",
       "      <th>245</th>\n",
       "      <td>Call of Duty: Infinite Warfare</td>\n",
       "      <td>PS4</td>\n",
       "      <td>2016</td>\n",
       "      <td>Shooter</td>\n",
       "      <td>1.61</td>\n",
       "      <td>2.00</td>\n",
       "      <td>0.15</td>\n",
       "      <td>0.71</td>\n",
       "      <td>77.0</td>\n",
       "      <td>3.4</td>\n",
       "      <td>M</td>\n",
       "      <td>4.47</td>\n",
       "    </tr>\n",
       "    <tr>\n",
       "      <th>640</th>\n",
       "      <td>Call of Duty: Infinite Warfare</td>\n",
       "      <td>XOne</td>\n",
       "      <td>2016</td>\n",
       "      <td>Shooter</td>\n",
       "      <td>1.46</td>\n",
       "      <td>0.74</td>\n",
       "      <td>0.00</td>\n",
       "      <td>0.22</td>\n",
       "      <td>78.0</td>\n",
       "      <td>3.1</td>\n",
       "      <td>M</td>\n",
       "      <td>2.42</td>\n",
       "    </tr>\n",
       "    <tr>\n",
       "      <th>325</th>\n",
       "      <td>Tom Clancy's The Division</td>\n",
       "      <td>PS4</td>\n",
       "      <td>2016</td>\n",
       "      <td>Shooter</td>\n",
       "      <td>1.35</td>\n",
       "      <td>1.70</td>\n",
       "      <td>0.15</td>\n",
       "      <td>0.60</td>\n",
       "      <td>80.0</td>\n",
       "      <td>7.0</td>\n",
       "      <td>M</td>\n",
       "      <td>3.80</td>\n",
       "    </tr>\n",
       "    <tr>\n",
       "      <th>758</th>\n",
       "      <td>Tom Clancy's The Division</td>\n",
       "      <td>XOne</td>\n",
       "      <td>2016</td>\n",
       "      <td>Shooter</td>\n",
       "      <td>1.29</td>\n",
       "      <td>0.68</td>\n",
       "      <td>0.00</td>\n",
       "      <td>0.20</td>\n",
       "      <td>80.0</td>\n",
       "      <td>6.9</td>\n",
       "      <td>M</td>\n",
       "      <td>2.17</td>\n",
       "    </tr>\n",
       "    <tr>\n",
       "      <th>709</th>\n",
       "      <td>Battlefield 1</td>\n",
       "      <td>XOne</td>\n",
       "      <td>2016</td>\n",
       "      <td>Shooter</td>\n",
       "      <td>1.28</td>\n",
       "      <td>0.77</td>\n",
       "      <td>0.00</td>\n",
       "      <td>0.20</td>\n",
       "      <td>87.0</td>\n",
       "      <td>8.2</td>\n",
       "      <td>M</td>\n",
       "      <td>2.25</td>\n",
       "    </tr>\n",
       "    <tr>\n",
       "      <th>289</th>\n",
       "      <td>Battlefield 1</td>\n",
       "      <td>PS4</td>\n",
       "      <td>2016</td>\n",
       "      <td>Shooter</td>\n",
       "      <td>1.10</td>\n",
       "      <td>2.15</td>\n",
       "      <td>0.21</td>\n",
       "      <td>0.61</td>\n",
       "      <td>88.0</td>\n",
       "      <td>8.4</td>\n",
       "      <td>M</td>\n",
       "      <td>4.07</td>\n",
       "    </tr>\n",
       "    <tr>\n",
       "      <th>767</th>\n",
       "      <td>Overwatch</td>\n",
       "      <td>PS4</td>\n",
       "      <td>2016</td>\n",
       "      <td>Shooter</td>\n",
       "      <td>0.81</td>\n",
       "      <td>0.85</td>\n",
       "      <td>0.15</td>\n",
       "      <td>0.33</td>\n",
       "      <td>90.0</td>\n",
       "      <td>6.1</td>\n",
       "      <td>T</td>\n",
       "      <td>2.14</td>\n",
       "    </tr>\n",
       "    <tr>\n",
       "      <th>1439</th>\n",
       "      <td>Gears of War 4</td>\n",
       "      <td>XOne</td>\n",
       "      <td>2016</td>\n",
       "      <td>Shooter</td>\n",
       "      <td>0.78</td>\n",
       "      <td>0.44</td>\n",
       "      <td>0.00</td>\n",
       "      <td>0.12</td>\n",
       "      <td>84.0</td>\n",
       "      <td>6.2</td>\n",
       "      <td>M</td>\n",
       "      <td>1.34</td>\n",
       "    </tr>\n",
       "    <tr>\n",
       "      <th>2332</th>\n",
       "      <td>MLB 16: The Show</td>\n",
       "      <td>PS4</td>\n",
       "      <td>2016</td>\n",
       "      <td>Action</td>\n",
       "      <td>0.72</td>\n",
       "      <td>0.00</td>\n",
       "      <td>0.00</td>\n",
       "      <td>0.17</td>\n",
       "      <td>NaN</td>\n",
       "      <td>NaN</td>\n",
       "      <td>NaN</td>\n",
       "      <td>0.89</td>\n",
       "    </tr>\n",
       "  </tbody>\n",
       "</table>\n",
       "</div>"
      ],
      "text/plain": [
       "                                name platform  year_of_release    genre  \\\n",
       "171       Uncharted 4: A Thief's End      PS4             2016  Shooter   \n",
       "245   Call of Duty: Infinite Warfare      PS4             2016  Shooter   \n",
       "640   Call of Duty: Infinite Warfare     XOne             2016  Shooter   \n",
       "325        Tom Clancy's The Division      PS4             2016  Shooter   \n",
       "758        Tom Clancy's The Division     XOne             2016  Shooter   \n",
       "709                    Battlefield 1     XOne             2016  Shooter   \n",
       "289                    Battlefield 1      PS4             2016  Shooter   \n",
       "767                        Overwatch      PS4             2016  Shooter   \n",
       "1439                  Gears of War 4     XOne             2016  Shooter   \n",
       "2332                MLB 16: The Show      PS4             2016   Action   \n",
       "\n",
       "      na_sales  eu_sales  jp_sales  other_sales  critic_score  user_score  \\\n",
       "171       1.85      2.50      0.19         0.85          93.0         7.9   \n",
       "245       1.61      2.00      0.15         0.71          77.0         3.4   \n",
       "640       1.46      0.74      0.00         0.22          78.0         3.1   \n",
       "325       1.35      1.70      0.15         0.60          80.0         7.0   \n",
       "758       1.29      0.68      0.00         0.20          80.0         6.9   \n",
       "709       1.28      0.77      0.00         0.20          87.0         8.2   \n",
       "289       1.10      2.15      0.21         0.61          88.0         8.4   \n",
       "767       0.81      0.85      0.15         0.33          90.0         6.1   \n",
       "1439      0.78      0.44      0.00         0.12          84.0         6.2   \n",
       "2332      0.72      0.00      0.00         0.17           NaN         NaN   \n",
       "\n",
       "     rating  ttl_sales  \n",
       "171       T       5.39  \n",
       "245       M       4.47  \n",
       "640       M       2.42  \n",
       "325       M       3.80  \n",
       "758       M       2.17  \n",
       "709       M       2.25  \n",
       "289       M       4.07  \n",
       "767       T       2.14  \n",
       "1439      M       1.34  \n",
       "2332    NaN       0.89  "
      ]
     },
     "metadata": {},
     "output_type": "display_data"
    }
   ],
   "source": [
    "na_recommendation_list = (games\n",
    "                          .query('platform == [\"PS4\", \"XOne\"] & year_of_release == 2016 & genre == [\"Action\",  \"Shooter\"]')\n",
    "                          .sort_values(by='na_sales', ascending=False))\n",
    "print('NA recomedation list')\n",
    "display(na_recommendation_list.head(10))"
   ]
  },
  {
   "cell_type": "code",
   "execution_count": 66,
   "metadata": {},
   "outputs": [
    {
     "name": "stdout",
     "output_type": "stream",
     "text": [
      "EU recomedation list\n"
     ]
    },
    {
     "data": {
      "text/html": [
       "<div>\n",
       "<style scoped>\n",
       "    .dataframe tbody tr th:only-of-type {\n",
       "        vertical-align: middle;\n",
       "    }\n",
       "\n",
       "    .dataframe tbody tr th {\n",
       "        vertical-align: top;\n",
       "    }\n",
       "\n",
       "    .dataframe thead th {\n",
       "        text-align: right;\n",
       "    }\n",
       "</style>\n",
       "<table border=\"1\" class=\"dataframe\">\n",
       "  <thead>\n",
       "    <tr style=\"text-align: right;\">\n",
       "      <th></th>\n",
       "      <th>name</th>\n",
       "      <th>platform</th>\n",
       "      <th>year_of_release</th>\n",
       "      <th>genre</th>\n",
       "      <th>na_sales</th>\n",
       "      <th>eu_sales</th>\n",
       "      <th>jp_sales</th>\n",
       "      <th>other_sales</th>\n",
       "      <th>critic_score</th>\n",
       "      <th>user_score</th>\n",
       "      <th>rating</th>\n",
       "      <th>ttl_sales</th>\n",
       "    </tr>\n",
       "  </thead>\n",
       "  <tbody>\n",
       "    <tr>\n",
       "      <th>171</th>\n",
       "      <td>Uncharted 4: A Thief's End</td>\n",
       "      <td>PS4</td>\n",
       "      <td>2016</td>\n",
       "      <td>Shooter</td>\n",
       "      <td>1.85</td>\n",
       "      <td>2.50</td>\n",
       "      <td>0.19</td>\n",
       "      <td>0.85</td>\n",
       "      <td>93.0</td>\n",
       "      <td>7.9</td>\n",
       "      <td>T</td>\n",
       "      <td>5.39</td>\n",
       "    </tr>\n",
       "    <tr>\n",
       "      <th>289</th>\n",
       "      <td>Battlefield 1</td>\n",
       "      <td>PS4</td>\n",
       "      <td>2016</td>\n",
       "      <td>Shooter</td>\n",
       "      <td>1.10</td>\n",
       "      <td>2.15</td>\n",
       "      <td>0.21</td>\n",
       "      <td>0.61</td>\n",
       "      <td>88.0</td>\n",
       "      <td>8.4</td>\n",
       "      <td>M</td>\n",
       "      <td>4.07</td>\n",
       "    </tr>\n",
       "    <tr>\n",
       "      <th>245</th>\n",
       "      <td>Call of Duty: Infinite Warfare</td>\n",
       "      <td>PS4</td>\n",
       "      <td>2016</td>\n",
       "      <td>Shooter</td>\n",
       "      <td>1.61</td>\n",
       "      <td>2.00</td>\n",
       "      <td>0.15</td>\n",
       "      <td>0.71</td>\n",
       "      <td>77.0</td>\n",
       "      <td>3.4</td>\n",
       "      <td>M</td>\n",
       "      <td>4.47</td>\n",
       "    </tr>\n",
       "    <tr>\n",
       "      <th>325</th>\n",
       "      <td>Tom Clancy's The Division</td>\n",
       "      <td>PS4</td>\n",
       "      <td>2016</td>\n",
       "      <td>Shooter</td>\n",
       "      <td>1.35</td>\n",
       "      <td>1.70</td>\n",
       "      <td>0.15</td>\n",
       "      <td>0.60</td>\n",
       "      <td>80.0</td>\n",
       "      <td>7.0</td>\n",
       "      <td>M</td>\n",
       "      <td>3.80</td>\n",
       "    </tr>\n",
       "    <tr>\n",
       "      <th>708</th>\n",
       "      <td>Far Cry: Primal</td>\n",
       "      <td>PS4</td>\n",
       "      <td>2016</td>\n",
       "      <td>Action</td>\n",
       "      <td>0.60</td>\n",
       "      <td>1.25</td>\n",
       "      <td>0.06</td>\n",
       "      <td>0.35</td>\n",
       "      <td>76.0</td>\n",
       "      <td>6.3</td>\n",
       "      <td>M</td>\n",
       "      <td>2.26</td>\n",
       "    </tr>\n",
       "    <tr>\n",
       "      <th>968</th>\n",
       "      <td>Mafia III</td>\n",
       "      <td>PS4</td>\n",
       "      <td>2016</td>\n",
       "      <td>Action</td>\n",
       "      <td>0.42</td>\n",
       "      <td>1.08</td>\n",
       "      <td>0.03</td>\n",
       "      <td>0.28</td>\n",
       "      <td>68.0</td>\n",
       "      <td>5.1</td>\n",
       "      <td>M</td>\n",
       "      <td>1.81</td>\n",
       "    </tr>\n",
       "    <tr>\n",
       "      <th>767</th>\n",
       "      <td>Overwatch</td>\n",
       "      <td>PS4</td>\n",
       "      <td>2016</td>\n",
       "      <td>Shooter</td>\n",
       "      <td>0.81</td>\n",
       "      <td>0.85</td>\n",
       "      <td>0.15</td>\n",
       "      <td>0.33</td>\n",
       "      <td>90.0</td>\n",
       "      <td>6.1</td>\n",
       "      <td>T</td>\n",
       "      <td>2.14</td>\n",
       "    </tr>\n",
       "    <tr>\n",
       "      <th>1056</th>\n",
       "      <td>No Man's Sky</td>\n",
       "      <td>PS4</td>\n",
       "      <td>2016</td>\n",
       "      <td>Action</td>\n",
       "      <td>0.63</td>\n",
       "      <td>0.76</td>\n",
       "      <td>0.03</td>\n",
       "      <td>0.27</td>\n",
       "      <td>71.0</td>\n",
       "      <td>4.5</td>\n",
       "      <td>T</td>\n",
       "      <td>1.69</td>\n",
       "    </tr>\n",
       "    <tr>\n",
       "      <th>1275</th>\n",
       "      <td>Doom (2016)</td>\n",
       "      <td>PS4</td>\n",
       "      <td>2016</td>\n",
       "      <td>Shooter</td>\n",
       "      <td>0.54</td>\n",
       "      <td>0.69</td>\n",
       "      <td>0.02</td>\n",
       "      <td>0.24</td>\n",
       "      <td>NaN</td>\n",
       "      <td>NaN</td>\n",
       "      <td>NaN</td>\n",
       "      <td>1.49</td>\n",
       "    </tr>\n",
       "    <tr>\n",
       "      <th>1806</th>\n",
       "      <td>Watch Dogs 2</td>\n",
       "      <td>PS4</td>\n",
       "      <td>2016</td>\n",
       "      <td>Action</td>\n",
       "      <td>0.37</td>\n",
       "      <td>0.58</td>\n",
       "      <td>0.00</td>\n",
       "      <td>0.18</td>\n",
       "      <td>83.0</td>\n",
       "      <td>7.8</td>\n",
       "      <td>M</td>\n",
       "      <td>1.13</td>\n",
       "    </tr>\n",
       "  </tbody>\n",
       "</table>\n",
       "</div>"
      ],
      "text/plain": [
       "                                name platform  year_of_release    genre  \\\n",
       "171       Uncharted 4: A Thief's End      PS4             2016  Shooter   \n",
       "289                    Battlefield 1      PS4             2016  Shooter   \n",
       "245   Call of Duty: Infinite Warfare      PS4             2016  Shooter   \n",
       "325        Tom Clancy's The Division      PS4             2016  Shooter   \n",
       "708                  Far Cry: Primal      PS4             2016   Action   \n",
       "968                        Mafia III      PS4             2016   Action   \n",
       "767                        Overwatch      PS4             2016  Shooter   \n",
       "1056                    No Man's Sky      PS4             2016   Action   \n",
       "1275                     Doom (2016)      PS4             2016  Shooter   \n",
       "1806                    Watch Dogs 2      PS4             2016   Action   \n",
       "\n",
       "      na_sales  eu_sales  jp_sales  other_sales  critic_score  user_score  \\\n",
       "171       1.85      2.50      0.19         0.85          93.0         7.9   \n",
       "289       1.10      2.15      0.21         0.61          88.0         8.4   \n",
       "245       1.61      2.00      0.15         0.71          77.0         3.4   \n",
       "325       1.35      1.70      0.15         0.60          80.0         7.0   \n",
       "708       0.60      1.25      0.06         0.35          76.0         6.3   \n",
       "968       0.42      1.08      0.03         0.28          68.0         5.1   \n",
       "767       0.81      0.85      0.15         0.33          90.0         6.1   \n",
       "1056      0.63      0.76      0.03         0.27          71.0         4.5   \n",
       "1275      0.54      0.69      0.02         0.24           NaN         NaN   \n",
       "1806      0.37      0.58      0.00         0.18          83.0         7.8   \n",
       "\n",
       "     rating  ttl_sales  \n",
       "171       T       5.39  \n",
       "289       M       4.07  \n",
       "245       M       4.47  \n",
       "325       M       3.80  \n",
       "708       M       2.26  \n",
       "968       M       1.81  \n",
       "767       T       2.14  \n",
       "1056      T       1.69  \n",
       "1275    NaN       1.49  \n",
       "1806      M       1.13  "
      ]
     },
     "metadata": {},
     "output_type": "display_data"
    }
   ],
   "source": [
    "eu_recommendation_list = (games\n",
    "                          .query('platform == \"PS4\" & year_of_release == 2016 & genre == [\"Action\",  \"Shooter\"]')\n",
    "                          .sort_values(by='eu_sales', ascending=False))\n",
    "print('EU recomedation list')\n",
    "display(eu_recommendation_list.head(10))"
   ]
  },
  {
   "cell_type": "code",
   "execution_count": 67,
   "metadata": {
    "scrolled": false
   },
   "outputs": [
    {
     "name": "stdout",
     "output_type": "stream",
     "text": [
      "JP recomedation list\n"
     ]
    },
    {
     "data": {
      "text/html": [
       "<div>\n",
       "<style scoped>\n",
       "    .dataframe tbody tr th:only-of-type {\n",
       "        vertical-align: middle;\n",
       "    }\n",
       "\n",
       "    .dataframe tbody tr th {\n",
       "        vertical-align: top;\n",
       "    }\n",
       "\n",
       "    .dataframe thead th {\n",
       "        text-align: right;\n",
       "    }\n",
       "</style>\n",
       "<table border=\"1\" class=\"dataframe\">\n",
       "  <thead>\n",
       "    <tr style=\"text-align: right;\">\n",
       "      <th></th>\n",
       "      <th>name</th>\n",
       "      <th>platform</th>\n",
       "      <th>year_of_release</th>\n",
       "      <th>genre</th>\n",
       "      <th>na_sales</th>\n",
       "      <th>eu_sales</th>\n",
       "      <th>jp_sales</th>\n",
       "      <th>other_sales</th>\n",
       "      <th>critic_score</th>\n",
       "      <th>user_score</th>\n",
       "      <th>rating</th>\n",
       "      <th>ttl_sales</th>\n",
       "    </tr>\n",
       "  </thead>\n",
       "  <tbody>\n",
       "    <tr>\n",
       "      <th>108</th>\n",
       "      <td>Pokemon Sun/Moon</td>\n",
       "      <td>3DS</td>\n",
       "      <td>2016</td>\n",
       "      <td>Role-Playing</td>\n",
       "      <td>2.98</td>\n",
       "      <td>1.45</td>\n",
       "      <td>2.26</td>\n",
       "      <td>0.45</td>\n",
       "      <td>NaN</td>\n",
       "      <td>NaN</td>\n",
       "      <td>NaN</td>\n",
       "      <td>7.14</td>\n",
       "    </tr>\n",
       "    <tr>\n",
       "      <th>1466</th>\n",
       "      <td>Yokai Watch 3</td>\n",
       "      <td>3DS</td>\n",
       "      <td>2016</td>\n",
       "      <td>Action</td>\n",
       "      <td>0.00</td>\n",
       "      <td>0.00</td>\n",
       "      <td>1.33</td>\n",
       "      <td>0.00</td>\n",
       "      <td>NaN</td>\n",
       "      <td>NaN</td>\n",
       "      <td>NaN</td>\n",
       "      <td>1.33</td>\n",
       "    </tr>\n",
       "    <tr>\n",
       "      <th>3177</th>\n",
       "      <td>Dragon Quest Monsters Joker 3</td>\n",
       "      <td>3DS</td>\n",
       "      <td>2016</td>\n",
       "      <td>Role-Playing</td>\n",
       "      <td>0.00</td>\n",
       "      <td>0.00</td>\n",
       "      <td>0.63</td>\n",
       "      <td>0.00</td>\n",
       "      <td>NaN</td>\n",
       "      <td>NaN</td>\n",
       "      <td>NaN</td>\n",
       "      <td>0.63</td>\n",
       "    </tr>\n",
       "    <tr>\n",
       "      <th>3593</th>\n",
       "      <td>Yokai Sangokushi</td>\n",
       "      <td>3DS</td>\n",
       "      <td>2016</td>\n",
       "      <td>Action</td>\n",
       "      <td>0.00</td>\n",
       "      <td>0.00</td>\n",
       "      <td>0.56</td>\n",
       "      <td>0.00</td>\n",
       "      <td>NaN</td>\n",
       "      <td>NaN</td>\n",
       "      <td>NaN</td>\n",
       "      <td>0.56</td>\n",
       "    </tr>\n",
       "    <tr>\n",
       "      <th>2219</th>\n",
       "      <td>Kirby: Planet Robobot</td>\n",
       "      <td>3DS</td>\n",
       "      <td>2016</td>\n",
       "      <td>Action</td>\n",
       "      <td>0.28</td>\n",
       "      <td>0.14</td>\n",
       "      <td>0.47</td>\n",
       "      <td>0.04</td>\n",
       "      <td>81.0</td>\n",
       "      <td>8.7</td>\n",
       "      <td>E</td>\n",
       "      <td>0.93</td>\n",
       "    </tr>\n",
       "    <tr>\n",
       "      <th>6162</th>\n",
       "      <td>Monster Hunter Stories</td>\n",
       "      <td>3DS</td>\n",
       "      <td>2016</td>\n",
       "      <td>Action</td>\n",
       "      <td>0.00</td>\n",
       "      <td>0.00</td>\n",
       "      <td>0.28</td>\n",
       "      <td>0.00</td>\n",
       "      <td>NaN</td>\n",
       "      <td>NaN</td>\n",
       "      <td>NaN</td>\n",
       "      <td>0.28</td>\n",
       "    </tr>\n",
       "    <tr>\n",
       "      <th>3788</th>\n",
       "      <td>Mario &amp; Sonic at the Rio 2016 Olympic Games</td>\n",
       "      <td>3DS</td>\n",
       "      <td>2016</td>\n",
       "      <td>Action</td>\n",
       "      <td>0.05</td>\n",
       "      <td>0.21</td>\n",
       "      <td>0.25</td>\n",
       "      <td>0.02</td>\n",
       "      <td>NaN</td>\n",
       "      <td>NaN</td>\n",
       "      <td>NaN</td>\n",
       "      <td>0.53</td>\n",
       "    </tr>\n",
       "    <tr>\n",
       "      <th>7121</th>\n",
       "      <td>Puzzle &amp; Dragons X: God Chapter / Dragon Chapter</td>\n",
       "      <td>3DS</td>\n",
       "      <td>2016</td>\n",
       "      <td>Action</td>\n",
       "      <td>0.00</td>\n",
       "      <td>0.00</td>\n",
       "      <td>0.22</td>\n",
       "      <td>0.00</td>\n",
       "      <td>NaN</td>\n",
       "      <td>NaN</td>\n",
       "      <td>NaN</td>\n",
       "      <td>0.22</td>\n",
       "    </tr>\n",
       "    <tr>\n",
       "      <th>7371</th>\n",
       "      <td>Dragon Ball: Fusions</td>\n",
       "      <td>3DS</td>\n",
       "      <td>2016</td>\n",
       "      <td>Role-Playing</td>\n",
       "      <td>0.02</td>\n",
       "      <td>0.00</td>\n",
       "      <td>0.19</td>\n",
       "      <td>0.00</td>\n",
       "      <td>68.0</td>\n",
       "      <td>7.6</td>\n",
       "      <td>T</td>\n",
       "      <td>0.21</td>\n",
       "    </tr>\n",
       "    <tr>\n",
       "      <th>7747</th>\n",
       "      <td>Shin Megami Tensei IV: Final</td>\n",
       "      <td>3DS</td>\n",
       "      <td>2016</td>\n",
       "      <td>Role-Playing</td>\n",
       "      <td>0.05</td>\n",
       "      <td>0.00</td>\n",
       "      <td>0.14</td>\n",
       "      <td>0.01</td>\n",
       "      <td>NaN</td>\n",
       "      <td>NaN</td>\n",
       "      <td>NaN</td>\n",
       "      <td>0.20</td>\n",
       "    </tr>\n",
       "  </tbody>\n",
       "</table>\n",
       "</div>"
      ],
      "text/plain": [
       "                                                  name platform  \\\n",
       "108                                   Pokemon Sun/Moon      3DS   \n",
       "1466                                     Yokai Watch 3      3DS   \n",
       "3177                     Dragon Quest Monsters Joker 3      3DS   \n",
       "3593                                  Yokai Sangokushi      3DS   \n",
       "2219                             Kirby: Planet Robobot      3DS   \n",
       "6162                            Monster Hunter Stories      3DS   \n",
       "3788       Mario & Sonic at the Rio 2016 Olympic Games      3DS   \n",
       "7121  Puzzle & Dragons X: God Chapter / Dragon Chapter      3DS   \n",
       "7371                              Dragon Ball: Fusions      3DS   \n",
       "7747                      Shin Megami Tensei IV: Final      3DS   \n",
       "\n",
       "      year_of_release         genre  na_sales  eu_sales  jp_sales  \\\n",
       "108              2016  Role-Playing      2.98      1.45      2.26   \n",
       "1466             2016        Action      0.00      0.00      1.33   \n",
       "3177             2016  Role-Playing      0.00      0.00      0.63   \n",
       "3593             2016        Action      0.00      0.00      0.56   \n",
       "2219             2016        Action      0.28      0.14      0.47   \n",
       "6162             2016        Action      0.00      0.00      0.28   \n",
       "3788             2016        Action      0.05      0.21      0.25   \n",
       "7121             2016        Action      0.00      0.00      0.22   \n",
       "7371             2016  Role-Playing      0.02      0.00      0.19   \n",
       "7747             2016  Role-Playing      0.05      0.00      0.14   \n",
       "\n",
       "      other_sales  critic_score  user_score rating  ttl_sales  \n",
       "108          0.45           NaN         NaN    NaN       7.14  \n",
       "1466         0.00           NaN         NaN    NaN       1.33  \n",
       "3177         0.00           NaN         NaN    NaN       0.63  \n",
       "3593         0.00           NaN         NaN    NaN       0.56  \n",
       "2219         0.04          81.0         8.7      E       0.93  \n",
       "6162         0.00           NaN         NaN    NaN       0.28  \n",
       "3788         0.02           NaN         NaN    NaN       0.53  \n",
       "7121         0.00           NaN         NaN    NaN       0.22  \n",
       "7371         0.00          68.0         7.6      T       0.21  \n",
       "7747         0.01           NaN         NaN    NaN       0.20  "
      ]
     },
     "metadata": {},
     "output_type": "display_data"
    }
   ],
   "source": [
    "jp_recommendation_list = (games\n",
    "                          .query('platform == \"3DS\" & year_of_release == 2016 & genre == [\"Role-Playing\",  \"Action\"]')\n",
    "                          .sort_values(by='jp_sales', ascending=False))\n",
    "print('JP recomedation list')\n",
    "display(jp_recommendation_list.head(10))"
   ]
  }
 ],
 "metadata": {
  "kernelspec": {
   "display_name": "Python 3",
   "language": "python",
   "name": "python3"
  },
  "language_info": {
   "codemirror_mode": {
    "name": "ipython",
    "version": 3
   },
   "file_extension": ".py",
   "mimetype": "text/x-python",
   "name": "python",
   "nbconvert_exporter": "python",
   "pygments_lexer": "ipython3",
   "version": "3.8.2"
  }
 },
 "nbformat": 4,
 "nbformat_minor": 4
}
